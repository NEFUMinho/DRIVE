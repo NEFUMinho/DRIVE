{
 "cells": [
  {
   "cell_type": "markdown",
   "metadata": {},
   "source": [
    "# **Resolução da Folha 1**"
   ]
  },
  {
   "cell_type": "markdown",
   "metadata": {},
   "source": [
    "**Ex.1** Calcular  todos  os  números  primos  menores  que  10000.   Considere  diferentes implementações para um programa que permita resolver este problema."
   ]
  },
  {
   "cell_type": "code",
   "execution_count": 1,
   "metadata": {},
   "outputs": [],
   "source": [
    "from math import *"
   ]
  },
  {
   "cell_type": "code",
   "execution_count": 2,
   "metadata": {},
   "outputs": [
    {
     "name": "stdout",
     "output_type": "stream",
     "text": [
      "[1, 2, 3, 5, 7, 11, 13, 17, 19, 23, 29, 31, 37, 41, 43, 47, 53, 59, 61, 67, 71, 73, 79, 83, 89, 97, 101, 103, 107, 109, 113, 127, 131, 137, 139, 149, 151, 157, 163, 167, 173, 179, 181, 191, 193, 197, 199, 211, 223, 227, 229, 233, 239, 241, 251, 257, 263, 269, 271, 277, 281, 283, 293, 307, 311, 313, 317, 331, 337, 347, 349, 353, 359, 367, 373, 379, 383, 389, 397, 401, 409, 419, 421, 431, 433, 439, 443, 449, 457, 461, 463, 467, 479, 487, 491, 499, 503, 509, 521, 523, 541, 547, 557, 563, 569, 571, 577, 587, 593, 599, 601, 607, 613, 617, 619, 631, 641, 643, 647, 653, 659, 661, 673, 677, 683, 691, 701, 709, 719, 727, 733, 739, 743, 751, 757, 761, 769, 773, 787, 797, 809, 811, 821, 823, 827, 829, 839, 853, 857, 859, 863, 877, 881, 883, 887, 907, 911, 919, 929, 937, 941, 947, 953, 967, 971, 977, 983, 991, 997]\n",
      "169\n"
     ]
    }
   ],
   "source": [
    "primes = [1]\n",
    "# pois é o primeiro número primo\n",
    "cont = 1\n",
    "# começamos com um número primo na  lista\n",
    "\n",
    "for possiblePrime in range(2, 1000): # número que pertence ao intervalo de 2 a 1000\n",
    "\n",
    "    isPrime = True\n",
    "    # admitimos que o número é primo logo de início\n",
    "    for num in range(2, possiblePrime):       # para um número que está no intervalo de 2 ao número do for anterior\n",
    "        if possiblePrime % num == 0:       # se o número acima (do primeiro for) for divisivel pelo número do segundo for\n",
    "                isPrime = False           # se a condição acima se verificar, então o número não é primo\n",
    "    \n",
    "    if isPrime:        # se a condição não se verificar, então o número é primo\n",
    "        primes.append(possiblePrime)      # e por isso iremos acrescentar o número à lista pretendida\n",
    "        cont = cont + 1                 # e somamos mais um à contagem\n",
    "\n",
    "print(primes)              # para aparecer a lista final dos números primos\n",
    "print(cont)              # para aparecer a contagem final dos números primos\n",
    "\n",
    "#esta versão não é a melhor"
   ]
  },
  {
   "cell_type": "code",
   "execution_count": 3,
   "metadata": {},
   "outputs": [
    {
     "name": "stdout",
     "output_type": "stream",
     "text": [
      "[1, 2, 3, 5, 7, 11, 13, 17, 19, 23, 29, 31, 37, 41, 43, 47, 53, 59, 61, 67, 71, 73, 79, 83, 89, 97, 101, 103, 107, 109, 113, 127, 131, 137, 139, 149, 151, 157, 163, 167, 173, 179, 181, 191, 193, 197, 199, 211, 223, 227, 229, 233, 239, 241, 251, 257, 263, 269, 271, 277, 281, 283, 293, 307, 311, 313, 317, 331, 337, 347, 349, 353, 359, 367, 373, 379, 383, 389, 397, 401, 409, 419, 421, 431, 433, 439, 443, 449, 457, 461, 463, 467, 479, 487, 491, 499, 503, 509, 521, 523, 541, 547, 557, 563, 569, 571, 577, 587, 593, 599, 601, 607, 613, 617, 619, 631, 641, 643, 647, 653, 659, 661, 673, 677, 683, 691, 701, 709, 719, 727, 733, 739, 743, 751, 757, 761, 769, 773, 787, 797, 809, 811, 821, 823, 827, 829, 839, 853, 857, 859, 863, 877, 881, 883, 887, 907, 911, 919, 929, 937, 941, 947, 953, 967, 971, 977, 983, 991, 997]\n",
      "169\n"
     ]
    }
   ],
   "source": [
    "# outra resolução\n",
    "# sabemos que os números 1 e 2 são os primeiros números primos\n",
    "cont = 2\n",
    "# como já começamos com dois números na lista, então a contagem começa como 2\n",
    "\n",
    "# sabe-se que todos os numeros pares nao sao numeros primos\n",
    "# mesmo assim este nao é o mais eficiente, pk no ciclo 'for', o 'num' vai ser divisivel por todos os n anteriores\n",
    "for possiblePrime in range(3, 1000, 2):   # número que pertence ao intervalo de 3 a 1000 de 2 em 2\n",
    "\n",
    "    isPrime = True   # admitimos que o número é primo logo de início\n",
    "    for num in range(2, possiblePrime):     # para um número que está no intervalo de 2 ao número do for anterior\n",
    "        if possiblePrime % num == 0:        # se o número acima (do primeiro for) for divisivel pelo número do segundo for\n",
    "                isPrime = False             # se a condição acima se verificar, então o número não é primo\n",
    "    \n",
    "    if isPrime:          # se a condição não se verificar, então o número é primo\n",
    "        primes.append(possiblePrime)       # e por isso iremos acrescentar o número à lista pretendida\n",
    "        cont = cont + 1            # e somamos mais um à contagem\n",
    "\n",
    "print(primes)          # para aparecer a lista final dos números primos\n",
    "print(cont)            # para aparecer a contagem final dos números primos"
   ]
  },
  {
   "cell_type": "code",
   "execution_count": 4,
   "metadata": {},
   "outputs": [
    {
     "name": "stdout",
     "output_type": "stream",
     "text": [
      "[1, 2, 3, 5, 7, 11, 13, 17, 19, 23, 29, 31, 37, 41, 43, 47, 53, 59, 61, 67, 71, 73, 79, 83, 89, 97, 101, 103, 107, 109, 113, 127, 131, 137, 139, 149, 151, 157, 163, 167, 173, 179, 181, 191, 193, 197, 199, 211, 223, 227, 229, 233, 239, 241, 251, 257, 263, 269, 271, 277, 281, 283, 293, 307, 311, 313, 317, 331, 337, 347, 349, 353, 359, 367, 373, 379, 383, 389, 397, 401, 409, 419, 421, 431, 433, 439, 443, 449, 457, 461, 463, 467, 479, 487, 491, 499, 503, 509, 521, 523, 541, 547, 557, 563, 569, 571, 577, 587, 593, 599, 601, 607, 613, 617, 619, 631, 641, 643, 647, 653, 659, 661, 673, 677, 683, 691, 701, 709, 719, 727, 733, 739, 743, 751, 757, 761, 769, 773, 787, 797, 809, 811, 821, 823, 827, 829, 839, 853, 857, 859, 863, 877, 881, 883, 887, 907, 911, 919, 929, 937, 941, 947, 953, 967, 971, 977, 983, 991, 997]\n",
      "169\n"
     ]
    }
   ],
   "source": [
    "# outra resolução\n",
    "primes = [1,2]\n",
    "# sabemos que os números 1 e 2 são os primeiros números primos\n",
    "cont = 2\n",
    "# como já começamos com dois números na lista, então a contagem começa como 2\n",
    "\n",
    "for possiblePrime in range(3, 1000, 2):      # número que pertence ao intervalo de 3 a 1000 de 2 em 2\n",
    "\n",
    "    isPrime = True          # admitimos que o número é primo logo de início\n",
    "    for num in range(2, possiblePrime):       # para um número que está no intervalo de 2 ao número do for anterior\n",
    "        if possiblePrime % num == 0:          # se o número acima (do primeiro for) for divisivel pelo número do segundo for\n",
    "                isPrime = False               # se a condição acima se verificar, então o número não é primo\n",
    "                break # a partir do momento em que o 'for' apresentar um true, ele faz o que está dentro dele e para, segue em frente\n",
    "    \n",
    "    if isPrime:          # se a condição não se verificar, então o número é primo\n",
    "        primes.append(possiblePrime)       # e por isso iremos acrescentar o número à lista pretendida\n",
    "        cont = cont + 1       # e somamos mais um à contagem\n",
    "\n",
    "print(primes)         # para aparecer a lista final dos números primos\n",
    "print(cont)           # para aparecer a contagem final dos números primos"
   ]
  },
  {
   "cell_type": "code",
   "execution_count": 5,
   "metadata": {},
   "outputs": [
    {
     "name": "stdout",
     "output_type": "stream",
     "text": [
      "[1, 2, 3, 5, 7, 11, 13, 17, 19, 23, 29, 31, 37, 41, 43, 47, 53, 59, 61, 67, 71, 73, 79, 83, 89, 97, 101, 103, 107, 109, 113, 127, 131, 137, 139, 149, 151, 157, 163, 167, 173, 179, 181, 191, 193, 197, 199, 211, 223, 227, 229, 233, 239, 241, 251, 257, 263, 269, 271, 277, 281, 283, 293, 307, 311, 313, 317, 331, 337, 347, 349, 353, 359, 367, 373, 379, 383, 389, 397, 401, 409, 419, 421, 431, 433, 439, 443, 449, 457, 461, 463, 467, 479, 487, 491, 499, 503, 509, 521, 523, 541, 547, 557, 563, 569, 571, 577, 587, 593, 599, 601, 607, 613, 617, 619, 631, 641, 643, 647, 653, 659, 661, 673, 677, 683, 691, 701, 709, 719, 727, 733, 739, 743, 751, 757, 761, 769, 773, 787, 797, 809, 811, 821, 823, 827, 829, 839, 853, 857, 859, 863, 877, 881, 883, 887, 907, 911, 919, 929, 937, 941, 947, 953, 967, 971, 977, 983, 991, 997]\n",
      "169\n"
     ]
    }
   ],
   "source": [
    "# outra resolução\n",
    "primes = [2]\n",
    "# sabemos que os números primos mais pequenos são o 1 e o 2, mas iremos fazer apenas uma lista que começa no dois\n",
    "cont = 2\n",
    "# aqui vamos fazer a contagem dos números primos\n",
    "\n",
    "for possiblePrime in range(3,1000,2):        # número que pertence ao intervalo de 3 a 1000 de 2 em 2\n",
    "\n",
    "    isPrime = True  # admitimos que o número é primo logo de início\n",
    "    sqr = sqrt(possiblePrime)   # calculo da raiz quadrada do número que vem deste primeiro for\n",
    "    for num in primes:        # para um número da lista dos números primos já obtida\n",
    "        if sqr >= num and possiblePrime % num == 0:  # se a raiz quadrada for maior ou igual que o número do 2º ciclo for e o número do 1º for fôr divisivel pelo 2º (resto da divisão dá igual a 0)\n",
    "            isPrime = False     # se a condição acima se verificar, então o número não é primo\n",
    "            break     # a partir do momento em que o 'for' apresentar um true, ele faz o que está dentro dele e para, segue em frente\n",
    "\n",
    "    if isPrime:        # se a condição não se verificar, então o número é primo\n",
    "        primes.append(possiblePrime)      # e por isso iremos acrescentar o número à lista pretendida\n",
    "        cont = cont + 1     # e somamos mais um à contagem\n",
    "\n",
    "final = [1] + primes\n",
    "print(final)   # para aparecer a lista final dos números primos que vai ser concateana com a lista com o número 1\n",
    "print(cont)     # para aparecer a contagem final dos números primos\n",
    "\n",
    "\n"
   ]
  },
  {
   "cell_type": "code",
   "execution_count": 6,
   "metadata": {},
   "outputs": [
    {
     "name": "stdout",
     "output_type": "stream",
     "text": [
      "[1, 2, 3, 5, 7, 11, 13, 17, 19, 23, 29, 31, 37, 41, 43, 47, 53, 59, 61, 67, 71, 73, 79, 83, 89, 97, 101, 103, 107, 109, 113, 127, 131, 137, 139, 149, 151, 157, 163, 167, 173, 179, 181, 191, 193, 197, 199, 211, 223, 227, 229, 233, 239, 241, 251, 257, 263, 269, 271, 277, 281, 283, 293, 307, 311, 313, 317, 331, 337, 347, 349, 353, 359, 367, 373, 379, 383, 389, 397, 401, 409, 419, 421, 431, 433, 439, 443, 449, 457, 461, 463, 467, 479, 487, 491, 499, 503, 509, 521, 523, 541, 547, 557, 563, 569, 571, 577, 587, 593, 599, 601, 607, 613, 617, 619, 631, 641, 643, 647, 653, 659, 661, 673, 677, 683, 691, 701, 709, 719, 727, 733, 739, 743, 751, 757, 761, 769, 773, 787, 797, 809, 811, 821, 823, 827, 829, 839, 853, 857, 859, 863, 877, 881, 883, 887, 907, 911, 919, 929, 937, 941, 947, 953, 967, 971, 977, 983, 991, 997]\n",
      "169\n"
     ]
    }
   ],
   "source": [
    "# outra resolução\n",
    "x=[]        # começamos com a lista de primos, que queremos obter, igual a 0 \n",
    "cont = 0    # como a lista de cima é vazia, então temos que a contagem dos números primos tem que ser igual a 0\n",
    "\n",
    "for i in range(1,1000):    # número que pertence ao intervalo de 1 a 1000\n",
    "\n",
    "    div=0           # começamos com esta variável igual a 0\n",
    "    for a in range(2,i):    # número que pertence ao intervalo de 2 ao número dado no primeiro ciclo\n",
    "        if i % a == 0:      # se o resto da divisão inteira fôr igual a 0\n",
    "            div=div+1       # se a condição em cima se verificar, então vamos somar um à variável dada em cima\n",
    "        if div!=0:          # se a variá vel fôr diferente de zero\n",
    "            break           # a partir do momento em que o 'for' apresentar um true, ele faz o que está dentro dele e para, segue em frente\n",
    "        \n",
    "    if div == 0:            # se a variável fôr igual a 0\n",
    "        x.append(i)         # acrescenta-se o primeiro número à lista dos números primos\n",
    "        cont = cont + 1     # acrescenta-se +1 à contagem dos números\n",
    "\n",
    "print(x)              # para aparecer a lista final dos números primos\n",
    "print(cont)           # para aparecer a contagem final dos números primos"
   ]
  },
  {
   "cell_type": "code",
   "execution_count": null,
   "metadata": {},
   "outputs": [],
   "source": [
    "# outra resolução\n",
    "primos = []\n",
    "for i in range (2,10000):\n",
    "    primo = True\n",
    "    for j in range (2,i):\n",
    "        if i%j == 0:\n",
    "            primo = False\n",
    "            break\n",
    "    if primo == True:\n",
    "        primos.append(i)\n",
    "print(primos)"
   ]
  },
  {
   "cell_type": "markdown",
   "metadata": {},
   "source": [
    "**Ex.2** Considere os vetores x=[1,2,3] e y=[4,5,6]. Escreva um programa que calcule o seu produto interno."
   ]
  },
  {
   "cell_type": "code",
   "execution_count": 7,
   "metadata": {},
   "outputs": [
    {
     "name": "stdout",
     "output_type": "stream",
     "text": [
      "32\n"
     ]
    }
   ],
   "source": [
    "x = [1,2,3]\n",
    "y = [4,5,6]\n",
    "z = 0    # criação da variável do produto interno\n",
    "\n",
    "for i in range(0,3):   # criação da variável da posição no vetor que vai de 0 a 3 (que é o comprimento dos vetores)\n",
    "    z = x[i] * y[i] + z    # cálculo do produto interno, ou seja, o produto do valor do vetor na posição i mais o valor do produto interno calculado anteriormente\n",
    "\n",
    "print(z)      # para aparecer o produto interno final"
   ]
  },
  {
   "cell_type": "code",
   "execution_count": 1,
   "metadata": {},
   "outputs": [
    {
     "name": "stdout",
     "output_type": "stream",
     "text": [
      "[1, 2, 3]\n",
      "[1 2 3]\n",
      "dot Product : 32\n"
     ]
    }
   ],
   "source": [
    "# outra resolução\n",
    "import numpy as np\n",
    "f = np.array([1,2,3])\n",
    "g = np.array([4,5,6])\n",
    "\n",
    "product = np.dot(f,g)\n",
    "\n",
    "print([1,2,3])\n",
    "print(f)\n",
    "print(\"dot Product :\" , product)"
   ]
  },
  {
   "cell_type": "markdown",
   "metadata": {},
   "source": [
    "**Ex.3** Escreva um programa que devolva a área e o perímetro de um círculo dado o seu raio."
   ]
  },
  {
   "cell_type": "code",
   "execution_count": 9,
   "metadata": {},
   "outputs": [
    {
     "name": "stdout",
     "output_type": "stream",
     "text": [
      "A área pretendida é:  12.566370614359172\n",
      "O perímetro pretendido é:  12.566370614359172\n"
     ]
    }
   ],
   "source": [
    "raio = float(input('Coloque o raio pretendido: '))  #pede um valor para o raio e coloca-o como float\n",
    "area = pi*raio**2                  # calcula a área com o float dado anteriormente\n",
    "perimetro = 2*pi*raio               # calcula o perímetro com o float dado anteriormente\n",
    "print('A área pretendida é: ',area)    # para aparecer o valor de área pretendido\n",
    "print('O perímetro pretendido é: ',perimetro)     # para aparecer o valor de perímetro pretendido"
   ]
  },
  {
   "cell_type": "code",
   "execution_count": 2,
   "metadata": {},
   "outputs": [
    {
     "name": "stdout",
     "output_type": "stream",
     "text": [
      "The area of the circle with radius 2.0is: 12.566370614359172\n",
      "The perimeter of the circle with radius 2.0 is: 12.566370614359172\n"
     ]
    }
   ],
   "source": [
    "# outra resolução\n",
    "from math import pi\n",
    "r = float(input (\"Input the radius of the circle : \"))\n",
    "\n",
    "print (\"The area of the circle with radius \" + str(r) + \"is: \" + str(pi * r**2))\n",
    "print (\"The perimeter of the circle with radius \" + str(r) + \" is: \" + str(2* pi * r))\n"
   ]
  },
  {
   "cell_type": "code",
   "execution_count": 10,
   "metadata": {},
   "outputs": [
    {
     "name": "stdout",
     "output_type": "stream",
     "text": [
      "A área pretendida é : 12.57\n",
      "O perímetro pretendido é : 12.57\n"
     ]
    }
   ],
   "source": [
    "# outra resolução\n",
    "raio = float(input('Coloque o raio pretendido: '))    # pede um valor para o raio e coloca-o como float\n",
    "area = pi*raio**2                   # calcula a área com o float dado anteriormente\n",
    "perimetro = 2*pi*raio               # calcula o perímetro com o float dado anteriormente\n",
    "print('A área pretendida é : {0:4.2f}'.format(area))  # para aparecer o valor de área pretendido (mas arredondado)\n",
    "print('O perímetro pretendido é : {0:4.2f}'.format(perimetro))     # para aparecer o valor de perímetro pretendido (mas arredondado)"
   ]
  },
  {
   "cell_type": "markdown",
   "metadata": {},
   "source": [
    "**Ex.4** Represente a função (**2D**) $y = e^{−x^{2}} × cos(20x)$ entre -2 e 2."
   ]
  },
  {
   "cell_type": "code",
   "execution_count": 11,
   "metadata": {},
   "outputs": [
    {
     "data": {
      "text/plain": [
       "[<matplotlib.lines.Line2D at 0x1ab54d283a0>]"
      ]
     },
     "execution_count": 11,
     "metadata": {},
     "output_type": "execute_result"
    },
    {
     "data": {
      "image/png": "[encoded data removed]",
      "text/plain": [
       "<Figure size 432x288 with 1 Axes>"
      ]
     },
     "metadata": {
      "needs_background": "light"
     },
     "output_type": "display_data"
    }
   ],
   "source": [
    "import matplotlib.pyplot as plt\n",
    "import numpy as np\n",
    "\n",
    "x = np.linspace(-2,2,100)     # varia os valores do eixo do x apenas no intervalo de -2 a 2\n",
    "plt.plot(x,np.exp(-x**2)*np.cos(20*x))  # faz aparecer o gráfico pretendido no intervalo de valores de x pretendido \n",
    "plt.xlabel('X')\n",
    "plt.ylabel('Y=exp(-x**2*cos(20*x)')\n",
    "plt.plot(x,np.exp(-x**2)*np.cos(20*x),'ro')         # o 'ro' é para aparecer pontos nos gráficos\n",
    "\n",
    "# o sinal $ é para poder usar LaTex"
   ]
  },
  {
   "cell_type": "code",
   "execution_count": null,
   "metadata": {},
   "outputs": [],
   "source": [
    "# outra resolução\n",
    "import pylab\n",
    "import numpy\n",
    "\n",
    "x = numpy.linspace(-2,2,100) # 100 linearly spaced numbers\n",
    "y = numpy.exp(-x**2)*numpy.cos(20*x)\n",
    "#z = -x\n",
    "#z2 = x\n",
    "#compose plot\n",
    "pylab.plot(x, y, label=\"$e^{-x^2} \\cos(20 x)$\")\n",
    "#pylab.plot(x,z,label=\"y=-x\")\n",
    "#pylab.plot(x,z2,label=\"y=x\")\n",
    "#pylab.plot(x,y,'co') # same but with cyan dots\n",
    "pylab.xlabel(\"x\")\n",
    "pylab.ylabel(\"my function\")\n",
    "pylab.legend()\n",
    "\n",
    "pylab.show() #show the plot"
   ]
  },
  {
   "cell_type": "markdown",
   "metadata": {},
   "source": [
    "**Ex.5**  Represente a função (**3D**) $ z= sin(x)×cos(y) $ entre -3 e 3."
   ]
  },
  {
   "cell_type": "code",
   "execution_count": 12,
   "metadata": {},
   "outputs": [
    {
     "data": {
      "image/png": "[encoded data removed]",
      "text/plain": [
       "<Figure size 432x288 with 1 Axes>"
      ]
     },
     "metadata": {
      "needs_background": "light"
     },
     "output_type": "display_data"
    }
   ],
   "source": [
    "x = np.linspace(-3,3,30)     # varia os valores do eixo do x apenas no intervalo de -3 a 3\n",
    "y = np.linspace(-3,3,30)     # varia os valores do eixo do y apenas no intervalo de -3 a 3\n",
    "\n",
    "def f(x,y):\n",
    "    return np.sin(x)*np.cos(y)       # definimos a função pedida usando os eixos de x e y \n",
    "\n",
    "fig = plt.figure()                      \n",
    "eixos = plt.axes(projection=\"3d\")\n",
    "\n",
    "X, Y = np.meshgrid(x,y)       # A função numpy.meshgrid é usada para criar uma grade retangular a partir de duas matrizes unidimensionais que representam a indexação cartesiana ou a indexação matrix\n",
    "Z = f(X,Y)                    # definimos o Z como a função definida em cima\n",
    "\n",
    "eixos.set_xlabel('X')         # definimos o nome do eixo do x\n",
    "eixos.set_ylabel('Y')         # definimos o nome do eixo do y\n",
    "eixos.set_zlabel('Z')         # definimos o nome do eixo do z\n",
    "\n",
    "eixos.plot_surface(X, Y, Z, rstride=1, cstride=1, cmap='viridis', edgecolor='none')   # propriedades da imagem\n",
    "# cmap é a cor do gráfico (hot é as cores vermelhas e viridis são as cores frias)\n",
    "plt.show()                    # é uma espécie de print aqui nos gráficos 3D\n",
    "\n"
   ]
  },
  {
   "cell_type": "markdown",
   "metadata": {},
   "source": [
    "**Ex.6**   Escreva um programa que permita determinar a precisão numérica do seu computador para a representação de números reais."
   ]
  },
  {
   "cell_type": "code",
   "execution_count": 13,
   "metadata": {},
   "outputs": [
    {
     "name": "stdout",
     "output_type": "stream",
     "text": [
      "O computador é preciso até à 16º casa decimal, inclusive\n"
     ]
    }
   ],
   "source": [
    "c = 0         # a variável da precisão tem que começar em zero para poder acumular\n",
    "for i in range(1,30):           # colocou-se 30 para ser um número qualquer\n",
    "    if 1 != (1-10 ** (-i)):     # comparou-se até quando os valores eram diferentes de 1\n",
    "        c = c + 1               # quando a condição acima se verificava, somava-se 1 à variável de precisão\n",
    "\n",
    "print(f'O computador é preciso até à {c}º casa decimal, inclusive')"
   ]
  },
  {
   "cell_type": "code",
   "execution_count": null,
   "metadata": {},
   "outputs": [],
   "source": [
    "# outra resolução\n",
    "epsilon = 1\n",
    "while 1 + epsilon != 1:\n",
    "    epsilon_2=epsilon\n",
    "    epsilon /= 2\n",
    "print(epsilon_2)"
   ]
  },
  {
   "cell_type": "markdown",
   "metadata": {},
   "source": [
    "**Ex.7**  Sabendo  que $e^{−x} ≈ 1 − x + \\frac{x^{2}}{2!} − \\frac{x^{3}}{3!} + ... + \\frac{x^{n}}{n!}$ ,  calcule $e^{−x}$ para $x = 0,1; 1; 10; 15; 30$ requerendo que o erro numérico seja inferior a uma parte em $10^8$ e compare os valores obtidos com os calculados através da função *numpy.exp()*. Represente graficamente a função para $x∈[0,30]$."
   ]
  },
  {
   "cell_type": "code",
   "execution_count": 15,
   "metadata": {},
   "outputs": [
    {
     "ename": "IndentationError",
     "evalue": "unindent does not match any outer indentation level (<tokenize>, line 24)",
     "output_type": "error",
     "traceback": [
      "\u001b[1;36m  File \u001b[1;32m\"<tokenize>\"\u001b[1;36m, line \u001b[1;32m24\u001b[0m\n\u001b[1;33m    if sinal(sn) / sinal(s) <= (10 ** (-8)):      # quando formos dividir o e-nesimo elemento à soma dos elementos anteriores, vemos se o erro já é o considerado\u001b[0m\n\u001b[1;37m    ^\u001b[0m\n\u001b[1;31mIndentationError\u001b[0m\u001b[1;31m:\u001b[0m unindent does not match any outer indentation level\n"
     ]
    }
   ],
   "source": [
    "def facto(x):        # definição função fatorial \n",
    "    if x==0:         # para o caso em que x é igual a 0\n",
    "        return 1\n",
    "    else:            # para os casos a partir de 1\n",
    "        f=1               \n",
    "        for i in range(1,x+1):   # fazemos x+1 pois o range vai até ao anterior, ou seja, até ao pretendido verdadeiramente que é o x\n",
    "            f=f*i                # não esquecer que o fatorial é o número * os todos anteriores consecutivos\n",
    "        return f                 # iremos retornar o valor do fatorial pretendido\n",
    "\n",
    "def sinal(x):            # definição da função que define o sinal do número pedido\n",
    "    if x>=0:             # se o x fôr maior ou igual a 0, ou seja, positivo\n",
    "        return x         # vamos retornar o próprio valor\n",
    "    else:\n",
    "        return (-1*x)    # se a condição acima não se verificar , ele vai devolver isto\n",
    "\n",
    "def expo(x):\n",
    "    s = 0\n",
    "    for i in range(0,1000000):\n",
    "                # b = s # nesta situação guardamos em 'b' uma copia da soma dos 'n' elementos\n",
    "                # if s == 0:  #quando estamos no primeiro elemento da \"soma\" (sem elementos somados)\n",
    "            sn = ((-1)*i) * (x**i)/facto(x)\n",
    "            s = sn + s\n",
    "        if sinal(sn) / sinal(s) <= (10 ** (-8)):      # quando formos dividir o e-nesimo elemento à soma dos elementos anteriores, vemos se o erro já é o considerado\n",
    "            break\n",
    "    return s\n",
    "\n",
    "x = int(input('Defina um valor x: \\n'))\n",
    "re = np.exp(-x)\n",
    "ap = expo(x)\n",
    "err = ap/re\n",
    "\n",
    "print(f'Valor real: {re}')\n",
    "print(f'Valor aproximado: {ap}')\n",
    "print(f'Erro associado: {err}')\n"
   ]
  },
  {
   "cell_type": "code",
   "execution_count": null,
   "metadata": {},
   "outputs": [
    {
     "ename": "NameError",
     "evalue": "name 'np' is not defined",
     "output_type": "error",
     "traceback": [
      "\u001b[1;31m---------------------------------------------------------------------------\u001b[0m",
      "\u001b[1;31mNameError\u001b[0m                                 Traceback (most recent call last)",
      "\u001b[1;32m<ipython-input-4-c9271b35dcd8>\u001b[0m in \u001b[0;36m<module>\u001b[1;34m\u001b[0m\n\u001b[1;32m----> 1\u001b[1;33m \u001b[0mx\u001b[0m \u001b[1;33m=\u001b[0m \u001b[0mnp\u001b[0m\u001b[1;33m.\u001b[0m\u001b[0mlinspace\u001b[0m\u001b[1;33m(\u001b[0m\u001b[1;36m0\u001b[0m\u001b[1;33m,\u001b[0m\u001b[1;36m30\u001b[0m\u001b[1;33m)\u001b[0m\u001b[1;33m\u001b[0m\u001b[1;33m\u001b[0m\u001b[0m\n\u001b[0m\u001b[0;32m      2\u001b[0m \u001b[1;33m\u001b[0m\u001b[0m\n\u001b[0;32m      3\u001b[0m \u001b[0mplt\u001b[0m\u001b[1;33m.\u001b[0m\u001b[0mplot\u001b[0m\u001b[1;33m(\u001b[0m\u001b[0mx\u001b[0m\u001b[1;33m,\u001b[0m\u001b[0mnp\u001b[0m\u001b[1;33m.\u001b[0m\u001b[0mexp\u001b[0m\u001b[1;33m(\u001b[0m\u001b[1;33m-\u001b[0m\u001b[0mx\u001b[0m\u001b[1;33m)\u001b[0m\u001b[1;33m,\u001b[0m \u001b[1;34m'g'\u001b[0m\u001b[1;33m)\u001b[0m\u001b[1;33m\u001b[0m\u001b[1;33m\u001b[0m\u001b[0m\n\u001b[0;32m      4\u001b[0m \u001b[0mplt\u001b[0m\u001b[1;33m.\u001b[0m\u001b[0mxlabel\u001b[0m\u001b[1;33m(\u001b[0m\u001b[1;34m'x'\u001b[0m\u001b[1;33m)\u001b[0m\u001b[1;33m\u001b[0m\u001b[1;33m\u001b[0m\u001b[0m\n\u001b[0;32m      5\u001b[0m \u001b[0mplt\u001b[0m\u001b[1;33m.\u001b[0m\u001b[0mylabel\u001b[0m\u001b[1;33m(\u001b[0m\u001b[1;34m'y'\u001b[0m\u001b[1;33m)\u001b[0m\u001b[1;33m\u001b[0m\u001b[1;33m\u001b[0m\u001b[0m\n",
      "\u001b[1;31mNameError\u001b[0m: name 'np' is not defined"
     ]
    }
   ],
   "source": [
    "x = np.linspace(0,30)\n",
    "\n",
    "plt.plot(x,np.exp(-x), 'g')\n",
    "plt.xlabel('x')\n",
    "plt.ylabel('y')\n",
    "plt.title('Gráfico da função pedida')"
   ]
  },
  {
   "cell_type": "code",
   "execution_count": 3,
   "metadata": {},
   "outputs": [
    {
     "name": "stdout",
     "output_type": "stream",
     "text": [
      "0.9048374180357144\n",
      "0.36787944116069127\n",
      "4.5400064198401456e-05\n",
      "3.0614766333054303e-07\n",
      "9.357622922446518e-14\n",
      "0.9048374180359595\n",
      "0.36787944117144233\n",
      "4.5399929762484854e-05\n",
      "3.059023205018258e-07\n",
      "9.357622968840175e-14\n"
     ]
    },
    {
     "data": {
      "image/png": "[encoded data removed]",
      "text/plain": [
       "<Figure size 432x288 with 1 Axes>"
      ]
     },
     "metadata": {
      "needs_background": "light"
     },
     "output_type": "display_data"
    },
    {
     "data": {
      "image/png": "[encoded data removed]",
      "text/plain": [
       "<Figure size 432x288 with 1 Axes>"
      ]
     },
     "metadata": {
      "needs_background": "light"
     },
     "output_type": "display_data"
    }
   ],
   "source": [
    "# outra resolução\n",
    "import numpy as np\n",
    "import pylab\n",
    "\n",
    "def fact(y):\n",
    "    if np.any(y == 0):\n",
    "        fact=1\n",
    "        return fact\n",
    "    else:\n",
    "        fact=1\n",
    "        for k in range (1, y+1):\n",
    "            fact = fact * k\n",
    "        return fact\n",
    "\n",
    "def e_negativo_x(k):\n",
    "    n=0\n",
    "    precisao_numerica=1\n",
    "    precisao_numerica_ideal= 10**(-8)\n",
    "    if np.any(k<20):\n",
    "        while np.any(precisao_numerica > precisao_numerica_ideal):\n",
    "            som=0\n",
    "            for i in range (0, n+1):\n",
    "                ind=((-k)**i)/fact(i)\n",
    "                if np.any(i> 0 & n-i == 0):\n",
    "                    ind_2=((-k)**(i-1))/fact(i-1)\n",
    "                    precisao_numerica_1 = ind_2 - ind\n",
    "                    precisao_numerica = abs(precisao_numerica_1)\n",
    "                som = som + ind\n",
    "            if   np.any(precisao_numerica > precisao_numerica_ideal):\n",
    "                n += 1\n",
    "    elif np.any(k>=20):\n",
    "        k=k/10\n",
    "        while np.any(precisao_numerica > precisao_numerica_ideal):\n",
    "            som=0\n",
    "            for i in range (0, n+1):\n",
    "                ind=((-k)**i)/fact(i)\n",
    "                if np.any(i> 0 & n-i == 0):\n",
    "                    ind_2=((-k)**(i-1))/fact(i-1)\n",
    "                    precisao_numerica_1 = ind_2 - ind\n",
    "                    precisao_numerica = abs(precisao_numerica_1)\n",
    "                som = som + ind\n",
    "            if   np.any(precisao_numerica > precisao_numerica_ideal):\n",
    "                n += 1\n",
    "        som=som**10\n",
    "    return som\n",
    "\n",
    "\n",
    "\n",
    "print(e_negativo_x(0.1))\n",
    "print(e_negativo_x(1))\n",
    "print(e_negativo_x(10))\n",
    "print(e_negativo_x(15))\n",
    "print(e_negativo_x(30))\n",
    "                                                                 \n",
    "print(np.exp(-0.1))\n",
    "print(np.exp(-1))\n",
    "print(np.exp(-10))\n",
    "print(np.exp(-15))\n",
    "print(np.exp(-30))\n",
    "\n",
    "\n",
    "x = np.linspace(0,10,100)\n",
    "y = e_negativo_x(x)\n",
    "pylab.plot(x,y)\n",
    "pylab.show()\n",
    "y = np.exp(-x)\n",
    "pylab.plot(x,y)\n",
    "pylab.show()\n"
   ]
  },
  {
   "cell_type": "code",
   "execution_count": 5,
   "metadata": {},
   "outputs": [],
   "source": [
    "def rv_exp_direto_aux1(x,n): #calcula a soma da série\n",
    "    resultado=0\n",
    "    for N in range(n):\n",
    "        resultado = resultado + ((-x)**N)/(np.math.factorial(N))\n",
    "    return resultado\n",
    "\n",
    "def rv_exp_direto(x): #calcula o valor mínimo de n de modo a que o erro seja inferior a 10^-8\n",
    "    n=2 #a função é inicializada em 2 para evitar indeterminações causadas pela divisão por 0\n",
    "    while abs((rv_exp_direto_aux1(x,n)- rv_exp_direto_aux1(x,n+1))/(rv_exp_direto_aux1(x,n+1))) >= 10-8:\n",
    "        n = n + 1\n",
    "    return rv_exp_direto_aux1(x,n+1)"
   ]
  },
  {
   "cell_type": "markdown",
   "metadata": {},
   "source": [
    "**Ex.8** Seja $t=e^{-\\pi x}$. Represente $y(x) = \\frac {1 - \\sqrt{1-t^{2}}}{t}$ e discuta o que acontece para $x=6$. Represente também a função $\\frac {t}{1+\\sqrt{1-t^{2}}}$ e discuta os resultados."
   ]
  },
  {
   "cell_type": "code",
   "execution_count": null,
   "metadata": {},
   "outputs": [
    {
     "ename": "TypeError",
     "evalue": "only size-1 arrays can be converted to Python scalars",
     "output_type": "error",
     "traceback": [
      "\u001b[1;31m---------------------------------------------------------------------------\u001b[0m",
      "\u001b[1;31mTypeError\u001b[0m                                 Traceback (most recent call last)",
      "\u001b[1;32m<ipython-input-48-ceaaef319d09>\u001b[0m in \u001b[0;36m<module>\u001b[1;34m\u001b[0m\n\u001b[0;32m     10\u001b[0m     \u001b[1;32mreturn\u001b[0m \u001b[0mfinal\u001b[0m\u001b[1;33m\u001b[0m\u001b[1;33m\u001b[0m\u001b[0m\n\u001b[0;32m     11\u001b[0m \u001b[1;33m\u001b[0m\u001b[0m\n\u001b[1;32m---> 12\u001b[1;33m \u001b[0mplt\u001b[0m\u001b[1;33m.\u001b[0m\u001b[0mplot\u001b[0m\u001b[1;33m(\u001b[0m\u001b[0mx\u001b[0m\u001b[1;33m,\u001b[0m\u001b[0mf\u001b[0m\u001b[1;33m(\u001b[0m\u001b[0mx\u001b[0m\u001b[1;33m)\u001b[0m\u001b[1;33m)\u001b[0m\u001b[1;33m\u001b[0m\u001b[1;33m\u001b[0m\u001b[0m\n\u001b[0m\u001b[0;32m     13\u001b[0m \u001b[0mplt\u001b[0m\u001b[1;33m.\u001b[0m\u001b[0mxlabel\u001b[0m\u001b[1;33m(\u001b[0m\u001b[1;34m\"x\"\u001b[0m\u001b[1;33m)\u001b[0m\u001b[1;33m\u001b[0m\u001b[1;33m\u001b[0m\u001b[0m\n\u001b[0;32m     14\u001b[0m \u001b[0mplt\u001b[0m\u001b[1;33m.\u001b[0m\u001b[0mylabel\u001b[0m\u001b[1;33m(\u001b[0m\u001b[1;34m\"y(x)\"\u001b[0m\u001b[1;33m)\u001b[0m\u001b[1;33m\u001b[0m\u001b[1;33m\u001b[0m\u001b[0m\n",
      "\u001b[1;32m<ipython-input-48-ceaaef319d09>\u001b[0m in \u001b[0;36mf\u001b[1;34m(x)\u001b[0m\n\u001b[0;32m      7\u001b[0m \u001b[1;32mdef\u001b[0m \u001b[0mf\u001b[0m\u001b[1;33m(\u001b[0m\u001b[0mx\u001b[0m\u001b[1;33m)\u001b[0m\u001b[1;33m:\u001b[0m\u001b[1;33m\u001b[0m\u001b[1;33m\u001b[0m\u001b[0m\n\u001b[0;32m      8\u001b[0m     \u001b[0mt\u001b[0m \u001b[1;33m=\u001b[0m \u001b[0mnp\u001b[0m\u001b[1;33m.\u001b[0m\u001b[0mexp\u001b[0m\u001b[1;33m(\u001b[0m\u001b[1;33m-\u001b[0m\u001b[0mpi\u001b[0m\u001b[1;33m*\u001b[0m\u001b[0mx\u001b[0m\u001b[1;33m)\u001b[0m\u001b[1;33m\u001b[0m\u001b[1;33m\u001b[0m\u001b[0m\n\u001b[1;32m----> 9\u001b[1;33m     \u001b[0mfinal\u001b[0m \u001b[1;33m=\u001b[0m \u001b[1;33m(\u001b[0m\u001b[1;36m1\u001b[0m\u001b[1;33m-\u001b[0m\u001b[0msqrt\u001b[0m\u001b[1;33m(\u001b[0m\u001b[1;36m1\u001b[0m\u001b[1;33m-\u001b[0m\u001b[0mt\u001b[0m\u001b[1;33m**\u001b[0m\u001b[1;33m(\u001b[0m\u001b[1;36m2\u001b[0m\u001b[1;33m)\u001b[0m\u001b[1;33m)\u001b[0m\u001b[1;33m)\u001b[0m\u001b[1;33m/\u001b[0m\u001b[0mt\u001b[0m\u001b[1;33m\u001b[0m\u001b[1;33m\u001b[0m\u001b[0m\n\u001b[0m\u001b[0;32m     10\u001b[0m     \u001b[1;32mreturn\u001b[0m \u001b[0mfinal\u001b[0m\u001b[1;33m\u001b[0m\u001b[1;33m\u001b[0m\u001b[0m\n\u001b[0;32m     11\u001b[0m \u001b[1;33m\u001b[0m\u001b[0m\n",
      "\u001b[1;31mTypeError\u001b[0m: only size-1 arrays can be converted to Python scalars"
     ]
    }
   ],
   "source": [
    "import numpy as np\n",
    "import matplotlib.pyplot as plt\n",
    "\n",
    "x = np.linspace(1,10)\n",
    "\n",
    "def f(x):\n",
    "    t = np.exp(-pi*x)\n",
    "    final = (1-sqrt(1-t**(2)))/t\n",
    "    return final\n",
    "\n",
    "plt.plot(x,f(x))\n",
    "plt.xlabel(\"x\")\n",
    "plt.ylabel(\"y(x)\")"
   ]
  },
  {
   "cell_type": "code",
   "execution_count": 6,
   "metadata": {},
   "outputs": [
    {
     "data": {
      "text/plain": [
       "[<matplotlib.lines.Line2D at 0x229c571a310>]"
      ]
     },
     "execution_count": 6,
     "metadata": {},
     "output_type": "execute_result"
    },
    {
     "data": {
      "image/png": "[encoded data removed]",
      "text/plain": [
       "<Figure size 432x288 with 1 Axes>"
      ]
     },
     "metadata": {
      "needs_background": "light"
     },
     "output_type": "display_data"
    }
   ],
   "source": [
    "import numpy as np\n",
    "from math import pi\n",
    "import matplotlib.pyplot as plt\n",
    "\n",
    "x = np.linspace(5,7,100)\n",
    "t = np.exp(-pi*x)\n",
    "y = (1-np.sqrt(1-t**2))/t\n",
    "plt.plot(x,y,label =\"Upper\")\n",
    "plt.legend()\n",
    "h = t/(1+np.sqrt(1-t**2))\n",
    "plt.plot(x,h)\n",
    " ## a upper divide por zero e não pode ja a outra não"
   ]
  },
  {
   "cell_type": "code",
   "execution_count": null,
   "metadata": {},
   "outputs": [],
   "source": [
    "# outra resolução\n",
    "from math import pi, sqrt\n",
    "from numpy import linspace, exp, vectorize\n",
    "import pylab\n",
    "def f(x):\n",
    "    t=exp(-pi*x)\n",
    "    return (1-sqrt(1-t**2))/(t)\n",
    "\n",
    "def f_2(x):\n",
    "    t=exp(-pi*x)\n",
    "    return (t)/(1+sqrt(1-t**2))\n",
    "\n",
    "print(f(6))\n",
    "print(f_2(6))\n",
    "x=linspace(5,7,100)\n",
    "y_2=vectorize(f)\n",
    "y=y_2(x)\n",
    "pylab.plot(x,y)\n",
    "pylab.show()\n",
    "y_2=vectorize(f_2)\n",
    "y=y_2(x)\n",
    "pylab.plot(x,y)\n",
    "pylab.show()"
   ]
  },
  {
   "cell_type": "markdown",
   "metadata": {},
   "source": [
    "**Ex.9** Considere as seguintes séries:\n",
    "$S^{up} = \\sum_{n=1}^N \\frac{1}{n}$ , $S^{down} = \\sum_{n=N}^1 \\frac{1}{n}$"
   ]
  },
  {
   "cell_type": "markdown",
   "metadata": {},
   "source": [
    "$\\qquad$ (a) Escreva um programa para calcular $S^{up}$ e $S^{down}$ em função de $N$."
   ]
  },
  {
   "cell_type": "code",
   "execution_count": 22,
   "metadata": {},
   "outputs": [
    {
     "name": "stdout",
     "output_type": "stream",
     "text": [
      "3.439552522640758\n",
      "0\n"
     ]
    }
   ],
   "source": [
    "\n",
    "def up(z):\n",
    "    soma1 = 0\n",
    "    for i in range(1,z+1):\n",
    "        soma1 += 1/i\n",
    "    return soma1\n",
    "\n",
    "def down(a):\n",
    "    soma2 = 0\n",
    "    for j in range(a,2):        # não entendo nada disto\n",
    "        soma2 += 1/j\n",
    "    return soma2\n",
    "\n",
    "x = up(17)\n",
    "y = down(17)\n",
    "\n",
    "print(x)\n",
    "print(y)\n",
    "\n"
   ]
  },
  {
   "cell_type": "code",
   "execution_count": 7,
   "metadata": {},
   "outputs": [
    {
     "name": "stdout",
     "output_type": "stream",
     "text": [
      "1.0 1\n",
      "0.5 1\n",
      "0.3333333333333333 1\n",
      "0.25 1\n",
      "0.2 1\n",
      "0.16666666666666666 1\n",
      "0.14285714285714285 1\n",
      "0.125 1\n",
      "0.1111111111111111 1\n",
      "0.1 1\n",
      "0.09090909090909091 1\n",
      "0.08333333333333333 1\n",
      "0.07692307692307693 1\n",
      "0.07142857142857142 1\n",
      "0.06666666666666667 1\n",
      "0.0625 1\n",
      "0.058823529411764705 1\n",
      "3.439552522640758\n",
      "0.058823529411764705 2\n",
      "0.0625 2\n",
      "0.06666666666666667 2\n",
      "0.07142857142857142 2\n",
      "0.07692307692307693 2\n",
      "0.08333333333333333 2\n",
      "0.09090909090909091 2\n",
      "0.1 2\n",
      "0.1111111111111111 2\n",
      "0.125 2\n",
      "0.14285714285714285 2\n",
      "0.16666666666666666 2\n",
      "0.2 2\n",
      "0.25 2\n",
      "0.3333333333333333 2\n",
      "0.5 2\n",
      "1.0 2\n",
      "3.4395525226407577\n"
     ]
    }
   ],
   "source": [
    "def sup(n):\n",
    "  resultado = 0\n",
    "  for x in range(1,n+1):\n",
    "    resultado += 1/x\n",
    "    print(1/x,1)\n",
    "  return resultado\n",
    "\n",
    "def sdown(n):\n",
    "  resultado = 0\n",
    "  while n!=0:\n",
    "    resultado += 1/n\n",
    "    print(1/n,2)\n",
    "    n-=1\n",
    "  return resultado\n",
    "\n",
    "print(sup(17))\n",
    "print(sdown(17))"
   ]
  },
  {
   "cell_type": "markdown",
   "metadata": {},
   "source": [
    "$\\qquad$ (b) Faça um plot log-log de $\\frac{(S^{up}-S^{down})}{(\\mid{S^{up}}\\mid + \\mid{S^{down}}\\mid)}$ em função de $N$."
   ]
  },
  {
   "cell_type": "code",
   "execution_count": 8,
   "metadata": {},
   "outputs": [
    {
     "name": "stdout",
     "output_type": "stream",
     "text": [
      "1.8333333333333333\n",
      "1.8333333333333333\n"
     ]
    },
    {
     "data": {
      "image/png": "[encoded data removed]",
      "text/plain": [
       "<Figure size 432x288 with 1 Axes>"
      ]
     },
     "metadata": {
      "needs_background": "light"
     },
     "output_type": "display_data"
    }
   ],
   "source": [
    "import pylab\n",
    "from numpy import linspace, vectorize\n",
    "#a)\n",
    "def s(N):\n",
    "    som_up=0\n",
    "    som_down=0\n",
    "    for i in range (1,N+1):\n",
    "        som_up += 1/(i)\n",
    "    for i in range (N,0,-1):\n",
    "        som_down += 1/(i)\n",
    "    return som_up, som_down\n",
    "        \n",
    "N=int(input(\"Escolha o número de N:\"))\n",
    "\n",
    "print(s(N)[0])\n",
    "print(s(N)[1])\n",
    "\n",
    "#b)\n",
    "x=[]\n",
    "for i in range (1,1000):\n",
    "    x.append(i)\n",
    "s_2=vectorize(s)\n",
    "y=(s_2(x)[0]-s_2(x)[1])/(s_2(x)[0]+s_2(x)[1])\n",
    "pylab.plot(x,y)\n",
    "pylab.show()\n"
   ]
  },
  {
   "cell_type": "markdown",
   "metadata": {},
   "source": [
    "**Ex.10** Escreva um programa que peça dois valores $x$ e $y$ e os seus erros $\\Delta{x}$ e $\\Delta{y}$ e verifique se podemos considerar que $x$ é igual a $y$, *i.e.* se o resultado da operação $x-y$ é compatível com $0$, considerando o erro do resultado desta operação.\n",
    "\n",
    "*Exemplos:* $1.23(2)$ e $1.28(5)$ são considerados iguais, enquanto que $1.23(2)$ e $1.28(2)$ não."
   ]
  },
  {
   "cell_type": "code",
   "execution_count": null,
   "metadata": {},
   "outputs": [],
   "source": [
    "x = float(input (\"Input the 1st measurement : \"))\n",
    "dx = float(input (\"Input the error on the 1st measurement : \"))\n",
    "\n",
    "y = f"
   ]
  },
  {
   "cell_type": "code",
   "execution_count": null,
   "metadata": {},
   "outputs": [],
   "source": [
    "from math import sqrt\n",
    "\n",
    "x = float(input (\"Input the 1st measurement: \"))\n",
    "dx = float(input (\"Input the error on the 1st measurement: \"))\n",
    "\n",
    "y = float(input (\"Input the 2nd measurement: \"))\n",
    "dy =float(input (\"Input the error on the 2nd measurement: \"))\n",
    "\n",
    "diff = x - y\n",
    "ddiff = sqrt(dx**2 + dy**2)\n",
    "\n",
    "print (\"x = \" + str(x) + \"+- \" + str(dx))\n",
    "print (\"y = \" + str(y) + \"+- \" + str(dy))\n",
    "print (\"x-y = \" + str(diff) + \"+- \" + str(ddiff))\n",
    "\n",
    "iszero = False\n",
    "if (abs(diff)-ddiff) < 0:\n",
    "  iszero = True\n",
    "\n",
    "print (\"Is x-y compatible with zero within uncertainties? \" + str(iszero))"
   ]
  },
  {
   "cell_type": "markdown",
   "metadata": {},
   "source": [
    "**Ex.11** A função *random.normal* da biblioteca *numpy* permite gerar números aleatórios distribuídos de acordo com uma função gaussiana. Usando esta função, mostre que a o erro resultante de operações sobre distribuições gaussianas é o esperado pela lei de propagação de erros nos seguintes casos:"
   ]
  },
  {
   "cell_type": "markdown",
   "metadata": {},
   "source": [
    "$\\qquad$ (a) adição e subtração;"
   ]
  },
  {
   "cell_type": "code",
   "execution_count": null,
   "metadata": {},
   "outputs": [
    {
     "name": "stdout",
     "output_type": "stream",
     "text": [
      "Sigma de A+B é igual a:  0.2931077538092795\n",
      "Sigma de A-B é igual a:  0.27055557128121166\n",
      "Usando a lei da propagação de erros vamos ter que, teoricamente, que a de A+B:  0.31622776601683794\n"
     ]
    }
   ],
   "source": [
    "N = 100\n",
    "# colocar duas distribuições A e B como array: (para formar estas duas distribuições iremos usar a função random.normal)\n",
    "# A = [        ]\n",
    "# B = [        ]\n",
    "# a ideia é usar o desvio padrão para calcular A mais ou menos sigma, ou seja, a propagação de erros de A e depois de B, e só depois ver teoricamente qual é que seria a propagação de erros da soma e da subtração\n",
    "# ter que ver bem a diferença entre um gráfico e um histograma\n",
    "\n",
    "import random \n",
    "import numpy as np\n",
    "import matplotlib.pyplot as plt\n",
    "\n",
    "mua = 0\n",
    "muab = 3\n",
    "sigmaa = 0.1\n",
    "sigmab = 0.3\n",
    "\n",
    "a = np.random.normal(mua,sigmaa,N)\n",
    "b = np.random.normal(mub,sigmab,N)\n",
    "\n",
    "# vamos fazer que A+B\n",
    "\n",
    "p = a + b\n",
    "m = a - b\n",
    "\n",
    "# distribuição de erros\n",
    "print('Sigma de A+B é igual a: ', str(np.std(p)))\n",
    "print('Sigma de A-B é igual a: ', str(np.std(m)))\n",
    "\n",
    "print('Usando a lei da propagação de erros vamos ter que, teoricamente, que a de A+B: ', np.sqrt((sigmaa)**2 + (sigmab)**2))\n",
    "\n",
    "print('Usando a lei da propagação de erros vamos ter que, teoricamente, que a de A-B: ', np.sqrt((sigmaa)**2 + (sigmab)**2))\n",
    "\n",
    "# acabar este exercício\n",
    "\n"
   ]
  },
  {
   "cell_type": "markdown",
   "metadata": {},
   "source": [
    "$\\qquad$ (b) multiplicação e divisão;"
   ]
  },
  {
   "cell_type": "code",
   "execution_count": null,
   "metadata": {},
   "outputs": [],
   "source": []
  },
  {
   "cell_type": "code",
   "execution_count": 10,
   "metadata": {},
   "outputs": [
    {
     "data": {
      "image/png": "[encoded data removed]",
      "text/plain": [
       "<Figure size 432x288 with 1 Axes>"
      ]
     },
     "metadata": {
      "needs_background": "light"
     },
     "output_type": "display_data"
    }
   ],
   "source": [
    "import numpy as np\n",
    "import matplotlib.pyplot as plt\n",
    "\n",
    "mu, sigma = 0, 0.1 # mean and standard deviation\n",
    "s = np.random.normal(mu, sigma, 1000)\n",
    "\n",
    "abs(mu - np.mean(s))      # np.mean retorna a média dos elementos da distribuição\n",
    "0.0  # may vary\n",
    "\n",
    "abs(sigma - np.std(s, ddof=1))\n",
    "0.1  # may vary\n",
    "\n",
    "count, bins, ignored = plt.hist(s, 30, density=True)\n",
    "plt.plot(bins, 1/(sigma * np.sqrt(2 * np.pi)) *\n",
    "               np.exp( - (bins - mu)**2 / (2 * sigma**2) ),\n",
    "         linewidth=2, color='r')\n",
    "plt.show()"
   ]
  },
  {
   "cell_type": "code",
   "execution_count": 11,
   "metadata": {},
   "outputs": [
    {
     "data": {
      "image/png": "[encoded data removed]",
      "text/plain": [
       "<Figure size 432x288 with 1 Axes>"
      ]
     },
     "metadata": {
      "needs_background": "light"
     },
     "output_type": "display_data"
    }
   ],
   "source": [
    "#fazer distribuiçao\n",
    "#outra\n",
    "#ver sigma, propagação. sigma de um + outro\n",
    "#comparar isso com o std um e do outro\n",
    "import numpy as np\n",
    "import matplotlib.pyplot as plt\n",
    "from scipy.stats import norm\n",
    "\n",
    "\n",
    "A_mu = 1.0; A_sigma = 0.5\n",
    "B_mu = 2.0; B_sigma = 0.1\n",
    "\n",
    "A = np.random.normal(A_mu, A_sigma, 10000)\n",
    "B = np.random.normal(B_mu, B_sigma, 10000)\n",
    "p = A + B\n",
    "m = A - B\n",
    "\n",
    "plt.hist(p, density=True, bins=30)\n",
    "plt.ylabel('Probability')\n",
    "plt.xlabel('A+B')\n",
    "\n",
    "#meter a linha vermelha\n",
    "xmin, xmax = plt.xlim()\n",
    "mean,std=norm.fit(m)\n",
    "x = np.linspace(xmin, xmax, 100)\n",
    "y = norm.pdf(x, mean, std)\n",
    "plt.plot(x ,y)\n",
    "plt.show()\n"
   ]
  },
  {
   "cell_type": "markdown",
   "metadata": {},
   "source": [
    "**Ex.12** Escreva um programa que peça um valor $x$ e o seu erro $\\Delta{x}$ e apresente o valor com o número de algarismos adequado e o seu erro. Deve-se apresentar o valor na notação científica no caso do $\\mid{x}\\mid \\leq 0.001$ ou $\\mid{x}\\mid \\geq 1000$ e quando a notação normal obrigaria a apresentar mais algarismos para além dos significativos."
   ]
  },
  {
   "cell_type": "code",
   "execution_count": null,
   "metadata": {},
   "outputs": [],
   "source": [
    "#função floor arredonda para o inteiro abaixo\n",
    "#pensar como se podem contar algarismos significativos\n",
    "#manipulação sobre strings \n",
    "def count_sig_figs(d): #Conta o número de algarismos significativos\n",
    "  digits=str(d)\n",
    "  raw_integral, _, fractional = digits.partition(\".\")\n",
    "  if raw_integral:\n",
    "    integral =str(int(raw_integral))\n",
    "  else:\n",
    "    integral = '0'\n",
    "  if fractional:\n",
    "    if int(integral) == 0:\n",
    "      return len(str(int(fractional)))\n",
    "    else:\n",
    "      return len((integral + fractional))\n",
    "  else:\n",
    "    return len(integral)\n",
    "#função para arredondar\n",
    "from math import log10, floor\n",
    "def round_sig(x, sig=2):\n",
    "  return round(x, sig-int(floor(log10(abs(x))))-1)\n",
    "\n",
    "x = float(input (\"Please enter the number : \"))\n",
    "dx = float(input (\"Please enter the error : \"))\n",
    "\n",
    "re = round_sig(dx, x)\n",
    "\n",
    "integral, _, fractional = str(re).partition(\".\")\n",
    "\n",
    "if int(integral) > 0:\n",
    "  factor = len(integral)-1\n",
    "else:\n",
    "  factor = -1 * len(fractional)\n",
    "\n",
    "if (abs(x)>=1000 or abs(x) <=0.001):\n",
    "  number = int(round/x/10**factor,0)\n",
    "  print(\"(\"+ str(number)) + \"+- \""
   ]
  },
  {
   "cell_type": "code",
   "execution_count": null,
   "metadata": {},
   "outputs": [],
   "source": [
    "#exercício 12\n",
    "#falta saber como forçar a ter as casas que quero.\n",
    "import decimal\n",
    "from math import log10\n",
    "from numpy import format_float_positional\n",
    "x=float(input(\"valor de x:\"))\n",
    "dx=float(input(\"valor do erro de x:\"))\n",
    "dx=str(dx)\n",
    "e=decimal.Decimal(dx)\n",
    "e= e.as_tuple().exponent\n",
    "e=abs(e)\n",
    "x=round(x,(e))\n",
    "dx=float(dx)\n",
    "if (abs(x)<1000) & (abs(x)>0.001):\n",
    "    print(\"o valor de x é \" + str(x) + \" +/- \" + str(dx))\n",
    "elif (abs(x)>=1000) :\n",
    "    y=round(log10(x),1)\n",
    "    z=round(log10(x))\n",
    "    if y>=z:\n",
    "        r=z\n",
    "    elif z>y:\n",
    "        r=z-1\n",
    "    x=x*(10**(-r))\n",
    "    dx=dx*(10**(-r))\n",
    "    dx=str(dx)\n",
    "    e=decimal.Decimal(dx)\n",
    "    e= e.as_tuple().exponent\n",
    "    e=abs(e)\n",
    "    x=format_float_positional(x, precision=4)\n",
    "    print(\"o valor de x é \" + str(x) + \" +/- \" + str(dx) + \" e^\" +str(r))\n",
    "    \n",
    "elif (abs(x)<=0.001):\n",
    "    y=round(log10(x),1)\n",
    "    z=round(log10(x))\n",
    "    if y>=z:\n",
    "        r=z\n",
    "    elif z>y:\n",
    "        r=z-1\n",
    "    x=x*(10**(-r))\n",
    "    dx=dx*(10**(-r))\n",
    "    dx=str(dx)\n",
    "    e=decimal.Decimal(dx)\n",
    "    e= e.as_tuple().exponent\n",
    "    e=abs(e)\n",
    "    x=round(x,e)\n",
    "    print(\"o valor de x é \" + str(x) + \" +/- \" + str(dx) + \" e\" +str(r))"
   ]
  }
 ],
 "metadata": {
  "kernelspec": {
   "display_name": "Python 3.9.9 64-bit (windows store)",
   "language": "python",
   "name": "python3"
  },
  "language_info": {
   "codemirror_mode": {
    "name": "ipython",
    "version": 3
   },
   "file_extension": ".py",
   "mimetype": "text/x-python",
   "name": "python",
   "nbconvert_exporter": "python",
   "pygments_lexer": "ipython3",
   "version": "3.9.13"
  },
  "orig_nbformat": 4,
  "vscode": {
   "interpreter": {
    "hash": "f496afaf3f144d85bd7e884fd16c2300a99c8fa93a9f78f27342fd9164ac202e"
   }
  }
 },
 "nbformat": 4,
 "nbformat_minor": 2
}
