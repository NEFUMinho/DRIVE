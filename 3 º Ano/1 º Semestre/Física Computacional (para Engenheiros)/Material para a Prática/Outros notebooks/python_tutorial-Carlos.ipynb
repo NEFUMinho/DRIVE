{
  "cells": [
    {
      "cell_type": "markdown",
      "metadata": {
        "id": "YjDH06BJ8_dd"
      },
      "source": [
        "# (breve) **Introdução ao Python**\n",
        "### Física Computacional\n",
        "#### Universidade do Minho\n",
        "#### docente: Nuno Castro\n",
        "#### nuno.castro@fisica.uminho.pt"
      ]
    },
    {
      "cell_type": "markdown",
      "metadata": {
        "id": "Za9lwzoF8_dh"
      },
      "source": [
        "\n",
        "\n",
        "## Operações básicas"
      ]
    },
    {
      "cell_type": "code",
      "execution_count": 1,
      "metadata": {},
      "outputs": [
        {
          "data": {
            "text/plain": [
              "1123"
            ]
          },
          "execution_count": 1,
          "metadata": {},
          "output_type": "execute_result"
        }
      ],
      "source": [
        "2+1121"
      ]
    },
    {
      "cell_type": "code",
      "execution_count": 2,
      "metadata": {
        "colab": {
          "base_uri": "https://localhost:8080/"
        },
        "id": "V24IHLco8_di",
        "outputId": "e60fcfab-b7dd-43e4-e9ba-f4346d2ca886"
      },
      "outputs": [
        {
          "data": {
            "text/plain": [
              "int"
            ]
          },
          "execution_count": 2,
          "metadata": {},
          "output_type": "execute_result"
        }
      ],
      "source": [
        "type(2+1121)"
      ]
    },
    {
      "cell_type": "code",
      "execution_count": 3,
      "metadata": {},
      "outputs": [
        {
          "name": "stdout",
          "output_type": "stream",
          "text": [
            "1123.0\n"
          ]
        }
      ],
      "source": [
        "a=2+1121\n",
        "print(float(a))\n",
        "\n",
        "#   float() converts a number stored in a string or integer into a floating point number,\n",
        "#  or a number with a decimal point"
      ]
    },
    {
      "cell_type": "code",
      "execution_count": 4,
      "metadata": {
        "colab": {
          "base_uri": "https://localhost:8080/"
        },
        "id": "t64EUgyA8_dr",
        "outputId": "3660e115-4d6b-42d6-e0b1-89c0394883e6"
      },
      "outputs": [
        {
          "data": {
            "text/plain": [
              "5.0"
            ]
          },
          "execution_count": 4,
          "metadata": {},
          "output_type": "execute_result"
        }
      ],
      "source": [
        "(50-5*6)/4"
      ]
    },
    {
      "cell_type": "code",
      "execution_count": 5,
      "metadata": {
        "colab": {
          "base_uri": "https://localhost:8080/"
        },
        "id": "T2JQr7g38_dx",
        "outputId": "2bd06275-2dcf-49b8-84f8-8b687d4e08a2"
      },
      "outputs": [
        {
          "data": {
            "text/plain": [
              "9.0"
            ]
          },
          "execution_count": 5,
          "metadata": {},
          "output_type": "execute_result"
        }
      ],
      "source": [
        "from math import *\n",
        "# usar um * significa importar tudo o que esteja na biblioteca \"math\"\n",
        "sqrt(81)\n",
        "\n",
        "# OPERADOR RAIZ QUADRADA, retorna em formato float"
      ]
    },
    {
      "cell_type": "code",
      "execution_count": 6,
      "metadata": {
        "colab": {
          "base_uri": "https://localhost:8080/"
        },
        "id": "P33EiOtPBRaW",
        "outputId": "b6c61892-9e5d-427b-ea8f-0b3ed5bd6ca7"
      },
      "outputs": [
        {
          "name": "stdout",
          "output_type": "stream",
          "text": [
            "2.0\n"
          ]
        }
      ],
      "source": [
        "a=float(2)\n",
        "print(a)"
      ]
    },
    {
      "cell_type": "code",
      "execution_count": 7,
      "metadata": {
        "colab": {
          "base_uri": "https://localhost:8080/"
        },
        "id": "blQoHgk5BXZQ",
        "outputId": "aa24ae5e-3f7d-425b-be49-28cdd78bb603"
      },
      "outputs": [
        {
          "name": "stdout",
          "output_type": "stream",
          "text": [
            "2 4 6\n"
          ]
        }
      ],
      "source": [
        "a,b,c=2,4,6\n",
        "print(a, b, c)"
      ]
    },
    {
      "cell_type": "markdown",
      "metadata": {
        "id": "gY5Ub09h8_d2"
      },
      "source": [
        "## Strings"
      ]
    },
    {
      "cell_type": "code",
      "execution_count": 8,
      "metadata": {},
      "outputs": [
        {
          "data": {
            "text/plain": [
              "str"
            ]
          },
          "execution_count": 8,
          "metadata": {},
          "output_type": "execute_result"
        }
      ],
      "source": [
        "greeting = \"Hello\" + \" World!\"\n",
        "type (greeting)"
      ]
    },
    {
      "cell_type": "code",
      "execution_count": 9,
      "metadata": {
        "colab": {
          "base_uri": "https://localhost:8080/"
        },
        "id": "1tTKYMeF8_d4",
        "outputId": "7c3166ca-bdeb-444b-84ea-7365768ac63c"
      },
      "outputs": [
        {
          "name": "stdout",
          "output_type": "stream",
          "text": [
            "Hello World!\n"
          ]
        }
      ],
      "source": [
        "print(greeting)"
      ]
    },
    {
      "cell_type": "markdown",
      "metadata": {
        "id": "_YCccpKO8_d9"
      },
      "source": [
        "### Alguns métodos úteis"
      ]
    },
    {
      "cell_type": "markdown",
      "metadata": {
        "id": "3_hUCvkT8_d9"
      },
      "source": [
        "#### Remover os espaços em branco a mais"
      ]
    },
    {
      "cell_type": "code",
      "execution_count": 10,
      "metadata": {
        "colab": {
          "base_uri": "https://localhost:8080/",
          "height": 36
        },
        "id": "fvUr56bg8_d-",
        "outputId": "0d7e7b35-52ce-418c-e6d3-471d7078a95d"
      },
      "outputs": [
        {
          "data": {
            "text/plain": [
              "'Hello World'"
            ]
          },
          "execution_count": 10,
          "metadata": {},
          "output_type": "execute_result"
        }
      ],
      "source": [
        "greeting =\"   Hello World        \"\n",
        "greeting.strip()\n",
        "\n",
        "#   a função .strip() retorna uma cópia da string sem certos caracteres (normalmente espaços em branco) do \n",
        "# início e do fim da string, e só apenas nesses sítios da string."
      ]
    },
    {
      "cell_type": "markdown",
      "metadata": {
        "id": "MHrjlgmi8_eD"
      },
      "source": [
        "#### Trocar maiúsculas e minúsculas"
      ]
    },
    {
      "cell_type": "code",
      "execution_count": 11,
      "metadata": {
        "colab": {
          "base_uri": "https://localhost:8080/",
          "height": 52
        },
        "id": "T8xAn0Mb8_eE",
        "outputId": "36435e62-3095-44a4-f0ab-6b61cf8d3221"
      },
      "outputs": [
        {
          "name": "stdout",
          "output_type": "stream",
          "text": [
            "not so loud!\n",
            "WHAT?\n"
          ]
        }
      ],
      "source": [
        "print(\"NOT SO LOUD!\".lower())\n",
        "print(\"what?\".upper())\n",
        "\n",
        "#   ao contrário do que foi realizado das outras vezes, neste caso a string não foi colocada numa variável e só\n",
        "# depois é que foram aplicadas as funções. Neste caso foi tudo realizado na mesma linha de código."
      ]
    },
    {
      "cell_type": "markdown",
      "metadata": {
        "id": "Z3iVa1Zv8_eI"
      },
      "source": [
        "#### Dividir em substrings"
      ]
    },
    {
      "cell_type": "code",
      "execution_count": 12,
      "metadata": {
        "colab": {
          "base_uri": "https://localhost:8080/",
          "height": 34
        },
        "id": "0_0be8818_eJ",
        "outputId": "1d7a3d79-8b52-4887-f3ae-b2657a884757"
      },
      "outputs": [
        {
          "data": {
            "text/plain": [
              "['A', 'sentence', 'with', 'many', 'words']"
            ]
          },
          "execution_count": 12,
          "metadata": {},
          "output_type": "execute_result"
        }
      ],
      "source": [
        "\"A sentence with many words\".split()\n",
        "\n",
        "# esta função retorna uma lista das palavras contidas na string"
      ]
    },
    {
      "cell_type": "markdown",
      "metadata": {
        "id": "DKurA_O98_eN"
      },
      "source": [
        "*Por default o limitador é o espaço, mas isso pode ser mudado*\n",
        "\n"
      ]
    },
    {
      "cell_type": "code",
      "execution_count": 13,
      "metadata": {
        "colab": {
          "base_uri": "https://localhost:8080/",
          "height": 52
        },
        "id": "nWNAxXKJ8_eO",
        "outputId": "cf933c94-ad08-4a99-ee32-b577287d1594"
      },
      "outputs": [
        {
          "name": "stdout",
          "output_type": "stream",
          "text": [
            "['11', '23', '54']\n",
            "['First sentence', ' Second sentence']\n"
          ]
        }
      ],
      "source": [
        "print(\"11:23:54\".split(\":\"))\n",
        "print(\"First sentence. Second sentence\".split(\".\"))"
      ]
    },
    {
      "cell_type": "markdown",
      "metadata": {
        "id": "qRAy94iY8_eT"
      },
      "source": [
        "*É fácil manipular strings em Python!*"
      ]
    },
    {
      "cell_type": "code",
      "execution_count": 14,
      "metadata": {
        "colab": {
          "base_uri": "https://localhost:8080/",
          "height": 35
        },
        "id": "2lDpDlKB8_eT",
        "outputId": "a1b86ca4-b758-45d6-c4af-bd5368d86cbd"
      },
      "outputs": [
        {
          "data": {
            "text/plain": [
              "'jello'"
            ]
          },
          "execution_count": 14,
          "metadata": {},
          "output_type": "execute_result"
        }
      ],
      "source": [
        "\"hello\".replace(\"h\",\"j\")\n",
        "\n",
        "# esta função substitui os caracteres antigos da string indicados (no caso o \"h\") por novos (no caso o \"j\")"
      ]
    },
    {
      "cell_type": "code",
      "execution_count": 15,
      "metadata": {},
      "outputs": [
        {
          "data": {
            "text/plain": [
              "'heplo'"
            ]
          },
          "execution_count": 15,
          "metadata": {},
          "output_type": "execute_result"
        }
      ],
      "source": [
        "#  para substituir os primeiros \"n\" caracteres indicados da string, basta adicionar esse \"n\" no final\n",
        "#  \"n\" pode variar entre 0 (não altera nada) e qualquer número n (se for superior ao numero de caracteres \n",
        "# antigos disponíveis, funciona como no caso geral (caso da linha de código acima))\n",
        "\n",
        "\"hello\".replace(\"l\",\"p\",1)\n"
      ]
    },
    {
      "cell_type": "code",
      "execution_count": 16,
      "metadata": {
        "colab": {
          "base_uri": "https://localhost:8080/",
          "height": 35
        },
        "id": "Tpv8HwRQ8_eX",
        "outputId": "fb472d04-5b59-4a67-9d0d-e050b9c7dfff"
      },
      "outputs": [
        {
          "data": {
            "text/plain": [
              "'quantum computing is the future'"
            ]
          },
          "execution_count": 16,
          "metadata": {},
          "output_type": "execute_result"
        }
      ],
      "source": [
        "\"{q} is the {f}\".format(q=\"quantum computing\",f=\"future\")\n",
        "\n",
        "#   a função .format() serve para criar uma string que contém campos entre {chaves} que \n",
        "# são substituidos pelos argumentos de format."
      ]
    },
    {
      "cell_type": "markdown",
      "metadata": {},
      "source": [
        "#### Programa que recorre ao .format() e recolhe inf. através de input "
      ]
    },
    {
      "cell_type": "code",
      "execution_count": 1,
      "metadata": {},
      "outputs": [
        {
          "name": "stdout",
          "output_type": "stream",
          "text": [
            "Programa para calcular a idade de uma pessoa\n",
            "\n",
            "Carlos tem 20 anos de idade\n"
          ]
        }
      ],
      "source": [
        "texto = '{0} tem {idade} anos de idade'\n",
        "print('Programa para calcular a idade de uma pessoa', end='\\n\\n')\n",
        "\n",
        "nome = input('Entre com o nome da pessoa: \\n')\n",
        "\n",
        "a1 = int(input('Entre com o ano de nascimento: \\n'))\n",
        "\n",
        "a2 = int(input('Entre com o ano atual: \\n'))\n",
        "\n",
        "print(texto.format(nome, idade = a2 - a1))"
      ]
    },
    {
      "cell_type": "markdown",
      "metadata": {},
      "source": [
        "#### Programa para calcular a media de um aluno"
      ]
    },
    {
      "cell_type": "code",
      "execution_count": 18,
      "metadata": {},
      "outputs": [
        {
          "name": "stdout",
          "output_type": "stream",
          "text": [
            "Programa para calcular a media de um aluno\n",
            "\n",
            "Carlos teve media igual a: 17.50\n"
          ]
        }
      ],
      "source": [
        "print('Programa para calcular a media de um aluno', end='\\n\\n')\n",
        "\n",
        "nome = input('Entre com o nome do aluno: \\n')\n",
        "\n",
        "nota1 = float(input(\"Entre com a primeira nota: \\n\"))\n",
        "\n",
        "nota2 = float(input(\"Entre com a segunda nota: \\n\"))\n",
        "\n",
        "media = (nota1 + nota2) / 2\n",
        "\n",
        "print('{0} teve media igual a: {1:4.2f}'.format(nome, media))\n",
        "\n",
        "# {... :[preencher][alinhar][sinal][largura].[precisão][tipo]}\n",
        "# nesta ultima linha , temos {1: ...} porque pretendemos receber o valor da media para ser formatado \n",
        "# se tivessemos colocado {0: ...} estariamos a pedir o conteúdo da variável 'nome' \n",
        "# ver https://programadorviking.com.br/metodo-format-em-python/ para entender melhor essa parte"
      ]
    },
    {
      "cell_type": "code",
      "execution_count": 19,
      "metadata": {
        "colab": {
          "base_uri": "https://localhost:8080/"
        },
        "id": "jiCQJ215TLIn",
        "outputId": "51219b78-8907-4688-8cf3-b1c84c792ac7"
      },
      "outputs": [
        {
          "name": "stdout",
          "output_type": "stream",
          "text": [
            "Hello, Nuno\n"
          ]
        }
      ],
      "source": [
        "def greet(name):\n",
        "    return \"Hello, \" + name\n",
        "\n",
        "name = \"Nuno\"\n",
        "print(f\"{greet(name)}\")"
      ]
    },
    {
      "cell_type": "code",
      "execution_count": 20,
      "metadata": {
        "colab": {
          "base_uri": "https://localhost:8080/"
        },
        "id": "gDxw0sDUTNtG",
        "outputId": "760fe246-ad87-4851-b494-c4be8c12368f"
      },
      "outputs": [
        {
          "name": "stdout",
          "output_type": "stream",
          "text": [
            "25\n",
            "{5 * 5}\n"
          ]
        }
      ],
      "source": [
        "print(f\"{5 * 5}\")\n",
        "# se colocar o 'f' antes da string, ele já me vai fazer o cálculo do que se encontra dentro\n",
        "print(\"{5 * 5}\")"
      ]
    },
    {
      "cell_type": "markdown",
      "metadata": {
        "id": "18fqjoRP8_ei"
      },
      "source": [
        "#### As strings são listas de caracteres, pelo que os métodos das listas podem ser usados"
      ]
    },
    {
      "cell_type": "markdown",
      "metadata": {
        "id": "JPn1VX718_ei"
      },
      "source": [
        "## Lists"
      ]
    },
    {
      "cell_type": "code",
      "execution_count": 21,
      "metadata": {
        "id": "IqNkr5PI8_ek"
      },
      "outputs": [],
      "source": [
        "days_of_the_week = [\"Monday\",\"Tuesday\",\"Wednesday\",\"Thursday\",\"Friday\",\"Saturday\",\"Sunday\"]"
      ]
    },
    {
      "cell_type": "code",
      "execution_count": 22,
      "metadata": {
        "colab": {
          "base_uri": "https://localhost:8080/",
          "height": 36
        },
        "id": "WrQZ3M6o8_eo",
        "outputId": "b3e76f2d-8072-4f6b-ade8-12a4c2c1354f"
      },
      "outputs": [
        {
          "data": {
            "text/plain": [
              "'Wednesday'"
            ]
          },
          "execution_count": 22,
          "metadata": {},
          "output_type": "execute_result"
        }
      ],
      "source": [
        "days_of_the_week[2]"
      ]
    },
    {
      "cell_type": "code",
      "execution_count": 23,
      "metadata": {
        "colab": {
          "base_uri": "https://localhost:8080/",
          "height": 36
        },
        "id": "XKdRG4gN8_et",
        "outputId": "446d0b70-f105-4ac1-d849-5c8c887e7e3a"
      },
      "outputs": [
        {
          "data": {
            "text/plain": [
              "'Saturday'"
            ]
          },
          "execution_count": 23,
          "metadata": {},
          "output_type": "execute_result"
        }
      ],
      "source": [
        "days_of_the_week[-2]"
      ]
    },
    {
      "cell_type": "code",
      "execution_count": 24,
      "metadata": {},
      "outputs": [
        {
          "data": {
            "text/plain": [
              "'Sunday'"
            ]
          },
          "execution_count": 24,
          "metadata": {},
          "output_type": "execute_result"
        }
      ],
      "source": [
        "days_of_the_week[-1]"
      ]
    },
    {
      "cell_type": "markdown",
      "metadata": {
        "id": "IR8Ke8YR8_ex"
      },
      "source": [
        "*É fácil adicionar elementos a listas*"
      ]
    },
    {
      "cell_type": "code",
      "execution_count": 25,
      "metadata": {
        "colab": {
          "base_uri": "https://localhost:8080/"
        },
        "id": "fQOiS2qC8_ex",
        "outputId": "3cf30c78-dab4-476f-83ce-3475c5a53f2a"
      },
      "outputs": [
        {
          "name": "stdout",
          "output_type": "stream",
          "text": [
            "['W', 'Z', 'Photon', 'Higgs']\n"
          ]
        }
      ],
      "source": [
        "bosons = [\"W\",\"Z\",\"Photon\"]\n",
        "bosons.append(\"Higgs\")\n",
        "print(bosons)\n",
        "\n",
        "# função .append() responsável por adicionar um elemento ao fim de uma string"
      ]
    },
    {
      "cell_type": "markdown",
      "metadata": {
        "id": "Ny9ctkqO8_e1"
      },
      "source": [
        "*Contar o número de elementos de uma lista*"
      ]
    },
    {
      "cell_type": "code",
      "execution_count": 26,
      "metadata": {
        "colab": {
          "base_uri": "https://localhost:8080/",
          "height": 34
        },
        "id": "m_4aRFVw8_e2",
        "outputId": "1824dc2f-bb60-4c96-9e4d-625ad4b34b56"
      },
      "outputs": [
        {
          "data": {
            "text/plain": [
              "4"
            ]
          },
          "execution_count": 26,
          "metadata": {},
          "output_type": "execute_result"
        }
      ],
      "source": [
        "len(bosons)\n",
        "#conta o numero de elementos de uma determinada lista"
      ]
    },
    {
      "cell_type": "markdown",
      "metadata": {
        "id": "38mKBXxg8_e6"
      },
      "source": [
        "*Mudar elementos*"
      ]
    },
    {
      "cell_type": "code",
      "execution_count": 27,
      "metadata": {
        "colab": {
          "base_uri": "https://localhost:8080/",
          "height": 34
        },
        "id": "xZAO4R898_e6",
        "outputId": "5e1bbae9-be96-41f1-9743-a3930f7d39af"
      },
      "outputs": [
        {
          "name": "stdout",
          "output_type": "stream",
          "text": [
            "['W', 'Z', 'Photon', 'Gluon']\n"
          ]
        }
      ],
      "source": [
        "bosons[-1] = \"Gluon\"\n",
        "print(bosons)"
      ]
    },
    {
      "cell_type": "markdown",
      "metadata": {
        "id": "mIrFV2ls8_e9"
      },
      "source": [
        "*Verificar se uma lista tem determinado elemento*"
      ]
    },
    {
      "cell_type": "code",
      "execution_count": 28,
      "metadata": {
        "colab": {
          "base_uri": "https://localhost:8080/"
        },
        "id": "Sd70e4VE8_e-",
        "outputId": "38f86397-9ce7-475a-a322-6732d31b22b9"
      },
      "outputs": [
        {
          "data": {
            "text/plain": [
              "True"
            ]
          },
          "execution_count": 28,
          "metadata": {},
          "output_type": "execute_result"
        }
      ],
      "source": [
        "\"Z\" in bosons"
      ]
    },
    {
      "cell_type": "markdown",
      "metadata": {
        "id": "r6y5SJH88_fB"
      },
      "source": [
        "*Operações sobre listas*"
      ]
    },
    {
      "cell_type": "code",
      "execution_count": 29,
      "metadata": {
        "colab": {
          "base_uri": "https://localhost:8080/"
        },
        "id": "CZHBCwsK8_fC",
        "outputId": "39318e31-062b-402e-a879-2713b9b7edc8"
      },
      "outputs": [
        {
          "name": "stdout",
          "output_type": "stream",
          "text": [
            "['up', 'charm', 'top', 'down', 'strange', 'bottom']\n"
          ]
        }
      ],
      "source": [
        "up_type = [\"up\",\"charm\",\"top\"]\n",
        "down_type = [\"down\",\"strange\",\"bottom\"]\n",
        "quarks = up_type + down_type\n",
        "\n",
        "# a ultima linha adiciona a segunda lista ao final da primeira\n",
        "\n",
        "print(quarks)"
      ]
    },
    {
      "cell_type": "code",
      "execution_count": 30,
      "metadata": {},
      "outputs": [],
      "source": [
        "up_type = [\"up\",\"charm\",\"top\"]\n",
        "down_type = [\"down\",\"strange\",\"bottom\"]\n",
        "quarks = up_type + down_type"
      ]
    },
    {
      "cell_type": "markdown",
      "metadata": {
        "id": "l0q_gI1s8_fF"
      },
      "source": [
        "## Iterators"
      ]
    },
    {
      "cell_type": "markdown",
      "metadata": {
        "id": "lheRWcga8_fF"
      },
      "source": [
        "*Iterar sobre uma lista*"
      ]
    },
    {
      "cell_type": "code",
      "execution_count": 31,
      "metadata": {
        "colab": {
          "base_uri": "https://localhost:8080/"
        },
        "id": "-53t012H8_fG",
        "outputId": "385582e1-944f-494a-f9dd-557d895f8f91"
      },
      "outputs": [
        {
          "name": "stdout",
          "output_type": "stream",
          "text": [
            "Monday\n",
            "Tuesday\n",
            "Wednesday\n",
            "Thursday\n",
            "Friday\n",
            "Saturday\n",
            "Sunday\n"
          ]
        }
      ],
      "source": [
        "for day in days_of_the_week:\n",
        "  print(day)"
      ]
    },
    {
      "cell_type": "markdown",
      "metadata": {
        "id": "Er-Ju_Oj8_fJ"
      },
      "source": [
        "## **USO DE \"range(N)\"**"
      ]
    },
    {
      "cell_type": "code",
      "execution_count": 32,
      "metadata": {
        "colab": {
          "base_uri": "https://localhost:8080/"
        },
        "id": "5fBsVZvd8_fK",
        "outputId": "a343bfe0-3d40-4c3f-cded-f5704f1e2881"
      },
      "outputs": [
        {
          "name": "stdout",
          "output_type": "stream",
          "text": [
            "The square of  0  is  0\n",
            "The square of  1  is  1\n",
            "The square of  2  is  4\n",
            "The square of  3  is  9\n",
            "The square of  4  is  16\n",
            "The square of  5  is  25\n",
            "The square of  6  is  36\n",
            "The square of  7  is  49\n",
            "The square of  8  is  64\n",
            "The square of  9  is  81\n"
          ]
        }
      ],
      "source": [
        "for i in range(10):\n",
        "    print( \"The square of \", i ,\" is \", i*i )"
      ]
    },
    {
      "cell_type": "code",
      "execution_count": 33,
      "metadata": {
        "colab": {
          "base_uri": "https://localhost:8080/"
        },
        "id": "mtpc2em-8_fP",
        "outputId": "7a6e4682-11b8-4737-9df2-f3daf1814015",
        "scrolled": true
      },
      "outputs": [
        {
          "name": "stdout",
          "output_type": "stream",
          "text": [
            "The square of  1  is  1\n",
            "The square of  2  is  4\n",
            "The square of  3  is  9\n",
            "The square of  4  is  16\n",
            "The square of  5  is  25\n",
            "The square of  6  is  36\n",
            "The square of  7  is  49\n",
            "The square of  8  is  64\n",
            "The square of  9  is  81\n",
            "The square of  10  is  100\n"
          ]
        }
      ],
      "source": [
        "for i in range(1,11):\n",
        "    print( \"The square of \", i ,\" is \", i*i )\n",
        "\n",
        "# Parentes retos [] indicam elementos de arrays\n",
        "# Parentes curvos () indicam elementos a ter em conta na instrução (variáveis, etc.)"
      ]
    },
    {
      "cell_type": "code",
      "execution_count": 34,
      "metadata": {
        "colab": {
          "base_uri": "https://localhost:8080/"
        },
        "id": "VQyRXa_c8_fT",
        "outputId": "892f3e56-5e64-4851-94c7-8e5c89597158"
      },
      "outputs": [
        {
          "name": "stdout",
          "output_type": "stream",
          "text": [
            "The square of  21  is  441\n",
            "The square of  20  is  400\n",
            "The square of  19  is  361\n",
            "The square of  18  is  324\n",
            "The square of  17  is  289\n",
            "The square of  16  is  256\n",
            "The square of  15  is  225\n",
            "The square of  14  is  196\n",
            "The square of  13  is  169\n",
            "The square of  12  is  144\n",
            "The square of  11  is  121\n",
            "The square of  10  is  100\n",
            "The square of  9  is  81\n",
            "The square of  8  is  64\n",
            "The square of  7  is  49\n",
            "The square of  6  is  36\n",
            "The square of  5  is  25\n",
            "The square of  4  is  16\n",
            "The square of  3  is  9\n",
            "The square of  2  is  4\n"
          ]
        }
      ],
      "source": [
        "for i in range(21,1,-1):\n",
        "    print(\"The square of \",i,\" is \",i*i)\n",
        "\n",
        "# Se no segundo argumento do range tivesse colocado \"-1\" teria de 21 a 0 "
      ]
    },
    {
      "cell_type": "code",
      "execution_count": 35,
      "metadata": {
        "colab": {
          "base_uri": "https://localhost:8080/",
          "height": 121
        },
        "id": "N1QdJXBm8_fX",
        "outputId": "644bde06-1101-4872-87a3-8fa12e3a67fd"
      },
      "outputs": [
        {
          "name": "stdout",
          "output_type": "stream",
          "text": [
            "down PDGID:  1\n",
            "up PDGID:  2\n",
            "strange PDGID:  3\n",
            "charm PDGID:  4\n",
            "bottom PDGID:  5\n",
            "top PDGID:  6\n"
          ]
        }
      ],
      "source": [
        "for i, quark in enumerate([\"down\",\"up\",\"strange\",\"charm\",\"bottom\",\"top\"]):\n",
        "    print(quark, \"PDGID: \", i+1)"
      ]
    },
    {
      "cell_type": "markdown",
      "metadata": {
        "id": "28CfMy508_fZ"
      },
      "source": [
        "## Slicing"
      ]
    },
    {
      "cell_type": "code",
      "execution_count": 36,
      "metadata": {
        "colab": {
          "base_uri": "https://localhost:8080/",
          "height": 139
        },
        "id": "yHQv-V708_fa",
        "outputId": "bd3e98d4-c23b-458c-f0c7-858a65d33307"
      },
      "outputs": [
        {
          "name": "stdout",
          "output_type": "stream",
          "text": [
            "Q\n",
            "u\n",
            "a\n",
            "n\n",
            "t\n",
            "u\n",
            "m\n"
          ]
        }
      ],
      "source": [
        "for letter in \"Quantum\":\n",
        "    print(letter)"
      ]
    },
    {
      "cell_type": "markdown",
      "metadata": {
        "id": "dr55aRzi8_fd"
      },
      "source": [
        "*Aceder a partes de uma lista*"
      ]
    },
    {
      "cell_type": "code",
      "execution_count": 37,
      "metadata": {
        "colab": {
          "base_uri": "https://localhost:8080/",
          "height": 34
        },
        "id": "O0qZ3vP68_fe",
        "outputId": "dbf73562-88e7-4a03-d70b-999bc672eb2e"
      },
      "outputs": [
        {
          "data": {
            "text/plain": [
              "['Monday', 'Tuesday']"
            ]
          },
          "execution_count": 37,
          "metadata": {},
          "output_type": "execute_result"
        }
      ],
      "source": [
        "days_of_the_week[0:2]"
      ]
    },
    {
      "cell_type": "markdown",
      "metadata": {
        "id": "jcvwhl_Y8_fg"
      },
      "source": [
        "*do início*"
      ]
    },
    {
      "cell_type": "code",
      "execution_count": 38,
      "metadata": {
        "colab": {
          "base_uri": "https://localhost:8080/"
        },
        "id": "bcqh_-jl8_fh",
        "outputId": "b77497d7-f49a-415f-f208-61eb5465ab85"
      },
      "outputs": [
        {
          "data": {
            "text/plain": [
              "['Monday', 'Tuesday', 'Wednesday']"
            ]
          },
          "execution_count": 38,
          "metadata": {},
          "output_type": "execute_result"
        }
      ],
      "source": [
        "days_of_the_week[:3]"
      ]
    },
    {
      "cell_type": "markdown",
      "metadata": {
        "id": "BLKpgwKh8_fj"
      },
      "source": [
        "*até ao fim*"
      ]
    },
    {
      "cell_type": "code",
      "execution_count": 39,
      "metadata": {
        "colab": {
          "base_uri": "https://localhost:8080/"
        },
        "id": "OaoPT5Bg8_fk",
        "outputId": "6fe9d64c-3e33-4895-9ba8-edddf2ed05f2"
      },
      "outputs": [
        {
          "data": {
            "text/plain": [
              "['Thursday', 'Friday', 'Saturday', 'Sunday']"
            ]
          },
          "execution_count": 39,
          "metadata": {},
          "output_type": "execute_result"
        }
      ],
      "source": [
        "days_of_the_week[3:]"
      ]
    },
    {
      "cell_type": "markdown",
      "metadata": {
        "id": "ElMuNoiN8_fm"
      },
      "source": [
        "*contar para trás*"
      ]
    },
    {
      "cell_type": "code",
      "execution_count": 40,
      "metadata": {
        "colab": {
          "base_uri": "https://localhost:8080/",
          "height": 34
        },
        "id": "OXNmUGIn8_fn",
        "outputId": "da6cfd01-4a3a-4749-8955-fd75fb2df69f"
      },
      "outputs": [
        {
          "data": {
            "text/plain": [
              "['Saturday', 'Sunday']"
            ]
          },
          "execution_count": 40,
          "metadata": {},
          "output_type": "execute_result"
        }
      ],
      "source": [
        "days_of_the_week[-2:]\n",
        "\n",
        "# basicamente recolheu os últimos dois últimos elementos"
      ]
    },
    {
      "cell_type": "code",
      "execution_count": 41,
      "metadata": {
        "colab": {
          "base_uri": "https://localhost:8080/",
          "height": 34
        },
        "id": "zC38ZwyM8_fq",
        "outputId": "b01ad52a-a436-4445-b7e7-890eaf1fae94",
        "scrolled": true
      },
      "outputs": [
        {
          "name": "stdout",
          "output_type": "stream",
          "text": [
            "['down', 'strange', 'bottom']\n"
          ]
        }
      ],
      "source": [
        "down_type_quarks = [\"down\",\"up\",\"strange\",\"charm\",\"bottom\",\"top\"][::2]\n",
        "print(down_type_quarks)\n",
        "\n",
        "#  o uso do '[::n]' após a apresentação de uma lista faz com que essa lista seja reformulada e só contenha\n",
        "# elementos distanciados 'n' elementos entre eles"
      ]
    },
    {
      "cell_type": "markdown",
      "metadata": {
        "id": "Z-94iT4q8_fr"
      },
      "source": [
        "*List comprehensions*"
      ]
    },
    {
      "cell_type": "code",
      "execution_count": 42,
      "metadata": {
        "colab": {
          "base_uri": "https://localhost:8080/",
          "height": 34
        },
        "id": "h8z1H2Bs8_fs",
        "outputId": "54e6c6c5-21ab-4706-b5d9-65e0c0486713",
        "scrolled": true
      },
      "outputs": [
        {
          "name": "stdout",
          "output_type": "stream",
          "text": [
            "[0, 2, 4, 6, 8, 10, 12, 14, 16, 18]\n"
          ]
        }
      ],
      "source": [
        "even = [i for i in range(20) if i%2 == 0]\n",
        "# a equação i%2 fornece como resultado o resto da divisão i/2\n",
        "print(even)"
      ]
    },
    {
      "cell_type": "code",
      "execution_count": 43,
      "metadata": {
        "colab": {
          "base_uri": "https://localhost:8080/"
        },
        "id": "pZEpgm1M8_fv",
        "outputId": "13c21adb-cf7e-496f-9bb0-fddb234e31f8"
      },
      "outputs": [
        {
          "name": "stdout",
          "output_type": "stream",
          "text": [
            "['Monday', 'Tuesday', 'Wednesday', 'Thursday', 'Friday', 'Saturday', 'Sunday']\n",
            "['Monnight', 'Tuesnight', 'Wednesnight', 'Thursnight', 'Frinight', 'Saturnight', 'Sunnight']\n"
          ]
        }
      ],
      "source": [
        "print(days_of_the_week)\n",
        "nights_of_the_week = [day.replace(\"day\",\"night\") for day in days_of_the_week]\n",
        "print(nights_of_the_week)"
      ]
    },
    {
      "cell_type": "markdown",
      "metadata": {
        "id": "NeI4_utk8_fy"
      },
      "source": [
        "## Dictionaries"
      ]
    },
    {
      "cell_type": "code",
      "execution_count": 44,
      "metadata": {
        "id": "dJy02YZS8_fy"
      },
      "outputs": [],
      "source": [
        "boson_masses = {\n",
        "    \"W\" : 80,\n",
        "    \"Z\" : 91,\n",
        "    \"Photon\" : 0,\n",
        "    \"Gluon\" : 0,\n",
        "    \"Higgs\" : 125,\n",
        "}"
      ]
    },
    {
      "cell_type": "code",
      "execution_count": 45,
      "metadata": {
        "colab": {
          "base_uri": "https://localhost:8080/"
        },
        "id": "ycbMgtbm8_f1",
        "outputId": "a0b0a06f-a597-46bf-85c9-4747ef1788f1"
      },
      "outputs": [
        {
          "data": {
            "text/plain": [
              "125"
            ]
          },
          "execution_count": 45,
          "metadata": {},
          "output_type": "execute_result"
        }
      ],
      "source": [
        "boson_masses[\"Higgs\"]"
      ]
    },
    {
      "cell_type": "code",
      "execution_count": 46,
      "metadata": {
        "colab": {
          "base_uri": "https://localhost:8080/",
          "height": 34
        },
        "id": "HlKPx4268_f2",
        "outputId": "143da637-7ff0-4c29-8e1b-a6f0d353312c"
      },
      "outputs": [
        {
          "data": {
            "text/plain": [
              "False"
            ]
          },
          "execution_count": 46,
          "metadata": {},
          "output_type": "execute_result"
        }
      ],
      "source": [
        "boson_masses[\"Higgs\"] < boson_masses[\"W\"]"
      ]
    },
    {
      "cell_type": "code",
      "execution_count": 47,
      "metadata": {},
      "outputs": [
        {
          "name": "stdout",
          "output_type": "stream",
          "text": [
            "dict_items([('W', 80), ('Z', 91), ('Photon', 0), ('Gluon', 0), ('Higgs', 125)])\n"
          ]
        }
      ],
      "source": [
        "print(boson_masses.items())"
      ]
    },
    {
      "cell_type": "code",
      "execution_count": 48,
      "metadata": {
        "colab": {
          "base_uri": "https://localhost:8080/",
          "height": 104
        },
        "id": "BZnCVwFe8_f5",
        "outputId": "5ee19e7c-617d-45ae-d581-2062c361c0f2"
      },
      "outputs": [
        {
          "name": "stdout",
          "output_type": "stream",
          "text": [
            "W has a mass of 80 GeV\n",
            "Z has a mass of 91 GeV\n",
            "Photon has a mass of 0 GeV\n",
            "Gluon has a mass of 0 GeV\n",
            "Higgs has a mass of 125 GeV\n"
          ]
        }
      ],
      "source": [
        "for boson, mass in boson_masses.items():\n",
        "    print(\"{} has a mass of {} GeV\".format(boson,mass))"
      ]
    },
    {
      "cell_type": "code",
      "execution_count": 49,
      "metadata": {
        "colab": {
          "base_uri": "https://localhost:8080/",
          "height": 52
        },
        "id": "oODrjUQL8_f7",
        "outputId": "eeae4910-29ef-4d36-974b-40ee376b6445"
      },
      "outputs": [
        {
          "name": "stdout",
          "output_type": "stream",
          "text": [
            "dict_keys(['W', 'Z', 'Photon', 'Gluon', 'Higgs'])\n",
            "dict_values([80, 91, 0, 0, 125])\n"
          ]
        }
      ],
      "source": [
        "print(boson_masses.keys())\n",
        "# a expressão '.keys()' retorna os objetos do dicionário \n",
        "print(boson_masses.values())\n",
        "# a expressão 'values()' retorna as imagens do dicionário"
      ]
    },
    {
      "cell_type": "markdown",
      "metadata": {
        "id": "NVvFO9RD8_f9"
      },
      "source": [
        "## Booleans"
      ]
    },
    {
      "cell_type": "code",
      "execution_count": 50,
      "metadata": {
        "colab": {
          "base_uri": "https://localhost:8080/",
          "height": 34
        },
        "id": "sNiT_jxZ8_f9",
        "outputId": "9d8ed091-3214-49ec-971f-0ad265489cd5"
      },
      "outputs": [
        {
          "data": {
            "text/plain": [
              "False"
            ]
          },
          "execution_count": 50,
          "metadata": {},
          "output_type": "execute_result"
        }
      ],
      "source": [
        "1 == 2\n",
        "# como tem dois '=' então está a pedir um resultado boleano"
      ]
    },
    {
      "cell_type": "code",
      "execution_count": 51,
      "metadata": {
        "colab": {
          "base_uri": "https://localhost:8080/",
          "height": 34
        },
        "id": "PHsWdpOG8_f_",
        "outputId": "0ff14214-d87d-4ab1-ae30-8111b8c6103f"
      },
      "outputs": [
        {
          "data": {
            "text/plain": [
              "True"
            ]
          },
          "execution_count": 51,
          "metadata": {},
          "output_type": "execute_result"
        }
      ],
      "source": [
        "50 == 2*25"
      ]
    },
    {
      "cell_type": "code",
      "execution_count": 52,
      "metadata": {
        "colab": {
          "base_uri": "https://localhost:8080/",
          "height": 34
        },
        "id": "eTPIVX__8_gC",
        "outputId": "7661f5ba-c296-4142-ed1e-e8c03445872b"
      },
      "outputs": [
        {
          "data": {
            "text/plain": [
              "True"
            ]
          },
          "execution_count": 52,
          "metadata": {},
          "output_type": "execute_result"
        }
      ],
      "source": [
        "3 < 3.14159"
      ]
    },
    {
      "cell_type": "markdown",
      "metadata": {},
      "source": [
        "podemos recorrer ao 'pi' para obter o valor do pi mais preciso (podemos fazer isto porque fizemos \" from math import * \" numa célula atrás)"
      ]
    },
    {
      "cell_type": "code",
      "execution_count": 53,
      "metadata": {},
      "outputs": [
        {
          "name": "stdout",
          "output_type": "stream",
          "text": [
            "3.141592653589793\n"
          ]
        },
        {
          "data": {
            "text/plain": [
              "True"
            ]
          },
          "execution_count": 53,
          "metadata": {},
          "output_type": "execute_result"
        }
      ],
      "source": [
        "print(pi)\n",
        "3 < pi"
      ]
    },
    {
      "cell_type": "code",
      "execution_count": 54,
      "metadata": {
        "colab": {
          "base_uri": "https://localhost:8080/"
        },
        "id": "GjFD50UP8_gF",
        "outputId": "fbb5a56a-1980-4eee-9956-8cad329bd0f8"
      },
      "outputs": [
        {
          "data": {
            "text/plain": [
              "True"
            ]
          },
          "execution_count": 54,
          "metadata": {},
          "output_type": "execute_result"
        }
      ],
      "source": [
        "1 == 1.0\n",
        "\n",
        "# expressão boleana não liga se os números são inteiros ou decimais"
      ]
    },
    {
      "cell_type": "code",
      "execution_count": 55,
      "metadata": {
        "colab": {
          "base_uri": "https://localhost:8080/",
          "height": 34
        },
        "id": "xvIg9d-P8_gH",
        "outputId": "eabe953a-1bf2-4dd3-d72d-acf49ddc17f3"
      },
      "outputs": [
        {
          "data": {
            "text/plain": [
              "True"
            ]
          },
          "execution_count": 55,
          "metadata": {},
          "output_type": "execute_result"
        }
      ],
      "source": [
        "1 != 0"
      ]
    },
    {
      "cell_type": "code",
      "execution_count": 56,
      "metadata": {
        "colab": {
          "base_uri": "https://localhost:8080/",
          "height": 34
        },
        "id": "f5wxzTb88_gJ",
        "outputId": "2f92bab5-bbd8-4d2d-95cb-6de3cc9f0d0e"
      },
      "outputs": [
        {
          "data": {
            "text/plain": [
              "True"
            ]
          },
          "execution_count": 56,
          "metadata": {},
          "output_type": "execute_result"
        }
      ],
      "source": [
        "1 <= 2"
      ]
    },
    {
      "cell_type": "code",
      "execution_count": 57,
      "metadata": {
        "colab": {
          "base_uri": "https://localhost:8080/",
          "height": 34
        },
        "id": "PH0G6DiI8_gL",
        "outputId": "e5000014-e861-499b-bf41-5fce7f762518"
      },
      "outputs": [
        {
          "data": {
            "text/plain": [
              "True"
            ]
          },
          "execution_count": 57,
          "metadata": {},
          "output_type": "execute_result"
        }
      ],
      "source": [
        "1 >= 1"
      ]
    },
    {
      "cell_type": "code",
      "execution_count": 58,
      "metadata": {
        "colab": {
          "base_uri": "https://localhost:8080/"
        },
        "id": "KxAVbiEi8_gO",
        "outputId": "bb2ee706-0f99-4c1e-dcf9-91a409856082"
      },
      "outputs": [
        {
          "name": "stderr",
          "output_type": "stream",
          "text": [
            "<>:1: SyntaxWarning: \"is\" with a literal. Did you mean \"==\"?\n",
            "<>:1: SyntaxWarning: \"is\" with a literal. Did you mean \"==\"?\n",
            "C:\\Users\\carlo\\AppData\\Local\\Temp/ipykernel_5056/3141815741.py:1: SyntaxWarning: \"is\" with a literal. Did you mean \"==\"?\n",
            "  1 is 1.0\n"
          ]
        },
        {
          "data": {
            "text/plain": [
              "False"
            ]
          },
          "execution_count": 58,
          "metadata": {},
          "output_type": "execute_result"
        }
      ],
      "source": [
        "1 is 1.0\n",
        "\n",
        "# neste caso, usando o 'is' o programa tem em conta se é inteiro ou decimal"
      ]
    },
    {
      "cell_type": "code",
      "execution_count": 59,
      "metadata": {
        "colab": {
          "base_uri": "https://localhost:8080/",
          "height": 34
        },
        "id": "JagG0FUo8_gQ",
        "outputId": "95b3c670-8e8a-4678-c400-9bbcf95d428b"
      },
      "outputs": [
        {
          "data": {
            "text/plain": [
              "False"
            ]
          },
          "execution_count": 59,
          "metadata": {},
          "output_type": "execute_result"
        }
      ],
      "source": [
        "[1,2,3] == [1,2,4]"
      ]
    },
    {
      "cell_type": "code",
      "execution_count": 60,
      "metadata": {},
      "outputs": [
        {
          "data": {
            "text/plain": [
              "False"
            ]
          },
          "execution_count": 60,
          "metadata": {},
          "output_type": "execute_result"
        }
      ],
      "source": [
        "[1,2,3] == [3,2,1]\n",
        "\n",
        "#   para duas listas serem iguais, não só têm que conter os mesmos elementos, como também estes têm que se \n",
        "# encontrar na mesma ordem"
      ]
    },
    {
      "cell_type": "code",
      "execution_count": 61,
      "metadata": {
        "colab": {
          "base_uri": "https://localhost:8080/",
          "height": 34
        },
        "id": "l8RORDRJ8_gT",
        "outputId": "eafe5115-9afe-476c-c57f-bea419f58f8c"
      },
      "outputs": [
        {
          "data": {
            "text/plain": [
              "True"
            ]
          },
          "execution_count": 61,
          "metadata": {},
          "output_type": "execute_result"
        }
      ],
      "source": [
        "[1,2,3] < [1,2,4]\n",
        "\n",
        "# neste caso, o programa meio que soma os elementos das listas e compara a soma de cada lista "
      ]
    },
    {
      "cell_type": "code",
      "execution_count": 62,
      "metadata": {
        "colab": {
          "base_uri": "https://localhost:8080/",
          "height": 34
        },
        "id": "qqBRQR1u8_gV",
        "outputId": "29343b2b-16d4-4393-acb0-6eb01d61f685"
      },
      "outputs": [
        {
          "data": {
            "text/plain": [
              "True"
            ]
          },
          "execution_count": 62,
          "metadata": {},
          "output_type": "execute_result"
        }
      ],
      "source": [
        "hours = 5\n",
        "0 < hours < 24"
      ]
    },
    {
      "cell_type": "code",
      "execution_count": 63,
      "metadata": {
        "colab": {
          "base_uri": "https://localhost:8080/"
        },
        "id": "K9G9LJ-F8_gX",
        "outputId": "2ceeabeb-04ff-4526-952f-e833a2657049"
      },
      "outputs": [
        {
          "data": {
            "text/plain": [
              "True"
            ]
          },
          "execution_count": 63,
          "metadata": {},
          "output_type": "execute_result"
        }
      ],
      "source": [
        "bool(2)"
      ]
    },
    {
      "cell_type": "code",
      "execution_count": 64,
      "metadata": {
        "colab": {
          "base_uri": "https://localhost:8080/"
        },
        "id": "Bwzvpwyz8_gZ",
        "outputId": "ba2266a0-5a93-47bd-8f9e-817026760e18"
      },
      "outputs": [
        {
          "data": {
            "text/plain": [
              "False"
            ]
          },
          "execution_count": 64,
          "metadata": {},
          "output_type": "execute_result"
        }
      ],
      "source": [
        "bool(0)"
      ]
    },
    {
      "cell_type": "code",
      "execution_count": 65,
      "metadata": {},
      "outputs": [
        {
          "data": {
            "text/plain": [
              "True"
            ]
          },
          "execution_count": 65,
          "metadata": {},
          "output_type": "execute_result"
        }
      ],
      "source": [
        "bool(1)\n",
        "\n",
        "# com isto conclui-se que apenas '0' retornará 'False', enquanto os restantes retornam 'True'"
      ]
    },
    {
      "cell_type": "code",
      "execution_count": 66,
      "metadata": {
        "colab": {
          "base_uri": "https://localhost:8080/"
        },
        "id": "8WM4eJS08_gc",
        "outputId": "300dfef8-5825-474e-cc1d-a3102fd16599"
      },
      "outputs": [
        {
          "data": {
            "text/plain": [
              "True"
            ]
          },
          "execution_count": 66,
          "metadata": {},
          "output_type": "execute_result"
        }
      ],
      "source": [
        "1 == True"
      ]
    },
    {
      "cell_type": "code",
      "execution_count": 67,
      "metadata": {
        "colab": {
          "base_uri": "https://localhost:8080/"
        },
        "id": "V3Vzbvg88_ge",
        "outputId": "7e41194a-d9d9-44f4-a04e-6167aa9a4b55"
      },
      "outputs": [
        {
          "data": {
            "text/plain": [
              "True"
            ]
          },
          "execution_count": 67,
          "metadata": {},
          "output_type": "execute_result"
        }
      ],
      "source": [
        "0 == False"
      ]
    },
    {
      "cell_type": "markdown",
      "metadata": {
        "id": "BKltwVZu8_gj"
      },
      "source": [
        "## Functions\n",
        "**O seu uso é fundamental: boa prática de programação**"
      ]
    },
    {
      "cell_type": "code",
      "execution_count": 68,
      "metadata": {
        "id": "ZrFLHYOf8_gj"
      },
      "outputs": [],
      "source": [
        "def fibonacci(sequence_length):\n",
        "    sequence = [0,1]\n",
        "    if sequence_length < 1:\n",
        "        print(\"Fibonacci sequence undefined for this lenght\")\n",
        "        return\n",
        "    if sequence_length < 3:\n",
        "        return sequence[:sequence_length]\n",
        "    for i in range(2,sequence_length): \n",
        "        sequence.append(sequence[i-1]+sequence[i-2])\n",
        "    return sequence"
      ]
    },
    {
      "cell_type": "code",
      "execution_count": 69,
      "metadata": {
        "colab": {
          "base_uri": "https://localhost:8080/"
        },
        "id": "ZXd7Xgy38_gk",
        "outputId": "9ba809fb-69cd-4d98-9c0e-a702e75feae9"
      },
      "outputs": [
        {
          "data": {
            "text/plain": [
              "[0, 1]"
            ]
          },
          "execution_count": 69,
          "metadata": {},
          "output_type": "execute_result"
        }
      ],
      "source": [
        "fibonacci(2)"
      ]
    },
    {
      "cell_type": "code",
      "execution_count": 70,
      "metadata": {
        "colab": {
          "base_uri": "https://localhost:8080/"
        },
        "id": "DgykrM2L8_gm",
        "outputId": "037e71c3-1b93-4c5f-e4fb-f492830e49bf"
      },
      "outputs": [
        {
          "data": {
            "text/plain": [
              "[0, 1, 1, 2, 3, 5, 8, 13, 21, 34, 55, 89]"
            ]
          },
          "execution_count": 70,
          "metadata": {},
          "output_type": "execute_result"
        }
      ],
      "source": [
        "fibonacci(12)"
      ]
    },
    {
      "cell_type": "markdown",
      "metadata": {
        "id": "roKckIAZ8_go"
      },
      "source": [
        "## Recursion"
      ]
    },
    {
      "cell_type": "code",
      "execution_count": 71,
      "metadata": {
        "id": "Fb1PdKfE8_gp"
      },
      "outputs": [],
      "source": [
        "def fact(n):\n",
        "    if n <= 0:\n",
        "        return 1\n",
        "    \n",
        "    #  A 'return 1' means that there is some error while executing the program and it is not performing\n",
        "    # what it was intended to do.\n",
        "\n",
        "    #  If 'return 0' if assign a value is 0 and the function will end when the return keyword \n",
        "    # and value is reached.\n",
        "        \n",
        "    return n*fact(n-1)"
      ]
    },
    {
      "cell_type": "code",
      "execution_count": 72,
      "metadata": {
        "colab": {
          "base_uri": "https://localhost:8080/",
          "height": 34
        },
        "id": "N6arbI1D8_gr",
        "outputId": "400c5718-5013-48f4-855d-f441bbc079b0"
      },
      "outputs": [
        {
          "data": {
            "text/plain": [
              "2432902008176640000"
            ]
          },
          "execution_count": 72,
          "metadata": {},
          "output_type": "execute_result"
        }
      ],
      "source": [
        "fact(20)"
      ]
    },
    {
      "cell_type": "code",
      "execution_count": 73,
      "metadata": {
        "colab": {
          "base_uri": "https://localhost:8080/",
          "height": 34
        },
        "id": "96MpoQVQ8_gt",
        "outputId": "d973f35c-262e-4fa0-9354-33c087ffde86"
      },
      "outputs": [
        {
          "data": {
            "text/plain": [
              "2432902008176640000"
            ]
          },
          "execution_count": 73,
          "metadata": {},
          "output_type": "execute_result"
        }
      ],
      "source": [
        "from math import factorial\n",
        "# com isto sabemos que a operação fatorial já se encontra predefinida na \n",
        "factorial(20)"
      ]
    },
    {
      "cell_type": "markdown",
      "metadata": {
        "id": "a3q-Y1Kd8_gv"
      },
      "source": [
        "## Plotting with Matplotlib"
      ]
    },
    {
      "cell_type": "code",
      "execution_count": 74,
      "metadata": {
        "id": "7GubNOOb8_gv"
      },
      "outputs": [
        {
          "name": "stdout",
          "output_type": "stream",
          "text": [
            "fibs = [0, 1, 1, 2, 3, 5, 8, 13, 21, 34]\n"
          ]
        }
      ],
      "source": [
        "fibs = fibonacci(10)\n",
        "\n",
        "print(f\"fibs = {fibs}\")"
      ]
    },
    {
      "cell_type": "code",
      "execution_count": 75,
      "metadata": {
        "id": "46L7uXjJ8_g5"
      },
      "outputs": [
        {
          "name": "stdout",
          "output_type": "stream",
          "text": [
            "facts = [1, 1, 1, 2, 6, 120, 40320, 6227020800, 51090942171709440000, 295232799039604140847618609643520000000]\n"
          ]
        }
      ],
      "source": [
        "facts = [factorial(fib) for fib in fibs]\n",
        "\n",
        "print(f\"facts = {facts}\")"
      ]
    },
    {
      "cell_type": "code",
      "execution_count": 76,
      "metadata": {
        "colab": {
          "base_uri": "https://localhost:8080/",
          "height": 307
        },
        "id": "CNOirFm_8_g7",
        "outputId": "8d396d91-58ea-408b-c468-46cfb337d24c"
      },
      "outputs": [
        {
          "data": {
            "text/plain": [
              "<matplotlib.legend.Legend at 0x1f2e43f3a00>"
            ]
          },
          "execution_count": 76,
          "metadata": {},
          "output_type": "execute_result"
        },
        {
          "data": {
            "image/png": "[encoded data removed]",
            "text/plain": [
              "<Figure size 432x288 with 1 Axes>"
            ]
          },
          "metadata": {
            "needs_background": "light"
          },
          "output_type": "display_data"
        }
      ],
      "source": [
        "import matplotlib.pyplot as plt\n",
        "# neste caso só importa o objeto 'plt' da biblioteca\n",
        "plt.plot(facts,label=\"factorial\")\n",
        "plt.plot(fibs,label=\"Fibonacci\")\n",
        "plt.xlabel(\"n\")\n",
        "# se quisesse adicionar decrição ao eixo y fazia ' plt.ylabel(\"value\") '\n",
        "plt.legend()"
      ]
    },
    {
      "cell_type": "code",
      "execution_count": 77,
      "metadata": {
        "colab": {
          "base_uri": "https://localhost:8080/",
          "height": 296
        },
        "id": "IqRMBWMY8_g-",
        "outputId": "4c4df7f3-2555-48e3-f69a-f67adf04cdc5"
      },
      "outputs": [
        {
          "data": {
            "text/plain": [
              "<matplotlib.legend.Legend at 0x1f2ec56dfa0>"
            ]
          },
          "execution_count": 77,
          "metadata": {},
          "output_type": "execute_result"
        },
        {
          "data": {
            "image/png": "[encoded data removed]",
            "text/plain": [
              "<Figure size 432x288 with 1 Axes>"
            ]
          },
          "metadata": {
            "needs_background": "light"
          },
          "output_type": "display_data"
        }
      ],
      "source": [
        "plt.plot(facts,label=\"factorial\")\n",
        "plt.plot(fibs,label=\"Fibonacci\")\n",
        "plt.yscale('log')\n",
        "# com a linha acima, alterou a escala do eixo dos y's para escala logaritmica\n",
        "plt.xlabel(\"n\")\n",
        "plt.legend()"
      ]
    },
    {
      "cell_type": "markdown",
      "metadata": {
        "id": "vP6SYeTo8_hA"
      },
      "source": [
        "# II. Numpy and Scipy"
      ]
    },
    {
      "cell_type": "markdown",
      "metadata": {},
      "source": [
        "O NumPy é uma poderosa biblioteca Python que é usada principalmente para realizar cálculos em Arrays Multidimensionais."
      ]
    },
    {
      "cell_type": "code",
      "execution_count": 78,
      "metadata": {
        "id": "Y4CHYkb28_hB"
      },
      "outputs": [],
      "source": [
        "import numpy as np"
      ]
    },
    {
      "cell_type": "code",
      "execution_count": 79,
      "metadata": {
        "colab": {
          "base_uri": "https://localhost:8080/"
        },
        "id": "urxXnPAx8_hE",
        "outputId": "a67e29af-65f3-4a4b-db40-6ec8e65bb4a4"
      },
      "outputs": [
        {
          "data": {
            "text/plain": [
              "array([1, 2, 3, 4, 5, 6])"
            ]
          },
          "execution_count": 79,
          "metadata": {},
          "output_type": "execute_result"
        }
      ],
      "source": [
        "np.array([1,2,3,4,5,6])"
      ]
    },
    {
      "cell_type": "code",
      "execution_count": 80,
      "metadata": {},
      "outputs": [
        {
          "name": "stdout",
          "output_type": "stream",
          "text": [
            "my_array = \n",
            " [1 2 3 4 5 6]\n",
            "shape = (6,)\n"
          ]
        }
      ],
      "source": [
        "my_array = np.array([1, 2, 3, 4, 5,6])\n",
        "print(f\"my_array = \\n {my_array}\")\n",
        "print(f\"shape = {my_array.shape}\")\n",
        "\n",
        "# '.shape' imprime a forma da array criada "
      ]
    },
    {
      "cell_type": "markdown",
      "metadata": {},
      "source": [
        "**O resultado acima indica que se trata de um array com 5 elementos. o uso de '.shape' retorna uma tupla que consiste nas dimensões da Array, mostrando quantas linhas e colunas temos. Como definimos uma array unidimensional, foi nos apresentado apenas os 5 elementos.**\n",
        "\n",
        "**Caso pretendessemos um Array bidimensional, teriamos o seguinte:**"
      ]
    },
    {
      "cell_type": "code",
      "execution_count": 81,
      "metadata": {},
      "outputs": [
        {
          "name": "stdout",
          "output_type": "stream",
          "text": [
            "my_bdarray = \n",
            " [[1 2 3 4 5]\n",
            " [1 2 3 4 5]]\n",
            "(2, 5)\n"
          ]
        }
      ],
      "source": [
        "my_bdarray = np.array([[1, 2, 3, 4, 5], [1, 2, 3, 4, 5]]) \n",
        "\n",
        "print(f\"my_bdarray = \\n {my_bdarray}\")\n",
        "print(my_bdarray.shape)"
      ]
    },
    {
      "cell_type": "markdown",
      "metadata": {},
      "source": [
        "**Agora ele retorna mostrando que temos 2 dimensões com 5 elementos.**"
      ]
    },
    {
      "cell_type": "code",
      "execution_count": 82,
      "metadata": {},
      "outputs": [
        {
          "name": "stdout",
          "output_type": "stream",
          "text": [
            "new_array = \n",
            " [[1 2]\n",
            " [3 4]\n",
            " [5 6]]\n",
            "shape = (3, 2)\n"
          ]
        }
      ],
      "source": [
        "new_array = my_array.reshape((3,2))\n",
        "\n",
        "# com o '.reshape((n,m))' podemos reestruturar um array para que contenha 'n' dimensões com 'm' elementos cada\n",
        "\n",
        "print(f\"new_array = \\n {new_array}\")\n",
        "print(f\"shape = {new_array.shape}\")"
      ]
    },
    {
      "cell_type": "markdown",
      "metadata": {
        "id": "-G7Km-f_8_hI"
      },
      "source": [
        "'d' (double precision floating point number), 'D' (double precision complex number), and 'i' (int32)"
      ]
    },
    {
      "cell_type": "code",
      "execution_count": 83,
      "metadata": {
        "colab": {
          "base_uri": "https://localhost:8080/",
          "height": 34
        },
        "id": "vWaueb0Y8_hI",
        "outputId": "b30c7099-66ff-4f90-c5f1-21cb3c87507f"
      },
      "outputs": [
        {
          "data": {
            "text/plain": [
              "array([1., 2., 3., 4., 5., 6.])"
            ]
          },
          "execution_count": 83,
          "metadata": {},
          "output_type": "execute_result"
        }
      ],
      "source": [
        "np.array([1,2,3,4,5,6],'d')\n",
        "# o 'd' indica que é do tipo double"
      ]
    },
    {
      "cell_type": "code",
      "execution_count": 84,
      "metadata": {
        "colab": {
          "base_uri": "https://localhost:8080/",
          "height": 34
        },
        "id": "iBedghmx8_hK",
        "outputId": "1090b222-766a-4045-bf92-d31fa4aa9b68"
      },
      "outputs": [
        {
          "data": {
            "text/plain": [
              "array([1.+0.j, 2.+0.j, 3.+0.j, 4.+0.j, 5.+0.j, 6.+0.j])"
            ]
          },
          "execution_count": 84,
          "metadata": {},
          "output_type": "execute_result"
        }
      ],
      "source": [
        "np.array([1,2,3,4,5,6],'D')"
      ]
    },
    {
      "cell_type": "code",
      "execution_count": 85,
      "metadata": {
        "colab": {
          "base_uri": "https://localhost:8080/",
          "height": 34
        },
        "id": "qejmOa7e8_hM",
        "outputId": "aed27b89-d92b-43c4-954a-44c805c05732"
      },
      "outputs": [
        {
          "data": {
            "text/plain": [
              "array([1, 2, 3, 4, 5, 6], dtype=int32)"
            ]
          },
          "execution_count": 85,
          "metadata": {},
          "output_type": "execute_result"
        }
      ],
      "source": [
        "np.array([1.8,2.0,3.0,4.0,5.0,6.0],'i')\n",
        "# (?) torna todos os elementos em numeros inteiros, desprezando (sem arredondamentos) as partes decimais"
      ]
    },
    {
      "cell_type": "code",
      "execution_count": 86,
      "metadata": {
        "colab": {
          "base_uri": "https://localhost:8080/",
          "height": 52
        },
        "id": "qfnKEEJd8_hO",
        "outputId": "ad114378-f2f7-49b1-abfa-e1a4b7c67643"
      },
      "outputs": [
        {
          "data": {
            "text/plain": [
              "array([[0., 1.],\n",
              "       [1., 0.]])"
            ]
          },
          "execution_count": 86,
          "metadata": {},
          "output_type": "execute_result"
        }
      ],
      "source": [
        "np.array([[0,1],[1,0]],'d')"
      ]
    },
    {
      "cell_type": "code",
      "execution_count": 87,
      "metadata": {
        "colab": {
          "base_uri": "https://localhost:8080/",
          "height": 69
        },
        "id": "D_aQfqwF8_hP",
        "outputId": "5978da65-5e61-449f-8af7-530e74a1300d"
      },
      "outputs": [
        {
          "data": {
            "text/plain": [
              "array([[0., 0., 0.],\n",
              "       [0., 0., 0.],\n",
              "       [0., 0., 0.]])"
            ]
          },
          "execution_count": 87,
          "metadata": {},
          "output_type": "execute_result"
        }
      ],
      "source": [
        "np.zeros((3,3),'d')\n",
        "\n",
        "# '.zeros((n,m),c)' cria um array de 'n' dimensoes com 'm' elementos cada, do tipo 'c', completa com 0's."
      ]
    },
    {
      "cell_type": "code",
      "execution_count": 88,
      "metadata": {},
      "outputs": [
        {
          "data": {
            "text/plain": [
              "array([[1., 1., 1.],\n",
              "       [1., 1., 1.],\n",
              "       [1., 1., 1.]])"
            ]
          },
          "execution_count": 88,
          "metadata": {},
          "output_type": "execute_result"
        }
      ],
      "source": [
        "# semelhante à expressão acima, temos a '.ones'\n",
        "\n",
        "np.ones((3,3),'d')\n"
      ]
    },
    {
      "cell_type": "code",
      "execution_count": 89,
      "metadata": {
        "colab": {
          "base_uri": "https://localhost:8080/",
          "height": 34
        },
        "id": "ZOfK5wlG8_hR",
        "outputId": "13aa511c-bdc7-4534-f598-2315eae7993b"
      },
      "outputs": [
        {
          "data": {
            "text/plain": [
              "array([[0., 0., 0.]])"
            ]
          },
          "execution_count": 89,
          "metadata": {},
          "output_type": "execute_result"
        }
      ],
      "source": [
        "np.zeros((1,3),'d')"
      ]
    },
    {
      "cell_type": "code",
      "execution_count": 90,
      "metadata": {
        "colab": {
          "base_uri": "https://localhost:8080/",
          "height": 69
        },
        "id": "bYzG4YCa8_hT",
        "outputId": "d658c194-9c99-4139-a2b7-dc946306e601"
      },
      "outputs": [
        {
          "data": {
            "text/plain": [
              "array([[0.],\n",
              "       [0.],\n",
              "       [0.]])"
            ]
          },
          "execution_count": 90,
          "metadata": {},
          "output_type": "execute_result"
        }
      ],
      "source": [
        "np.zeros((3,1),'d')"
      ]
    },
    {
      "cell_type": "code",
      "execution_count": 91,
      "metadata": {
        "colab": {
          "base_uri": "https://localhost:8080/",
          "height": 86
        },
        "id": "_kPAb9I88_hU",
        "outputId": "cc1049e7-f127-4a13-976a-a150c33ef126"
      },
      "outputs": [
        {
          "data": {
            "text/plain": [
              "array([[1., 0., 0., 0.],\n",
              "       [0., 1., 0., 0.],\n",
              "       [0., 0., 1., 0.],\n",
              "       [0., 0., 0., 1.]])"
            ]
          },
          "execution_count": 91,
          "metadata": {},
          "output_type": "execute_result"
        }
      ],
      "source": [
        "np.identity(4,'d')\n",
        "\n",
        "#   '.identity(m, c)' cria um array de 'm' dimensões de identidade (diagonal composta por 1's e resto por 0's),\n",
        "# composta por elementos do tipo 'd'"
      ]
    },
    {
      "cell_type": "code",
      "execution_count": 92,
      "metadata": {
        "colab": {
          "base_uri": "https://localhost:8080/"
        },
        "id": "Oln9Ff5C8_hW",
        "outputId": "8543a15b-ad60-4d51-f38e-3bf88fc913c4"
      },
      "outputs": [
        {
          "data": {
            "text/plain": [
              "array([0.        , 0.02040816, 0.04081633, 0.06122449, 0.08163265,\n",
              "       0.10204082, 0.12244898, 0.14285714, 0.16326531, 0.18367347,\n",
              "       0.20408163, 0.2244898 , 0.24489796, 0.26530612, 0.28571429,\n",
              "       0.30612245, 0.32653061, 0.34693878, 0.36734694, 0.3877551 ,\n",
              "       0.40816327, 0.42857143, 0.44897959, 0.46938776, 0.48979592,\n",
              "       0.51020408, 0.53061224, 0.55102041, 0.57142857, 0.59183673,\n",
              "       0.6122449 , 0.63265306, 0.65306122, 0.67346939, 0.69387755,\n",
              "       0.71428571, 0.73469388, 0.75510204, 0.7755102 , 0.79591837,\n",
              "       0.81632653, 0.83673469, 0.85714286, 0.87755102, 0.89795918,\n",
              "       0.91836735, 0.93877551, 0.95918367, 0.97959184, 1.        ])"
            ]
          },
          "execution_count": 92,
          "metadata": {},
          "output_type": "execute_result"
        }
      ],
      "source": [
        "np.linspace(0,1)\n",
        "\n",
        "#   '.linspace(s,p,n) retorna um array de 'n' numeros (se n nao for definido, por definição são criados 50 elementos)\n",
        "# espaçados uniformemente entre 's' e 'p', inclusive (tbm podemos definir que não queremos que 'p' seja o último, para\n",
        "# isso basta acrescentar ',False' dentro dos () )"
      ]
    },
    {
      "cell_type": "code",
      "execution_count": 93,
      "metadata": {
        "colab": {
          "base_uri": "https://localhost:8080/",
          "height": 34
        },
        "id": "izxWNKfL8_hY",
        "outputId": "0fdd06c8-336c-4fb0-9d20-e4758bda1aab"
      },
      "outputs": [
        {
          "data": {
            "text/plain": [
              "array([0. , 0.1, 0.2, 0.3, 0.4, 0.5, 0.6, 0.7, 0.8, 0.9, 1. ])"
            ]
          },
          "execution_count": 93,
          "metadata": {},
          "output_type": "execute_result"
        }
      ],
      "source": [
        "np.linspace(0,1,11)"
      ]
    },
    {
      "cell_type": "code",
      "execution_count": 94,
      "metadata": {},
      "outputs": [
        {
          "data": {
            "text/plain": [
              "array([0. , 0.1, 0.2, 0.3, 0.4, 0.5, 0.6, 0.7, 0.8, 0.9])"
            ]
          },
          "execution_count": 94,
          "metadata": {},
          "output_type": "execute_result"
        }
      ],
      "source": [
        "np.linspace(0,1,10,False)"
      ]
    },
    {
      "cell_type": "code",
      "execution_count": 95,
      "metadata": {
        "colab": {
          "base_uri": "https://localhost:8080/",
          "height": 243
        },
        "id": "wc3-6VX18_ha",
        "outputId": "38d3e29e-bbd6-4434-ccb1-3c012d0314ef"
      },
      "outputs": [
        {
          "data": {
            "text/plain": [
              "array([ 0.00000000e+00,  1.27877162e-01,  2.53654584e-01,  3.75267005e-01,\n",
              "        4.90717552e-01,  5.98110530e-01,  6.95682551e-01,  7.81831482e-01,\n",
              "        8.55142763e-01,  9.14412623e-01,  9.58667853e-01,  9.87181783e-01,\n",
              "        9.99486216e-01,  9.95379113e-01,  9.74927912e-01,  9.38468422e-01,\n",
              "        8.86599306e-01,  8.20172255e-01,  7.40277997e-01,  6.48228395e-01,\n",
              "        5.45534901e-01,  4.33883739e-01,  3.15108218e-01,  1.91158629e-01,\n",
              "        6.40702200e-02, -6.40702200e-02, -1.91158629e-01, -3.15108218e-01,\n",
              "       -4.33883739e-01, -5.45534901e-01, -6.48228395e-01, -7.40277997e-01,\n",
              "       -8.20172255e-01, -8.86599306e-01, -9.38468422e-01, -9.74927912e-01,\n",
              "       -9.95379113e-01, -9.99486216e-01, -9.87181783e-01, -9.58667853e-01,\n",
              "       -9.14412623e-01, -8.55142763e-01, -7.81831482e-01, -6.95682551e-01,\n",
              "       -5.98110530e-01, -4.90717552e-01, -3.75267005e-01, -2.53654584e-01,\n",
              "       -1.27877162e-01, -2.44929360e-16])"
            ]
          },
          "execution_count": 95,
          "metadata": {},
          "output_type": "execute_result"
        }
      ],
      "source": [
        "x = np.linspace(0,2* pi)\n",
        "np.sin(x)"
      ]
    },
    {
      "cell_type": "code",
      "execution_count": 96,
      "metadata": {
        "colab": {
          "base_uri": "https://localhost:8080/",
          "height": 282
        },
        "id": "pxxM66Qj8_hc",
        "outputId": "bcc35c8f-f971-4ccc-ba7e-a4c034d6c6b3"
      },
      "outputs": [
        {
          "data": {
            "text/plain": [
              "Text(0, 0.5, 'sen(x)')"
            ]
          },
          "execution_count": 96,
          "metadata": {},
          "output_type": "execute_result"
        },
        {
          "data": {
            "image/png": "[encoded data removed]",
            "text/plain": [
              "<Figure size 432x288 with 1 Axes>"
            ]
          },
          "metadata": {
            "needs_background": "light"
          },
          "output_type": "display_data"
        }
      ],
      "source": [
        "plt.plot(x,np.sin(x))\n",
        "plt.xlabel(\"x\")\n",
        "plt.ylabel(\"sen(x)\")"
      ]
    },
    {
      "cell_type": "markdown",
      "metadata": {
        "id": "JNEf0X6k8_hd"
      },
      "source": [
        "## Matrix operations"
      ]
    },
    {
      "cell_type": "markdown",
      "metadata": {
        "id": "pfT5aGoF8_hd"
      },
      "source": [
        "*Multiplicação por um escalar*\n",
        "\n"
      ]
    },
    {
      "cell_type": "code",
      "execution_count": 97,
      "metadata": {
        "colab": {
          "base_uri": "https://localhost:8080/",
          "height": 69
        },
        "id": "fx654o868_he",
        "outputId": "82b47d15-9d56-4824-b3bb-d192e3cc494a"
      },
      "outputs": [
        {
          "data": {
            "text/plain": [
              "array([[0.5, 0. , 0. ],\n",
              "       [0. , 0.5, 0. ],\n",
              "       [0. , 0. , 0.5]])"
            ]
          },
          "execution_count": 97,
          "metadata": {},
          "output_type": "execute_result"
        }
      ],
      "source": [
        "0.5*np.identity(3,'d')"
      ]
    },
    {
      "cell_type": "markdown",
      "metadata": {
        "id": "VV0AQQf-8_hh"
      },
      "source": [
        "*Soma de matrizes*"
      ]
    },
    {
      "cell_type": "code",
      "execution_count": 98,
      "metadata": {
        "colab": {
          "base_uri": "https://localhost:8080/",
          "height": 52
        },
        "id": "Z4BLoyv08_hh",
        "outputId": "bc374027-2766-425d-c153-d6e0bfecfe3e"
      },
      "outputs": [
        {
          "data": {
            "text/plain": [
              "array([[2., 1.],\n",
              "       [1., 3.]])"
            ]
          },
          "execution_count": 98,
          "metadata": {},
          "output_type": "execute_result"
        }
      ],
      "source": [
        "np.identity(2,'d') + np.array([[1,1],[1,2]])"
      ]
    },
    {
      "cell_type": "markdown",
      "metadata": {
        "id": "DzQWdehH8_hi"
      },
      "source": [
        "*Multiplicação elemento a elemento*"
      ]
    },
    {
      "cell_type": "code",
      "execution_count": 99,
      "metadata": {
        "colab": {
          "base_uri": "https://localhost:8080/",
          "height": 52
        },
        "id": "P_FUsevq8_hj",
        "outputId": "c00a7e8e-ddb9-47bc-c908-e65acb23ade7"
      },
      "outputs": [
        {
          "data": {
            "text/plain": [
              "array([[1., 0.],\n",
              "       [0., 1.]])"
            ]
          },
          "execution_count": 99,
          "metadata": {},
          "output_type": "execute_result"
        }
      ],
      "source": [
        "np.identity(2)*np.ones((2,2))"
      ]
    },
    {
      "cell_type": "markdown",
      "metadata": {
        "id": "1Qyf6Xkn8_hk"
      },
      "source": [
        "*Multiplicação matricial*"
      ]
    },
    {
      "cell_type": "code",
      "execution_count": 100,
      "metadata": {
        "colab": {
          "base_uri": "https://localhost:8080/",
          "height": 52
        },
        "id": "44PtZSeJ8_hl",
        "outputId": "8957c7b9-3841-4fe3-f197-d9e813b04c18"
      },
      "outputs": [
        {
          "data": {
            "text/plain": [
              "array([[1., 1.],\n",
              "       [1., 1.]])"
            ]
          },
          "execution_count": 100,
          "metadata": {},
          "output_type": "execute_result"
        }
      ],
      "source": [
        "np.dot(np.identity(2),np.ones((2,2)))\n",
        "\n",
        "#   a diferença entre este e o anterior é a existencia do '.dot(a,b)', responsavel por realizar a multiplicação das\n",
        "# duas matrizes 'a' e 'b'"
      ]
    },
    {
      "cell_type": "markdown",
      "metadata": {
        "id": "O3fbfmol8_hm"
      },
      "source": [
        "**dot** can also do dot products (duh!):"
      ]
    },
    {
      "cell_type": "markdown",
      "metadata": {
        "id": "P457CUC-8_hm"
      },
      "source": [
        "Também há **determinant**, **inverse** e **transpose**.\n",
        "\n",
        "Para a transposição pode-se também usar \".T\" no final de um objecto matriz."
      ]
    },
    {
      "cell_type": "code",
      "execution_count": 103,
      "metadata": {
        "colab": {
          "base_uri": "https://localhost:8080/",
          "height": 139
        },
        "id": "RMa8FxPb8_hm",
        "outputId": "ef17296a-8c71-43c0-8116-b102ba927c5b"
      },
      "outputs": [
        {
          "name": "stdout",
          "output_type": "stream",
          "text": [
            "[[1 3]\n",
            " [2 4]]\n",
            "-2.0000000000000004\n",
            "[[-2.   1. ]\n",
            " [ 1.5 -0.5]]\n",
            "[[1.00000000e+00 0.00000000e+00]\n",
            " [1.11022302e-16 1.00000000e+00]]\n"
          ]
        }
      ],
      "source": [
        "m = np.array([[1,2],[3,4]])\n",
        "\n",
        "print(m.T)\n",
        "\n",
        "print(np.linalg.det(m))\n",
        "\n",
        "print(np.linalg.inv(m))\n",
        "\n",
        "print(np.dot(np.linalg.inv(m),m))"
      ]
    },
    {
      "cell_type": "code",
      "execution_count": null,
      "metadata": {},
      "outputs": [],
      "source": []
    }
  ],
  "metadata": {
    "colab": {
      "collapsed_sections": [
        "18fqjoRP8_ei",
        "JPn1VX718_ei",
        "l0q_gI1s8_fF",
        "28CfMy508_fZ",
        "NeI4_utk8_fy",
        "NVvFO9RD8_f9",
        "BKltwVZu8_gj",
        "roKckIAZ8_go",
        "a3q-Y1Kd8_gv",
        "JNEf0X6k8_hd"
      ],
      "name": "Cópia de python_tutorial_solutions.ipynb",
      "provenance": []
    },
    "interpreter": {
      "hash": "321a562c32c1ef0f4d1bce6724f96cbf5562b75820608d2935414fe72bdf9c83"
    },
    "kernelspec": {
      "display_name": "Python 3.9.7 64-bit",
      "name": "python3"
    },
    "language_info": {
      "codemirror_mode": {
        "name": "ipython",
        "version": 3
      },
      "file_extension": ".py",
      "mimetype": "text/x-python",
      "name": "python",
      "nbconvert_exporter": "python",
      "pygments_lexer": "ipython3",
      "version": "3.9.7"
    }
  },
  "nbformat": 4,
  "nbformat_minor": 0
}
