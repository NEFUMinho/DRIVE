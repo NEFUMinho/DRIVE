{
  "cells": [
    {
      "cell_type": "markdown",
      "metadata": {
        "id": "uGvFbxrmM2z8"
      },
      "source": [
        "# <b> TPC - EXERCÍCIO 8 DA FOLHA 2 </b>\n",
        "\n",
        "## Física Computacional - PL 2\n",
        "\n",
        "## 01-11-2021\n",
        "\n",
        "<hr>\n",
        "\n",
        "Anabela Sampaio Pereira (a92849) \n",
        "\n",
        "Beatriz Sousa Demétrio (a92839)\n",
        "\n",
        "Carlos Miguel Passos Ferreira (a92846)\n",
        "\n"
      ]
    },
    {
      "cell_type": "markdown",
      "metadata": {
        "id": "47CYrk9QM20H"
      },
      "source": [
        "### ENUNCIADO : \n",
        "Implemente um código geral para resolver sistemas lineares de equações utilizando o método de eliminação de Gauss. \n",
        "Verifique o código comparando com a resolução analítica de:\n",
        "\n",
        "$ 3x + 2y = 5$ \n",
        "\n",
        "$ x + y = 3 $\n"
      ]
    },
    {
      "cell_type": "markdown",
      "metadata": {},
      "source": [
        "## RESOLUÇÃO:\n",
        "O objetivo deste exercício é implementar o método de eliminação de Gauss e testá-lo usando o exemplo em cima."
      ]
    },
    {
      "cell_type": "markdown",
      "metadata": {},
      "source": [
        "O método de eliminação de Gauss consiste em substituir o sistema linear inicial por sistemas cada vez mais simples, sempre \"equivalentes\" ao original, ou seja, faz isto transformando a matriz estendida do sistema numa matriz triangular superior. Ora, ele pode ser generalizado para resolver sistemas lineares de $m$ equações e $n$ incógnitas. "
      ]
    },
    {
      "cell_type": "markdown",
      "metadata": {},
      "source": [
        "Basicamente, aplicando o método de eliminação de Gauss vamos ter o seguinte:\n"
      ]
    },
    {
      "cell_type": "markdown",
      "metadata": {},
      "source": [
        "$\\begin{bmatrix} a_{11} & \\cdots & a_{1n} & b_1 \\\\ \\vdots & \\ddots & \\vdots & \\vdots \\\\ a_{m1} & \\cdots & a_{mn} & b_m \\\\ \\end{bmatrix}$\n",
        "aplicando o método de Gauss vamos ter a matriz seguinte: $\\begin{bmatrix} a_{11} & \\cdots & a_{1n} & b_1 \\\\ \\vdots & \\ddots & \\vdots & \\vdots \\\\ 0 & \\cdots & a'_{mn} & b'_m \\\\ \\end{bmatrix}$\n",
        "onde $ a'_{ij} = a_{ij} - \\frac{a_{i1}}{a_{11}} a_{1j} $ e $ b'_i = b_i - \\frac{a_{i1}}{a_{11}} b_1 $, sendo que $ i = 2, \\cdots , m $ e $ j = 2, \\cdots , m $.\n"
      ]
    },
    {
      "cell_type": "markdown",
      "metadata": {},
      "source": [
        "Antes de apresentarmos o código para a resolução do exercício, iremos proceder à resolução manual do exercício, isto é, iremos proceder à resolução do exercício explicando passo-a-passo para se entender melhor o código. Para fazer isto iremos utilizar o exemplo em cima."
      ]
    },
    {
      "cell_type": "markdown",
      "metadata": {},
      "source": [
        "### Exemplo:\n",
        "$ 3x + 2y = 5$ \n",
        "\n",
        "$ x + y = 3 $"
      ]
    },
    {
      "cell_type": "markdown",
      "metadata": {},
      "source": [
        "### <b> 1º Passo: </b> colocar o sistema linear inicial sobre a forma de uma matriz"
      ]
    },
    {
      "cell_type": "markdown",
      "metadata": {},
      "source": [
        "$\\begin{pmatrix} 3&2\\\\1&1\\end{pmatrix}$ $\\begin{pmatrix} x\\\\y \\end{pmatrix}$ $=$ $\\begin{pmatrix} 5\\\\3 \\end{pmatrix}$"
      ]
    },
    {
      "cell_type": "markdown",
      "metadata": {},
      "source": [
        "onde a matriz $\\begin{pmatrix} 3&2\\\\1&1\\end{pmatrix}$ é a matriz dos coeficientes, onde os seus elementos são designados de <b> elementos pivô </b>; a matriz $\\begin{pmatrix} x\\\\y \\end{pmatrix}$ é a matriz que contém as incógnitas correspondentes na qual nós chamamos de <b> variáveis pivô </b>. Às restantes variáveis designamos por <b> variáveis livres </b>."
      ]
    },
    {
      "cell_type": "markdown",
      "metadata": {},
      "source": [
        "Para ser mais fácil na resolução, iremos utilizar uma única matriz, isto é:"
      ]
    },
    {
      "cell_type": "markdown",
      "metadata": {},
      "source": [
        "$\\begin{bmatrix} 3&2&|&5\\\\1&1&|&3\\end{bmatrix}$"
      ]
    },
    {
      "cell_type": "markdown",
      "metadata": {},
      "source": [
        "### <b> 2º Passo: </b> determinar o determinante da matriz dos coeficientes"
      ]
    },
    {
      "cell_type": "markdown",
      "metadata": {},
      "source": [
        "Para podermos aplicar o método de eliminação de Gauss, temos que determinar o determinante da matriz dos coeficientes e verificar que o mesmo é diferente de zero. Ora vejamos se isso realmente se verifica:"
      ]
    },
    {
      "cell_type": "markdown",
      "metadata": {},
      "source": [
        "$\\begin{pmatrix} 3&2\\\\1&1\\end{pmatrix}$ tem como determinante: 3 $ \\times $ 1 - 1 $ \\times $ 2 = 1, que é diferente de 0. Logo, podemos aplicar o método de eliminação de Gauss."
      ]
    },
    {
      "cell_type": "markdown",
      "metadata": {},
      "source": [
        "### <b> 3º Passo: </b>  ir eliminando as incógnitas até à última equação do sistema tiver apenas uma incógnita, ou seja, tal como dissemos em cima, iremos substituir o sistema inicial por sistemas mais simples e equivalentes."
      ]
    },
    {
      "cell_type": "markdown",
      "metadata": {},
      "source": [
        "Dois sistemas dizem-se equivalentes se todas as soluções de um deles (e só essas) forem também soluções do outro. Temos três situações aonde isso pode acontecer:\n",
        "-   se um for obtido do outro por alteração da ordem de duas das suas equações:\n",
        "\n",
        "$L_i \\leftrightarrow L_j $\n",
        "\n",
        "NOTA: no caso de $a_{11} = 0$, deve-se trocar as linhas de forma a que o coeficiente da incógnita $x$ da nova 1ª equação seja diferente de zero.\n",
        "\n",
        "-  se um for obtido do outro por multiplicação de uma das suas equações por um escalar (diferente de zero):\n",
        "\n",
        "$L_i \\leftarrow \\alpha L_i $, onde $\\alpha \\ne 0$\n",
        "\n",
        "-   se a uma das suas equações for adicionado (ou subtraído) um múltiplo da outra equação:\n",
        "\n",
        "$L_i \\leftarrow L_i + \\alpha L_j $\n",
        "\n"
      ]
    },
    {
      "cell_type": "markdown",
      "metadata": {},
      "source": [
        "Portanto, aplicando estes três pontos vamos ter o seguinte:\n",
        "\n",
        "-  $\\begin{bmatrix} 3&2&|&5\\\\1&1&|&3\\end{bmatrix}$ $\\rightarrow$ $\\begin{bmatrix} 1&1&|&3\\\\3&2&|&5\\end{bmatrix}$\n",
        "($ L_1 \\leftrightarrow L_2 $)\n",
        "\n",
        "\n"
      ]
    },
    {
      "cell_type": "markdown",
      "metadata": {},
      "source": [
        "-  $\\begin{bmatrix} 1&1&|&3\\\\3&2&|&5\\end{bmatrix}$ $\\rightarrow$ $\\begin{bmatrix} 1&1&|&3\\\\0&-1&|&-4\\end{bmatrix}$\n",
        "($ L_2 \\leftarrow L_2 - 3 \\times L_1 $)"
      ]
    },
    {
      "cell_type": "markdown",
      "metadata": {},
      "source": [
        "Basicamente, ficamos com o sistema da seguinte forma:\n",
        "\n",
        "$ x + y = 3$\n",
        "\n",
        "$ -y = -4$\n",
        "\n",
        "ou seja, vamos ter que como solução: $ x = - 1 $ e $ y = 4 $ (isto é, no código, ao aplicarmos este exemplo temos que obter este resultado)."
      ]
    },
    {
      "cell_type": "markdown",
      "metadata": {},
      "source": [
        "Passando agora esta resolução para o código pedido vamos ter o seguinte:"
      ]
    },
    {
      "cell_type": "code",
      "execution_count": 5,
      "metadata": {},
      "outputs": [],
      "source": [
        "import matplotlib.pyplot as plt\n",
        "import numpy as np\n",
        "from math import *"
      ]
    },
    {
      "cell_type": "markdown",
      "metadata": {
        "id": "cO1prcrmtVb-"
      },
      "source": [
        "Para a resolução deste problema iremos recorrer ao método das substituições retroativas que é um método usado para resolver sistemas triangulares superiores. Tais sistemas são resolvidos por substituições retroativas, por meio de equações da\n",
        "forma:\n",
        "\n",
        "![image.png](data:image/png;base64,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)"
      ]
    },
    {
      "cell_type": "code",
      "execution_count": 6,
      "metadata": {
        "id": "VY4N6-MbNeeU"
      },
      "outputs": [],
      "source": [
        "def substituicoes_retroativas(A,b):\n",
        "  \n",
        "  n=len(A) #n será a ordem da matriz A\n",
        "  \n",
        "  x=n*[0] #iniciar o vetor x com tamanho n e elementos iguais a 0\n",
        "  \n",
        "  for i in range(n-1, -1, -1):  #Vai percorrer todas as linhas da matriz da última para a primeira\n",
        "    S=0 #Somatório\n",
        "    \n",
        "    for j in range(i+1,n):   #Este ciclo for será utilizado para fazer o somatório\n",
        "        S=S+A[i][j]*x[j]\n",
        "    \n",
        "    x[i]=(b[i]-S)/A[i][i]   #Depois de obtido o valor do somatório podemos agora resolver a equação das substituições retroativas\n",
        "  \n",
        "  return x"
      ]
    },
    {
      "cell_type": "markdown",
      "metadata": {
        "id": "1wnKQSgrvMxP"
      },
      "source": [
        "Agora que temos a implementação de um método que permite resolver sistemas traingulares superiores, precisamos de um método que transforme um qualquer sistema num triangular superior. Esse método que procuramos denomina-se método de eliminação de Gauss, que consiste em eliminar todos os elementos abaixo da diagonal, percorrendo todas as colunas desde a 1ª até à penúltima.\n",
        " \n",
        "\n"
      ]
    },
    {
      "cell_type": "code",
      "execution_count": 7,
      "metadata": {
        "id": "mpfUpk_SvNNE"
      },
      "outputs": [],
      "source": [
        "def gauss(A, b):\n",
        "    '''Executa o método da eliminação de Gauss para resolver o sistema  linear Ax=b \n",
        "    transformando o sistema em um sistema triangular superior equivalente.\n",
        "    Parâmetros de entrada: A é uma matriz quadrada de ordem n e b é o vetor constante.\n",
        "    Saída: vetor x\n",
        "    '''\n",
        "\n",
        "    ## n é a ordem da matriz A\n",
        "    n = len(A)\n",
        "\n",
        "    ## Começamos por percorrer todas as colunas de)de a 1ª até à penúltima \n",
        "    for k in range(0,n-1):\n",
        "        \n",
        "        ## Iremos percorrer cada todas as linhas abaixo da diagonal principal\n",
        "        for i in range(k+1,n):\n",
        "            \n",
        "            ## Calcula o fator m. Dividir o elemento pelo pivô\n",
        "            m=-A[i][k]/A[k][k]\n",
        "            \n",
        "            ## Atualiza a linha i da matriz, percorrendo todas as colunas j\n",
        "            for j in range(k+1,n):\n",
        "                A[i][j]=m*A[k][j]+A[i][j]\n",
        "            \n",
        "            # Atualiza o vetor b na linha i\n",
        "            b[i]=m*b[k]+b[i]\n",
        "           \n",
        "            ## Finalmente podemos igual Aik a 0\n",
        "            A[i][k]=0\n",
        "    \n",
        "    \n",
        "    ## Agora resolvemos o sistema triangular superior usando as substituições retroativas\n",
        "    x = substituicoes_retroativas(A, b)\n",
        "    \n",
        "    return x"
      ]
    },
    {
      "cell_type": "markdown",
      "metadata": {},
      "source": [
        "Definidas as funções responsáveis pela resolução e desenvolvimento do problema, iremos agora escrever um código responsável por pedir os valores da matriz dos coeficientes:"
      ]
    },
    {
      "cell_type": "code",
      "execution_count": 8,
      "metadata": {},
      "outputs": [
        {
          "name": "stdout",
          "output_type": "stream",
          "text": [
            "[[3.         2.        ]\n",
            " [0.         0.33333333]]\n",
            "A solução do sistema é:\n",
            "x1 = -1.0\n",
            "x2 = 4.0\n"
          ]
        }
      ],
      "source": [
        "# recolha da quantidade de variáves, que corresponderá à quantidade de linhas da matriz dos coeficientes\n",
        "var = int(input('Indique a quantidade de variáveis: '))\n",
        "\n",
        "# o numero de colunas será igual à 'quantidade de linhas' por alocar também as variáveis livres\n",
        "col = var\n",
        "\n",
        "#criação de uma matriz onde serão armazenados os valores dos coeficientes e um vetor onde serão armazenados as variáveis livres\n",
        "matriz =  np.zeros((var, col))\n",
        "\n",
        "c_l = []\n",
        "\n",
        "#recolha dos valores \n",
        "\n",
        "for l in range (0, var):\n",
        "    for c in range (0, col+1):\n",
        "        if c < var:\n",
        "            matriz[l][c] = float(input('Indique o ' + str(c+1) +'º coeficiente da ' +  str(l+1) + 'ºequação: '))\n",
        "        else:\n",
        "            c_l.append(float(input('Insira o coeficiente de grau zero da ' + str(l+1) + 'ºequação: ')))\n",
        "\n",
        "#print(matriz)\n",
        "#print(c_l)\n",
        "\n",
        "\n",
        "# chamada da função gauss, caso o determinante da matriz dos coeficientes seja diferente de 0\n",
        "\n",
        "if np.linalg.det(matriz) == 0:\n",
        "        print('Sistema sem solução definida, o determinante da matriz dos coeficientes é nulo!')\n",
        "else:\n",
        "    res = gauss(matriz, c_l)\n",
        "\n",
        "    # apresentação dos resultados\n",
        "    print ('A solução do sistema é:')\n",
        "\n",
        "    for i in range(0, var):\n",
        "        print (('x' + str(i+1)) + ' = '+ str(res[i])) "
      ]
    }
  ],
  "metadata": {
    "colab": {
      "collapsed_sections": [],
      "name": "a92839_a92849_a92846_folha2_exercício8.ipynb",
      "provenance": []
    },
    "interpreter": {
      "hash": "321a562c32c1ef0f4d1bce6724f96cbf5562b75820608d2935414fe72bdf9c83"
    },
    "kernelspec": {
      "display_name": "Python 3.9.7 64-bit",
      "name": "python3"
    },
    "language_info": {
      "codemirror_mode": {
        "name": "ipython",
        "version": 3
      },
      "file_extension": ".py",
      "mimetype": "text/x-python",
      "name": "python",
      "nbconvert_exporter": "python",
      "pygments_lexer": "ipython3",
      "version": "3.9.7"
    },
    "orig_nbformat": 4
  },
  "nbformat": 4,
  "nbformat_minor": 0
}
