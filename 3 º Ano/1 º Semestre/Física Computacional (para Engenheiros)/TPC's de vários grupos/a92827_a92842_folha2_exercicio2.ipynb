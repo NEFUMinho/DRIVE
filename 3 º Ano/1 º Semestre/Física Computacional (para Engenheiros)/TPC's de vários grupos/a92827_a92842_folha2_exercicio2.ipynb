{
 "cells": [
  {
   "cell_type": "markdown",
   "id": "838f0e14",
   "metadata": {},
   "source": [
    "#                                                   Ficha 2 - Exercício 2\n",
    "### A92827 - Carolina Fernandes e A92842 - Beatriz Silva "
   ]
  },
  {
   "cell_type": "code",
   "execution_count": 110,
   "id": "acc5b94d",
   "metadata": {},
   "outputs": [],
   "source": [
    "import math\n",
    "import matplotlib.pyplot as plt\n",
    "import numpy as np"
   ]
  },
  {
   "cell_type": "markdown",
   "id": "5fbe0447",
   "metadata": {},
   "source": [
    "### A)"
   ]
  },
  {
   "cell_type": "code",
   "execution_count": 111,
   "id": "ff284433",
   "metadata": {},
   "outputs": [
    {
     "name": "stdout",
     "output_type": "stream",
     "text": [
      "Introduza o valor inicial de x:0.1\n"
     ]
    },
    {
     "data": {
      "text/plain": [
       "[<matplotlib.lines.Line2D at 0x2788e6c4d60>]"
      ]
     },
     "execution_count": 111,
     "metadata": {},
     "output_type": "execute_result"
    },
    {
     "data": {
      "image/png": "[encoded data removed]",
      "text/plain": [
       "<Figure size 648x432 with 1 Axes>"
      ]
     },
     "metadata": {
      "needs_background": "light"
     },
     "output_type": "display_data"
    }
   ],
   "source": [
    "arrayr = np.linspace(0, 4, 1000)                 #Criação de um array com mil elementos igualmente espaçados entre 0 e 4. NOTA: o valor 1000 foi escolhido aleatoriamente de\n",
    "                                                 #forma a ter uma espécie de linha\n",
    "listx = []                                       #Criação de uma lista (inicialmente vazia) onde vamos guardar os valores de x utilizados para o gráfico e obtidos através da equações x'=rx(1-x)\n",
    "listr = []                                       #Criação de uma lista (inicialmente vazia) onde vamos guardar os valores de r utilizados para obter os x anteriormente comentados\n",
    "x0 = float(input ('Introduza o valor inicial de x:'))     #Pedido do valor inicial de x ao utilizador\n",
    "\n",
    "for r in arrayr :                                #Para cada valor contido no array obtido na primeira de linha do código faz-se o seguinte ciclo:\n",
    "\n",
    "    x = x0                                       #Sempre que este ciclo é iniciado x toma o valor dado pelo utilizador\n",
    "    \n",
    "    for i in range(1000):                          # Realiza-se as primeiras 1000 iterações para cada valor de r sugeridas no enunciado\n",
    "        x = r*x*(1-x)                              # Calcula-se o valor de x para cada um desses r\n",
    "        \n",
    "#No final deste ciclo for, o valor de x não vai ser o valor atribuído pelo utilizador mas sim o valor de x no final das 1000 iterações.\n",
    " \n",
    "    for i in range(1000):                          #Faz-se as seguintes 1000 iterações para as quais vamos obter os valores de x que serão representados no gráfico\n",
    "        x = r*x*(1-x)                              #Calcula-se o valor de x para cada um dos r\n",
    "        listr.append(r)                            #Adiciona-se o r à lista listr\n",
    "        listx.append(x)                            ##Adiciona-se o x à lista listx\n",
    "        \n",
    "\n",
    "#As seguintes linhas de código dizem respeito à representação gráfica.\n",
    "plt.figure(figsize=(9, 6))\n",
    "plt.title('Mapa logístico')\n",
    "plt.xlabel('r')\n",
    "plt.ylabel('x')\n",
    "plt.plot(listr, listx, 'go')"
   ]
  },
  {
   "cell_type": "markdown",
   "id": "d7403342",
   "metadata": {},
   "source": [
    "### B) - comentário dos resultados obtidos"
   ]
  },
  {
   "cell_type": "raw",
   "id": "12de3a41",
   "metadata": {},
   "source": [
    "Pela análise do gráfico anterior podemos identificar que as seguintes 3 zonas referentes às situações descritas no enunciado:\n",
    "\n",
    "No intervalo de [1.0,3.0], x converge para um determinado número e estabiliza.\n",
    "No intervalo de [3.0,3.5], origina-se um padrão períodico.\n",
    "Para números superiores a 3.5 observa-se uma sequência de números pseudo-aleatórios."
   ]
  }
 ],
 "metadata": {
  "kernelspec": {
   "display_name": "Python 3",
   "language": "python",
   "name": "python3"
  },
  "language_info": {
   "codemirror_mode": {
    "name": "ipython",
    "version": 3
   },
   "file_extension": ".py",
   "mimetype": "text/x-python",
   "name": "python",
   "nbconvert_exporter": "python",
   "pygments_lexer": "ipython3",
   "version": "3.8.8"
  }
 },
 "nbformat": 4,
 "nbformat_minor": 5
}
