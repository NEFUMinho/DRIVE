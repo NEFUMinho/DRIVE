{
 "cells": [
  {
   "cell_type": "code",
   "execution_count": 2,
   "id": "1b50528a",
   "metadata": {},
   "outputs": [],
   "source": [
    "import numpy as np"
   ]
  },
  {
   "cell_type": "code",
   "execution_count": 3,
   "id": "807b1ed0",
   "metadata": {},
   "outputs": [],
   "source": [
    "#Exercício 4\n",
    "#BISSECÇÃO\n",
    "#definir um intervalo na função\n",
    "#verificar se é negativo ou positivo\n",
    "#se for negativo\n",
    "#fazer a média\n",
    "#verificar se a média é o zero\n",
    "#se não for assumir a média como novo intervalo\n",
    "#se for positivo"
   ]
  },
  {
   "cell_type": "code",
   "execution_count": 20,
   "id": "678cc27c",
   "metadata": {},
   "outputs": [],
   "source": [
    "def biss(a,b):\n",
    "    \n",
    "    c = (4**a)-(3**(2*a))+(2**(3*a))-1\n",
    "    print(c)\n",
    "    d = (4**b)-(3**(2*b))+(2**(3*b))-1\n",
    "    print(d)\n",
    "    \n",
    "    if c == 0:\n",
    "        return a\n",
    "    if d == 0:\n",
    "        return d\n",
    "    \n",
    "    if (c*d)<0:\n",
    "        m = (a+b)/2\n",
    "        r = (4**m)-(3**(2*m))+(2**(3*m))-1\n",
    "        if r == 0:\n",
    "            return m\n",
    "        else:\n",
    "            if (r*c)<0:\n",
    "                seca(m,a)\n",
    "            else:\n",
    "                seca(m,b)\n",
    "    if (c*d)>0:\n",
    "        return 'Escolha outros a e b'"
   ]
  },
  {
   "cell_type": "code",
   "execution_count": 28,
   "id": "ee6f82c0",
   "metadata": {},
   "outputs": [
    {
     "name": "stdout",
     "output_type": "stream",
     "text": [
      "-0.9997539263541575\n",
      "-2411994002\n"
     ]
    },
    {
     "data": {
      "text/plain": [
       "'Escolha outros a e b'"
      ]
     },
     "execution_count": 28,
     "metadata": {},
     "output_type": "execute_result"
    }
   ],
   "source": [
    "biss(-6,10)"
   ]
  },
  {
   "cell_type": "code",
   "execution_count": 26,
   "id": "fcc61edf",
   "metadata": {},
   "outputs": [],
   "source": [
    "#Func Prof\n",
    "\n",
    "def f(a):\n",
    "    \n",
    "    return (4**a)-(3**(2*a))+(2**(3*a))-1\n",
    "\n",
    "def bisec(a,b):\n",
    "    \n",
    "    n = 0\n",
    "    if (f(a) * f(b) > 0):\n",
    "        return ('Não assumiste o a e b certos')\n",
    "    \n",
    "    c = a\n",
    "    while (abs(b-a)>= 1E-12):\n",
    "        \n",
    "        n+=1\n",
    "        \n",
    "        c = (a+b)/2\n",
    "        \n",
    "        if(f(c) == 0.0):\n",
    "            break\n",
    "            \n",
    "        if (f(c)*F(a) < 0):\n",
    "            b = c\n",
    "        else:\n",
    "            a=c\n",
    "    return c,n\n",
    "\n",
    "def sec():\n",
    "    \n",
    "    n = 0\n",
    "    if (f(a) * f(b) > 0):\n",
    "        return ('Não assumiste o a e b certos')\n",
    "    \n",
    "    c = a\n",
    "    while (abs(b-a)>= 1E-12):\n",
    "        \n",
    "        n+=1\n",
    "        if (f(b)-f(a) == 0):\n",
    "            return b\n",
    "        x = b -(f(b)*(b-a)*1.0)/(f(b)-f(a))\n",
    "        a = b\n",
    "        b = x\n",
    "    return b, n"
   ]
  },
  {
   "cell_type": "code",
   "execution_count": 27,
   "id": "4da718f2",
   "metadata": {},
   "outputs": [
    {
     "data": {
      "text/plain": [
       "'Não assumiste o a e b certos'"
      ]
     },
     "execution_count": 27,
     "metadata": {},
     "output_type": "execute_result"
    }
   ],
   "source": [
    "bisec(-6,10)"
   ]
  },
  {
   "cell_type": "code",
   "execution_count": null,
   "id": "04b17be0",
   "metadata": {},
   "outputs": [],
   "source": [
    "#Exercicio 5\n",
    "\n"
   ]
  }
 ],
 "metadata": {
  "kernelspec": {
   "display_name": "Python 3",
   "language": "python",
   "name": "python3"
  },
  "language_info": {
   "codemirror_mode": {
    "name": "ipython",
    "version": 3
   },
   "file_extension": ".py",
   "mimetype": "text/x-python",
   "name": "python",
   "nbconvert_exporter": "python",
   "pygments_lexer": "ipython3",
   "version": "3.8.8"
  }
 },
 "nbformat": 4,
 "nbformat_minor": 5
}
