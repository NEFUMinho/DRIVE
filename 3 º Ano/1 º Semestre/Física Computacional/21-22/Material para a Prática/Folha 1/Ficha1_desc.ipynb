{
 "cells": [
  {
   "cell_type": "code",
   "execution_count": 3,
   "id": "849f56e8",
   "metadata": {},
   "outputs": [],
   "source": [
    "import math\n",
    "import matplotlib.pyplot as plt\n",
    "import numpy as np"
   ]
  },
  {
   "cell_type": "raw",
   "id": "8a5c3c64",
   "metadata": {},
   "source": [
    "Exercício 12"
   ]
  },
  {
   "cell_type": "code",
   "execution_count": 11,
   "id": "0128a7e5",
   "metadata": {},
   "outputs": [
    {
     "name": "stdout",
     "output_type": "stream",
     "text": [
      "[ 8.76991475 12.76825723  9.47277666 13.97905579  5.72938298  9.38437203\n",
      "  9.02289276 12.4292909   8.78056339 10.86093856]\n"
     ]
    }
   ],
   "source": [
    "print(np.random.normal(10,2,10))"
   ]
  },
  {
   "cell_type": "code",
   "execution_count": 10,
   "id": "72fadaf0",
   "metadata": {},
   "outputs": [
    {
     "name": "stdout",
     "output_type": "stream",
     "text": [
      "0.5081220245885871\n",
      "0.5079525837078902\n",
      "0.5082914089855232\n"
     ]
    }
   ],
   "source": [
    "a = np.random.normal(1.0,0.5,1000)\n",
    "b = np.random.normal(2.0,0.1,1000)\n",
    "sa = np.std(a)\n",
    "sb = np.std(b)\n",
    "desviop = np.sqrt((sa**2)+(sb**2))\n",
    "s = a + b\n",
    "m = a - b\n",
    "sdesvio = np.std(m)\n",
    "mdesvio = np.std(s)\n",
    "print(desviop)\n",
    "print(sdesvio)\n",
    "print(mdesvio)"
   ]
  },
  {
   "cell_type": "code",
   "execution_count": null,
   "id": "2993d129",
   "metadata": {},
   "outputs": [],
   "source": []
  }
 ],
 "metadata": {
  "kernelspec": {
   "display_name": "Python 3",
   "language": "python",
   "name": "python3"
  },
  "language_info": {
   "codemirror_mode": {
    "name": "ipython",
    "version": 3
   },
   "file_extension": ".py",
   "mimetype": "text/x-python",
   "name": "python",
   "nbconvert_exporter": "python",
   "pygments_lexer": "ipython3",
   "version": "3.8.8"
  }
 },
 "nbformat": 4,
 "nbformat_minor": 5
}
