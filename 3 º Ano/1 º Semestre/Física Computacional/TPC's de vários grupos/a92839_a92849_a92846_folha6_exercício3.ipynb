{
 "cells": [
  {
   "cell_type": "markdown",
   "metadata": {},
   "source": [
    "# <b> TPC - EXERCÍCIO 3 DA FOLHA 6 </b>\n",
    "\n",
    "## Física Computacional - PL 2\n",
    "\n",
    "## 06-12-2021\n",
    "\n",
    "<hr>\n",
    "\n",
    "Anabela Sampaio Pereira (a92849) \n",
    "\n",
    "Beatriz Sousa Demétrio (a92839)\n",
    "\n",
    "Carlos Miguel Passos Ferreira (a92846)"
   ]
  },
  {
   "cell_type": "markdown",
   "metadata": {},
   "source": [
    "### ENUNCIADO : "
   ]
  },
  {
   "cell_type": "markdown",
   "metadata": {},
   "source": [
    "No início do sec. XX, Ernest Rutherford e os seus colaboradores mostraram que quando uma partícula $\\alpha$  (isto é, um núcleo de hélio com dois protões e dois neutrões) passa perto de um núcleo atómico $N$ é dispersada como mostrado na figura seguinte:"
   ]
  },
  {
   "cell_type": "markdown",
   "metadata": {},
   "source": [
    "<img src=\"exercício3.png\" style=\"width:500px;height:50\"/>"
   ]
  },
  {
   "cell_type": "markdown",
   "metadata": {},
   "source": [
    "Esta dispersão obedece à seguinte relação: <br>\n",
    "\n",
    "\n",
    "$\\tan {\\frac{\\theta} {2}}$ = $\\frac {Z e^2} {2 \\pi \\epsilon_0 E b}$\n",
    "\n",
    "em que $Z$ é o número atómico do núcleo, $ e $ = $-8.854 \\times 10^{-12} C $ é a carga do eletrão, $\\epsilon_0$ = $8.854 \\times 10^{-12} A^2 s^4 kg^{-1} m^{-3}$ é a constante de permissividade do vácuo, $E$ é a energia cinética da partícula, $\\alpha$ e $b$ é o parâmetro de impacto (isto é, a distância representada na figura)."
   ]
  },
  {
   "cell_type": "markdown",
   "metadata": {},
   "source": [
    "Considere um feixe de partículas $\\alpha$ com energia cinética de $7.7 MeV$ que tem uma distribuição Gaussiana em $x$ e em $y$ com um desvio padrão de $\\sigma $ = $ a_0/100 $ , onde $a_0$ = $5.292 \\times 10^{-11} m $ é o raio de Bohr, e que é disparado contra uma folha fina de ouro ($Z=79$)."
   ]
  },
  {
   "cell_type": "markdown",
   "metadata": {},
   "source": [
    "Calcule numericamente, usando Monte Carlo, qual a probabilidade de uma partícula ser dispersa a um ângulo maior que $90º$."
   ]
  },
  {
   "cell_type": "markdown",
   "metadata": {},
   "source": [
    "<div class=\"alert alert-block alert-info\">\n",
    "    <b> Nota: MeV é uma unidade de medida.</b>\n",
    "</div>"
   ]
  },
  {
   "cell_type": "markdown",
   "metadata": {},
   "source": [
    "### RESOLUÇÃO : "
   ]
  },
  {
   "cell_type": "code",
   "execution_count": 32,
   "metadata": {},
   "outputs": [],
   "source": [
    "%matplotlib inline\n",
    "from random import random\n",
    "import numpy as np\n",
    "from math import *\n",
    "import matplotlib.pyplot as plt"
   ]
  },
  {
   "cell_type": "code",
   "execution_count": 35,
   "metadata": {},
   "outputs": [],
   "source": [
    "# Antes de começar a resolver o problema, vamos primeiro definir as constantes dadas no enunciado em cima:\n",
    "\n",
    "Z = 79                       # número atómico do núcleo pertencente a uma folha fina de ouro\n",
    "e = 1.6*(10**(-19))          # carga do eletrão (em C)\n",
    "eps = 8.854*(10**(-12))      # constante da permissividade do vácuo\n",
    "E = 7.7*(10**6)              # energia cinética da partícula (em eV)\n",
    "a0 = 5.292*(10**(-11))       # raio do Bohr (em m)\n",
    "sigma = a0/100               # desvio padrão das distribuições guassianas de x e y\n",
    "N_total = 1000               # número total de partículas a ser lançadas\n",
    "\n",
    "# Sabemos que a dispersão tem que obdecer à regra expressa em cima. Colocando agora em código vamos ter o seguinte:\n",
    "# disp = (Z*e)/(2*np.pi*eps*E)"
   ]
  },
  {
   "cell_type": "code",
   "execution_count": 39,
   "metadata": {},
   "outputs": [
    {
     "data": {
      "image/png": "[encoded data removed]",
      "text/plain": [
       "<Figure size 1152x360 with 2 Axes>"
      ]
     },
     "metadata": {
      "needs_background": "light"
     },
     "output_type": "display_data"
    }
   ],
   "source": [
    "# Função que vai gerar 2 números random Gaussianos (função dada pelo professor na aula)\n",
    "def gaussian():\n",
    "  r=sqrt(-2*sigma*sigma*log(1-random()))\n",
    "  theta=2*pi*random()\n",
    "  x=r*cos(theta)\n",
    "  y=r*sin(theta)\n",
    "  return x,y\n",
    "\n",
    "# Definição das distribuições x e y e a sua representação graficamente\n",
    "x,y = gaussian()\n",
    "\n",
    "centro_distx,centro_disty = (0,0)             # centro das distribuições x e y\n",
    "desvio_x,desvio_y = (0.01*a0,0.01*a0)         # desvios das distribuições x e y\n",
    "\n",
    "# intervalos dos eixos dos gráficos\n",
    "x1 = np.linspace(-3*desvio_x+centro_distx,3*desvio_x+centro_distx,N_total)     \n",
    "x2 = np.linspace(-3*desvio_y+centro_disty,3*desvio_y+centro_disty,N_total)\n",
    "\n",
    "# Definição da gaussiana (criação da função gaussiana)\n",
    "gauss = lambda x,centro,desvio: 1/(((2*np.pi)**(0.5))*desvio)*np.exp(-0.5*(((x-centro)/desvio)**2))\n",
    "\n",
    "# Construção dos gráficos das distribuições x e y \n",
    "fig, (ax,ay) = plt.subplots(1,2,figsize=(16,5))\n",
    "ax.set_title('Distribuição x',fontsize=16)\n",
    "ax.hist(x, bins='auto',density='True',label='Histograma')\n",
    "ax.plot(x1,gauss(x1,centro_distx,desvio_x),'-r',label='Gaussiana',linewidth=3)\n",
    "ax.legend()\n",
    "ay.set_title('Distribuição y',fontsize=16)\n",
    "ay.hist(y, bins='auto',density='True', label='Histograma')\n",
    "ay.plot(x2,gauss(x2,centro_disty,desvio_y),'-r',label='Gaussiana',linewidth=3)\n",
    "ay.legend()\n",
    "plt.show()\n",
    "\n"
   ]
  },
  {
   "cell_type": "code",
   "execution_count": null,
   "metadata": {},
   "outputs": [],
   "source": []
  },
  {
   "cell_type": "code",
   "execution_count": 22,
   "metadata": {},
   "outputs": [
    {
     "ename": "NameError",
     "evalue": "name 'elem' is not defined",
     "output_type": "error",
     "traceback": [
      "\u001b[1;31m---------------------------------------------------------------------------\u001b[0m",
      "\u001b[1;31mNameError\u001b[0m                                 Traceback (most recent call last)",
      "\u001b[1;32m<ipython-input-22-7fb512069586>\u001b[0m in \u001b[0;36m<module>\u001b[1;34m\u001b[0m\n\u001b[0;32m      2\u001b[0m \u001b[1;33m\u001b[0m\u001b[0m\n\u001b[0;32m      3\u001b[0m \u001b[0mN_dis\u001b[0m \u001b[1;33m=\u001b[0m \u001b[1;36m0\u001b[0m\u001b[1;33m\u001b[0m\u001b[1;33m\u001b[0m\u001b[0m\n\u001b[1;32m----> 4\u001b[1;33m \u001b[1;32mwhile\u001b[0m \u001b[0melem\u001b[0m\u001b[1;33m<\u001b[0m\u001b[0mtheta\u001b[0m\u001b[1;33m:\u001b[0m\u001b[1;33m\u001b[0m\u001b[1;33m\u001b[0m\u001b[0m\n\u001b[0m\u001b[0;32m      5\u001b[0m     \u001b[1;32mif\u001b[0m \u001b[0melem\u001b[0m \u001b[1;33m>\u001b[0m \u001b[0mnp\u001b[0m\u001b[1;33m.\u001b[0m\u001b[0mpi\u001b[0m\u001b[1;33m/\u001b[0m\u001b[1;36m2\u001b[0m\u001b[1;33m:\u001b[0m\u001b[1;33m\u001b[0m\u001b[1;33m\u001b[0m\u001b[0m\n\u001b[0;32m      6\u001b[0m         \u001b[0mN_dis\u001b[0m \u001b[1;33m+=\u001b[0m \u001b[1;36m1\u001b[0m\u001b[1;33m\u001b[0m\u001b[1;33m\u001b[0m\u001b[0m\n",
      "\u001b[1;31mNameError\u001b[0m: name 'elem' is not defined"
     ]
    }
   ],
   "source": [
    "# Basicamente, o método de Monte-Carlo que vamos aplicar vai ser dado por:\n",
    "\n",
    "N_dis = 0\n",
    "while elem<theta:\n",
    "    if elem > np.pi/2:\n",
    "        N_dis += 1\n",
    "prob = N_dis/N_total\n",
    "\n",
    "print('O número total de partículas a ser lançadas é:',N_total)\n",
    "print('O número total de partículas a ser dispersadas a um ângulo superior a 90º é:',N_dis)\n",
    "print('A probabilidade pedida no enunciado é igual a:', prob*100,'%')"
   ]
  },
  {
   "cell_type": "code",
   "execution_count": null,
   "metadata": {},
   "outputs": [],
   "source": []
  }
 ],
 "metadata": {
  "interpreter": {
   "hash": "792a44c33af56b37af35a95028fe13328e48395a7b67176a5bb088f77e241fcd"
  },
  "kernelspec": {
   "display_name": "Python 3.9.6 64-bit",
   "language": "python",
   "name": "python3"
  },
  "language_info": {
   "codemirror_mode": {
    "name": "ipython",
    "version": 3
   },
   "file_extension": ".py",
   "mimetype": "text/x-python",
   "name": "python",
   "nbconvert_exporter": "python",
   "pygments_lexer": "ipython3",
   "version": "3.9.6"
  },
  "orig_nbformat": 4
 },
 "nbformat": 4,
 "nbformat_minor": 2
}
