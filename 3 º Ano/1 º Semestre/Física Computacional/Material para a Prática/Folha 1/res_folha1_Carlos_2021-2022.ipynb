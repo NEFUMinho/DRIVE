{
 "cells": [
  {
   "cell_type": "markdown",
   "metadata": {},
   "source": [
    "# **Resolução da Folha 1**"
   ]
  },
  {
   "cell_type": "markdown",
   "metadata": {},
   "source": [
    "**Ex.1** Calcular  todos  os  números  primos  menores  que  10000.   Considere  diferentes implementações para um programa que permita resolver este problema."
   ]
  },
  {
   "cell_type": "code",
   "execution_count": 1,
   "metadata": {},
   "outputs": [],
   "source": [
    "from math import *"
   ]
  },
  {
   "cell_type": "code",
   "execution_count": 2,
   "metadata": {},
   "outputs": [
    {
     "name": "stdout",
     "output_type": "stream",
     "text": [
      "[1, 2, 3, 5, 7, 11, 13, 17, 19, 23, 29, 31, 37, 41, 43, 47, 53, 59, 61, 67, 71, 73, 79, 83, 89, 97, 101, 103, 107, 109, 113, 127, 131, 137, 139, 149, 151, 157, 163, 167, 173, 179, 181, 191, 193, 197, 199, 211, 223, 227, 229, 233, 239, 241, 251, 257, 263, 269, 271, 277, 281, 283, 293, 307, 311, 313, 317, 331, 337, 347, 349, 353, 359, 367, 373, 379, 383, 389, 397, 401, 409, 419, 421, 431, 433, 439, 443, 449, 457, 461, 463, 467, 479, 487, 491, 499, 503, 509, 521, 523, 541, 547, 557, 563, 569, 571, 577, 587, 593, 599, 601, 607, 613, 617, 619, 631, 641, 643, 647, 653, 659, 661, 673, 677, 683, 691, 701, 709, 719, 727, 733, 739, 743, 751, 757, 761, 769, 773, 787, 797, 809, 811, 821, 823, 827, 829, 839, 853, 857, 859, 863, 877, 881, 883, 887, 907, 911, 919, 929, 937, 941, 947, 953, 967, 971, 977, 983, 991, 997]\n",
      "169\n"
     ]
    }
   ],
   "source": [
    "primes = [1]\n",
    "# pois é o primeiro número primo\n",
    "cont = 1\n",
    "# começamos com um número primo na  lista\n",
    "\n",
    "for possiblePrime in range(2, 1000): # número que pertence ao intervalo de 2 a 1000\n",
    "\n",
    "    isPrime = True\n",
    "    # admitimos que o número é primo logo de início\n",
    "    for num in range(2, possiblePrime):       # para um número que está no intervalo de 2 ao número do for anterior\n",
    "        if possiblePrime % num == 0:       # se o número acima (do primeiro for) for divisivel pelo número do segundo for\n",
    "                isPrime = False           # se a condição acima se verificar, então o número não é primo\n",
    "    \n",
    "    if isPrime:        # se a condição não se verificar, então o número é primo\n",
    "        primes.append(possiblePrime)      # e por isso iremos acrescentar o número à lista pretendida\n",
    "        cont = cont + 1                 # e somamos mais um à contagem\n",
    "\n",
    "print(primes)              # para aparecer a lista final dos números primos\n",
    "print(cont)              # para aparecer a contagem final dos números primos\n",
    "\n",
    "#esta versão não é a melhor"
   ]
  },
  {
   "cell_type": "code",
   "execution_count": 3,
   "metadata": {},
   "outputs": [
    {
     "name": "stdout",
     "output_type": "stream",
     "text": [
      "[1, 2, 3, 5, 7, 11, 13, 17, 19, 23, 29, 31, 37, 41, 43, 47, 53, 59, 61, 67, 71, 73, 79, 83, 89, 97, 101, 103, 107, 109, 113, 127, 131, 137, 139, 149, 151, 157, 163, 167, 173, 179, 181, 191, 193, 197, 199, 211, 223, 227, 229, 233, 239, 241, 251, 257, 263, 269, 271, 277, 281, 283, 293, 307, 311, 313, 317, 331, 337, 347, 349, 353, 359, 367, 373, 379, 383, 389, 397, 401, 409, 419, 421, 431, 433, 439, 443, 449, 457, 461, 463, 467, 479, 487, 491, 499, 503, 509, 521, 523, 541, 547, 557, 563, 569, 571, 577, 587, 593, 599, 601, 607, 613, 617, 619, 631, 641, 643, 647, 653, 659, 661, 673, 677, 683, 691, 701, 709, 719, 727, 733, 739, 743, 751, 757, 761, 769, 773, 787, 797, 809, 811, 821, 823, 827, 829, 839, 853, 857, 859, 863, 877, 881, 883, 887, 907, 911, 919, 929, 937, 941, 947, 953, 967, 971, 977, 983, 991, 997]\n",
      "169\n"
     ]
    }
   ],
   "source": [
    "primes = [1,2]\n",
    "# sabemos que os números 1 e 2 são os primeiros números primos\n",
    "cont = 2\n",
    "# como já começamos com dois números na lista, então a contagem começa como 2\n",
    "\n",
    "# sabe-se que todos os numeros pares nao sao numeros primos\n",
    "# mesmo assim este nao é o mais eficiente, pk no ciclo 'for', o 'num' vai ser divisivel por todos os n anteriores\n",
    "for possiblePrime in range(3, 1000, 2):   # número que pertence ao intervalo de 3 a 1000 de 2 em 2\n",
    "\n",
    "    isPrime = True   # admitimos que o número é primo logo de início\n",
    "    for num in range(2, possiblePrime):     # para um número que está no intervalo de 2 ao número do for anterior\n",
    "        if possiblePrime % num == 0:        # se o número acima (do primeiro for) for divisivel pelo número do segundo for\n",
    "                isPrime = False             # se a condição acima se verificar, então o número não é primo\n",
    "    \n",
    "    if isPrime:          # se a condição não se verificar, então o número é primo\n",
    "        primes.append(possiblePrime)       # e por isso iremos acrescentar o número à lista pretendida\n",
    "        cont = cont + 1            # e somamos mais um à contagem\n",
    "\n",
    "print(primes)          # para aparecer a lista final dos números primos\n",
    "print(cont)            # para aparecer a contagem final dos números primos"
   ]
  },
  {
   "cell_type": "code",
   "execution_count": 4,
   "metadata": {},
   "outputs": [
    {
     "name": "stdout",
     "output_type": "stream",
     "text": [
      "[1, 2, 3, 5, 7, 11, 13, 17, 19, 23, 29, 31, 37, 41, 43, 47, 53, 59, 61, 67, 71, 73, 79, 83, 89, 97, 101, 103, 107, 109, 113, 127, 131, 137, 139, 149, 151, 157, 163, 167, 173, 179, 181, 191, 193, 197, 199, 211, 223, 227, 229, 233, 239, 241, 251, 257, 263, 269, 271, 277, 281, 283, 293, 307, 311, 313, 317, 331, 337, 347, 349, 353, 359, 367, 373, 379, 383, 389, 397, 401, 409, 419, 421, 431, 433, 439, 443, 449, 457, 461, 463, 467, 479, 487, 491, 499, 503, 509, 521, 523, 541, 547, 557, 563, 569, 571, 577, 587, 593, 599, 601, 607, 613, 617, 619, 631, 641, 643, 647, 653, 659, 661, 673, 677, 683, 691, 701, 709, 719, 727, 733, 739, 743, 751, 757, 761, 769, 773, 787, 797, 809, 811, 821, 823, 827, 829, 839, 853, 857, 859, 863, 877, 881, 883, 887, 907, 911, 919, 929, 937, 941, 947, 953, 967, 971, 977, 983, 991, 997]\n",
      "169\n"
     ]
    }
   ],
   "source": [
    "primes = [1,2]\n",
    "# sabemos que os números 1 e 2 são os primeiros números primos\n",
    "cont = 2\n",
    "# como já começamos com dois números na lista, então a contagem começa como 2\n",
    "\n",
    "for possiblePrime in range(3, 1000, 2):      # número que pertence ao intervalo de 3 a 1000 de 2 em 2\n",
    "\n",
    "    isPrime = True          # admitimos que o número é primo logo de início\n",
    "    for num in range(2, possiblePrime):       # para um número que está no intervalo de 2 ao número do for anterior\n",
    "        if possiblePrime % num == 0:          # se o número acima (do primeiro for) for divisivel pelo número do segundo for\n",
    "                isPrime = False               # se a condição acima se verificar, então o número não é primo\n",
    "                break # a partir do momento em que o 'for' apresentar um true, ele faz o que está dentro dele e para, segue em frente\n",
    "    \n",
    "    if isPrime:          # se a condição não se verificar, então o número é primo\n",
    "        primes.append(possiblePrime)       # e por isso iremos acrescentar o número à lista pretendida\n",
    "        cont = cont + 1       # e somamos mais um à contagem\n",
    "\n",
    "print(primes)         # para aparecer a lista final dos números primos\n",
    "print(cont)           # para aparecer a contagem final dos números primos"
   ]
  },
  {
   "cell_type": "code",
   "execution_count": 5,
   "metadata": {},
   "outputs": [
    {
     "name": "stdout",
     "output_type": "stream",
     "text": [
      "[1, 2, 3, 5, 7, 11, 13, 17, 19, 23, 29, 31, 37, 41, 43, 47, 53, 59, 61, 67, 71, 73, 79, 83, 89, 97, 101, 103, 107, 109, 113, 127, 131, 137, 139, 149, 151, 157, 163, 167, 173, 179, 181, 191, 193, 197, 199, 211, 223, 227, 229, 233, 239, 241, 251, 257, 263, 269, 271, 277, 281, 283, 293, 307, 311, 313, 317, 331, 337, 347, 349, 353, 359, 367, 373, 379, 383, 389, 397, 401, 409, 419, 421, 431, 433, 439, 443, 449, 457, 461, 463, 467, 479, 487, 491, 499, 503, 509, 521, 523, 541, 547, 557, 563, 569, 571, 577, 587, 593, 599, 601, 607, 613, 617, 619, 631, 641, 643, 647, 653, 659, 661, 673, 677, 683, 691, 701, 709, 719, 727, 733, 739, 743, 751, 757, 761, 769, 773, 787, 797, 809, 811, 821, 823, 827, 829, 839, 853, 857, 859, 863, 877, 881, 883, 887, 907, 911, 919, 929, 937, 941, 947, 953, 967, 971, 977, 983, 991, 997]\n",
      "169\n"
     ]
    }
   ],
   "source": [
    "primes = [2]\n",
    "# sabemos que os números primos mais pequenos são o 1 e o 2, mas iremos fazer apenas uma lista que começa no dois\n",
    "cont = 2\n",
    "# aqui vamos fazer a contagem dos números primos\n",
    "\n",
    "for possiblePrime in range(3,1000,2):        # número que pertence ao intervalo de 3 a 1000 de 2 em 2\n",
    "\n",
    "    isPrime = True  # admitimos que o número é primo logo de início\n",
    "    sqr = sqrt(possiblePrime)   # calculo da raiz quadrada do número que vem deste primeiro for\n",
    "    for num in primes:        # para um número da lista dos números primos já obtida\n",
    "        if sqr >= num and possiblePrime % num == 0:  # se a raiz quadrada for maior ou igual que o número do 2º ciclo for e o número do 1º for fôr divisivel pelo 2º (resto da divisão dá igual a 0)\n",
    "            isPrime = False     # se a condição acima se verificar, então o número não é primo\n",
    "            break     # a partir do momento em que o 'for' apresentar um true, ele faz o que está dentro dele e para, segue em frente\n",
    "\n",
    "    if isPrime:        # se a condição não se verificar, então o número é primo\n",
    "        primes.append(possiblePrime)      # e por isso iremos acrescentar o número à lista pretendida\n",
    "        cont = cont + 1     # e somamos mais um à contagem\n",
    "\n",
    "final = [1] + primes\n",
    "print(final)   # para aparecer a lista final dos números primos que vai ser concateana com a lista com o número 1\n",
    "print(cont)     # para aparecer a contagem final dos números primos\n",
    "\n",
    "\n"
   ]
  },
  {
   "cell_type": "code",
   "execution_count": 6,
   "metadata": {},
   "outputs": [
    {
     "name": "stdout",
     "output_type": "stream",
     "text": [
      "[1, 2, 3, 5, 7, 11, 13, 17, 19, 23, 29, 31, 37, 41, 43, 47, 53, 59, 61, 67, 71, 73, 79, 83, 89, 97, 101, 103, 107, 109, 113, 127, 131, 137, 139, 149, 151, 157, 163, 167, 173, 179, 181, 191, 193, 197, 199, 211, 223, 227, 229, 233, 239, 241, 251, 257, 263, 269, 271, 277, 281, 283, 293, 307, 311, 313, 317, 331, 337, 347, 349, 353, 359, 367, 373, 379, 383, 389, 397, 401, 409, 419, 421, 431, 433, 439, 443, 449, 457, 461, 463, 467, 479, 487, 491, 499, 503, 509, 521, 523, 541, 547, 557, 563, 569, 571, 577, 587, 593, 599, 601, 607, 613, 617, 619, 631, 641, 643, 647, 653, 659, 661, 673, 677, 683, 691, 701, 709, 719, 727, 733, 739, 743, 751, 757, 761, 769, 773, 787, 797, 809, 811, 821, 823, 827, 829, 839, 853, 857, 859, 863, 877, 881, 883, 887, 907, 911, 919, 929, 937, 941, 947, 953, 967, 971, 977, 983, 991, 997]\n",
      "169\n"
     ]
    }
   ],
   "source": [
    "# código do Baptista\n",
    "\n",
    "x=[]        # começamos com a lista de primos, que queremos obter, igual a 0 \n",
    "cont = 0    # como a lista de cima é vazia, então temos que a contagem dos números primos tem que ser igual a 0\n",
    "\n",
    "for i in range(1,1000):    # número que pertence ao intervalo de 1 a 1000\n",
    "\n",
    "    div=0           # começamos com esta variável igual a 0\n",
    "    for a in range(2,i):    # número que pertence ao intervalo de 2 ao número dado no primeiro ciclo\n",
    "        if i % a == 0:      # se o resto da divisão inteira fôr igual a 0\n",
    "            div=div+1       # se a condição em cima se verificar, então vamos somar um à variável dada em cima\n",
    "        if div!=0:          # se a variá vel fôr diferente de zero\n",
    "            break           # a partir do momento em que o 'for' apresentar um true, ele faz o que está dentro dele e para, segue em frente\n",
    "        \n",
    "    if div == 0:            # se a variável fôr igual a 0\n",
    "        x.append(i)         # acrescenta-se o primeiro número à lista dos números primos\n",
    "        cont = cont + 1     # acrescenta-se +1 à contagem dos números\n",
    "\n",
    "print(x)              # para aparecer a lista final dos números primos\n",
    "print(cont)           # para aparecer a contagem final dos números primos"
   ]
  },
  {
   "cell_type": "markdown",
   "metadata": {},
   "source": [
    "**Ex.2** Considere os vetores x=[1,2,3] e y=[4,5,6]. Escreva um programa que calcule o seu produto interno."
   ]
  },
  {
   "cell_type": "code",
   "execution_count": 7,
   "metadata": {},
   "outputs": [
    {
     "name": "stdout",
     "output_type": "stream",
     "text": [
      "32\n"
     ]
    }
   ],
   "source": [
    "x = [1,2,3]\n",
    "y = [4,5,6]\n",
    "z = 0    # criação da variável do produto interno\n",
    "\n",
    "for i in range(0,3):   # criação da variável da posição no vetor que vai de 0 a 3 (que é o comprimento dos vetores)\n",
    "    z = x[i] * y[i] + z    # cálculo do produto interno, ou seja, o produto do valor do vetor na posição i mais o valor do produto interno calculado anteriormente\n",
    "\n",
    "print(z)      # para aparecer o produto interno final"
   ]
  },
  {
   "cell_type": "markdown",
   "metadata": {},
   "source": [
    "**Ex.3** Escreva um programa que devolva a área e o perímetro de um círculo dado o seu raio."
   ]
  },
  {
   "cell_type": "code",
   "execution_count": 8,
   "metadata": {},
   "outputs": [
    {
     "name": "stdout",
     "output_type": "stream",
     "text": [
      "A área pretendida é:  12.566370614359172\n",
      "O perímetro pretendido é:  12.566370614359172\n"
     ]
    }
   ],
   "source": [
    "raio = float(input('Coloque o raio pretendido: '))  #pede um valor para o raio e coloca-o como float\n",
    "area = pi*raio*raio                  # calcula a área com o float dado anteriormente\n",
    "perimetro = 2*pi*raio               # calcula o perímetro com o float dado anteriormente\n",
    "print('A área pretendida é: ',area)    # para aparecer o valor de área pretendido\n",
    "print('O perímetro pretendido é: ',perimetro)     # para aparecer o valor de perímetro pretendido"
   ]
  },
  {
   "cell_type": "code",
   "execution_count": 9,
   "metadata": {},
   "outputs": [
    {
     "name": "stdout",
     "output_type": "stream",
     "text": [
      "A área pretendida é : 12.57\n",
      "O perímetro pretendido é : 12.57\n"
     ]
    }
   ],
   "source": [
    "raio = float(input('Coloque o raio pretendido: '))  #pede um valor para o raio e coloca-o como float\n",
    "area = pi*raio*raio                  # calcula a área com o float dado anteriormente\n",
    "perimetro = 2*pi*raio               # calcula o perímetro com o float dado anteriormente\n",
    "print('A área pretendida é : {0:4.2f}'.format(area))  # para aparecer o valor de área pretendido (mas arredondado)\n",
    "print('O perímetro pretendido é : {0:4.2f}'.format(perimetro))     # para aparecer o valor de perímetro pretendido (mas arredondado)"
   ]
  },
  {
   "cell_type": "markdown",
   "metadata": {},
   "source": [
    "**Ex.4** Represente a função (**2D**) $y = e^{−x^{2}} × cos(20x)$ entre -2 e 2."
   ]
  },
  {
   "cell_type": "code",
   "execution_count": 18,
   "metadata": {},
   "outputs": [
    {
     "data": {
      "text/plain": [
       "[<matplotlib.lines.Line2D at 0x20d40e31dc0>]"
      ]
     },
     "execution_count": 18,
     "metadata": {},
     "output_type": "execute_result"
    },
    {
     "data": {
      "image/png": "[encoded data removed]",
      "text/plain": [
       "<Figure size 432x288 with 1 Axes>"
      ]
     },
     "metadata": {
      "needs_background": "light"
     },
     "output_type": "display_data"
    }
   ],
   "source": [
    "import matplotlib.pyplot as plt\n",
    "import numpy as np\n",
    "\n",
    "x = np.linspace(-2,2)     # varia os valores do eixo do x apenas no intervalo de -2 a 2\n",
    "plt.plot(x,np.exp(-x*x)*np.cos(20*x))  # faz aparecer o gráfico pretendido no intervalo de valores de x pretendido "
   ]
  },
  {
   "cell_type": "markdown",
   "metadata": {},
   "source": [
    "**Ex.5**  Represente a função (**3D**) $ z= sin(x)×cos(y) $ entre -3 e 3."
   ]
  },
  {
   "cell_type": "code",
   "execution_count": 19,
   "metadata": {},
   "outputs": [
    {
     "data": {
      "image/png": "[encoded data removed]",
      "text/plain": [
       "<Figure size 432x288 with 1 Axes>"
      ]
     },
     "metadata": {
      "needs_background": "light"
     },
     "output_type": "display_data"
    }
   ],
   "source": [
    "x = np.linspace(-3,3)     # varia os valores do eixo do x apenas no intervalo de -3 a 3\n",
    "y = np.linspace(-3,3)     # varia os valores do eixo do y apenas no intervalo de -3 a 3\n",
    "\n",
    "def f(x,y):\n",
    "    return np.sin(x)*np.cos(y)           # definimos a função pedida usando os eixos de x e y \n",
    "\n",
    "fig = plt.figure()                      \n",
    "eixos = plt.axes(projection=\"3d\")\n",
    "\n",
    "X, Y = np.meshgrid(x,y)      # A função numpy.meshgrid é usada para criar uma grade retangular a partir de duas matrizes unidimensionais que representam a indexação cartesiana ou a indexação matrix\n",
    "Z = f(X,Y)                         # definimos o Z como a função definida em cima\n",
    "\n",
    "eixos.set_xlabel('X')               # definimos o nome do eixo do x\n",
    "eixos.set_ylabel('Y')               # definimos o nome do eixo do y\n",
    "eixos.set_zlabel('Z')               # definimos o nome do eixo do z\n",
    "\n",
    "eixos.plot_surface(X, Y, Z, rstride=1, cstride=1, cmap='viridis', edgecolor='none')   # propriedades da imagem\n",
    "\n",
    "plt.show()              # é uma espécie de print aqui nos gráficos 3D\n",
    "\n"
   ]
  },
  {
   "cell_type": "markdown",
   "metadata": {},
   "source": [
    "**Ex.6**   Escreva um programa que permita determinar a precisão numérica do seu computador para a representação de números reais."
   ]
  },
  {
   "cell_type": "code",
   "execution_count": 12,
   "metadata": {},
   "outputs": [
    {
     "name": "stdout",
     "output_type": "stream",
     "text": [
      "O computador é preciso até à 16º casa decimal, inclusive.\n"
     ]
    }
   ],
   "source": [
    "c = 0         # a variável da precisão tem que começar em zero para poder acumular\n",
    "for i in range(1,30):        # colocou-se 30 para ser um número qualquer\n",
    "    if 1 != (1-10 ** (-i)):     #comparou-se até quando os valores eram diferentes de 1\n",
    "        c = c + 1               # quando a condição acima se verificava, somava-se 1 à variável de precisão\n",
    "\n",
    "print(f'O computador é preciso até à {c}º casa decimal, inclusive.')\n"
   ]
  },
  {
   "cell_type": "markdown",
   "metadata": {},
   "source": [
    "**Ex.7**  Sabendo  que $e^{−x} ≈ 1 − x + \\frac{x^{2}}{2!} − \\frac{x^{3}}{3!} + ... + \\frac{x^{n}}{n!}$ ,  calcule $e^{−x}$ para $x = 0,1; 1; 10; 15; 30$ requerendo que o erro numérico seja inferior a uma parte em $10^8$ e compare os valores obtidos com os calculados através da função *numpy.exp()*. Represente graficamente a função para $x∈[0,30]$."
   ]
  },
  {
   "cell_type": "code",
   "execution_count": 2,
   "metadata": {},
   "outputs": [
    {
     "ename": "IndentationError",
     "evalue": "unindent does not match any outer indentation level (<tokenize>, line 23)",
     "output_type": "error",
     "traceback": [
      "\u001b[1;36m  File \u001b[1;32m\"<tokenize>\"\u001b[1;36m, line \u001b[1;32m23\u001b[0m\n\u001b[1;33m    if sinal(sn) / sinal(s) <= (10 ** (-8)):     # quando formos dividir o e-nesimo elemento à soma dos elementos anteriores, vemos se o erro já é o considerado\u001b[0m\n\u001b[1;37m    ^\u001b[0m\n\u001b[1;31mIndentationError\u001b[0m\u001b[1;31m:\u001b[0m unindent does not match any outer indentation level\n"
     ]
    }
   ],
   "source": [
    "def facto(x):       # definição função fatorial \n",
    "    if x==0:         # para o caso em que x é igual a 0\n",
    "        return 1\n",
    "    else:                # para os casos a partir de 1\n",
    "        f=1               \n",
    "        for i in range(1,x+1):       # fazemos x+1 pois o range vai até ao anterior, ou seja, até ao pretendido verdadeiramente que é o x\n",
    "            f=f*i                # não esquecer que o fatorial é o número * os todos anteriores consecutivos\n",
    "        return f                 # iremos retornar o valor do fatorial pretendido\n",
    "\n",
    "def sinal(x):              # definição da função que define o sinal do número pedido\n",
    "    if x>=0:              # se o x fôr maior ou igual a 0, ou seja, positivo\n",
    "        return x            # vamos retornar o próprio valorf\n",
    "    else:\n",
    "        return (-1*x)      # se a condição acima não se verificar , ele vai devolver isto\n",
    "\n",
    "def expo(x):\n",
    "    s = 0\n",
    "    for i in range(0,1000000):\n",
    "        #b = s # nesta situação guardamos em 'b' uma copia da soma dos 'n' elementos\n",
    "        #if s == 0:  #   quando estamos no primeiro elemento da \"soma\" (sem elementos somados)\n",
    "            sn = ((-1)*i) * (x**i)/facto(x)\n",
    "            s = sn + s\n",
    "        if sinal(sn) / sinal(s) <= (10 ** (-8)):     # quando formos dividir o e-nesimo elemento à soma dos elementos anteriores, vemos se o erro já é o considerado\n",
    "            break\n",
    "    return s\n",
    "\n",
    "x = int(input('Defina um valor x: \\n'))\n",
    "re = np.exp(-x)\n",
    "ap = expo(x)\n",
    "err = ap/re\n",
    "\n",
    "print(f'Valor real: {re}')\n",
    "print(f'Valor aproximado: {ap}')\n",
    "print(f'Erro associado: {err}')\n"
   ]
  },
  {
   "cell_type": "code",
   "execution_count": null,
   "metadata": {},
   "outputs": [],
   "source": [
    "x = np.linspace(0,30)\n",
    "\n",
    "plt.plot(x,np.exp(-x), 'g')\n",
    "plt.xlabel('x')\n",
    "plt.ylabel('y')\n",
    "plt.title('Gráfico da função pedida')"
   ]
  },
  {
   "cell_type": "markdown",
   "metadata": {},
   "source": [
    "**Ex.8** Seja $t=e^{-\\pi x}$. Represente $y(x) = \\frac {1 - \\sqrt{1-t^{2}}}{t}$ e discuta o que acontece para $x=6$. Represente também a função $\\frac {t}{1+\\sqrt{1-t^{2}}}$ e discuta os resultados."
   ]
  },
  {
   "cell_type": "code",
   "execution_count": 15,
   "metadata": {},
   "outputs": [
    {
     "ename": "TypeError",
     "evalue": "only size-1 arrays can be converted to Python scalars",
     "output_type": "error",
     "traceback": [
      "\u001b[1;31m---------------------------------------------------------------------------\u001b[0m",
      "\u001b[1;31mTypeError\u001b[0m                                 Traceback (most recent call last)",
      "\u001b[1;32m~\\AppData\\Local\\Temp/ipykernel_14084/2711016148.py\u001b[0m in \u001b[0;36m<module>\u001b[1;34m\u001b[0m\n\u001b[0;32m      9\u001b[0m     \u001b[1;32mreturn\u001b[0m \u001b[0mfinal\u001b[0m\u001b[1;33m\u001b[0m\u001b[1;33m\u001b[0m\u001b[0m\n\u001b[0;32m     10\u001b[0m \u001b[1;33m\u001b[0m\u001b[0m\n\u001b[1;32m---> 11\u001b[1;33m \u001b[0mplt\u001b[0m\u001b[1;33m.\u001b[0m\u001b[0mplot\u001b[0m\u001b[1;33m(\u001b[0m\u001b[0mx\u001b[0m\u001b[1;33m,\u001b[0m\u001b[0mf\u001b[0m\u001b[1;33m(\u001b[0m\u001b[0mx\u001b[0m\u001b[1;33m)\u001b[0m\u001b[1;33m)\u001b[0m\u001b[1;33m\u001b[0m\u001b[1;33m\u001b[0m\u001b[0m\n\u001b[0m\u001b[0;32m     12\u001b[0m \u001b[0mplt\u001b[0m\u001b[1;33m.\u001b[0m\u001b[0mxlabel\u001b[0m\u001b[1;33m(\u001b[0m\u001b[1;34m\"x\"\u001b[0m\u001b[1;33m)\u001b[0m\u001b[1;33m\u001b[0m\u001b[1;33m\u001b[0m\u001b[0m\n\u001b[0;32m     13\u001b[0m \u001b[0mplt\u001b[0m\u001b[1;33m.\u001b[0m\u001b[0mylabel\u001b[0m\u001b[1;33m(\u001b[0m\u001b[1;34m\"y(x)\"\u001b[0m\u001b[1;33m)\u001b[0m\u001b[1;33m\u001b[0m\u001b[1;33m\u001b[0m\u001b[0m\n",
      "\u001b[1;32m~\\AppData\\Local\\Temp/ipykernel_14084/2711016148.py\u001b[0m in \u001b[0;36mf\u001b[1;34m(x)\u001b[0m\n\u001b[0;32m      6\u001b[0m \u001b[1;32mdef\u001b[0m \u001b[0mf\u001b[0m\u001b[1;33m(\u001b[0m\u001b[0mx\u001b[0m\u001b[1;33m)\u001b[0m\u001b[1;33m:\u001b[0m\u001b[1;33m\u001b[0m\u001b[1;33m\u001b[0m\u001b[0m\n\u001b[0;32m      7\u001b[0m     \u001b[0mt\u001b[0m \u001b[1;33m=\u001b[0m \u001b[0mnp\u001b[0m\u001b[1;33m.\u001b[0m\u001b[0mexp\u001b[0m\u001b[1;33m(\u001b[0m\u001b[1;33m-\u001b[0m\u001b[0mpi\u001b[0m\u001b[1;33m*\u001b[0m\u001b[0mx\u001b[0m\u001b[1;33m)\u001b[0m\u001b[1;33m\u001b[0m\u001b[1;33m\u001b[0m\u001b[0m\n\u001b[1;32m----> 8\u001b[1;33m     \u001b[0mfinal\u001b[0m \u001b[1;33m=\u001b[0m \u001b[1;33m(\u001b[0m\u001b[1;33m(\u001b[0m\u001b[1;36m1\u001b[0m\u001b[1;33m-\u001b[0m\u001b[0msqrt\u001b[0m\u001b[1;33m(\u001b[0m\u001b[1;36m1\u001b[0m\u001b[1;33m-\u001b[0m\u001b[0mt\u001b[0m\u001b[1;33m**\u001b[0m\u001b[1;33m(\u001b[0m\u001b[1;36m2\u001b[0m\u001b[1;33m)\u001b[0m\u001b[1;33m)\u001b[0m\u001b[1;33m)\u001b[0m\u001b[1;33m/\u001b[0m\u001b[0mt\u001b[0m\u001b[1;33m)\u001b[0m\u001b[1;33m\u001b[0m\u001b[1;33m\u001b[0m\u001b[0m\n\u001b[0m\u001b[0;32m      9\u001b[0m     \u001b[1;32mreturn\u001b[0m \u001b[0mfinal\u001b[0m\u001b[1;33m\u001b[0m\u001b[1;33m\u001b[0m\u001b[0m\n\u001b[0;32m     10\u001b[0m \u001b[1;33m\u001b[0m\u001b[0m\n",
      "\u001b[1;31mTypeError\u001b[0m: only size-1 arrays can be converted to Python scalars"
     ]
    }
   ],
   "source": [
    "import numpy as np \n",
    "import matplotlib.pyplot as plt\n",
    "\n",
    "x = np.linspace(0,10)\n",
    "\n",
    "def f(x):\n",
    "    t = np.exp(-pi*x)\n",
    "    final = ((1-sqrt(1-t**(2)))/t)\n",
    "    return final\n",
    "\n",
    "plt.plot(x,f(x))\n",
    "plt.xlabel(\"x\")\n",
    "plt.ylabel(\"y(x)\")\n"
   ]
  },
  {
   "cell_type": "markdown",
   "metadata": {},
   "source": [
    "**Ex.9** Considere as seguintes séries:\n",
    "$S^{up} = \\sum_{n=1}^N \\frac{1}{n}$ , $S^{down} = \\sum_{n=N}^1 \\frac{1}{n}$"
   ]
  },
  {
   "cell_type": "markdown",
   "metadata": {},
   "source": [
    "$\\qquad$ (a) Escreva um programa para calcular $S^{up}$ e $S^{down}$ em função de $N$."
   ]
  },
  {
   "cell_type": "code",
   "execution_count": null,
   "metadata": {},
   "outputs": [],
   "source": []
  },
  {
   "cell_type": "markdown",
   "metadata": {},
   "source": [
    "$\\qquad$ (b) Faça um plot log-log de $\\frac{(S^{up}-S^{down})}{(\\mid{S^{up}}\\mid + \\mid{S^{down}}\\mid)}$ em função de $N$."
   ]
  },
  {
   "cell_type": "code",
   "execution_count": null,
   "metadata": {},
   "outputs": [],
   "source": []
  },
  {
   "cell_type": "markdown",
   "metadata": {},
   "source": [
    "**Ex.10** Escreva um programa que peça dois valores $x$ e $y$ e os seus erros $\\Delta{x}$ e $\\Delta{y}$ e verifique se podemos considerar que $x$ é igual a $y$, *i.e.* se o resultado da operação $x-y$ é compatível com $0$, considerando o erro do resultado desta operação.\n",
    "\n",
    "*Exemplos:* $1.23(2)$ e $1.28(5)$ são considerados iguais, enquanto que $1.23(2)$ e $1.28(2)$ não."
   ]
  },
  {
   "cell_type": "code",
   "execution_count": null,
   "metadata": {},
   "outputs": [],
   "source": []
  },
  {
   "cell_type": "markdown",
   "metadata": {},
   "source": [
    "**Ex.11** A função *random.normal* da biblioteca *numpy* permite gerar números aleatórios distribuídos de acordo com uma função gaussiana. Usando esta função, mostre que o erro resultante de operações sobre distribuições gaussianas é o esperado pela lei de propagação de erros nos seguintes casos:"
   ]
  },
  {
   "cell_type": "markdown",
   "metadata": {},
   "source": [
    "$\\qquad$ (a) adição e subtração;"
   ]
  },
  {
   "cell_type": "code",
   "execution_count": 12,
   "metadata": {},
   "outputs": [
    {
     "name": "stdout",
     "output_type": "stream",
     "text": [
      "[ 0.12040605 -0.36311718  1.10473402  0.43343417  0.7280897   0.53951382\n",
      "  0.94577475 -0.85578796  0.10866194 -1.44244292 -0.73913141  1.40277118\n",
      "  0.77552593 -1.06318683  1.0501281   1.21913322  0.39575316 -0.33345599\n",
      " -1.33196381  0.48554439  1.65492269 -0.05999722 -0.7817271  -1.1358453\n",
      "  0.41289998  1.73582149 -0.67875907  0.25101181  1.07922477  0.82875887\n",
      " -0.09084129 -0.24022974  0.60457296 -0.37516267 -0.26803429 -2.34596483\n",
      "  0.90535563 -0.32441056 -0.57030791 -0.57473519 -0.11190676 -0.05825834\n",
      " -0.71165603  1.45170104 -0.75546462  0.52269368  0.618412    1.31243088\n",
      " -1.22479056  1.72385614 -0.75691561 -1.02613931  1.12839967 -0.50977543\n",
      " -0.19104357  0.82889727 -1.00749796  0.03671057 -0.33306731  1.34438581\n",
      "  0.52551869 -0.3109927   0.66882633  0.99888428  1.0967708  -1.29498611\n",
      " -0.47411606 -0.97160707 -1.23587414 -1.166912   -0.36467577  0.02137539\n",
      "  0.58454835  0.55394858  1.23255861 -0.51922894  0.35561217 -2.19771692\n",
      "  1.49959057  1.83527649 -0.78090301  1.02633087 -0.047328    1.80919204\n",
      " -1.34559042 -2.20155511 -0.0354851   1.27053226 -0.10308755  0.33319394\n",
      " -1.02289647  0.39630525 -0.4452507  -0.63897489 -1.77520663 -1.55499617\n",
      " -0.53822006  0.22709246  1.13806811 -0.49889439]\n",
      "[-1.57500059e-01  7.54869218e-01  4.35884757e-01  3.78093411e-01\n",
      "  3.60984713e-01 -7.66076360e-01 -1.48685466e+00 -7.17904567e-01\n",
      "  3.41140235e-01  6.00800045e-01  6.18535251e-01 -2.52718783e-01\n",
      "  8.26065113e-02 -1.24588065e+00  1.24337679e+00 -1.73050430e-01\n",
      "  9.43243370e-02  1.71164195e-03  9.25142308e-01  2.33043346e-01\n",
      " -5.04461341e-01 -3.37230229e-01  6.76088713e-01  3.93252952e-01\n",
      " -4.67208460e-01 -3.61558477e-01  5.33741177e-02  4.16627863e-01\n",
      " -8.49518542e-01  1.22315369e+00  5.76325906e-01 -2.60485892e-01\n",
      " -1.94978553e-02  8.33996500e-01 -3.52533332e+00 -1.31531400e+00\n",
      "  7.04745365e-02  2.08278198e-01 -3.76898818e-01 -3.71844158e-01\n",
      " -5.20635559e-01  1.26072176e+00  3.83710426e-02 -6.51231933e-01\n",
      " -2.03237355e-01  1.31152168e+00 -1.17400877e+00 -1.84067857e+00\n",
      "  2.64546297e-01  1.01829222e+00 -5.06927412e-01 -1.90817393e-01\n",
      " -1.27614830e+00  8.98572826e-01 -1.24352935e+00 -2.35145394e+00\n",
      "  1.88358676e+00 -4.98629951e-01  2.43067928e+00 -9.36831091e-01\n",
      " -3.26134907e-01  2.32341376e-01 -1.15489386e-01  9.65751134e-01\n",
      " -6.56580628e-01 -4.94954403e-01 -1.26039982e+00  5.87600822e-02\n",
      "  7.56000978e-01  9.47108244e-02 -1.37767465e+00 -9.75613687e-01\n",
      "  1.60452258e+00  4.65346390e-01 -2.14428661e+00 -5.61631708e-01\n",
      "  1.31800067e+00 -1.42906282e+00  3.95699904e-01 -4.96539954e-01\n",
      " -1.79288655e+00 -9.22995690e-01  6.32540404e-02  1.98752577e+00\n",
      "  1.55962657e+00 -5.59716529e-01 -2.13588380e+00 -2.23139269e-01\n",
      "  5.20933175e-01 -2.29064177e-01 -3.13485146e-01 -3.96902909e-01\n",
      " -1.44588517e+00  1.27317924e-01 -1.96190299e+00  3.26328825e-01\n",
      "  1.09882771e+00  9.33732268e-01 -4.42039694e-01 -1.87840654e+00]\n"
     ]
    }
   ],
   "source": [
    "# começar com N = 10 ^ 2\n",
    "# distribuição A = [.,.,.,.,.,.,.]          A +/- sigma\n",
    "# distribuição B = [.,.,.,.,.,.,.]          B +/- sigma\n",
    "# distribuição A + B = [.,.,.,.,.,.,.]      sigma (A+B)\n",
    "\n",
    "# usar o np.std(array, eixo) que calcula o desvio padrão do array dada ao longo do eixo especificado.\n",
    "# a ideia é usar o desvio padrão para calcular A+/- sigma, ou seja, a propagação de erros de A e depois de B, e só depois ver teoricamente com o desvio padrão da soma\n",
    "\n",
    "import random\n",
    "import numpy as np\n",
    "import matplotlib.pyplot as plt\n",
    "\n",
    "n = 10**2\n",
    "a = np.zeros(100)\n",
    "b = np.zeros(100)\n",
    "# np.random.normal(loc, scale, size) \n",
    "\n",
    "for i in range(n):\n",
    "    a[i] = np.random.normal()\n",
    "    b[i] = np.random.normal()\n",
    "\n",
    "\n",
    "desvio_a = np.std(a)\n",
    "desvio_b = np.std(b)\n",
    "\n",
    "# fazer em 'casa'"
   ]
  },
  {
   "cell_type": "markdown",
   "metadata": {},
   "source": [
    "$\\qquad$ (b) multiplicação e divisão;"
   ]
  },
  {
   "cell_type": "code",
   "execution_count": 9,
   "metadata": {},
   "outputs": [
    {
     "name": "stdout",
     "output_type": "stream",
     "text": [
      "-0.32359695504737923\n"
     ]
    }
   ],
   "source": [
    "a = np.random.normal()\n",
    "print(a)"
   ]
  },
  {
   "cell_type": "markdown",
   "metadata": {},
   "source": [
    "**Ex.12** Escreva um programa que peça um valor $x$ e o seu erro $\\Delta{x}$ e apresente o valor com o número de algarismos adequado e o seu erro. Deve-se apresentar o valor na notação científica no caso do $\\mid{x}\\mid \\leq 0.001$ ou $\\mid{x}\\mid \\geq 1000$ e quando a notação normal obrigaria a apresentar mais algarismos para além dos significativos."
   ]
  },
  {
   "cell_type": "code",
   "execution_count": null,
   "metadata": {},
   "outputs": [],
   "source": [
    "import numpy as np\n",
    " # floor(x) retorna o maior número inteiro menor ou igual a x\n",
    " # round(numero, r) arredonda o 'numero', deixando 'r' casas decimais após o ponto flutuante, que deseja arredondar\n",
    " # pensar como se podem contar algarismos significativos\n",
    "\n",
    "# pensar em casa"
   ]
  }
 ],
 "metadata": {
  "interpreter": {
   "hash": "321a562c32c1ef0f4d1bce6724f96cbf5562b75820608d2935414fe72bdf9c83"
  },
  "kernelspec": {
   "display_name": "Python 3.9.7 64-bit",
   "name": "python3"
  },
  "language_info": {
   "codemirror_mode": {
    "name": "ipython",
    "version": 3
   },
   "file_extension": ".py",
   "mimetype": "text/x-python",
   "name": "python",
   "nbconvert_exporter": "python",
   "pygments_lexer": "ipython3",
   "version": "3.9.7"
  },
  "orig_nbformat": 4
 },
 "nbformat": 4,
 "nbformat_minor": 2
}
