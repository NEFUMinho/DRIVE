{
  "nbformat": 4,
  "nbformat_minor": 0,
  "metadata": {
    "colab": {
      "name": "Folha5_FC",
      "provenance": []
    },
    "kernelspec": {
      "name": "python3",
      "display_name": "Python 3"
    },
    "language_info": {
      "name": "python"
    }
  },
  "cells": [
    {
      "cell_type": "markdown",
      "metadata": {
        "id": "Ur1dfFIvkVpj"
      },
      "source": [
        "#Exercícios de Física Computacional\n",
        "##Folha 5\n",
        "1. Calcule a primeira derivada de sin(x) numericamente usando os métodos dos 2 e 3 pontos, comparando, em cada caso o resultado obtido com\n",
        "função derivada obtida analiticamente.\n"
      ]
    },
    {
      "cell_type": "code",
      "metadata": {
        "id": "QDEJwJ670f05"
      },
      "source": [
        "import numpy as np\n",
        "import matplotlib.pyplot as plt\n",
        "from numpy.linalg import solve\n",
        "from cmath import polar, pi\n",
        "from numpy import sin,cos,array,diff,append\n",
        "import csv"
      ],
      "execution_count": null,
      "outputs": []
    },
    {
      "cell_type": "code",
      "metadata": {
        "colab": {
          "base_uri": "https://localhost:8080/",
          "height": 317
        },
        "id": "MCv3R7k-kZ0e",
        "outputId": "0cae2393-5fba-4de7-eeba-8169ef1cd294"
      },
      "source": [
        "x=np.linspace(0,2*pi,100)\n",
        "plt.plot(x,sin(x))\n",
        "plt.plot(x,cos(x))\n",
        "N=10\n",
        "y=np.linspace(0,2*pi,N)\n",
        "a=[sin(i) for i in y]\n",
        "e=d=np.zeros(N)\n",
        "for i in range(N-1):\n",
        "  d[i]=(a[i+1]-a[i])/(y[1+1]-y[i])\n",
        "for i in range(1,N):\n",
        "  e[i]=(a[i-1]-a[i])/(y[i-1]-y[i])\n",
        "plt.plot(e,'r+')\n",
        "plt.plot(d,'g+')"
      ],
      "execution_count": null,
      "outputs": [
        {
          "output_type": "stream",
          "name": "stderr",
          "text": [
            "/usr/local/lib/python3.7/dist-packages/ipykernel_launcher.py:9: RuntimeWarning: divide by zero encountered in double_scalars\n",
            "  if __name__ == '__main__':\n"
          ]
        },
        {
          "output_type": "execute_result",
          "data": {
            "text/plain": [
              "[<matplotlib.lines.Line2D at 0x7fe4a9c93110>]"
            ]
          },
          "metadata": {},
          "execution_count": 2
        },
        {
          "output_type": "display_data",
          "data": {
            "image/png": "[encoded data removed]",
            "text/plain": [
              "<Figure size 432x288 with 1 Axes>"
            ]
          },
          "metadata": {
            "needs_background": "light"
          }
        }
      ]
    },
    {
      "cell_type": "markdown",
      "metadata": {
        "id": "_GwX6bInq8dJ"
      },
      "source": [
        "2. O ficheiro folha5-data1.txt tem dados experimentais de tempo (em\n",
        "segundos, na 1ª coluna) e posições (em metros, na 2ª coluna). Calcule a\n",
        "velocidade em função do tempo e represente as posições e as velocidades\n",
        "em função do tempo.\n"
      ]
    },
    {
      "cell_type": "code",
      "metadata": {
        "id": "A8qCYqKwq-Md"
      },
      "source": [
        "X=[]\n",
        "Y=[]\n",
        "\n",
        "with open('folha5-data1.txt') as f:\n",
        "  reader = csv.reader(f)\n",
        "  for row in reader:\n",
        "    res= row[0].split()\n",
        "    X.append(float(res[0]))\n",
        "    Y.append(float(res[1]))\n",
        "\n",
        "xx=array(X)\n",
        "yy=array(Y)\n",
        "dydx=diff(Y)/diff(X)\n",
        "\n",
        "ndydx=append(dydx[0],dydx)\n",
        "\n",
        "print(ndydx)"
      ],
      "execution_count": null,
      "outputs": []
    },
    {
      "cell_type": "markdown",
      "metadata": {
        "id": "OL82is-r08n-"
      },
      "source": [
        "5. Calcule R π\n",
        "0\n",
        "sin(x) dx e\n",
        "R 2,5\n",
        "0\n",
        "e\n",
        "x dx usando:\n",
        "\n",
        "(a) o método dos retângulos."
      ]
    },
    {
      "cell_type": "code",
      "metadata": {
        "colab": {
          "base_uri": "https://localhost:8080/",
          "height": 283
        },
        "id": "5bmBOgE51AWd",
        "outputId": "4dd3b071-51be-47e2-945f-82b6a58686ab"
      },
      "source": [
        "from math import pi,sin\n",
        "from numpy import linspace\n",
        "from pylab import plot,show,xlim,ylim,bar\n",
        "\n",
        "def f(x):\n",
        "    return sin(x)\n",
        "\n",
        "def Integrate(x0,xe,n):\n",
        "    s=0.0\n",
        "    x=x0\n",
        "    h=(xe-x0)/n\n",
        "    for i in range(0,n):\n",
        "        tmp=f(x+h/2.0)\n",
        "        s+=tmp\n",
        "        fbar.append(tmp)\n",
        "        xi.append(x+h/2.0)\n",
        "        x+=h\n",
        "    return(h*s,h)\n",
        "\n",
        "def Integrate2(x0,xe,n):\n",
        "    s=0.0\n",
        "    x=x0\n",
        "    h=(xe-x0)/n\n",
        "    for i in range(0,n):\n",
        "        tmp=f(x0 + i * h)\n",
        "        s+=tmp\n",
        "        fbar.append(tmp)\n",
        "        xi.append(x+h/2.0)\n",
        "        x+=h\n",
        "    return(h*s,h)\n",
        "\n",
        "fbar=[]\n",
        "xi=[]\n",
        "\n",
        "N_f=100\n",
        "px=[]\n",
        "py=[]\n",
        "for xx in linspace(0.0,pi,N_f):\n",
        "    py.append(f(xx))\n",
        "    px.append(xx)\n",
        "\n",
        "N_points=5\n",
        "Int_res,dx=Integrate(0,pi,N_points)\n",
        "print(Int_res)\n",
        "plot(px,py)\n",
        "bar(xi,fbar,dx,facecolor='grey')\n",
        "ylim(0,1.1)\n",
        "xlim(0,pi)\n",
        "show()"
      ],
      "execution_count": null,
      "outputs": [
        {
          "output_type": "stream",
          "name": "stdout",
          "text": [
            "2.033281476926104\n"
          ]
        },
        {
          "output_type": "display_data",
          "data": {
            "image/png": "[encoded data removed]",
            "text/plain": [
              "<Figure size 432x288 with 1 Axes>"
            ]
          },
          "metadata": {
            "needs_background": "light"
          }
        }
      ]
    },
    {
      "cell_type": "code",
      "metadata": {
        "colab": {
          "base_uri": "https://localhost:8080/",
          "height": 283
        },
        "id": "1zvGEN7-1HK9",
        "outputId": "a82e412b-d6b3-4b91-a0be-a89442b31422"
      },
      "source": [
        "from math import exp\n",
        "from numpy import linspace\n",
        "from pylab import plot,show,xlim,ylim,bar\n",
        "\n",
        "def f(x):\n",
        "    y=exp(x)\n",
        "    return y\n",
        "\n",
        "def Integrate(x0,xe,n):\n",
        "    s=0.0\n",
        "    x=x0\n",
        "    h=(xe-x0)/n\n",
        "    for i in range(0,n):\n",
        "        tmp=f(x+h/2.0)\n",
        "        s+=tmp\n",
        "        fbar.append(tmp)\n",
        "        xi.append(x+h/2.0)\n",
        "        x+=h\n",
        "    return(h*s,h)\n",
        "\n",
        "fbar=[]\n",
        "xi=[]\n",
        "\n",
        "N_f=100\n",
        "px=[]\n",
        "py=[]\n",
        "for xx in linspace(0.0,2.5,N_f):\n",
        "    py.append(f(xx))\n",
        "    px.append(xx)\n",
        "N_points=5\n",
        "\n",
        "Int_res,dx=Integrate(0,2.5,N_points)\n",
        "print(Int_res)\n",
        "plot(px,py)\n",
        "bar(xi,fbar,dx,facecolor='grey')\n",
        "xlim(0,2.5)\n",
        "show()"
      ],
      "execution_count": null,
      "outputs": [
        {
          "output_type": "stream",
          "name": "stdout",
          "text": [
            "11.066853451563258\n"
          ]
        },
        {
          "output_type": "display_data",
          "data": {
            "image/png": "[encoded data removed]",
            "text/plain": [
              "<Figure size 432x288 with 1 Axes>"
            ]
          },
          "metadata": {
            "needs_background": "light"
          }
        }
      ]
    },
    {
      "cell_type": "markdown",
      "metadata": {
        "id": "WWmRQLgq1Jo2"
      },
      "source": [
        "(b) o método do trapésio."
      ]
    },
    {
      "cell_type": "code",
      "metadata": {
        "colab": {
          "base_uri": "https://localhost:8080/",
          "height": 283
        },
        "id": "FfxOj2ul1LtH",
        "outputId": "14a0edcb-c5c1-4949-fc82-8038797582cc"
      },
      "source": [
        "from math import sin,pi\n",
        "from numpy import linspace,array\n",
        "from matplotlib import pyplot as plt \n",
        "from matplotlib.patches import Polygon\n",
        "\n",
        "def f(x):\n",
        "   y=sin(x)\n",
        "   return y\n",
        "\n",
        "def Integrate(x0,xe,n):\n",
        "  s=0.0\n",
        "  x=x0\n",
        "  h=(xe-x0)/n\n",
        "  for i in range(0,n):\n",
        "    tmp=f(x+h/2.0)\n",
        "    # #######################\n",
        "    #  To draw a trapezoid\n",
        "    # #######################\n",
        "    points=[[x,0.0],[x+h,0.0],[x+h,f(x+h)],[x,f(x)]]\n",
        "    ax1.add_patch(Polygon(points,fill=False,edgecolor='r'))\n",
        "    s+=tmp\n",
        "    x+=h\n",
        "  return(h*s,h)\n",
        "\n",
        "# ######################\n",
        "# To draw a trapezoid\n",
        "# ######################\n",
        "fig=plt.figure()\n",
        "ax1=fig.add_subplot(111)\n",
        "# ######################\n",
        "\n",
        "N_f=100\n",
        "px=[]\n",
        "py=[]\n",
        "for xx in linspace(0.0,pi,N_f):\n",
        "  py.append(f(xx))\n",
        "  px.append(xx)\n",
        "N_points=5\n",
        "Int_res,dx=Integrate(0,pi,N_points)\n",
        "print(Int_res)\n",
        "plt.plot(px,py)\n",
        "plt.ylim(0.0,1.1)\n",
        "plt.xlim(0,pi)\n",
        "plt.show()"
      ],
      "execution_count": null,
      "outputs": [
        {
          "output_type": "stream",
          "name": "stdout",
          "text": [
            "2.033281476926104\n"
          ]
        },
        {
          "output_type": "display_data",
          "data": {
            "image/png": "[encoded data removed]",
            "text/plain": [
              "<Figure size 432x288 with 1 Axes>"
            ]
          },
          "metadata": {
            "needs_background": "light"
          }
        }
      ]
    },
    {
      "cell_type": "code",
      "metadata": {
        "colab": {
          "base_uri": "https://localhost:8080/",
          "height": 283
        },
        "id": "DRwOL2uZ1Qu_",
        "outputId": "08942560-2cfa-4d0b-8123-0e9c02d8c921"
      },
      "source": [
        "from math import exp\n",
        "from numpy import linspace,array\n",
        "from matplotlib import pyplot as plt \n",
        "from matplotlib.patches import Polygon\n",
        "\n",
        "def f(x):\n",
        "   y=exp(x)\n",
        "   return y\n",
        "\n",
        "def Integrate(x0,xe,n):\n",
        "  s=0.0\n",
        "  x=x0\n",
        "  h=(xe-x0)/n\n",
        "  for i in range(0,n):\n",
        "    tmp=f(x+h/2.0)\n",
        "    # #######################\n",
        "    #  To draw a trapezoid\n",
        "    # #######################\n",
        "    points=[[x,0.0],[x+h,0.0],[x+h,f(x+h)],[x,f(x)]]\n",
        "    ax1.add_patch(Polygon(points,fill=False,edgecolor='r'))\n",
        "    s+=tmp\n",
        "    x+=h\n",
        "  return(h*s,h)\n",
        "\n",
        "# ######################\n",
        "# To draw a trapezoid\n",
        "# ######################\n",
        "fig=plt.figure()\n",
        "ax1=fig.add_subplot(111)\n",
        "# ######################\n",
        "\n",
        "N_f=100\n",
        "px=[]\n",
        "py=[]\n",
        "for xx in linspace(0.0,2.5,N_f):\n",
        "  py.append(f(xx))\n",
        "  px.append(xx)\n",
        "    \n",
        "N_points=5\n",
        "Int_res,dx=Integrate(0,2.5,N_points)\n",
        "print(Int_res)\n",
        "plt.plot(px,py)\n",
        "plt.ylim(0,13)\n",
        "plt.xlim(0,2.5)\n",
        "plt.show()"
      ],
      "execution_count": null,
      "outputs": [
        {
          "output_type": "stream",
          "name": "stdout",
          "text": [
            "11.066853451563258\n"
          ]
        },
        {
          "output_type": "display_data",
          "data": {
            "image/png": "[encoded data removed]",
            "text/plain": [
              "<Figure size 432x288 with 1 Axes>"
            ]
          },
          "metadata": {
            "needs_background": "light"
          }
        }
      ]
    },
    {
      "cell_type": "markdown",
      "metadata": {
        "id": "JBhBOe401SlX"
      },
      "source": [
        "(c) o método de Simpson.\n"
      ]
    },
    {
      "cell_type": "code",
      "metadata": {
        "colab": {
          "base_uri": "https://localhost:8080/"
        },
        "id": "QIrjup931UhI",
        "outputId": "4111c063-7e4f-49d0-a6a3-0e53a3ca6160"
      },
      "source": [
        "from math import sin,pi\n",
        "from numpy import linspace\n",
        "\n",
        "def f(x):\n",
        "    y=sin(x)\n",
        "    return y\n",
        "\n",
        "def simpson(xmin,xmax,num_int):\n",
        "    x=linspace(xmin,xmax,num_int)\n",
        "    h=x[1]-x[0]\n",
        "    i=0\n",
        "    integral=0.0\n",
        "    i_max=x.size-2\n",
        "    while i<i_max:\n",
        "        integral+=(f(x[i])+4.0*f(x[i+1])+f(x[i+2]))\n",
        "        i+=2\n",
        "    return (integral*h/3.0)\n",
        "\n",
        "integ=simpson(0.0,pi,5)\n",
        "print(\"Result=\",integ)"
      ],
      "execution_count": null,
      "outputs": [
        {
          "output_type": "stream",
          "name": "stdout",
          "text": [
            "Result= 2.0045597549844207\n"
          ]
        }
      ]
    },
    {
      "cell_type": "code",
      "metadata": {
        "colab": {
          "base_uri": "https://localhost:8080/"
        },
        "id": "dK2XEyde1YjG",
        "outputId": "bb9d32ab-d374-49a2-f84c-c97ca86aa4ec"
      },
      "source": [
        "from math import exp\n",
        "from numpy import linspace\n",
        "\n",
        "def f(x):\n",
        "    y=exp(x)\n",
        "    return y\n",
        "\n",
        "def simpson(x0,xe,num_int):\n",
        "    x=linspace(x0,xe,num_int)\n",
        "    h=x[1]-x[0]\n",
        "    i=0\n",
        "    integral=0.0\n",
        "    i_max=x.size-2\n",
        "    while i<i_max:\n",
        "        integral+=(f(x[i])+4.0*f(x[i+1])+f(x[i+2]))\n",
        "        i+=2\n",
        "    return (integral*h/3.0)\n",
        "\n",
        "integ=simpson(0.0,2.5,5)\n",
        "print(\"Result=\",integ)"
      ],
      "execution_count": null,
      "outputs": [
        {
          "output_type": "stream",
          "name": "stdout",
          "text": [
            "Result= 11.191550038890936\n"
          ]
        }
      ]
    },
    {
      "cell_type": "code",
      "metadata": {
        "colab": {
          "base_uri": "https://localhost:8080/"
        },
        "id": "lkRhVDZ01aYY",
        "outputId": "d68a5d0a-4053-4e9a-b71c-fc73062408e4"
      },
      "source": [
        "from math import sin,pi\n",
        "\n",
        "def f(x):\n",
        "    return sin(x)\n",
        "\n",
        "N = 100\n",
        "a = 0.0\n",
        "b = pi\n",
        "h = (b-a)/N\n",
        "\n",
        "s1 = 0.0\n",
        "\n",
        "for k in range(1,N,2):\n",
        "    s1 += f(a+k*h)\n",
        "    \n",
        "s2 = 0.0\n",
        "for k in range(2,N,2):\n",
        "    s2 += f(a+k*h)\n",
        "\n",
        "I = (f(a) + f(b) + 4*s1 + 2*s2)*h/3\n",
        "print(I)"
      ],
      "execution_count": null,
      "outputs": [
        {
          "output_type": "stream",
          "name": "stdout",
          "text": [
            "2.000000010824504\n"
          ]
        }
      ]
    },
    {
      "cell_type": "code",
      "metadata": {
        "colab": {
          "base_uri": "https://localhost:8080/"
        },
        "id": "8InYg7AC1cno",
        "outputId": "4d7f0ba0-c0a5-4ff6-a676-b3c3e57335de"
      },
      "source": [
        "from math import exp\n",
        "\n",
        "def f(x):\n",
        "    return exp(x)\n",
        "\n",
        "N = 100\n",
        "a = 0.0\n",
        "b = 2.5\n",
        "h = (b-a)/N\n",
        "\n",
        "s1 = 0.0\n",
        "\n",
        "for k in range(1,N,2):\n",
        "    s1 += f(a+k*h)\n",
        "    \n",
        "s2 = 0.0\n",
        "for k in range(2,N,2):\n",
        "    s2 += f(a+k*h)\n",
        "\n",
        "I = (f(a) + f(b) + 4*s1 + 2*s2)*h/3\n",
        "print(I)"
      ],
      "execution_count": null,
      "outputs": [
        {
          "output_type": "stream",
          "name": "stdout",
          "text": [
            "11.182493984969234\n"
          ]
        }
      ]
    },
    {
      "cell_type": "code",
      "metadata": {
        "id": "HXTzfBnZ1iCm"
      },
      "source": [
        "import scipy\n",
        "from scipy.integrate import quad\n",
        "from math import *\n",
        " \n",
        "def f(x,a):\n",
        "    angle = pi * a / 180\n",
        "    return (sqrt(2)/pi)/sqrt(cos(x)-cos(a))\n",
        " \n",
        "#it is not possible to compute:\n",
        "print(quad(f,0,pi,args=pi/2))"
      ],
      "execution_count": null,
      "outputs": []
    },
    {
      "cell_type": "markdown",
      "metadata": {
        "id": "6CxSysvJ1njv"
      },
      "source": [
        "Não funciona porque há uma divergência para $\\theta = 90^\\circ$\n",
        "\n",
        "\n",
        "- Com a mudança de variável ficamos com a expressão: $T =  \\frac{2 T_0}{\\pi} \\int_0^{\\alpha/2} \\frac{d\\phi}{\\sqrt{1-\\sin^2(\\alpha/2)\\sin^2(\\phi)}} $, que já pode ser integrada."
      ]
    },
    {
      "cell_type": "code",
      "metadata": {
        "id": "gj163hbV1rL2",
        "outputId": "5f9dcba0-e34f-4a18-8c44-c785ac71a3ca",
        "colab": {
          "base_uri": "https://localhost:8080/",
          "height": 297
        }
      },
      "source": [
        "from math import sin, pi, sqrt\n",
        "import scipy\n",
        "from scipy.integrate import quad\n",
        "from matplotlib import pyplot as plt \n",
        " \n",
        "#the function to be integrated:\n",
        "def f(x, a):\n",
        "    return(2/pi)/sqrt(1-sin(a/2)**2*sin(x)**2)\n",
        "\n",
        "xx = []\n",
        "yy = []\n",
        "\n",
        "for i in range(0, 91):\n",
        "    angle = pi * i / 180\n",
        "    xx.append(float(i))\n",
        "    yy.append(quad(f,0,pi/2,args=(angle))[0])\n",
        "    if(i==90): print(\"for 90 degrees:\",quad(f,0,pi/2,args=(angle)))\n",
        "    \n",
        "plt.plot(xx,yy)\n",
        "plt.xlabel(\"angle (degrees)\")\n",
        "plt.ylabel(\"T/T0 (s)\")\n",
        "plt.show()"
      ],
      "execution_count": null,
      "outputs": [
        {
          "output_type": "stream",
          "name": "stdout",
          "text": [
            "for 90 degrees: (1.1803405990160962, 2.2814760754490426e-12)\n"
          ]
        },
        {
          "output_type": "display_data",
          "data": {
            "image/png": "[encoded data removed]",
            "text/plain": [
              "<Figure size 432x288 with 1 Axes>"
            ]
          },
          "metadata": {
            "needs_background": "light"
          }
        }
      ]
    }
  ]
}