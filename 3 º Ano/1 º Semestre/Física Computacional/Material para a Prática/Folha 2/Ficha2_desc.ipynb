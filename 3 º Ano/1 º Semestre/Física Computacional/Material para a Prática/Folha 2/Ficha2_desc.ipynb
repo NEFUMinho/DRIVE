{
 "cells": [
  {
   "cell_type": "code",
   "execution_count": 2,
   "metadata": {},
   "outputs": [],
   "source": [
    "import math\n",
    "%matplotlib inline\n",
    "import matplotlib.pyplot as plt\n",
    "from mpl_toolkits import mplot3d as plt3d\n",
    "import numpy as np"
   ]
  },
  {
   "cell_type": "markdown",
   "metadata": {},
   "source": [
    "Exercício 1"
   ]
  },
  {
   "cell_type": "code",
   "execution_count": 3,
   "metadata": {},
   "outputs": [
    {
     "data": {
      "image/png": "[encoded data removed]",
      "text/plain": [
       "<Figure size 432x288 with 2 Axes>"
      ]
     },
     "metadata": {
      "needs_background": "light"
     },
     "output_type": "display_data"
    }
   ],
   "source": [
    "def y1(x):\n",
    "        t=np.exp(np.pi*(-x))\n",
    "        return 1/(t*(1-np.sqrt(1-pow(t,2))))\n",
    "\n",
    "def y2(x):\n",
    "        t=np.exp(np.pi*(-x))\n",
    "        return t/(1+np.sqrt(1-pow(t,2)))\n",
    "\n",
    "x=np.linspace(0,5.95)\n",
    "y11=[y1(a) for a in x]\n",
    "y22=[y2(b) for b in x]\n",
    "\n",
    "plt.subplot(221)\n",
    "plt.plot(x,y11,'g')\n",
    "plt.xlabel('x')\n",
    "plt.ylabel('y')\n",
    "plt.title('Primeira')\n",
    "\n",
    "\n",
    "plt.subplot(222)\n",
    "plt.plot(x,y22,'r')\n",
    "plt.xlabel('x')\n",
    "plt.ylabel('y')\n",
    "plt.title('Segunda')\n",
    "plt.tight_layout()"
   ]
  },
  {
   "cell_type": "markdown",
   "metadata": {},
   "source": [
    "Exercício 2"
   ]
  },
  {
   "cell_type": "code",
   "execution_count": 4,
   "metadata": {},
   "outputs": [
    {
     "name": "stdout",
     "output_type": "stream",
     "text": [
      "Insira N: 6\n",
      "Solução para Sup:  2.4499999999999997\n",
      "Solução para Sdown:  2.45\n",
      "Razão:  0.9999999999999998\n"
     ]
    }
   ],
   "source": [
    "def Sup(n):\n",
    "    s=0\n",
    "    for i in range(1,n+1):\n",
    "        s=s+1/i\n",
    "    return s\n",
    "def Sdown(n):\n",
    "    s=0\n",
    "    for i in range(1,n+1):\n",
    "        s=s+1/n\n",
    "        n-=1\n",
    "    return s\n",
    "a=int(input('Insira N: '))\n",
    "if a<=0: \n",
    "    print('N deve ser um inteiro positivo')\n",
    "else:\n",
    "    print('Solução para Sup: ',Sup(a))\n",
    "    print('Solução para Sdown: ',Sdown(a))\n",
    "    r=Sup(a)/Sdown(a)\n",
    "    print('Razão: ',r)"
   ]
  },
  {
   "cell_type": "code",
   "execution_count": 5,
   "metadata": {
    "scrolled": true
   },
   "outputs": [
    {
     "data": {
      "text/plain": [
       "[<matplotlib.lines.Line2D at 0x1e54911ebe0>]"
      ]
     },
     "execution_count": 5,
     "metadata": {},
     "output_type": "execute_result"
    },
    {
     "data": {
      "image/png": "[encoded data removed]",
      "text/plain": [
       "<Figure size 432x288 with 1 Axes>"
      ]
     },
     "metadata": {
      "needs_background": "light"
     },
     "output_type": "display_data"
    }
   ],
   "source": [
    "def u(n):\n",
    "    return (Sup(n)-Sdown(n))/(np.abs(Sup(n))+np.abs(Sdown(n)))\n",
    "x=[]\n",
    "for i in range(1,100):\n",
    "    x.append(i)\n",
    "u1=[u(a) for a in x]\n",
    "plt.plot(x,u1)\n",
    "\n"
   ]
  },
  {
   "cell_type": "markdown",
   "metadata": {},
   "source": [
    "Exercício 3"
   ]
  },
  {
   "cell_type": "code",
   "execution_count": 40,
   "metadata": {},
   "outputs": [
    {
     "name": "stdout",
     "output_type": "stream",
     "text": [
      "Insira x: 1\n",
      "Insira Δx: 0.1\n",
      "Insira y: 1.15\n",
      "Insira Δy: 0.05\n",
      "Os números são incompativeis\n"
     ]
    }
   ],
   "source": [
    "def incer(x,y):\n",
    "    return np.sqrt(x**2+y**2)\n",
    "\n",
    "x=float(input('Insira x: '))\n",
    "ix=float(input('Insira Δx: '))\n",
    "y=float(input('Insira y: '))\n",
    "iy=float(input('Insira Δy: '))\n",
    "\n",
    "if np.abs(x-y)-incer(ix,iy)<=0:\n",
    "    print('Os números são compativeis')\n",
    "else: print('Os números são incompativeis')\n",
    "    "
   ]
  },
  {
   "cell_type": "markdown",
   "metadata": {},
   "source": [
    "Exercício 4"
   ]
  },
  {
   "cell_type": "code",
   "execution_count": 24,
   "metadata": {},
   "outputs": [
    {
     "name": "stdout",
     "output_type": "stream",
     "text": [
      "Sigma(A+B)= 0.4506894844104556\n",
      "A incerteza de A+B é 0.447213595499958\n",
      "\n",
      "Sigma(A-B)= 0.4506894844104556\n",
      "A incerteza de A-B é 0.447213595499958\n",
      "\n",
      "Sigma(A*B)= 1.7301754172900263\n",
      "A incerteza de A*B é 1.7145261736118231\n",
      "\n",
      "Sigma(A/B)= 0.10286757021098623\n",
      "A incerteza de A/B é 0.10199441841831194\n",
      "\n",
      "Sigma(A^B)= 35.7106361847325\n",
      "A incerteza de A^B é 32.170030097088585\n"
     ]
    }
   ],
   "source": [
    "A_med=2.5; A_sigma=0.4\n",
    "B_med=4.1; B_sigma=0.2\n",
    "N=10000\n",
    "\n",
    "A=np.random.normal (A_med, A_sigma, N) # gerar números aleatórios\n",
    "B=np.random.normal (B_med, B_sigma, N)\n",
    "#soma\n",
    "def incer_soma(ix,iy):\n",
    "    return np.sqrt(ix**2+iy**2)\n",
    "s=A+B\n",
    "s_incer=incer_soma(A_sigma,B_sigma)\n",
    "print ('Sigma(A+B)= '+ str(np.std(s)))\n",
    "print('A incerteza de A+B é '+str(s_incer))\n",
    "\n",
    "#subtração\n",
    "d=A+B\n",
    "d_incer=incer_soma(A_sigma,B_sigma)\n",
    "print ('\\nSigma(A-B)= '+ str(np.std(d)))\n",
    "print('A incerteza de A-B é '+str(d_incer))\n",
    "\n",
    "#multiplicação\n",
    "def incer_mul(x,y,ix,iy):\n",
    "    return np.sqrt((y*ix)**2+(x*iy)**2)\n",
    "m=A*B\n",
    "m_incer=incer_mul(A_med,B_med,A_sigma,B_sigma)\n",
    "print ('\\nSigma(A*B)= '+ str(np.std(m)))\n",
    "print('A incerteza de A*B é '+str(m_incer))\n",
    "\n",
    "#divisão\n",
    "def incer_div(x,y,ix,iy):\n",
    "    return np.sqrt((ix/y)**2+(x*iy/y**2)**2)\n",
    "div=A/B\n",
    "div_incer=incer_div(A_med,B_med,A_sigma,B_sigma)\n",
    "print ('\\nSigma(A/B)= '+ str(np.std(div)))\n",
    "print('A incerteza de A/B é '+str(div_incer))\n",
    "\n",
    "#exponenciação\n",
    "def incer_exp(x,y,ix,iy):\n",
    "    return np.sqrt((ix*y*x**(y-1))**2+(ix*np.log(x)*x**y)**2)\n",
    "e=A**B\n",
    "e_incer=incer_exp(A_med,B_med,A_sigma,B_sigma)\n",
    "print ('\\nSigma(A^B)= '+ str(np.std(e)))\n",
    "print('A incerteza de A^B é '+str(e_incer))"
   ]
  },
  {
   "cell_type": "markdown",
   "metadata": {},
   "source": [
    "Exercício 5"
   ]
  },
  {
   "cell_type": "code",
   "execution_count": 12,
   "metadata": {},
   "outputs": [
    {
     "name": "stdout",
     "output_type": "stream",
     "text": [
      "Em notação cientifica o número fica: (3.0 ± 0.3)x10^-5\n"
     ]
    }
   ],
   "source": [
    "x_in=0.00003 #float(input('Insira x: '))\n",
    "ix_in=0.000003 #float(inout('Insira a variação de x: '))\n",
    "x=x_in \n",
    "ix=ix_in \n",
    "zeros=0\n",
    "\n",
    "if abs(x_in)<=0.001:\n",
    "    while int(x)==0:\n",
    "        x=x*10\n",
    "        ix=ix*10\n",
    "        zeros+=1\n",
    "    print('Em notação cientifica o número fica: ('+str(x)+' ± '+str(ix)+')x10^-'+str(zeros))   \n",
    "\n",
    "if abs(x_in)>0.001 and abs(x)<1000:\n",
    "    print('Em notação cientifica o número fica: ('+str(x)+' ± '+str(ix)+')')  \n",
    "\n",
    "if abs(x_in)>=1000:\n",
    "    while x>9:\n",
    "        x=x/10\n",
    "        ix=ix/10\n",
    "        zeros+=1    \n",
    "    print('Em notação cientifica o número fica: ('+str(x)+' ± '+str(ix)+')x10^'+str(zeros))   \n",
    " "
   ]
  },
  {
   "cell_type": "code",
   "execution_count": 3,
   "metadata": {},
   "outputs": [
    {
     "name": "stdout",
     "output_type": "stream",
     "text": [
      "Atribua um valor a x: 0.00003\n",
      "Qual o erro em x? 0.000003\n",
      "3.000000e-05 ± 3.000000e-06\n"
     ]
    }
   ],
   "source": [
    "x = float(input(\"Atribua um valor a x: \"))\n",
    "Δx = float(input(\"Qual o erro em x? \"))\n",
    "\n",
    "if (abs(x) <= 0.001) or (abs(x)>= 1000) or (abs(Δx) <= 0.001) or (abs(Δx)>= 1000):\n",
    "    print('{:e}'.format(x), \"±\" ,'{:e}'.format(Δx))\n",
    "    \n",
    "else:\n",
    "    print(x, \"±\" ,Δx)"
   ]
  },
  {
   "cell_type": "code",
   "execution_count": 6,
   "metadata": {},
   "outputs": [
    {
     "name": "stdout",
     "output_type": "stream",
     "text": [
      "[  0   1   2   3   4   5   6   7   8   9  10  11  12  13  14  15  16  17\n",
      "  18  19  20  21  22  23  24  25  26  27  28  29  30  31  32  33  34  35\n",
      "  36  37  38  39  40  41  42  43  44  45  46  47  48  49  50  51  52  53\n",
      "  54  55  56  57  58  59  60  61  62  63  64  65  66  67  68  69  70  71\n",
      "  72  73  74  75  76  77  78  79  80  81  82  83  84  85  86  87  88  89\n",
      "  90  91  92  93  94  95  96  97  98  99 100]\n"
     ]
    }
   ],
   "source": [
    "print(np.arange(0,101,1))"
   ]
  },
  {
   "cell_type": "code",
   "execution_count": null,
   "metadata": {},
   "outputs": [],
   "source": []
  }
 ],
 "metadata": {
  "kernelspec": {
   "display_name": "Python 3",
   "language": "python",
   "name": "python3"
  },
  "language_info": {
   "codemirror_mode": {
    "name": "ipython",
    "version": 3
   },
   "file_extension": ".py",
   "mimetype": "text/x-python",
   "name": "python",
   "nbconvert_exporter": "python",
   "pygments_lexer": "ipython3",
   "version": "3.8.8"
  }
 },
 "nbformat": 4,
 "nbformat_minor": 2
}
