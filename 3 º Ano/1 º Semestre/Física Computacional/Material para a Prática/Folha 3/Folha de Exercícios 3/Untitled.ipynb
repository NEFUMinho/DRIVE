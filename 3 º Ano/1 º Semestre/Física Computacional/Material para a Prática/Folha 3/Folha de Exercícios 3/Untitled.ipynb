{
 "cells": [
  {
   "cell_type": "code",
   "execution_count": 5,
   "metadata": {},
   "outputs": [
    {
     "name": "stderr",
     "output_type": "stream",
     "text": [
      "<ipython-input-5-5fc65eb22366>:28: DeprecationWarning: scipy.linspace is deprecated and will be removed in SciPy 2.0.0, use numpy.linspace instead\n",
      "  E = linspace(0.01,19.9, 100)\n",
      "<ipython-input-5-5fc65eb22366>:16: DeprecationWarning: scipy.sqrt is deprecated and will be removed in SciPy 2.0.0, use numpy.lib.scimath.sqrt instead\n",
      "  return tan(sqrt(c * e))\n",
      "<ipython-input-5-5fc65eb22366>:16: DeprecationWarning: scipy.tan is deprecated and will be removed in SciPy 2.0.0, use numpy.tan instead\n",
      "  return tan(sqrt(c * e))\n"
     ]
    },
    {
     "data": {
      "image/png": "[encoded data removed]",
      "text/plain": [
       "<Figure size 432x288 with 1 Axes>"
      ]
     },
     "metadata": {
      "needs_background": "light"
     },
     "output_type": "display_data"
    },
    {
     "name": "stderr",
     "output_type": "stream",
     "text": [
      "<ipython-input-5-5fc65eb22366>:20: DeprecationWarning: scipy.sqrt is deprecated and will be removed in SciPy 2.0.0, use numpy.lib.scimath.sqrt instead\n",
      "  return sqrt((V - e) / e)\n",
      "<ipython-input-5-5fc65eb22366>:24: DeprecationWarning: scipy.sqrt is deprecated and will be removed in SciPy 2.0.0, use numpy.lib.scimath.sqrt instead\n",
      "  return -sqrt(e / (V - e))\n"
     ]
    },
    {
     "data": {
      "image/png": "[encoded data removed]",
      "text/plain": [
       "<Figure size 432x288 with 1 Axes>"
      ]
     },
     "metadata": {
      "needs_background": "light"
     },
     "output_type": "display_data"
    },
    {
     "name": "stderr",
     "output_type": "stream",
     "text": [
      "<ipython-input-5-5fc65eb22366>:16: DeprecationWarning: scipy.sqrt is deprecated and will be removed in SciPy 2.0.0, use numpy.lib.scimath.sqrt instead\n",
      "  return tan(sqrt(c * e))\n",
      "<ipython-input-5-5fc65eb22366>:16: DeprecationWarning: scipy.tan is deprecated and will be removed in SciPy 2.0.0, use numpy.tan instead\n",
      "  return tan(sqrt(c * e))\n",
      "<ipython-input-5-5fc65eb22366>:20: DeprecationWarning: scipy.sqrt is deprecated and will be removed in SciPy 2.0.0, use numpy.lib.scimath.sqrt instead\n",
      "  return sqrt((V - e) / e)\n",
      "<ipython-input-5-5fc65eb22366>:24: DeprecationWarning: scipy.sqrt is deprecated and will be removed in SciPy 2.0.0, use numpy.lib.scimath.sqrt instead\n",
      "  return -sqrt(e / (V - e))\n"
     ]
    },
    {
     "data": {
      "image/png": "[encoded data removed]",
      "text/plain": [
       "<Figure size 432x288 with 1 Axes>"
      ]
     },
     "metadata": {
      "needs_background": "light"
     },
     "output_type": "display_data"
    },
    {
     "name": "stdout",
     "output_type": "stream",
     "text": [
      "E0 =  0.7496435546875\n",
      "E1 =  1.27001953125\n",
      "E2 =  4.49951171875\n",
      "E3 =  5.05029296875\n",
      "E4 =  7.8489990234375\n",
      "E5 =  11.21435546875\n"
     ]
    },
    {
     "name": "stderr",
     "output_type": "stream",
     "text": [
      "<ipython-input-5-5fc65eb22366>:16: DeprecationWarning: scipy.sqrt is deprecated and will be removed in SciPy 2.0.0, use numpy.lib.scimath.sqrt instead\n",
      "  return tan(sqrt(c * e))\n",
      "<ipython-input-5-5fc65eb22366>:16: DeprecationWarning: scipy.tan is deprecated and will be removed in SciPy 2.0.0, use numpy.tan instead\n",
      "  return tan(sqrt(c * e))\n",
      "<ipython-input-5-5fc65eb22366>:20: DeprecationWarning: scipy.sqrt is deprecated and will be removed in SciPy 2.0.0, use numpy.lib.scimath.sqrt instead\n",
      "  return sqrt((V - e) / e)\n",
      "<ipython-input-5-5fc65eb22366>:24: DeprecationWarning: scipy.sqrt is deprecated and will be removed in SciPy 2.0.0, use numpy.lib.scimath.sqrt instead\n",
      "  return -sqrt(e / (V - e))\n"
     ]
    }
   ],
   "source": [
    "#Exercício 1\n",
    "from scipy import tan, sqrt, linspace\n",
    "from pylab import plot, show, xlabel\n",
    "\n",
    "# Constants\n",
    "w = 1  # width of well in nm\n",
    "V = 20  # well depth in eV\n",
    "m = 9.1094 * 10 ** -31  # electron mass in kg\n",
    "h_bar = 6.582119514 * 10 ** -16  # h bar in eV * s\n",
    "c = w ** 2 * m / (1.602 * 10 ** -1) / (2 * h_bar ** 2)\n",
    "accuracy = 0.001  # in eV\n",
    "\n",
    "\n",
    "def f(e):\n",
    "    # use 1 eV = 1.602 * 10 ** -19 J to convert w^2 m in to ev * s^2\n",
    "    return tan(sqrt(c * e))\n",
    "\n",
    "\n",
    "def g(e):\n",
    "    return sqrt((V - e) / e)\n",
    "\n",
    "\n",
    "def h(e):\n",
    "    return -sqrt(e / (V - e))\n",
    "\n",
    "\n",
    "# make plots\n",
    "E = linspace(0.01,19.9, 100)\n",
    "plot(E, f(E), 'o')\n",
    "show()\n",
    "plot(E, g(E), 'ko')\n",
    "plot(E, h(E), 'ro')\n",
    "show()\n",
    "\n",
    "\n",
    "plot(E, f(E), 'o')\n",
    "plot(E, g(E), 'ko')\n",
    "plot(E, h(E), 'ro')\n",
    "xlabel('E (eV)')\n",
    "show()\n",
    "\n",
    "\n",
    "def f1(x):\n",
    "    return f(x) - g(x)\n",
    "\n",
    "\n",
    "def f2(x):\n",
    "    return f(x) - h(x)\n",
    "\n",
    "\n",
    "# from exercise 6.13\n",
    "def find_root(f, x1, x2, accuracy):\n",
    "\n",
    "    def midpoint(x, y):\n",
    "        return (x + y) / 2\n",
    "\n",
    "    def have_same_sign(x, y):\n",
    "        if x < 0 and y < 0 or x > 0 and y > 0:\n",
    "            return True\n",
    "        else:\n",
    "            return False\n",
    "\n",
    "    #\n",
    "    while abs(x1 - x2) > accuracy:\n",
    "        x = midpoint(x1, x2)\n",
    "        if have_same_sign(f(x1), f(x)):\n",
    "            x1 = x\n",
    "        elif have_same_sign(f(x), f(x2)):\n",
    "            x2 = x\n",
    "        elif abs(x) < accuracy:\n",
    "            return x\n",
    "\n",
    "    return midpoint(x1, x2)\n",
    "\n",
    "\n",
    "print('E0 = ', find_root(f1, 0.02, 0.75, accuracy))\n",
    "print('E1 = ', find_root(f2, 1, 1.5, accuracy))\n",
    "print('E2 = ', find_root(f1, 2.5, 4.5, accuracy))\n",
    "print('E3 = ', find_root(f2, 5, 6, accuracy))\n",
    "print('E4 = ', find_root(f1, 7.5, 9, accuracy))\n",
    "print('E5 = ', find_root(f2, 10, 12, accuracy))"
   ]
  },
  {
   "cell_type": "code",
   "execution_count": 7,
   "metadata": {},
   "outputs": [
    {
     "name": "stdout",
     "output_type": "stream",
     "text": [
      "326045071.66535544\n",
      "-281474976710656.0\n"
     ]
    }
   ],
   "source": [
    "#exercício 2\n",
    "from scipy import linspace\n",
    "from pylab import plot, show\n",
    "\n",
    "# Constants\n",
    "G = 6.674 * 10 ** -11  # gravitational constant\n",
    "M = 5.974 * 10 ** 24  # mass of earth in kg\n",
    "m = 7.348 * 10 ** 22  # mass of moon in kg\n",
    "R = 3.844 * 10 ** 8  # Radius of earth in m\n",
    "omega = 2.662 * 10 ** -6  # angular velocity of moon\n",
    "accuracy = 10 ** -8\n",
    "\n",
    "\n",
    "def f(r):\n",
    "    return G * M * (R - r) ** 2 - G * m * r ** 2 - omega ** 2 * r ** 3 * (R - r) ** 2\n",
    "\n",
    "\n",
    "def f_prime(r):\n",
    "    return -2 * G * M * (R - r) - 2 * G * m * r - 3 * omega ** 2 * r ** 2 * (R - r) ** 2  \\\n",
    "           + 2 * omega ** 2 * r ** 3 * (R - r)\n",
    "\n",
    "\n",
    "# Plot f to estimate root\n",
    "# r = linspace(0.75 * R, R, 100)\n",
    "# f_vals = list(map(f, r))\n",
    "# plot(r, f_vals, 'o')\n",
    "# show()\n",
    "\n",
    "# From the plot, r = 3.2e8 seems like a good starting value\n",
    "\n",
    "# Solve for the roots of f using Newton's method\n",
    "def find_root(f, g, start_val, accuracy):\n",
    "    x = start_val\n",
    "    delta = f(x) / g(x)\n",
    "    while abs(delta) > accuracy:\n",
    "        delta = f(x) / g(x)\n",
    "        x -= delta\n",
    "\n",
    "    return x\n",
    "\n",
    "\n",
    "# Note that f is a rapidly increasing function away from the root\n",
    "r = find_root(f, f_prime, 3.2 * 10 ** 8, accuracy)\n",
    "print(r)\n",
    "print(f(r))"
   ]
  },
  {
   "cell_type": "code",
   "execution_count": null,
   "metadata": {},
   "outputs": [],
   "source": []
  }
 ],
 "metadata": {
  "kernelspec": {
   "display_name": "Python 3",
   "language": "python",
   "name": "python3"
  },
  "language_info": {
   "codemirror_mode": {
    "name": "ipython",
    "version": 3
   },
   "file_extension": ".py",
   "mimetype": "text/x-python",
   "name": "python",
   "nbconvert_exporter": "python",
   "pygments_lexer": "ipython3",
   "version": "3.8.5"
  }
 },
 "nbformat": 4,
 "nbformat_minor": 4
}
