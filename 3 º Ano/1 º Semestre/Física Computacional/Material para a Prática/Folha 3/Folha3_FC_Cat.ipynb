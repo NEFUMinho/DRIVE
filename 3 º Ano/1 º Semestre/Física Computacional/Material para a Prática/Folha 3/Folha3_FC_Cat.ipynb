{
  "nbformat": 4,
  "nbformat_minor": 0,
  "metadata": {
    "colab": {
      "name": "Folha3_FC",
      "provenance": []
    },
    "kernelspec": {
      "name": "python3",
      "display_name": "Python 3"
    },
    "language_info": {
      "name": "python"
    }
  },
  "cells": [
    {
      "cell_type": "markdown",
      "metadata": {
        "id": "oOhu3OtshUI0"
      },
      "source": [
        "#Exercícios de Física Computacional\n",
        "##Folha 3\n",
        "1. Escreva um programa que calcule a característica de uma matriz.\n",
        "\n"
      ]
    },
    {
      "cell_type": "code",
      "metadata": {
        "id": "PPyc2xaqha-E"
      },
      "source": [
        ""
      ],
      "execution_count": null,
      "outputs": []
    },
    {
      "cell_type": "markdown",
      "metadata": {
        "id": "0wAQOpjhlYPZ"
      },
      "source": [
        "2. O sistema de molas e pesos representado na figura seguinte está em\n",
        "repouso: [desenho de sistema de molas]\n",
        "\n",
        "Mostre que se x1,2,3 forem os deslocamentos correspondentes a cada peso\n",
        "Wi e ki as constantes de cada mola, o sistema de equações que descreve\n",
        "esta situação de equilibrio é dado por: [matriz]\n",
        "\n",
        "Escreva um programa que resolva este sistema de equações. Use este\n",
        "programa para calcular os deslocamentos x1,2,3 dados os seguintes valores:\n",
        "\n",
        "k1 = k3 = k4 = k = 10 N/m k2 = k5 = 2k\n",
        "\n",
        "W1 = W3 = 2W W2 = W = 50 N\n"
      ]
    },
    {
      "cell_type": "code",
      "metadata": {
        "id": "mWCO_qOdlop2"
      },
      "source": [
        "import numpy as np\n",
        "def pivo(m):\n",
        "    n = len(m)\n",
        "    for j in range(n):\n",
        "      p = abs(m[j][j])                                                    \n",
        "      lp = j                                                                 \n",
        "      for i in range (j+1, n):                                              \n",
        "          if abs(m[i][j])>p:        \n",
        "              p = abs(m[i][j])          \n",
        "              lp = i                                  \n",
        "      if lp > j:                                                  \n",
        "          for k in range (j, n+1):                                         \n",
        "              m[j][k],m[lp][k] = m[lp][k],m[j][k]     \n",
        "      return m\n",
        "\n",
        "def gauss(b,linhas,colunas):\n",
        "  b=np.float_(b)\n",
        "  for c in range(colunas): \n",
        "    l=c+1\n",
        "    while l<linhas : \n",
        "      pivo(b)\n",
        "      if b[l][c]!=0: \n",
        "        b[l]-=(b[l][c]/b[c][c])*b[c] \n",
        "      l+=1                            \n",
        "  print('Matriz após o método de eliminação de gauss: \\n',b)\n",
        "  \n",
        "  n=linhas-1 \n",
        "  c=colunas-1 \n",
        "  result=np.zeros(linhas) \n",
        "  while n>-1:\n",
        "    if b[n][n]==0:\n",
        "      for i in range(n+1,colunas):  \n",
        "        if b[n][i]!=0:\n",
        "          return 'Sistema impossível!'\n",
        "      return 'Sistema possível indeterminado!' \n",
        "    result[n]=b[n][c]/b[n][n]\n",
        "    for a in range(n+1,linhas):\n",
        "      result[n]-=(b[n][a]*result[a])/b[n][n]\n",
        "    n-=1 \n",
        "  return result"
      ],
      "execution_count": null,
      "outputs": []
    },
    {
      "cell_type": "code",
      "metadata": {
        "id": "_MLUu9Oulsl4"
      },
      "source": [
        "def função(k1,k2,k3,k4,k5,W1,W2,W3):\n",
        "  m=np.zeros((3,4))\n",
        "  m[0][0]=k1+k2+k3+k5\n",
        "  m[0][1]=m[1][0]=-k3\n",
        "  m[0][2]=m[2][0]=-k5\n",
        "  m[0][3]=W1\n",
        "  m[1][1]=k3+k4\n",
        "  m[1][2]=m[2][1]=-k4\n",
        "  m[1][3]=W2\n",
        "  m[2][2]=k4+k5\n",
        "  m[2][3]=W3\n",
        "\n",
        "  r=gauss(m,3,4)\n",
        "  for i in range(len(r)):\n",
        "    print('O deslocamento x'+str(i+1)+' é:'+str(round(r[i],2)))"
      ],
      "execution_count": null,
      "outputs": []
    },
    {
      "cell_type": "code",
      "metadata": {
        "id": "rUQj-NenluNA"
      },
      "source": [
        "k1=float(input('Introduza o k1: '))\n",
        "k2=float(input('Introduza o k2: '))\n",
        "k3=float(input('Introduza o k3: '))\n",
        "k4=float(input('Introduza o k4: '))\n",
        "k5=float(input('Introduza o k5: '))\n",
        "W1=float(input('Introduza o W1: '))\n",
        "W2=float(input('Introduza o W2: '))\n",
        "W3=float(input('Introduza o W3: '))\n",
        "função(k1,k2,k3,k4,k5,W1,W2,W3)"
      ],
      "execution_count": null,
      "outputs": []
    },
    {
      "cell_type": "code",
      "metadata": {
        "id": "SczKI3kolwpS"
      },
      "source": [
        "k1=k3=k4=k=10\n",
        "k2=k5=2*k\n",
        "W2=W=50\n",
        "W1=W3=2*W\n",
        "função(k1,k2,k3,k4,k5,W1,W2,W3)"
      ],
      "execution_count": null,
      "outputs": []
    }
  ]
}