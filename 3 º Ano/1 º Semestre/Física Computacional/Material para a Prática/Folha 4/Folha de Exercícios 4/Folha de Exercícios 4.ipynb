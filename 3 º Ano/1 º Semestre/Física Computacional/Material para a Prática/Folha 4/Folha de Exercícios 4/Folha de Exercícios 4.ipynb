{
 "cells": [
  {
   "cell_type": "code",
   "execution_count": 43,
   "metadata": {},
   "outputs": [
    {
     "data": {
      "image/png": "[encoded data removed]",
      "text/plain": [
       "<Figure size 432x288 with 1 Axes>"
      ]
     },
     "metadata": {
      "needs_background": "light"
     },
     "output_type": "display_data"
    }
   ],
   "source": [
    "#Exercício 3\n",
    "import numpy as np\n",
    "import pylab as pl\n",
    "\n",
    "def f(x):\n",
    "    y=(3*np.exp(x))/(x**2 + x + 1)\n",
    "    return y\n",
    "\n",
    "\n",
    "\n",
    "#def f_2(x):\n",
    "#    y=f(0)\n",
    "#    z=(y**3 * (x-3)**3)/(np.math.factorial(3))\n",
    "\n",
    "\n",
    "x=np.linspace(-3,3,100)\n",
    "\n",
    "\n",
    "pl.plot(x,f(x))\n",
    "pl.show()\n",
    "#pl.plot(x,f_2(x))\n",
    "#pl.show()"
   ]
  },
  {
   "cell_type": "code",
   "execution_count": null,
   "metadata": {},
   "outputs": [],
   "source": [
    "#Exercício 5\n",
    "import math as mt\n",
    "a_s=mt.pi\n",
    "b_s=0\n",
    "a_e=2.5\n",
    "b_e=0\n",
    "#a)\n",
    "#sen\n",
    "def f_1(x):\n",
    "    y=mt.sin(x)\n",
    "    return y\n",
    "def d_f_1_1(x):\n",
    "    y=mt.cos(x)\n",
    "    return y\n",
    "def d_f_1_2(xN,xe,n):\n",
    "    s=0\n",
    "    h=(xN-x0)/n\n",
    "    for i in range(0,n):\n",
    "        s_=f_1(xe+h/2.0)\n",
    "        s+=tmp\n",
    "    return(h*s)\n",
    "\n",
    "#exp\n",
    "def f_2(x):\n",
    "    y=mt.exp(x)\n",
    "    return y\n",
    "def d_f_2_1(x):\n",
    "    y=x*mt.exp(x)\n",
    "    return y\n",
    "def d_f_2_2(x):\n",
    "    s=0\n",
    "    h=(xN-x0)/n\n",
    "        for i in range(0,n):\n",
    "            s_=f_1(xe+h/2.0)\n",
    "            s+=tmp\n",
    "    return(h*s)\n",
    "\n",
    "d_f_1_2(b_s,a_s,n)"
   ]
  }
 ],
 "metadata": {
  "kernelspec": {
   "display_name": "Python 3",
   "language": "python",
   "name": "python3"
  },
  "language_info": {
   "codemirror_mode": {
    "name": "ipython",
    "version": 3
   },
   "file_extension": ".py",
   "mimetype": "text/x-python",
   "name": "python",
   "nbconvert_exporter": "python",
   "pygments_lexer": "ipython3",
   "version": "3.8.3"
  }
 },
 "nbformat": 4,
 "nbformat_minor": 4
}
