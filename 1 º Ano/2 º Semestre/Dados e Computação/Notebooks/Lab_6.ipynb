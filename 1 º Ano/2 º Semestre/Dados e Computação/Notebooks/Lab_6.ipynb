{
  "cells": [
    {
      "cell_type": "markdown",
      "source": [
        "## RECAP\n",
        "### Inserção Ordenada\n",
        "Pretende-se definir uma função de inserção ordenada como se segue:\n",
        "* a função recebe um array e dois índices: `insert(u,a,b)` \n",
        "* quando a função é chamada, o array encontra-se ordenado entre as posições a e b-1\n",
        "* à saída da função, o array estará ordenado entre as posições a e b, ou seja, o último elemento foi inserido  na parte ordenada.\n",
        "\n",
        "Por exemplo, se u1 = [10,20,30,40,25] temos \n",
        "que `insert(u1,0,4)` produz o array [10,20,25,30,40]. \n",
        " \n",
        "Defina esta função de forma iterativa. \n",
        "\n",
        "**TPC**: defina também uma versão recursiva! "
      ],
      "metadata": {
        "id": "0EAEBnWJwi9J"
      },
      "id": "0EAEBnWJwi9J"
    },
    {
      "cell_type": "code",
      "source": [
        "def insert (u,a,b) :\n",
        "    if b<a : return\n",
        "    key = u[b]\n",
        "    i = b-1\n",
        "    while i>=a and u[i] > key :\n",
        "        u[i+1] = u[i]\n",
        "        i-=1\n",
        "    u[i+1] = key\n",
        "\n",
        "\n",
        "u = [10,20,30,40,25]\n",
        "insert (u,0,4)\n",
        "print(u)\n",
        "u = [10,20,30,40,5]\n",
        "insert (u,0,4)\n",
        "print(u)\n",
        "u = [10,20,30,40,50]\n",
        "insert (u,0,4)\n",
        "print(u)\n",
        "u = [10,20,30,40,5]\n",
        "insert (u,2,4)\n",
        "print(u)\n"
      ],
      "metadata": {
        "colab": {
          "base_uri": "https://localhost:8080/"
        },
        "id": "tMkNEeHGwlNX",
        "outputId": "1eca4b30-f757-4f1e-a9e9-d4379721e7ba"
      },
      "id": "tMkNEeHGwlNX",
      "execution_count": null,
      "outputs": [
        {
          "output_type": "stream",
          "name": "stdout",
          "text": [
            "[10, 20, 25, 30, 40]\n",
            "[5, 10, 20, 30, 40]\n",
            "[10, 20, 30, 40, 50]\n",
            "[10, 20, 5, 30, 40]\n"
          ]
        }
      ]
    },
    {
      "cell_type": "markdown",
      "id": "tired-scott",
      "metadata": {
        "id": "tired-scott"
      },
      "source": [
        "## RECAP\n",
        "## Insertion Sort\n",
        "Tal como no *selection sort*, em cada passo o array terá uma parte já ordenada, no início, seguindo-se elementos ainda não ordenados. Em cada passo do algoritmo insere-se  o elemento seguinte na parte já ordenada. \n",
        "\n",
        "[**40**, 20, 10, 30, 60, 0, 80]\n",
        "\n",
        "[**20, 40**, 10, 30, 60, 0, 80]\n",
        "\n",
        "[**10, 20, 40**, 30, 60, 0, 80]\n",
        "\n",
        "[**10, 20, 30, 40**, 60, 0, 80]\n",
        "\n",
        "[**10, 20, 30, 40, 60**, 0, 80]\n",
        "\n",
        "[**0, 10, 20, 30, 40, 60**, 80]\n",
        "\n",
        "[**0, 10, 20, 30, 40, 60, 80**]\n",
        "\n",
        "\n",
        "É útil reflectir um momento sobre as semelhanças e diferenças entre os algoritmos *selection sort* e *insertion sort*. \n",
        "\n",
        "1. Em que parte do array se concentra o trabalho efectuado em cada iteração por cada um deles? \n",
        "2. Poder-se-á dizer em algum dos algoritmos que os elementos da parte ordenada ficarão nas suas posições até ao final da execução? \n",
        "3. E quanto ao tempo de execução, será parecido ou muito diferente entre os dois? \n",
        "\n",
        "\n",
        "\n",
        "### Exercício (TPC)\n",
        "Escreva duas funções que implementem este algoritmo:\n",
        "1. utilizando como função auxiliar a função anterior de inserção ordenada\n",
        "2. sem utilizar qualquer função auxiliar\n",
        "\n"
      ]
    },
    {
      "cell_type": "code",
      "execution_count": null,
      "id": "shaped-australia",
      "metadata": {
        "id": "shaped-australia",
        "outputId": "972d28ce-11ab-4ad6-cd18-86e0b330fc34",
        "colab": {
          "base_uri": "https://localhost:8080/"
        }
      },
      "outputs": [
        {
          "output_type": "stream",
          "name": "stdout",
          "text": [
            "[40, 20, 10, 30, 60, 0, 80]\n",
            "[20, 40, 10, 30, 60, 0, 80]\n",
            "[10, 20, 40, 30, 60, 0, 80]\n",
            "[10, 20, 30, 40, 60, 0, 80]\n",
            "[10, 20, 30, 40, 60, 0, 80]\n",
            "[0, 10, 20, 30, 40, 60, 80]\n",
            "[0, 10, 20, 30, 40, 60, 80]\n",
            "[0, 10, 20, 30, 40, 60, 80]\n"
          ]
        }
      ],
      "source": [
        "def insert (u,a,b) :\n",
        "    if b<a : return\n",
        "    key = u[b]\n",
        "    i = b-1\n",
        "    while i>=a and u[i] > key :\n",
        "        u[i+1] = u[i]\n",
        "        i-=1\n",
        "    u[i+1] = key\n",
        "\n",
        "def iSort (u) :\n",
        "    for j in range(len(u)) :\n",
        "        insert(u,0,j)\n",
        "        print(u)\n",
        "\n",
        "\n",
        "u1 = [40,20,10,30,60,0,80]\n",
        "iSort (u1)\n",
        "print (u1)"
      ]
    },
    {
      "cell_type": "code",
      "execution_count": null,
      "id": "interior-asset",
      "metadata": {
        "id": "interior-asset",
        "outputId": "5b77e509-0ffb-42ff-de14-9950cd9e33e1"
      },
      "outputs": [
        {
          "name": "stdout",
          "output_type": "stream",
          "text": [
            "\t [40, 40, 10, 30, 60, 0, 8]\n",
            "[20, 40, 10, 30, 60, 0, 8]\n",
            "\t [20, 40, 40, 30, 60, 0, 8]\n",
            "\t [20, 20, 40, 30, 60, 0, 8]\n",
            "[10, 20, 40, 30, 60, 0, 8]\n",
            "\t [10, 20, 40, 40, 60, 0, 8]\n",
            "[10, 20, 30, 40, 60, 0, 8]\n",
            "[10, 20, 30, 40, 60, 0, 8]\n",
            "\t [10, 20, 30, 40, 60, 60, 8]\n",
            "\t [10, 20, 30, 40, 40, 60, 8]\n",
            "\t [10, 20, 30, 30, 40, 60, 8]\n",
            "\t [10, 20, 20, 30, 40, 60, 8]\n",
            "\t [10, 10, 20, 30, 40, 60, 8]\n",
            "[0, 10, 20, 30, 40, 60, 8]\n",
            "[0, 10, 20, 30, 40, 60, 8]\n"
          ]
        }
      ],
      "source": [
        "def iSort (l) :\n",
        "    for j in range(1, len(l)) :\n",
        "        key = l[j]\n",
        "        i = j-1\n",
        "        while i>=0 and l[i] > key :\n",
        "            l[i+1] = l[i]\n",
        "            i-=1\n",
        "            print(\"\\t\",l)\n",
        "        l[i+1] = key\n",
        "        print(l)\n",
        "\n",
        "\n",
        "lista1 = [40,20,10,30,60,0,8]\n",
        "iSort (lista1)\n",
        "print (lista1)"
      ]
    },
    {
      "cell_type": "markdown",
      "id": "tamil-crest",
      "metadata": {
        "id": "tamil-crest"
      },
      "source": [
        "\n",
        "# Algoritmos de Divisão e Conquista\n",
        "\n",
        "## Fusão Ordenada \n",
        "Escreva uma função de *fusão de listas/arrays ordenados*. Deve receber um array e comportar-se da seguinte forma: \n",
        "\n",
        "u = [0, 10, 20, 30, 40, 60, 80, 5, 8, 31, 100]\n",
        "\n",
        "A chamada merge (u, 0, 6, len(u)-1)\n",
        "\n",
        "Deve produzir como resultado: \n",
        "\n",
        "[0, 5, 8, 10, 20, 30, 31, 40, 60, 80, 100]\n",
        "\n",
        "#### Sugestão\n",
        "Comece por copiar as duas partes do array para dois arrays auxiliares a1 e a2. No exemplo acima, depois desta cópia teremos a1 = [0, 10, 20, 30, 40, 60, 80] e a2 = [5, 8, 31, 100]. Depois haverá que preencher de novo o array inicial, começando pelo início, e copiando o menor dos elementos de a1 **ou** a2 ainda não copiados.\n"
      ]
    },
    {
      "cell_type": "markdown",
      "id": "american-veteran",
      "metadata": {
        "id": "american-veteran"
      },
      "source": [
        "## Mergesort\n",
        "Em seguida implemente o algoritmo mergesort, na sua versão *inplace*, alterando directamente o array recebido.\n",
        "\n",
        "A ideia é partir a sequência em dois segmentos de igual comprimento, e em seguida ordenar recursivamente cada um. É por isso aquilo a que se chama um algoritmo baseado na estratégia de **divisão e conquista**.\n",
        "\n",
        "Não se esqueça dos casos de paragem, e de considerar que o comprimento do array pode ser ímpar.\n",
        "\n",
        "\n"
      ]
    },
    {
      "cell_type": "code",
      "execution_count": null,
      "id": "lesbian-microphone",
      "metadata": {
        "id": "lesbian-microphone",
        "outputId": "06069f7b-9688-4aab-eea4-72ac51ce1a65",
        "colab": {
          "base_uri": "https://localhost:8080/"
        }
      },
      "outputs": [
        {
          "output_type": "stream",
          "name": "stdout",
          "text": [
            "[0, 5, 8, 10, 20, 30, 31, 40, 60, 80, 100]\n"
          ]
        }
      ],
      "source": [
        "import sys\n",
        "\n",
        "def merge (a, p, q, r) :\n",
        "    n1, n2 = q-p+1, r-q\n",
        "    a1, a2 = [0]*(n1+1), [0]*(n2+1)\n",
        "    for i in range(n1) : \n",
        "        a1[i] = a[p+i]\n",
        "    a1[i+1] = sys.maxsize\n",
        "    for j in range (n2) :    \n",
        "        a2[j] =  a[q+j+1]\n",
        "    a2[j+1] = sys.maxsize\n",
        "\n",
        "    i, j = 0, 0\n",
        "    for k in range(p,r+1) :\n",
        "        if a1[i] <= a2[j] :    \n",
        "            a[k] = a1[i]\n",
        "            i+=1\n",
        "        else :\n",
        "            a[k] = a2[j]\n",
        "            j+=1\n",
        "        \n",
        "        \n",
        "        \n",
        "u = [0, 10, 20, 30, 40, 60, 80, 5, 8, 31, 100]\n",
        "merge (u, 0, 6, len(u)-1)\n",
        "print(u)"
      ]
    },
    {
      "cell_type": "code",
      "execution_count": null,
      "id": "included-judge",
      "metadata": {
        "id": "included-judge",
        "colab": {
          "base_uri": "https://localhost:8080/"
        },
        "outputId": "19f7a432-9904-4be9-f765-51af6de659f8"
      },
      "outputs": [
        {
          "output_type": "stream",
          "name": "stdout",
          "text": [
            "[0, 10, 20, 30, 40, 60, 80]\n"
          ]
        }
      ],
      "source": [
        "def mSort(v, l, u) :\n",
        "    if u > l :\n",
        "        m = l + round((u-l)/2)\n",
        "        mSort(v, l, m)\n",
        "        mSort(v, m+1, u)\n",
        "        merge(v, l, m, u)\n",
        "\n",
        "        \n",
        "u = [40,20,10,30,60,0,80]\n",
        "mSort(u, 0, len(u)-1)\n",
        "print(u)\n"
      ]
    },
    {
      "cell_type": "markdown",
      "id": "narrative-party",
      "metadata": {
        "id": "narrative-party"
      },
      "source": [
        "## Partição de um array\n",
        "Esta função deve separar um array em duas partes utilizando como critério um *pivot*, um dos elementos do array (por exemplo o último). Os elementos superiores ao pivot ficarão à direita no array final, e os outros à esquerda, sendo o pivot colocado entre estes dois segmentos. A função deve ainda devolver como resultado um indice, correspondente à posição final do pivot. \n",
        "\n",
        "Por exemplo\n",
        "\n",
        "v = [40, 20, 10, 80, 60, 0, 30]\n",
        "\n",
        "`p = partition (v, 0, len(u)-1)`\n",
        "\n",
        "\n",
        "produz como resultado 3, sendo o conteúdo do array alterado para o seguinte. Note que a ordem relativa dos elementos dentro de cada segmento não é importante.\n",
        "\n",
        "[20, 10, 0, **30**, 60, 40, 80]\n",
        "\n",
        "> Note que o número de elementos colocados à esquerda e à direita do pivot pode não ser igual! Se tivéssemos usado como pivot o primeiro elemento em vez do último, a partição seria algo como: \n",
        "\n",
        "> [20, 10, 0, 30, **40**, 80, 60].\n",
        "\n",
        "Para a partição sugere-se o seguinte algoritmo: percorrer o array através de um ciclo, mantendo-se em cada passo os elementos que *já foram vistos* separados em dois segmentos: os inferiores ao pivot e os superiores. Mantém-se uma variável com o índice correspondente à fronteira entre estas duas partes (último da primeira ou primeiro da segunda).\n",
        "\n",
        "[**40,** 20, 10, 80, 60, 0, 30]\n",
        "\n",
        "[*20,* **40,** 10, 80, 60, 0, 30]\n",
        "\n",
        "[*20, 10,* **40,** 80, 60, 0, 30]\n",
        "\n",
        "[*20, 10,* **40, 80,** 60, 0, 30]\n",
        "\n",
        "[*20, 10,* **40, 80, 60,** 0, 30]\n",
        "\n",
        "[*20, 10, 0,* **80, 60, 40,** 30]\n",
        "\n",
        "Terminado este ciclo, o pivot poderá ser colocado entre os dois segmentos, bastando fazer uma operação *swap* com o primeiro elemento do segundo segmento\n",
        "\n",
        "[20, 10, 0, **30**, 60, 40, 80] \n",
        "\n",
        "Note-se que a função deverá devolver um resultado: o índice do array onde foi colocado o pivot. Neste caso o resultado seria 3.\n",
        "\n",
        "\n"
      ]
    },
    {
      "cell_type": "markdown",
      "id": "british-yacht",
      "metadata": {
        "id": "british-yacht"
      },
      "source": [
        "## Quicksort\n",
        "O quicksort não é mais do que a ordenação por divisão e conquista com base na função de partição. Tomando de novo o exemplo de há pouco, partindo do array\n",
        "v = [40, 20, 10, 80, 60, 0, 30]\n",
        "tínhamos obtido a sua partição\n",
        "[20, 10, 0, **30**, 60, 40, 80]\n",
        "\n",
        "\n",
        "Para continuar a ordenação basta agora *recursivamente ordenar* os segmentos [20, 10, 0] e [60, 40, 80] do array. Para isto é importante que a função quicksort receba como parâmetros, além do array, os índices entre os quais será feita a ordenação, uma vez que serão efectuadas diversas chamadas de ordenação, trabalhando em segmentos diferentes. \n",
        "\n",
        "\n",
        "Note-se que, depois de ordenados estes segmentos, não haverá nada mais a fazer:\n",
        "\n",
        "[0, 10, 20, **30**, 40, 60, 80]\n",
        "\n",
        "> Observação: enquanto no algoritmo *mergesort* o esforço computacional está situado *depois do passo recursivo*, quando é feita a fusão ordenada (e o passo de divisão do input é trivial), no caso do *quicksort* o esforço encontra-se no passo de divisão do input, antes das chamadas recursivas, sendo a combinação dos resultados das chamadas recursivas trivial.\n",
        "\n"
      ]
    },
    {
      "cell_type": "code",
      "source": [
        ""
      ],
      "metadata": {
        "id": "B6eOM-hurJkp"
      },
      "id": "B6eOM-hurJkp",
      "execution_count": null,
      "outputs": []
    }
  ],
  "metadata": {
    "kernelspec": {
      "display_name": "Python 3",
      "language": "python",
      "name": "python3"
    },
    "language_info": {
      "codemirror_mode": {
        "name": "ipython",
        "version": 3
      },
      "file_extension": ".py",
      "mimetype": "text/x-python",
      "name": "python",
      "nbconvert_exporter": "python",
      "pygments_lexer": "ipython3",
      "version": "3.9.2"
    },
    "colab": {
      "name": "Lab 6.ipynb",
      "provenance": []
    }
  },
  "nbformat": 4,
  "nbformat_minor": 5
}