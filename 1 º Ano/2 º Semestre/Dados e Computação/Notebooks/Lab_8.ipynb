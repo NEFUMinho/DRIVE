{
  "cells": [
    {
      "cell_type": "markdown",
      "metadata": {
        "id": "Dz2gzcDm_-Fa"
      },
      "source": [
        "# Grafos Orientados"
      ]
    },
    {
      "cell_type": "markdown",
      "source": [
        ""
      ],
      "metadata": {
        "id": "8OmMSzhZ2iRa"
      }
    },
    {
      "cell_type": "markdown",
      "metadata": {
        "id": "TVQX1Hs7_-Fc"
      },
      "source": [
        "## Representação de grafos por dicionários"
      ]
    },
    {
      "cell_type": "code",
      "execution_count": null,
      "metadata": {
        "id": "JO8w4wc1_-Fd",
        "outputId": "ea99fd16-9208-43cb-8363-85bebba3a0ba"
      },
      "outputs": [
        {
          "name": "stdout",
          "output_type": "stream",
          "text": [
            "{1: [2], 2: [2, 4, 5], 3: [], 4: [1, 5], 5: [4], 6: [3]}\n",
            "<class 'dict'>\n",
            "<class 'list'>\n"
          ]
        }
      ],
      "source": [
        "g = {}\n",
        "\n",
        "g[1] = [2]\n",
        "g[2] = [2,4,5]\n",
        "g[3] = []\n",
        "g[4] = [1,5]\n",
        "g[5] = [4]\n",
        "g[6] = [3]\n",
        "\n",
        "print(g)\n",
        "print(type(g))\n",
        "print(type(g[1]))\n"
      ]
    },
    {
      "cell_type": "code",
      "execution_count": null,
      "metadata": {
        "id": "FubR2vJu_-Ff",
        "outputId": "d93acee2-a2c4-4fa6-84bc-617e8ec3a030"
      },
      "outputs": [
        {
          "name": "stdout",
          "output_type": "stream",
          "text": [
            "1 --> [2]\n",
            "2 --> [2, 4, 5]\n",
            "3 --> []\n",
            "4 --> [1, 5]\n",
            "5 --> [4]\n",
            "6 --> [3]\n"
          ]
        }
      ],
      "source": [
        "for u in g :\n",
        "    print(u, \"-->\", g[u])"
      ]
    },
    {
      "cell_type": "code",
      "execution_count": null,
      "metadata": {
        "id": "CPLhUq1G_-Fg",
        "outputId": "8ed807be-7dbd-48d2-857d-1cafc1de8d1a"
      },
      "outputs": [
        {
          "name": "stdout",
          "output_type": "stream",
          "text": [
            "V= {1, 2, 3, 4, 5, 6}\n",
            "E=\n",
            "( 1 , 2 )\n",
            "( 2 , 2 )\n",
            "( 2 , 4 )\n",
            "( 2 , 5 )\n",
            "( 4 , 1 )\n",
            "( 4 , 5 )\n",
            "( 5 , 4 )\n",
            "( 6 , 3 )\n"
          ]
        }
      ],
      "source": [
        "print(\"V=\", set(g))\n",
        "print(\"E=\")\n",
        "for u in g :\n",
        "    for v in g[u] :\n",
        "        print(\"(\",u,\",\",v,\")\")"
      ]
    },
    {
      "cell_type": "code",
      "source": [
        ""
      ],
      "metadata": {
        "id": "PuF8hXXSZbWc"
      },
      "execution_count": null,
      "outputs": []
    },
    {
      "cell_type": "markdown",
      "metadata": {
        "id": "9OeHQKnH_-Fg"
      },
      "source": [
        "### Exercícios\n",
        "\n",
        "1. O _grau de entrada_ de um vértice define-se como o número de arestas que têm como _destino_ aquele vértice. Escreva uma função que calcule o grau de saída de _todos os vértices_ de um dado grafo, de forma tão eficiente quanto possível\n",
        "\n",
        "2. O _grau de saída_ de um vértice define-se como o número de arestas com origem naquele vértice. Escreva uma função que calcule o grau de entrada de _todos os vértices_ de um dado grafo\n",
        "\n",
        "\n"
      ]
    },
    {
      "cell_type": "code",
      "execution_count": null,
      "metadata": {
        "id": "pPRwMsOZ_-Fl",
        "outputId": "28652dda-8c3f-4b9b-d970-e761ae296c42"
      },
      "outputs": [
        {
          "name": "stdout",
          "output_type": "stream",
          "text": [
            "{1: 1, 2: 3, 3: 0, 4: 2, 5: 1, 6: 1}\n"
          ]
        }
      ],
      "source": [
        "def outDegree(g) :\n",
        "    outdeg = {}\n",
        "    for v in g:\n",
        "        outdeg[v] = len(g[v])\n",
        "    return outdeg    \n",
        "\n",
        "print(outDegree(g))"
      ]
    },
    {
      "cell_type": "code",
      "source": [
        "g = {}\n",
        "\n",
        "g[1] = [2]\n",
        "g[2] = [2,4,5]\n",
        "g[3] = []\n",
        "g[4] = [1,5]\n",
        "g[5] = [4]\n",
        "g[6] = [3]\n",
        "\n",
        "def outDegree(g) :\n",
        "    outdeg = {}\n",
        "    for v in g:\n",
        "        outdeg[v] = 0\n",
        "        for k in g[v] :\n",
        "          outdeg[v] += 1\n",
        "    return outdeg    \n",
        "\n",
        "print(outDegree(g))"
      ],
      "metadata": {
        "colab": {
          "base_uri": "https://localhost:8080/"
        },
        "id": "zkdPReYDZeNP",
        "outputId": "b0bc33d8-e1f3-41af-b459-6166d7e5584d"
      },
      "execution_count": null,
      "outputs": [
        {
          "output_type": "stream",
          "name": "stdout",
          "text": [
            "{1: 1, 2: 3, 3: 0, 4: 2, 5: 1, 6: 1}\n"
          ]
        }
      ]
    },
    {
      "cell_type": "code",
      "execution_count": null,
      "metadata": {
        "id": "r00kvaCl_-Fl",
        "outputId": "e94fc388-66e2-48c5-e3f0-78502e277885",
        "colab": {
          "base_uri": "https://localhost:8080/"
        }
      },
      "outputs": [
        {
          "output_type": "stream",
          "name": "stdout",
          "text": [
            "{1: 1, 2: 2, 3: 1, 4: 2, 5: 2, 6: 0}\n"
          ]
        }
      ],
      "source": [
        "def inDegree(g) :\n",
        "    indeg = {}\n",
        "    for v in g:\n",
        "        indeg[v] = 0\n",
        "    for v in g:\n",
        "        for a in g[v]: \n",
        "            indeg[a] += 1\n",
        "            \n",
        "    return indeg    \n",
        "\n",
        "print(inDegree(g))"
      ]
    },
    {
      "cell_type": "markdown",
      "metadata": {
        "id": "wrPySNna_-Fh"
      },
      "source": [
        "## Travessia de Grafos em Profundidade\n"
      ]
    },
    {
      "cell_type": "code",
      "execution_count": null,
      "metadata": {
        "id": "9tY-2MXi_-Fh"
      },
      "outputs": [],
      "source": [
        "def visit(g, s):\n",
        "    color[s] = 'GRAY'\n",
        "    print (s, 'GRAY')\n",
        "    for v in g[s]:\n",
        "   #     if color[v] == 'GRAY':\n",
        "   #         print(\"ciclo detectado no vértice \", v)\n",
        "   #     if color[v] == 'BLACK':\n",
        "   #         print(\"vértice \", v, \"já visitado\")\n",
        "\n",
        "        if color[v] == 'WHITE':\n",
        "            visit(g, v)\n",
        "    color[s] = 'BLACK'\n",
        "    print (s, 'BLACK')\n"
      ]
    },
    {
      "cell_type": "code",
      "execution_count": null,
      "metadata": {
        "id": "fv2YaLjl_-Fi",
        "outputId": "ce91e468-b2bc-402c-858e-1b6496e449cb",
        "colab": {
          "base_uri": "https://localhost:8080/"
        }
      },
      "outputs": [
        {
          "output_type": "stream",
          "name": "stdout",
          "text": [
            "1 GRAY\n",
            "2 GRAY\n",
            "4 GRAY\n",
            "5 GRAY\n",
            "5 BLACK\n",
            "4 BLACK\n",
            "2 BLACK\n",
            "1 BLACK\n",
            "\n",
            "4 GRAY\n",
            "1 GRAY\n",
            "2 GRAY\n",
            "5 GRAY\n",
            "5 BLACK\n",
            "2 BLACK\n",
            "1 BLACK\n",
            "4 BLACK\n"
          ]
        }
      ],
      "source": [
        "color = {}\n",
        "for v in g:\n",
        "    color[v] = 'WHITE'\n",
        "\n",
        "visit(g,1)    \n",
        "print()\n",
        "\n",
        "color = {}\n",
        "for v in g:\n",
        "    color[v] = 'WHITE'\n",
        "\n",
        "visit(g,4)    \n",
        "\n"
      ]
    },
    {
      "cell_type": "code",
      "execution_count": null,
      "metadata": {
        "scrolled": true,
        "id": "_xVFs8nS_-Fj",
        "outputId": "8b729269-7ee6-4457-82b8-1b85539b46c0"
      },
      "outputs": [
        {
          "name": "stdout",
          "output_type": "stream",
          "text": [
            "6 GRAY\n",
            "3 GRAY\n",
            "3 BLACK\n",
            "6 BLACK\n"
          ]
        }
      ],
      "source": [
        "color = {}\n",
        "for v in g:\n",
        "    color[v] = 'WHITE'\n",
        "\n",
        "visit(g,6)    \n"
      ]
    },
    {
      "cell_type": "markdown",
      "metadata": {
        "id": "rGqDbKn6_-Fk"
      },
      "source": [
        "### Exercícios\n",
        "\n",
        "1. Escreva uma função que conte o número de vértices alcançáveis a partir de um vértice num grafo orientado\n",
        "\n",
        "2. O algoritmo de travessia definido parte de um vértice `s` dado e não abrange os vértices não alcançáveis a partir dele. Escreva uma função `visit_all` que recebe um grafo e inicia uma ou mais travessias, com origem em diferentes vértices, até que todo o grafo tenha sido visitado. Ao contrário de `visit`, a função deverá inicializar o dicionário `color`. \n",
        "\n",
        "3. Chama-se _árvore de travessia_ ao sub-grafo constituído pelas arestas percorridas por uma travessia, ao descobrir novos vértices (i.e. vértices que ainda se encontram brancos no momento em que são alcançados pela travessia). Escreva uma função de travessia que construa esta árvore, representando-a por um _dicionário_ que indica qual o vértice a partir do qual cada vértice é alcançado. \n",
        "\n",
        "4. Altere a sua função de travessia por forma a que todos os caminhos sejam percorridos na exploração do grafo a partir do vértice s (ver slides). Note que esta travessia alterada alcançará cada vértice mais do que uma vez, através de caminhos diferentes, mas continuará a evitar os ciclos. \n",
        "\n",
        "5. Um grafo diz-se não-orientado se é fechado simetricamente, ou seja se existe uma aresta (x,y) então existe também a aresta (y,x). Um _componente ligado_ de um grafo não-orientado é um sub-grafo em que todos os vértices são alcançáveis a partir de qualquer vértice. Escreva uma função que conte o número de componentes de um grafo não-orientado.\n"
      ]
    },
    {
      "cell_type": "code",
      "execution_count": null,
      "metadata": {
        "id": "VPAO-8iH_-Fm",
        "outputId": "4779bcab-acee-489f-c5b1-37eed77db993"
      },
      "outputs": [
        {
          "name": "stdout",
          "output_type": "stream",
          "text": [
            "3\n",
            "3\n",
            "0\n",
            "3\n",
            "3\n",
            "1\n"
          ]
        }
      ],
      "source": [
        "def count_reachable(g, s):\n",
        "    c = 1\n",
        "    color[s] = 'GRAY'\n",
        "    for v in g[s]:\n",
        "        if color[v] == 'WHITE':\n",
        "            c += count_reachable(g, v)\n",
        "    color[s] = 'BLACK'\n",
        "    return c\n",
        "\n",
        "def count_reachable_top(g, s):\n",
        "    for v in g:\n",
        "        color[v] = 'WHITE'\n",
        "    return count_reachable(g, s)-1\n",
        "\n",
        "    \n",
        "    \n",
        "\n",
        "print (count_reachable_top(g, 1))\n",
        "print (count_reachable_top(g, 2))\n",
        "print (count_reachable_top(g, 3))\n",
        "print (count_reachable_top(g, 4))\n",
        "print (count_reachable_top(g, 5))\n",
        "print (count_reachable_top(g, 6))\n",
        "\n",
        "\n",
        "       "
      ]
    },
    {
      "cell_type": "code",
      "execution_count": null,
      "metadata": {
        "id": "jrTktODV_-Fn",
        "outputId": "bbfe43a3-3032-4763-eff2-55a6c877a398"
      },
      "outputs": [
        {
          "name": "stdout",
          "output_type": "stream",
          "text": [
            "1 GRAY\n",
            "2 GRAY\n",
            "4 GRAY\n",
            "5 GRAY\n",
            "5 BLACK\n",
            "4 BLACK\n",
            "2 BLACK\n",
            "1 BLACK\n",
            "3 GRAY\n",
            "3 BLACK\n",
            "6 GRAY\n",
            "6 BLACK\n"
          ]
        }
      ],
      "source": [
        "def visit_all(g):\n",
        "    for v in g:\n",
        "        color[v] = 'WHITE'\n",
        "    \n",
        "    for v in g:\n",
        "        if color[v] == 'WHITE':\n",
        "            visit(g, v)\n",
        "\n",
        "visit_all(g)                "
      ]
    },
    {
      "cell_type": "code",
      "execution_count": null,
      "metadata": {
        "id": "gLAF4WqG_-Fn",
        "outputId": "9d8a32cf-f8c3-4c37-f63e-bec22739c4b9",
        "colab": {
          "base_uri": "https://localhost:8080/"
        }
      },
      "outputs": [
        {
          "output_type": "stream",
          "name": "stdout",
          "text": [
            "{1: -1, 2: 1, 3: 1, 4: 3, 5: 4}\n"
          ]
        }
      ],
      "source": [
        "g = {}\n",
        "\n",
        "g[1] = [3,2]\n",
        "g[2] = [4]\n",
        "g[3] = [4]\n",
        "g[4] = [5]\n",
        "g[5] = [1]\n",
        "\n",
        "\n",
        "color = {}\n",
        "\n",
        "\n",
        "def visit_buildtree (g, s, t):\n",
        "    color[s] = 'GRAY'\n",
        "    for v in g[s]:\n",
        "        if color[v] == 'WHITE':\n",
        "            t[v] = s\n",
        "            visit_buildtree(g, v, t)\n",
        "    color[s] = 'BLACK'\n",
        "\n",
        "\n",
        "def visit_all(g):\n",
        "    tree = {}\n",
        "    for v in g:\n",
        "        color[v] = 'WHITE'\n",
        "        tree [v] = -1\n",
        "    \n",
        "    for v in g:\n",
        "        if color[v] == 'WHITE':\n",
        "            visit_buildtree(g, v, tree)\n",
        "            \n",
        "    print(tree)        \n",
        "\n",
        "visit_all(g)                "
      ]
    },
    {
      "cell_type": "code",
      "execution_count": null,
      "metadata": {
        "id": "Ls4wOZRz_-Fo"
      },
      "outputs": [],
      "source": [
        "def allPaths(g, s):\n",
        "    color[s] = 'GRAY'\n",
        "    print (s)\n",
        "    for v in g[s]:\n",
        "        if color[v] == 'WHITE':\n",
        "            allPaths(g, v)\n",
        "    color[s] = 'WHITE'\n"
      ]
    },
    {
      "cell_type": "code",
      "execution_count": null,
      "metadata": {
        "id": "05xU3WaJ_-Fo",
        "outputId": "b89b5585-f748-4cd6-87ad-1a2c9dee8b6d"
      },
      "outputs": [
        {
          "name": "stdout",
          "output_type": "stream",
          "text": [
            "1 --> [2, 3]\n",
            "2 --> [4]\n",
            "3 --> [4]\n",
            "4 --> [5]\n",
            "5 --> [1]\n",
            "\n",
            "1\n",
            "2\n",
            "4\n",
            "5\n",
            "3\n",
            "4\n",
            "5\n"
          ]
        }
      ],
      "source": [
        "g = {}\n",
        "\n",
        "g[1] = [2,3]\n",
        "g[2] = [4]\n",
        "g[3] = [4]\n",
        "g[4] = [5]\n",
        "g[5] = [1]\n",
        "\n",
        "for u in g :\n",
        "    print(u, \"-->\", g[u])\n",
        "print()\n",
        "    \n",
        "color = {}\n",
        "for v in g:\n",
        "    color[v] = 'WHITE'\n",
        "\n",
        "allPaths(g,1)    "
      ]
    },
    {
      "cell_type": "code",
      "source": [
        "\n"
      ],
      "metadata": {
        "id": "uZJQSMSnmBxC"
      },
      "execution_count": null,
      "outputs": []
    },
    {
      "cell_type": "code",
      "source": [
        "color = {}\n",
        "\n",
        "def count_aux (g, s):\n",
        "    color[s] = 'GRAY'\n",
        "    for v in g[s]:\n",
        "        if color[v] == 'WHITE':\n",
        "            count_aux (g, v)\n",
        "    color[s] = 'BLACK'\n",
        "\n",
        "\n",
        "def count_components (g):\n",
        "    for v in g: color[v] = 'WHITE'\n",
        "    c = 0     \n",
        "\n",
        "    for v in g:\n",
        "        if color[v] == 'WHITE':\n",
        "            c += 1\n",
        "            count_aux (g, v)\n",
        "\n",
        "    return c\n",
        "\n",
        "\n",
        "g1 = {}\n",
        "\n",
        "g1[1] = [2]\n",
        "g1[2] = [1,3]\n",
        "g1[3] = [2]\n",
        "g1[4] = [5]\n",
        "g1[5] = [4]\n",
        "\n",
        "g2 = g1.copy()\n",
        "g2[6] = [7,9]\n",
        "g2[7] = [6,8]\n",
        "g2[8] = [7,9]\n",
        "g2[9] = [8,6]\n",
        "\n",
        "print(count_components (g1))\n",
        "print(count_components (g2))"
      ],
      "metadata": {
        "id": "iGCDXqycl4HS",
        "colab": {
          "base_uri": "https://localhost:8080/"
        },
        "outputId": "6678073a-3860-494d-cdda-30e319f43bf1"
      },
      "execution_count": null,
      "outputs": [
        {
          "output_type": "stream",
          "name": "stdout",
          "text": [
            "2\n",
            "3\n"
          ]
        }
      ]
    },
    {
      "cell_type": "code",
      "source": [
        ""
      ],
      "metadata": {
        "id": "cjI7aRuLgppY"
      },
      "execution_count": null,
      "outputs": []
    }
  ],
  "metadata": {
    "kernelspec": {
      "display_name": "Python 3",
      "language": "python",
      "name": "python3"
    },
    "language_info": {
      "codemirror_mode": {
        "name": "ipython",
        "version": 3
      },
      "file_extension": ".py",
      "mimetype": "text/x-python",
      "name": "python",
      "nbconvert_exporter": "python",
      "pygments_lexer": "ipython3",
      "version": "3.9.4"
    },
    "colab": {
      "name": "Lab 8.ipynb",
      "provenance": [],
      "collapsed_sections": []
    }
  },
  "nbformat": 4,
  "nbformat_minor": 0
}