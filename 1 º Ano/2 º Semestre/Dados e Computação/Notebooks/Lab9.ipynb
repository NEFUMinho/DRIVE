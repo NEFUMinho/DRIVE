{
  "nbformat": 4,
  "nbformat_minor": 0,
  "metadata": {
    "colab": {
      "name": "Lab9.ipynb",
      "provenance": []
    },
    "kernelspec": {
      "name": "python3",
      "display_name": "Python 3"
    },
    "language_info": {
      "name": "python"
    }
  },
  "cells": [
    {
      "cell_type": "markdown",
      "source": [
        "# Autómatos Finitos Determinísticos"
      ],
      "metadata": {
        "id": "DOBAlz6J2p2e"
      }
    },
    {
      "cell_type": "markdown",
      "source": [
        "## Conjuntos em Python"
      ],
      "metadata": {
        "id": "HQW8851u7s_n"
      }
    },
    {
      "cell_type": "code",
      "source": [
        "print ({1,2,3} <= {3,2,4})\n",
        "print ({1,2,3} <= {4,1,2,3})\n",
        "print ({1,2,3} | {4,1,3})\n",
        "print ({1,2,3} & {1,3,4})\n",
        "print (set([1,2,3,2,1]))\n",
        "print ({[1,2],[2,3],[3,4]})      # não é possível construir conjuntos de tipos mutáveis!"
      ],
      "metadata": {
        "colab": {
          "base_uri": "https://localhost:8080/",
          "height": 311
        },
        "id": "lWFRCvbB_hPX",
        "outputId": "010fee7e-16fd-4b4e-afdd-a2e18ab23840"
      },
      "execution_count": null,
      "outputs": [
        {
          "output_type": "stream",
          "name": "stdout",
          "text": [
            "False\n",
            "True\n",
            "{1, 2, 3, 4}\n",
            "{1, 3}\n",
            "{1, 2, 3}\n"
          ]
        },
        {
          "output_type": "error",
          "ename": "TypeError",
          "evalue": "ignored",
          "traceback": [
            "\u001b[0;31m---------------------------------------------------------------------------\u001b[0m",
            "\u001b[0;31mTypeError\u001b[0m                                 Traceback (most recent call last)",
            "\u001b[0;32m<ipython-input-2-ddde398bc932>\u001b[0m in \u001b[0;36m<module>\u001b[0;34m()\u001b[0m\n\u001b[1;32m      4\u001b[0m \u001b[0mprint\u001b[0m \u001b[0;34m(\u001b[0m\u001b[0;34m{\u001b[0m\u001b[0;36m1\u001b[0m\u001b[0;34m,\u001b[0m\u001b[0;36m2\u001b[0m\u001b[0;34m,\u001b[0m\u001b[0;36m3\u001b[0m\u001b[0;34m}\u001b[0m \u001b[0;34m&\u001b[0m \u001b[0;34m{\u001b[0m\u001b[0;36m1\u001b[0m\u001b[0;34m,\u001b[0m\u001b[0;36m3\u001b[0m\u001b[0;34m,\u001b[0m\u001b[0;36m4\u001b[0m\u001b[0;34m}\u001b[0m\u001b[0;34m)\u001b[0m\u001b[0;34m\u001b[0m\u001b[0;34m\u001b[0m\u001b[0m\n\u001b[1;32m      5\u001b[0m \u001b[0mprint\u001b[0m \u001b[0;34m(\u001b[0m\u001b[0mset\u001b[0m\u001b[0;34m(\u001b[0m\u001b[0;34m[\u001b[0m\u001b[0;36m1\u001b[0m\u001b[0;34m,\u001b[0m\u001b[0;36m2\u001b[0m\u001b[0;34m,\u001b[0m\u001b[0;36m3\u001b[0m\u001b[0;34m,\u001b[0m\u001b[0;36m2\u001b[0m\u001b[0;34m,\u001b[0m\u001b[0;36m1\u001b[0m\u001b[0;34m]\u001b[0m\u001b[0;34m)\u001b[0m\u001b[0;34m)\u001b[0m\u001b[0;34m\u001b[0m\u001b[0;34m\u001b[0m\u001b[0m\n\u001b[0;32m----> 6\u001b[0;31m \u001b[0mprint\u001b[0m \u001b[0;34m(\u001b[0m\u001b[0;34m{\u001b[0m\u001b[0;34m[\u001b[0m\u001b[0;36m1\u001b[0m\u001b[0;34m,\u001b[0m\u001b[0;36m2\u001b[0m\u001b[0;34m]\u001b[0m\u001b[0;34m,\u001b[0m\u001b[0;34m[\u001b[0m\u001b[0;36m2\u001b[0m\u001b[0;34m,\u001b[0m\u001b[0;36m3\u001b[0m\u001b[0;34m]\u001b[0m\u001b[0;34m,\u001b[0m\u001b[0;34m[\u001b[0m\u001b[0;36m3\u001b[0m\u001b[0;34m,\u001b[0m\u001b[0;36m4\u001b[0m\u001b[0;34m]\u001b[0m\u001b[0;34m}\u001b[0m\u001b[0;34m)\u001b[0m      \u001b[0;31m# não é possível construir conjuntos de tipos mutáveis!\u001b[0m\u001b[0;34m\u001b[0m\u001b[0;34m\u001b[0m\u001b[0m\n\u001b[0m",
            "\u001b[0;31mTypeError\u001b[0m: unhashable type: 'list'"
          ]
        }
      ]
    },
    {
      "cell_type": "code",
      "source": [
        "for x in set({1,2,3,4,3,2,1}) : \n",
        "  print (x)"
      ],
      "metadata": {
        "colab": {
          "base_uri": "https://localhost:8080/"
        },
        "id": "et-5Aw46BjIW",
        "outputId": "9a6a5ced-8aaa-41d3-c539-1151b4d1aabb"
      },
      "execution_count": null,
      "outputs": [
        {
          "output_type": "stream",
          "name": "stdout",
          "text": [
            "1\n",
            "2\n",
            "3\n",
            "4\n"
          ]
        }
      ]
    },
    {
      "cell_type": "markdown",
      "source": [
        "### Definição de conjuntos por compreensão\n",
        "Dialecto muito útil! Será utilizado em algumas funções sobre autómatos"
      ],
      "metadata": {
        "id": "HYcMW5OP23kC"
      }
    },
    {
      "cell_type": "code",
      "execution_count": null,
      "metadata": {
        "colab": {
          "base_uri": "https://localhost:8080/"
        },
        "id": "96OAtWdl2lHX",
        "outputId": "a41030bc-81a1-4075-908b-8a575ca15ffd"
      },
      "outputs": [
        {
          "output_type": "stream",
          "name": "stdout",
          "text": [
            "27\n",
            "{(4, 'bb'), (3, 'cc'), (5, 'aa'), (6, 'aa'), (8, 'aa'), (7, 'cc'), (8, 'bb'), (3, 'bb'), (9, 'cc'), (4, 'aa'), (2, 'bb'), (1, 'cc'), (2, 'aa'), (5, 'cc'), (6, 'cc'), (1, 'bb'), (7, 'bb'), (8, 'cc'), (6, 'bb'), (3, 'aa'), (4, 'cc'), (7, 'aa'), (1, 'aa'), (5, 'bb'), (9, 'bb'), (9, 'aa'), (2, 'cc')}\n",
            "90\n",
            "{(7, 3), (6, 9), (1, 6), (3, 7), (2, 5), (8, 5), (5, 8), (10, 8), (6, 7), (10, 7), (7, 6), (6, 10), (4, 10), (3, 2), (2, 6), (8, 2), (4, 5), (9, 3), (7, 5), (3, 1), (7, 8), (2, 1), (8, 9), (9, 4), (5, 1), (10, 3), (7, 2), (1, 5), (3, 6), (1, 10), (8, 6), (4, 1), (10, 9), (9, 7), (6, 4), (5, 4), (10, 4), (7, 1), (3, 5), (2, 7), (8, 3), (5, 10), (4, 6), (9, 2), (6, 1), (5, 7), (7, 4), (1, 3), (4, 8), (2, 8), (9, 8), (6, 2), (3, 10), (8, 10), (1, 4), (3, 9), (2, 3), (1, 9), (8, 7), (4, 2), (9, 6), (6, 5), (5, 3), (10, 5), (6, 8), (1, 7), (3, 4), (2, 4), (8, 4), (5, 9), (4, 7), (9, 1), (5, 6), (10, 6), (1, 2), (4, 9), (2, 9), (8, 1), (6, 3), (7, 10), (2, 10), (9, 10), (10, 1), (7, 9), (3, 8), (1, 8), (4, 3), (9, 5), (5, 2), (10, 2)}\n"
          ]
        }
      ],
      "source": [
        "s1 = { (x,y) for x in range(1,10) for y in {\"aa\",\"bb\",\"cc\"} }\n",
        "print(len(s1))\n",
        "print(s1)\n",
        "\n",
        "s2 = { (x,y) for x in range(1,11) for y in range(1,11) if x!=y }\n",
        "print(len(s2))\n",
        "print(s2)\n",
        "\n"
      ]
    },
    {
      "cell_type": "code",
      "source": [
        ""
      ],
      "metadata": {
        "id": "_T5ZUds4Dgtu"
      },
      "execution_count": null,
      "outputs": []
    },
    {
      "cell_type": "code",
      "source": [
        ""
      ],
      "metadata": {
        "id": "wW8M1OCiDg7I"
      },
      "execution_count": null,
      "outputs": []
    },
    {
      "cell_type": "markdown",
      "source": [
        "## Representação de Autómatos\n",
        "Relembre-se que um DFA é um tuplo $(Q, \\Sigma, \\delta, q_0,F)$. Este tuplo será representado por um dicionário com 5 campos, como ilustrado pelo autómato seguinte, que reconhece palavras com um número de 0s múltiplo de 3\n"
      ],
      "metadata": {
        "id": "SoYOidGC4AHk"
      }
    },
    {
      "cell_type": "code",
      "source": [
        "dfa0mult3 = { 'Q': {'IF', 'A', 'B'},\n",
        "              'Sigma': {'0', '1'},\n",
        "              'Delta': { ('IF', '0'): 'A',\n",
        "                         ('IF', '1'): 'IF',\n",
        "                         ('A', '0'): 'B',\n",
        "                         ('A', '1'): 'A',\n",
        "                         ('B', '0'): 'IF',\n",
        "                         ('B', '1'): 'B' },\n",
        "              'q0': 'IF', \n",
        "              'F': {'IF'}   \n",
        "            }\n"
      ],
      "metadata": {
        "id": "i6ZzVFks4PxA"
      },
      "execution_count": null,
      "outputs": []
    },
    {
      "cell_type": "markdown",
      "source": [
        "Note que é perfeitamente possível definir-se autómatos como dicionários que não encaixam na definição matemática de autómato. Por exemplo, \n",
        "* a função de transição pode referir estados que não tenham sido listados no conjunto de estados; ou\n",
        "* a função de transição pode não ser total! Isto é, podem não estar especificadas todas as transições em todos os estados. \n",
        "\n",
        "Podemos ver qual o efeito destas incoerências na visualização, alterando o autómato anterior: no primeiro caso obterá um erro, e no segundo será impresso um pseudo-autómato, com função de transição parcial. \n",
        "\n",
        "É muito conveniente definir funções (predicados) para testar a coerência de autómatos. A primeira função em baixo admite que a função de transição possa ser parcial; a segunda obriga a que seja total.\n",
        "\n",
        "\n"
      ],
      "metadata": {
        "id": "c9eyr-hC5X1Z"
      }
    },
    {
      "cell_type": "code",
      "source": [
        "def partconsist_dfa(D):\n",
        "\n",
        "    Q     = D[\"Q\"]\n",
        "    Sigma = D[\"Sigma\"]\n",
        "    Delta = D[\"Delta\"]\n",
        "    q0    = D[\"q0\"]\n",
        "    F     = D[\"F\"]\n",
        "\n",
        "    dom_Delta   = set(Delta.keys())\n",
        "    range_Delta = set(Delta.values())\n",
        "  \n",
        "    return (Q != {}              and\n",
        "            Sigma != {}          and\n",
        "            dom_Delta <= { (x,y) for x in Q for y in Sigma } and\n",
        "            range_Delta != {}    and\n",
        "            range_Delta <= Q     and\n",
        "            q0 in Q              and\n",
        "            F <= Q)  \n",
        "\n",
        "print(partconsist_dfa(dfa0mult3))\n"
      ],
      "metadata": {
        "colab": {
          "base_uri": "https://localhost:8080/"
        },
        "id": "TP2Jrksi5czQ",
        "outputId": "f6add03e-6f7a-4648-de34-847a3e4e5192"
      },
      "execution_count": null,
      "outputs": [
        {
          "output_type": "stream",
          "name": "stdout",
          "text": [
            "True\n"
          ]
        }
      ]
    },
    {
      "cell_type": "code",
      "source": [
        "def consist_dfa(D):\n",
        "\n",
        "    Q     = D[\"Q\"]\n",
        "    Sigma = D[\"Sigma\"]\n",
        "    Delta = D[\"Delta\"]\n",
        "\n",
        "    return (partconsist_dfa(D) and\n",
        "            set((Delta).keys()) == set({ (x,y) for x in Q for y in Sigma } ))  \n",
        "\n",
        "\n",
        "print(consist_dfa(dfa0mult3))"
      ],
      "metadata": {
        "colab": {
          "base_uri": "https://localhost:8080/"
        },
        "id": "ed38SYE058Xf",
        "outputId": "f7fe92fc-f8b3-4547-bb0c-0ad2e1be3baa"
      },
      "execution_count": null,
      "outputs": [
        {
          "output_type": "stream",
          "name": "stdout",
          "text": [
            "True\n"
          ]
        }
      ]
    },
    {
      "cell_type": "markdown",
      "source": [
        "## Execução de um Autómato e Aceitação de Palavras\n",
        "\n",
        "Agora que temos uma representação para DFAs, queremos definir um predicado que decide se um autómato aceita ou não uma dada palavra. Para isso será necessário definir a função $\\hat{\\delta}$. Relembremos:\n",
        "\n",
        "$\\hat{\\delta}(q, \\varepsilon)\\ \\ \\ =\\ q$\n",
        "\n",
        "$\\hat{\\delta}(q, xs)\\ = \\hat{\\delta}(\\delta(q,x),s)$\n",
        "\n",
        "O autómato aceitará a palavra $s$ se $ \\hat{\\delta}(q_0, s) \\in F$\n",
        "\n",
        "Definiremos as funções `run_dfa` e `accepts_dfa` que implementam esta funcionalidade "
      ],
      "metadata": {
        "id": "ZCmAlJTIDxjg"
      }
    },
    {
      "cell_type": "markdown",
      "source": [
        "#### Versão recursiva \n",
        "\n",
        "Será útil o seguinte operador que descarta o primeiro elemento de uma lista:\n"
      ],
      "metadata": {
        "id": "SsnxEzqz2o-F"
      }
    },
    {
      "cell_type": "code",
      "source": [
        "s = \"gato negro\"\n",
        "print (s[1:])"
      ],
      "metadata": {
        "colab": {
          "base_uri": "https://localhost:8080/"
        },
        "id": "PGh5qhjnGPtQ",
        "outputId": "99864da9-2d73-4343-f069-ff622097253d"
      },
      "execution_count": null,
      "outputs": [
        {
          "output_type": "stream",
          "name": "stdout",
          "text": [
            "ato negro\n"
          ]
        }
      ]
    },
    {
      "cell_type": "code",
      "source": [
        "def run_dfa_aux(D, q, s):\n",
        "    if s == \"\" : \n",
        "        return q\n",
        "    else :\n",
        "        return run_dfa_aux(D, D[\"Delta\"][(q,s[0])], s[1:])\n",
        "    \n",
        "def run_dfa_rec(D, s):\n",
        "    return run_dfa_aux(D, D[\"q0\"], s)\n"
      ],
      "metadata": {
        "id": "jTkqyJwtEJPu"
      },
      "execution_count": null,
      "outputs": []
    },
    {
      "cell_type": "code",
      "source": [
        "print(\"run_dfa_rec(dfa0mult3, '101001') = \", \n",
        "          run_dfa_rec(dfa0mult3, '101001'))\n",
        "print(\"run_dfa_rec(dfa0mult3, '101000') = \", \n",
        "          run_dfa_rec(dfa0mult3, '101000'))"
      ],
      "metadata": {
        "colab": {
          "base_uri": "https://localhost:8080/"
        },
        "id": "C0JrE1CQEcjA",
        "outputId": "b6f09c01-68b9-4906-b1d5-0015305ec25b"
      },
      "execution_count": null,
      "outputs": [
        {
          "output_type": "stream",
          "name": "stdout",
          "text": [
            "run_dfa_rec(dfa0mult3, '101001') =  IF\n",
            "run_dfa_rec(dfa0mult3, '101000') =  A\n"
          ]
        }
      ]
    },
    {
      "cell_type": "markdown",
      "source": [
        "#### Versão iterativa \n"
      ],
      "metadata": {
        "id": "aCRBFUGFEVPO"
      }
    },
    {
      "cell_type": "code",
      "source": [
        "def run_dfa(D, s):\n",
        "    state = D[\"q0\"]\n",
        "    \n",
        "    # while s != \"\":\n",
        "    #     state = D[\"Delta\"][(state,s[0])]\n",
        "    #     s = s[1:]\n",
        "      \n",
        "    for c in s : \n",
        "        state = D[\"Delta\"][(state,c)]\n",
        "        \n",
        "    return state"
      ],
      "metadata": {
        "id": "dEYDRAOwEO9Q"
      },
      "execution_count": null,
      "outputs": []
    },
    {
      "cell_type": "code",
      "source": [
        "print(\"run_dfa(dfa0mult3, '101001') = \", \n",
        "          run_dfa(dfa0mult3, '101001'))\n",
        "print(\"run_dfa(dfa0mult3, '101000') = \", \n",
        "          run_dfa(dfa0mult3, '101000'))"
      ],
      "metadata": {
        "colab": {
          "base_uri": "https://localhost:8080/"
        },
        "id": "egV_8eEFHHKo",
        "outputId": "dd8f87b3-94bf-4a89-b278-10266f65a8f9"
      },
      "execution_count": null,
      "outputs": [
        {
          "output_type": "stream",
          "name": "stdout",
          "text": [
            "run_dfa(dfa0mult3, '101001') =  IF\n",
            "run_dfa(dfa0mult3, '101000') =  A\n"
          ]
        }
      ]
    },
    {
      "cell_type": "markdown",
      "source": [
        "#### Aceitação de palavras"
      ],
      "metadata": {
        "id": "hG7ClembHfeR"
      }
    },
    {
      "cell_type": "code",
      "source": [
        "def accepts_dfa(D, s):\n",
        "\n",
        "    assert(consist_dfa(D)), \"D is not consistent.\"\n",
        "    \n",
        "    # return run_dfa_rec(D, s) in D[\"F\"]\n",
        "    return run_dfa(D, s) in D[\"F\"]\n",
        "\n",
        "\n",
        "print(\"accepts_dfa(dfa0mult3, '101001') = \", \n",
        "          accepts_dfa(dfa0mult3, '101001')) \n",
        "print(\"accepts_dfa(dfa0mult3, '101000') = \", \n",
        "          accepts_dfa(dfa0mult3, '101000')) "
      ],
      "metadata": {
        "colab": {
          "base_uri": "https://localhost:8080/"
        },
        "id": "DCf_HvVjHIKm",
        "outputId": "1845402a-dc13-4b39-d3bf-3bea7049c3ba"
      },
      "execution_count": null,
      "outputs": [
        {
          "output_type": "stream",
          "name": "stdout",
          "text": [
            "accepts_dfa(dfa0mult3, '101001') =  True\n",
            "accepts_dfa(dfa0mult3, '101000') =  False\n"
          ]
        }
      ]
    },
    {
      "cell_type": "code",
      "source": [
        ""
      ],
      "metadata": {
        "id": "l477l5I5Hob2"
      },
      "execution_count": null,
      "outputs": []
    },
    {
      "cell_type": "markdown",
      "source": [
        "### Função de aceitação com cálculo dos estados intermédios "
      ],
      "metadata": {
        "id": "0xAH9H6cV1te"
      }
    },
    {
      "cell_type": "code",
      "source": [
        "def accepts_df (D, q, s) :\n",
        "\n",
        "    assert(consist_dfa(D)), \"D is not consistent.\"\n",
        "\n",
        "    if s == \"\" and q in D[\"F\"]:\n",
        "        return (True, [])\n",
        "\n",
        "    if s == \"\" : \n",
        "        return (False, [])\n",
        "    \n",
        "    nextq = D[\"Delta\"][(q,s[0])]\n",
        "\n",
        "    (done, path) = accepts_df(D, nextq, s[1:])\n",
        "    if done : return (True, [nextq]+path)\n",
        "            \n",
        "    return (False, [])\n",
        "            \n",
        "    \n",
        "\n",
        "def accepts_withpath (D, s) : \n",
        "    return (accepts_df(D, D[\"q0\"], s))\n",
        "\n",
        "\n",
        "print(\"accepts_withpath(dfa0mult3, '101001') = \", \n",
        "          accepts_withpath(dfa0mult3, '101001')) \n",
        "print(\"accepts_withpath(dfa0mult3, '101000') = \", \n",
        "          accepts_withpath(dfa0mult3, '101000')) "
      ],
      "metadata": {
        "colab": {
          "base_uri": "https://localhost:8080/"
        },
        "id": "e8XnNUdtV-pW",
        "outputId": "80400651-b12c-45a8-b98f-736d323b57d1"
      },
      "execution_count": null,
      "outputs": [
        {
          "output_type": "stream",
          "name": "stdout",
          "text": [
            "accepts_withpath(dfa0mult3, '101001') =  (True, ['IF', 'A', 'A', 'B', 'IF', 'IF'])\n",
            "accepts_withpath(dfa0mult3, '101000') =  (False, [])\n"
          ]
        }
      ]
    },
    {
      "cell_type": "code",
      "source": [
        ""
      ],
      "metadata": {
        "id": "eFo_apIdV_bp"
      },
      "execution_count": null,
      "outputs": []
    },
    {
      "cell_type": "code",
      "source": [
        ""
      ],
      "metadata": {
        "id": "-Pd90YPkV_w9"
      },
      "execution_count": null,
      "outputs": []
    },
    {
      "cell_type": "markdown",
      "source": [
        "## União e Intersecção de Autómatos\n",
        "\n",
        "Vimos nas  aulas teóricas que é útil construir linguagens utilizando as operações de *união*, *intersecção*, e *complemento* de conjuntos.\n",
        "\n",
        "É pois útil dispor também destas operações ao nível dos autómatos. Por exemplo, a união de dois autómatos D1 e D2 é ainda um autómato, que reconhece a união das linguagens reconhecidas por D1 e por D2.\n",
        "\n",
        "A união e a intersecção de autómatos D1 e D2 são ambos autómatos cujos estados correspondem a pares de estados, sendo o primeito um estado de D1 e o segundo um estado de D2. As transições são obtidas da seguinte forma: se temos em D1 a transição A1-c->B1 e em D2 A2-c->B2, então teremos na união e na intersecção de D1 e D2 a transição (A1,A2)-c->(B1,B2).\n",
        "\n",
        "Os dois autómatos diferem apenas nos estados finais: na união basta que um dos estados do par seja final, enquanto que na intersecção ambas as componentes terão de ser estados finais dos autómatos respectivos."
      ],
      "metadata": {
        "id": "k44cYJHPJIPj"
      }
    },
    {
      "cell_type": "code",
      "source": [
        "def union_dfa(D1,D2) : \n",
        "    assert(consist_dfa(D1)), \"D1 is not consistent.\"\n",
        "    assert(consist_dfa(D2)), \"D2 is not consistent.\"\n",
        "    assert(D1[\"Sigma\"] == D2[\"Sigma\"]), \"D1 and D2 have different alphabets.\"\n",
        "\n",
        "\n",
        "    Q = { q1+\"_\"+q2 for q1 in D1[\"Q\"] for q2 in D2[\"Q\"] }\n",
        "    Sigma = D1[\"Sigma\"]\n",
        "    \n",
        "    Delta = {}\n",
        "    for q1 in D1[\"Q\"] :\n",
        "        for q2 in D2[\"Q\"] :\n",
        "            for c in Sigma : \n",
        "                Delta[(q1+\"_\"+q2,c)] = D1[\"Delta\"][(q1,c)]+\"_\"+D2[\"Delta\"][(q2,c)]\n",
        "    \n",
        "    return { \"Q\"     : Q, \n",
        "             \"Sigma\" : Sigma ,    \n",
        "             \"Delta\" : Delta,\n",
        "             \"q0\"    : D1[\"q0\"]+\"_\"+D2[\"q0\"],          \n",
        "#  INTERSECÇÃO           \"F\"     : { q1+\"_\"+q2 for q1 in D1[\"F\"] for q2 in D2[\"F\"] }\n",
        "             \"F\"     : { q1+\"_\"+q2 for q1 in D1[\"F\"] for q2 in D2[\"Q\"] } | \n",
        "                       { q1+\"_\"+q2 for q1 in D1[\"Q\"] for q2 in D2[\"F\"] }\n",
        "\n",
        "           }\n",
        "\n"
      ],
      "metadata": {
        "id": "jnnsIO13JIwX"
      },
      "execution_count": null,
      "outputs": []
    },
    {
      "cell_type": "code",
      "source": [
        "dfa1par = { 'Q': {'A', 'B'},\n",
        "              'Sigma': {'0', '1'},\n",
        "              'Delta': { ('A', '0'): 'A',\n",
        "                         ('A', '1'): 'B',\n",
        "                         ('B', '0'): 'B',\n",
        "                         ('B', '1'): 'A' },\n",
        "              'q0': 'A', \n",
        "              'F': {'A'}   \n",
        "            }\n",
        "\n",
        "dfa0par = { 'Q': {'A', 'B'},\n",
        "              'Sigma': {'0', '1'},\n",
        "              'Delta': { ('A', '1'): 'A',\n",
        "                         ('A', '0'): 'B',\n",
        "                         ('B', '1'): 'B',\n",
        "                         ('B', '0'): 'A' },\n",
        "              'q0': 'A', \n",
        "              'F': {'A'}   \n",
        "            }\n",
        "\n",
        "dfa0ou1par = union_dfa(dfa1par, dfa0par)\n",
        "print(dfa0ou1par)\n"
      ],
      "metadata": {
        "colab": {
          "base_uri": "https://localhost:8080/"
        },
        "id": "rAD2kWo6JTvV",
        "outputId": "caf11ca9-880f-4ac6-9bc6-88ea824a8879"
      },
      "execution_count": null,
      "outputs": [
        {
          "output_type": "stream",
          "name": "stdout",
          "text": [
            "{'Q': {'A_A', 'A_B', 'B_A', 'B_B'}, 'Sigma': {'1', '0'}, 'Delta': {('B_B', '1'): 'A_B', ('B_B', '0'): 'B_A', ('B_A', '1'): 'A_A', ('B_A', '0'): 'B_B', ('A_B', '1'): 'B_B', ('A_B', '0'): 'A_A', ('A_A', '1'): 'B_A', ('A_A', '0'): 'A_B'}, 'q0': 'A_A', 'F': {'A_A', 'A_B', 'B_A'}}\n"
          ]
        }
      ]
    },
    {
      "cell_type": "code",
      "source": [
        ""
      ],
      "metadata": {
        "id": "rK3FcdgnSn-S"
      },
      "execution_count": null,
      "outputs": []
    },
    {
      "cell_type": "code",
      "source": [
        "print(\"accepts_dfa(dfa1par, '10100') = \", \n",
        "          accepts_dfa(dfa1par, '10100'))\n",
        "print(\"accepts_dfa(dfa0par, '10100') = \", \n",
        "          accepts_dfa(dfa0par, '10100'))\n",
        "print(\"accepts_dfa(dfa0ou1par, '10100') = \", \n",
        "          accepts_dfa(dfa0ou1par, '1010'))\n",
        "print()\n",
        "print(\"accepts_dfa(dfa1par, '101001') = \", \n",
        "          accepts_dfa(dfa1par, '101001'))\n",
        "print(\"accepts_dfa(dfa0par, '101001') = \", \n",
        "          accepts_dfa(dfa0par, '101001'))\n",
        "print(\"accepts_dfa(dfa0ou1par, '101001') = \", \n",
        "          accepts_dfa(dfa0ou1par, '101001'))\n"
      ],
      "metadata": {
        "colab": {
          "base_uri": "https://localhost:8080/"
        },
        "id": "3F3pgHc_SR2x",
        "outputId": "2ba6f583-77ec-423a-bbe2-6c06787d3875"
      },
      "execution_count": null,
      "outputs": [
        {
          "output_type": "stream",
          "name": "stdout",
          "text": [
            "accepts_dfa(dfa1par, '10100') =  True\n",
            "accepts_dfa(dfa0par, '10100') =  False\n",
            "accepts_dfa(dfa0ou1par, '10100') =  True\n",
            "\n",
            "accepts_dfa(dfa1par, '101001') =  False\n",
            "accepts_dfa(dfa0par, '101001') =  False\n",
            "accepts_dfa(dfa0ou1par, '101001') =  False\n"
          ]
        }
      ]
    },
    {
      "cell_type": "code",
      "source": [
        ""
      ],
      "metadata": {
        "id": "nFGNo1SoSkI6"
      },
      "execution_count": null,
      "outputs": []
    },
    {
      "cell_type": "code",
      "source": [
        ""
      ],
      "metadata": {
        "id": "ghcHp3QZZoPV"
      },
      "execution_count": null,
      "outputs": []
    },
    {
      "cell_type": "markdown",
      "source": [
        "## Totalização de um autómato"
      ],
      "metadata": {
        "id": "toUvGebOdqcy"
      }
    },
    {
      "cell_type": "code",
      "source": [
        "def totalize_dfa(D):\n",
        "\n",
        "    assert(partconsist_dfa(D)), \"DFA is not partially consistent.\"\n",
        "\n",
        "    new_Delta = D[\"Delta\"].copy()\n",
        "    \n",
        "    gaps = { (q,c) : \"BH\" for q in D[\"Q\"] for c in D[\"Sigma\"] if (q,c) not in D[\"Delta\"] }\n",
        "\n",
        "    new_Delta.update( gaps )\n",
        "    \n",
        "    bh_self = { (\"BH\", c): \"BH\" for c in D[\"Sigma\"] }\n",
        "\n",
        "    new_Delta.update( bh_self )\n",
        "        \n",
        "    return {\"Q\"    : D[\"Q\"] | { \"BH\" }, \n",
        "            \"Sigma\": D[\"Sigma\"],    \n",
        "            \"Delta\": new_Delta,\n",
        "            \"q0\"   : D[\"q0\"],          \n",
        "            \"F\"    : D[\"F\"] }\n"
      ],
      "metadata": {
        "id": "NosO-rGjZobd"
      },
      "execution_count": null,
      "outputs": []
    },
    {
      "cell_type": "code",
      "source": [
        "dfax = { 'Q': {'A', 'B'},\n",
        "          'Sigma': {'0', '1'},\n",
        "          'Delta': { ('A', '1'): 'B',\n",
        "                     ('B', '1'): 'A' },\n",
        "          'q0': 'A', \n",
        "          'F': {'A'}   \n",
        "        }\n",
        "\n",
        "print(consist_dfa(dfax))\n",
        "\n",
        "dfaxt = totalize_dfa(dfax)\n",
        "print(dfaxt)\n",
        "print(consist_dfa(dfaxt))\n"
      ],
      "metadata": {
        "colab": {
          "base_uri": "https://localhost:8080/"
        },
        "id": "6KWu1qODZ-9y",
        "outputId": "bcea05ba-92fb-4c66-cba5-46e034f7d518"
      },
      "execution_count": null,
      "outputs": [
        {
          "output_type": "stream",
          "name": "stdout",
          "text": [
            "False\n",
            "{'Q': {'BH', 'B', 'A'}, 'Sigma': {'1', '0'}, 'Delta': {('A', '1'): 'B', ('B', '1'): 'A', ('B', '0'): 'BH', ('A', '0'): 'BH', ('BH', '1'): 'BH', ('BH', '0'): 'BH'}, 'q0': 'A', 'F': {'A'}}\n",
            "True\n"
          ]
        }
      ]
    },
    {
      "cell_type": "code",
      "source": [
        ""
      ],
      "metadata": {
        "id": "-OmxA0yjav3F"
      },
      "execution_count": null,
      "outputs": []
    }
  ]
}