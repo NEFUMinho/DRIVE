{
  "cells": [
    {
      "cell_type": "markdown",
      "id": "literary-venture",
      "metadata": {
        "id": "literary-venture"
      },
      "source": [
        "## RECAP\n",
        "\n",
        "1. Escreva uma função para realizar a operação de multiplicação de matrizes.\n",
        "\n",
        "\n"
      ]
    },
    {
      "cell_type": "code",
      "execution_count": null,
      "id": "charitable-removal",
      "metadata": {
        "id": "charitable-removal",
        "outputId": "08123e14-2107-4ab9-880c-ef790154c501"
      },
      "outputs": [
        {
          "name": "stdout",
          "output_type": "stream",
          "text": [
            "[[5, -4], [4, 5]]\n"
          ]
        }
      ],
      "source": [
        "#multiplicação de matrizes\n",
        "# x=[[0,0],[0,1]]\n",
        "# y=[[2,3],[1,3]]\n",
        "\n",
        "x = [[1,2,-1],[2,0,1]]\n",
        "y = [[3,1],[0,-1],[-2,3]]\n",
        "\n",
        "c=len(y[0])\n",
        "l=len(x)\n",
        "\n",
        "# r=[[0]*c]*l              #criar a matriz que irá acumular o resultado\n",
        "\n",
        "r = [[]]*l\n",
        "for i in range(l) : \n",
        "    r[i] = [0]*c\n",
        "\n",
        "\n",
        "for i in range (l):                   \n",
        "    for j in range (c):               \n",
        "        for k in range (len(x[0])):   \n",
        "            r[i][j] += x[i][k]*y[k][j]\n",
        "print (r)\n"
      ]
    },
    {
      "cell_type": "markdown",
      "id": "brown-startup",
      "metadata": {
        "id": "brown-startup"
      },
      "source": [
        "## Recursividade vs. Iteração\n",
        "O cálculo da sequência de Fibonacci é um bom exemplo de como as soluções recursivas, sendo muito claras e concisas, são por vezes trágicas do ponto de vista de performance, por conterem muita redundância (cfr. discussão no livro)"
      ]
    },
    {
      "cell_type": "code",
      "execution_count": null,
      "id": "facial-style",
      "metadata": {
        "id": "facial-style",
        "outputId": "d7bbe115-976a-46d5-baa8-27e733246056",
        "colab": {
          "base_uri": "https://localhost:8080/"
        }
      },
      "outputs": [
        {
          "output_type": "stream",
          "name": "stdout",
          "text": [
            "39088169\n",
            "21.424227714538574\n",
            "39088169\n",
            "8.916854858398438e-05\n"
          ]
        }
      ],
      "source": [
        "\n",
        "def fib(n):\n",
        "    if n == 0:\n",
        "        return 0\n",
        "    if n == 1:\n",
        "        return 1\n",
        "    return fib(n-1) + fib(n-2)\n",
        "\n",
        "\n",
        "def calcfib(n):\n",
        "    if n == 0:\n",
        "        return 0\n",
        "    b, a = 0, 1     # F(0), F(1)\n",
        "    for _ in range(1,n) :\n",
        "        b, a = a, a+b\n",
        "    return a\n",
        "\n",
        "\n",
        "\n",
        "\n",
        "\n",
        "import time\n",
        "\n",
        "start = time.time()  \n",
        "print(fib(38))\n",
        "end = time.time()\n",
        "print(end-start)\n",
        "\n",
        "start = time.time()  \n",
        "print(calcfib(38))\n",
        "end = time.time()\n",
        "print(end-start)\n"
      ]
    },
    {
      "cell_type": "markdown",
      "id": "unable-preserve",
      "metadata": {
        "id": "unable-preserve"
      },
      "source": [
        "## Procura Linear\n",
        "Recorde o algoritmo de procura linear utilizando um ciclo `while` ou `for`. \n"
      ]
    },
    {
      "cell_type": "code",
      "execution_count": null,
      "id": "split-queensland",
      "metadata": {
        "id": "split-queensland",
        "outputId": "65c35843-ce1c-4f62-a68a-28eb7b251fe2"
      },
      "outputs": [
        {
          "name": "stdout",
          "output_type": "stream",
          "text": [
            "1\n",
            "2\n",
            "-1\n",
            "1\n",
            "2\n",
            "-1\n"
          ]
        }
      ],
      "source": [
        "def lsearch (x, a) :\n",
        "    i = 0\n",
        "    while i < len(a) and x != a[i] :\n",
        "        i += 1\n",
        "    if i == len(a) : return -1\n",
        "    else: return i\n",
        "       \n",
        "        \n",
        "v = [30,10,20,40,10]        \n",
        "print(lsearch(10,v))\n",
        "print(lsearch(20,v))\n",
        "print(lsearch(25,v))\n",
        "\n",
        "\n",
        "\n",
        "def lSearch2 (x, a) :\n",
        "    for i in range(a) :\n",
        "        if (a[i] == x) :\n",
        "            return i        \n",
        "    return -1\n",
        "\n",
        "\n",
        "print(lsearch2(10,v))\n",
        "print(lsearch2(20,v))\n",
        "print(lsearch2(25,v))\n",
        "\n"
      ]
    },
    {
      "cell_type": "markdown",
      "id": "lesbian-deficit",
      "metadata": {
        "id": "lesbian-deficit"
      },
      "source": [
        "#### E podemos também escrever uma versão recursiva deste algoritmo. \n",
        "Tipicamente, funções recursivas sobre arrays incluem parâmetros (neste exemplo i, j) correspondentes aos índices do array entre os quais a chamada actual da função trabalha, e nas chamadas recursivas estes índices são alterados para corresponder a uma porção mais pequena do array. \n",
        "\n",
        "Escreve-se depois uma função (de \"topo\", como se diz por vezes) que invoque esta inicialmente, com os índices correspondentes à integralidade do array."
      ]
    },
    {
      "cell_type": "code",
      "execution_count": null,
      "id": "identified-functionality",
      "metadata": {
        "id": "identified-functionality",
        "outputId": "9d1ddebe-311b-422a-e05f-67140f835c0a"
      },
      "outputs": [
        {
          "name": "stdout",
          "output_type": "stream",
          "text": [
            "1\n",
            "2\n",
            "-1\n"
          ]
        }
      ],
      "source": [
        "\n",
        "def lsearchrec (x, a, i, j) :\n",
        "    if i > j : return -1 \n",
        "    elif x==a[i] : return i\n",
        "    else : return lsearchrec(x, a, i+1, j)\n",
        "\n",
        "def lsearch (x, a) : \n",
        "    return lsearchrec(x, a, 0, len(a)-1)\n",
        "\n",
        "\n",
        "\n",
        "v = [30,10,20,40,10]        \n",
        "print(lsearch(10,v))\n",
        "print(lsearch(20,v))\n",
        "print(lsearch(25,v))\n",
        "\n",
        "\n"
      ]
    },
    {
      "cell_type": "markdown",
      "id": "disturbed-penny",
      "metadata": {
        "id": "disturbed-penny"
      },
      "source": [
        "### Procura Binária num array ordenado\n",
        "Tínhamos já visto que, se o array estiver ordenado de forma crescente, a procura pode ser ligeiramente optimizada, parando mais cedo quando se encontra um elemento superior ao que se procura. \n",
        "\n",
        "No entanto, se o array estiver ordenado é possível fazer muito melhor do que isto através de uma pesquisa binária, que fará o tempo de execução do algoritmo no pior cado diminiuir de *linear* no comprimento do array para *logarítmico* nesse comprimento. A ideia é que em cada passo comparamos o elemento x procurado com o que se encontra na posição **a meio do array**; dependendo desse comparação, caso não tenha sido encontrado x, podemos limitar a procura a apenas uma das metades do array.\n",
        "\n",
        "Por exemplo se procuramos 10 no array [10,10,20,30,40] entre os índices a=0 e b=4, a posição do meio é 2, onde está o elemento 20. Ora, como 10<20, só poderá estar no segmento entre as posições 0 e 1, [10,10]. Tendo agora um número par de elementos, o do meio será (considerando o arredondamento) o índice 0, onde encontramos de facto um 10. Mas se procurássemos por exemplo 15, que é superior a 10, iríamos agora procurar na metade da direita do segmento [10,10], ou seja em [10], entre os índices 1 e 1, e assim sucessivamente. "
      ]
    },
    {
      "cell_type": "code",
      "execution_count": null,
      "id": "confused-concert",
      "metadata": {
        "id": "confused-concert",
        "outputId": "a9fa95a8-05a5-4b61-e8de-9964d0503521"
      },
      "outputs": [
        {
          "name": "stdout",
          "output_type": "stream",
          "text": [
            "procurando 10 entre índices 0 e 4\n",
            "procurando 10 entre índices 0 e 1\n",
            "0\n",
            "procurando 20 entre índices 0 e 4\n",
            "2\n",
            "procurando 15 entre índices 0 e 4\n",
            "procurando 15 entre índices 0 e 1\n",
            "procurando 15 entre índices 1 e 1\n",
            "-1\n"
          ]
        }
      ],
      "source": [
        "def bsearch(x, v) :\n",
        "    (a,b) = (0,len(v)-1)\n",
        "    result = -1\n",
        "    while a <= b and result == -1 : \n",
        "        print(\"procurando \"+str(x)+\" entre índices \"+str(a)+\" e \"+str(b))\n",
        "        m = a + (b-a) // 2\n",
        "        if v[m] < x : a = m+1\n",
        "        elif v[m] > x : b = m-1\n",
        "        else : result = m\n",
        "    return result\n",
        "\n",
        "\n",
        "v = [10,10,20,30,40]        \n",
        "print(bsearch(10,v))\n",
        "print(bsearch(20,v))\n",
        "print(bsearch(15,v))\n",
        "\n"
      ]
    },
    {
      "cell_type": "markdown",
      "id": "apparent-arena",
      "metadata": {
        "id": "apparent-arena"
      },
      "source": [
        "### Exercício 1\n",
        "Defina e teste uma versão recursiva desta função."
      ]
    },
    {
      "cell_type": "code",
      "execution_count": null,
      "id": "worst-valve",
      "metadata": {
        "id": "worst-valve",
        "outputId": "20fbe08f-c129-4e87-f98e-2ddafb4ea4e8"
      },
      "outputs": [
        {
          "name": "stdout",
          "output_type": "stream",
          "text": [
            "procurando 10 entre índices 0 e 4\n",
            "procurando 10 entre índices 0 e 1\n",
            "0\n",
            "procurando 20 entre índices 0 e 4\n",
            "2\n",
            "procurando 15 entre índices 0 e 4\n",
            "procurando 15 entre índices 0 e 1\n",
            "procurando 15 entre índices 1 e 1\n",
            "-1\n"
          ]
        }
      ],
      "source": [
        "def bsearchrec(x, v, a, b) : \n",
        "    if (a>b) : return -1\n",
        "    print(\"procurando \"+str(x)+\" entre índices \"+str(a)+\" e \"+str(b))\n",
        "    m = a + (b-a) // 2\n",
        "    if v[m] < x : return bsearchrec(x, v, m+1, b)\n",
        "    elif v[m] > x : return bsearchrec(x, v, a, m-1)\n",
        "    else : return m\n",
        "\n",
        "\n",
        "def bsearch(x, v) :\n",
        "    return bsearchrec(x, v, 0, len(v)-1)\n",
        "\n",
        "\n",
        "v = [10,10,20,30,40]        \n",
        "print(bsearch(10,v))\n",
        "print(bsearch(20,v))\n",
        "print(bsearch(15,v))\n",
        "\n",
        "\n"
      ]
    },
    {
      "cell_type": "markdown",
      "id": "approximate-handbook",
      "metadata": {
        "id": "approximate-handbook"
      },
      "source": [
        "### Exercício 2\n",
        "Escreva versões iterativa e recursiva de uma função que calcule a posição de um mínimo de um array entre dois índices dados. Por exemplo sendo v1=[40,20,10,30,60,0,80, 40] temos `min(v1,0,2)=2` e `min(v1,0,7)=5`."
      ]
    },
    {
      "cell_type": "code",
      "execution_count": null,
      "id": "bulgarian-blind",
      "metadata": {
        "id": "bulgarian-blind",
        "outputId": "0329e193-b63e-45ec-a449-dcc60630a14c",
        "colab": {
          "base_uri": "https://localhost:8080/"
        }
      },
      "outputs": [
        {
          "output_type": "stream",
          "name": "stdout",
          "text": [
            "7\n",
            "7\n",
            "7\n"
          ]
        }
      ],
      "source": [
        "# assume-se a<=b, pelo menos um elemento\n",
        "def min(v,a,b):\n",
        "    m = a\n",
        "    for i in range(a+1,b+1):\n",
        "        if (v[i] < v[m]):\n",
        "            m = i\n",
        "    return m\n",
        "\n",
        "v1 = [40,20,10,30,60,0,80,-40]\n",
        "print(min(v1,0,len(v1)-1))\n",
        "\n",
        "\n",
        "# assume-se a<=b, pelo menos um elemento\n",
        "def minrec(v,a,b):\n",
        "    if a==b : return a\n",
        "    m = minrec(v,a+1,b)\n",
        "    if v[a] < v[m] : m = a\n",
        "    return m\n",
        "\n",
        "print(minrec(v1,0,len(v1)-1))\n",
        "\n",
        "\n",
        "def minrec2(v,a,b):\n",
        "    if a==b : return a\n",
        "    m = minrec2(v,a,b-1)\n",
        "    if v[b] < v[m] : m = b\n",
        "    return m\n",
        "\n",
        "print(minrec2(v1,0,len(v1)-1))\n",
        "\n"
      ]
    },
    {
      "cell_type": "markdown",
      "id": "frank-archives",
      "metadata": {
        "id": "frank-archives"
      },
      "source": [
        "## Ordenação de arrays -- selection sort\n",
        "\n",
        "Um dos algoritmos de ordenação mais simples baseia-se no cálculo dos mínimos, como feito pela função anterior.\n",
        "\n",
        "O ciclo principal deste algoritmo mantém ordenado um segmento inicial do array, que vai crescendo até conter todo o array. Em cada iteração é selecionado o menor elemento contido na parte do array ainda não ordenada. Para isso poderíamos utilizar uma função auxiliar que selecionaria esse mínimo, mas sugere-se uma implementação sem função auxiliar, com um ciclo interior que faz a seleção do mínimo. \n",
        "\n",
        "[40, 20, 10, 30, 60, 0, 80]\n",
        "\n",
        "[**0**, 20, 10, 30, 60, 40, 80]\n",
        "\n",
        "[**0, 10**, 20, 30, 60, 40, 80]\n",
        "\n",
        "[**0, 10, 20**, 30, 60, 40, 80]\n",
        "\n",
        "[**0, 10, 20, 30**, 60, 40, 80]\n",
        "\n",
        "[**0, 10, 20, 30, 40**, 60, 80]\n",
        "\n",
        "[**0, 10, 20, 30, 40, 60**, 80]\n",
        "\n",
        "[**0, 10, 20, 30, 40, 60, 80**]\n",
        "\n",
        "\n",
        "### Exercício 3\n",
        "Escreva duas funções que implementem este algoritmo:\n",
        "1. utilizando como função auxiliar a função anterior de cálculo de um mínimo\n",
        "2. sem utilizar qualquer função auxiliar\n"
      ]
    },
    {
      "cell_type": "code",
      "execution_count": null,
      "id": "atomic-detective",
      "metadata": {
        "id": "atomic-detective",
        "outputId": "3f838a5d-20e3-49e2-ff1c-84fea0783ecd",
        "colab": {
          "base_uri": "https://localhost:8080/"
        }
      },
      "outputs": [
        {
          "output_type": "stream",
          "name": "stdout",
          "text": [
            "[80, 60, 10, 20, 30, 0, 40]\n",
            "[0, 60, 10, 20, 30, 80, 40]\n",
            "[0, 10, 60, 20, 30, 80, 40]\n",
            "[0, 10, 20, 60, 30, 80, 40]\n",
            "[0, 10, 20, 30, 60, 80, 40]\n",
            "[0, 10, 20, 30, 40, 80, 60]\n",
            "[0, 10, 20, 30, 40, 60, 80]\n",
            "[0, 10, 20, 30, 40, 60, 80]\n"
          ]
        }
      ],
      "source": [
        "# calcula o índice de um mínimo entre a e b, inclusive\n",
        "def min(v,a,b):\n",
        "    m = a\n",
        "    for i in range(a+1,b+1):\n",
        "        if (v[i] < v[m]):\n",
        "            m = i\n",
        "    return m\n",
        "\n",
        "def selSort(v) : \n",
        "    for i in range(len(v)) :\n",
        "        print(v)\n",
        "        m = min(v,i,len(v)-1)\n",
        "        if m != i :\n",
        "            v[m], v[i] = v[i], v[m]\n",
        "\n",
        "            \n",
        "            \n",
        "\n",
        "u = [80,60,10,20,30,0,40]\n",
        "selSort(u)\n",
        "print(u)"
      ]
    },
    {
      "cell_type": "code",
      "execution_count": null,
      "id": "usual-theta",
      "metadata": {
        "id": "usual-theta",
        "outputId": "612398fe-3bbb-41cb-e0a7-ac9c3a8b2441"
      },
      "outputs": [
        {
          "name": "stdout",
          "output_type": "stream",
          "text": [
            "[0, 10, 20, 30, 40, 60, 80]\n",
            "[0, 10, 20, 30, 40, 60, 80]\n"
          ]
        }
      ],
      "source": [
        "def selSort(v) : \n",
        "    for i in range(len(v)) :\n",
        "        m = i \n",
        "        for j in range(i+1, len(v)) : \n",
        "            if v[j] < v[m] : \n",
        "                m = j\n",
        "        if m != i :\n",
        "            v[m], v[i] = v[i], v[m]\n",
        "\n",
        "u = [40,20,10,30,60,0,80]\n",
        "selSort(u)\n",
        "print(u)\n",
        "u = [80,60,10,20,30,0,40]\n",
        "selSort(u)\n",
        "print(u)"
      ]
    },
    {
      "cell_type": "markdown",
      "id": "grave-transsexual",
      "metadata": {
        "id": "grave-transsexual"
      },
      "source": [
        "### Exercício 4\n",
        "Pretende-se definir uma função de inserção ordenada como se segue:\n",
        "* a função recebe um array e dois índices: `insert(u,a,b)` \n",
        "* quando a função é chamada, o array encontra-se ordenado entre as posições a e b-1\n",
        "* à saída da função, o array estará ordenado entre as posições a e b, ou seja, o último elemento foi inserido  na parte ordenada.\n",
        "\n",
        "Por exemplo, se u1 = [10,20,30,40,25] temos \n",
        "que `insert(u1,0,4)` produz o array [10,20,25,30,40]. \n",
        " \n",
        "Defina esta função de forma iterativa. \n",
        "\n",
        "**TPC**: defina também uma versão recursiva! "
      ]
    },
    {
      "cell_type": "markdown",
      "id": "younger-group",
      "metadata": {
        "id": "younger-group"
      },
      "source": [
        "## Insertion Sort\n",
        "Tal como no *selection sort*, em cada passo o array terá uma parte já ordenada, no início, seguindo-se elementos ainda não ordenados. Em cada passo do algoritmo insere-se  o elemento seguinte na parte já ordenada. \n",
        "\n",
        "[**40**, 20, 10, 30, 60, 0, 80]\n",
        "\n",
        "[**20, 40**, 10, 30, 60, 0, 80]\n",
        "\n",
        "[**10, 20, 40**, 30, 60, 0, 80]\n",
        "\n",
        "[**10, 20, 30, 40**, 60, 0, 80]\n",
        "\n",
        "[**10, 20, 30, 40, 60**, 0, 80]\n",
        "\n",
        "[**0, 10, 20, 30, 40, 60**, 80]\n",
        "\n",
        "[**0, 10, 20, 30, 40, 60, 80**]\n",
        "\n",
        "\n",
        "É útil reflectir um momento sobre as semelhanças e diferenças entre os algoritmos *selection sort* e *insertion sort*. \n",
        "\n",
        "1. Em que parte do array se concentra o trabalho efectuado em cada iteração por cada um deles? \n",
        "2. Poder-se-á dizer em algum dos algoritmos que os elementos da parte ordenada ficarão nas suas posições até ao final da execução? \n",
        "3. E quanto ao tempo de execução, será parecido ou muito diferente entre os dois? \n",
        "\n",
        "\n",
        "\n",
        "### Exercício 5\n",
        "Escreva duas funções que implementem este algoritmo:\n",
        "1. utilizando como função auxiliar a função anterior de inserção ordenada\n",
        "2. sem utilizar qualquer função auxiliar\n",
        "\n"
      ]
    }
  ],
  "metadata": {
    "kernelspec": {
      "display_name": "Python 3",
      "language": "python",
      "name": "python3"
    },
    "language_info": {
      "codemirror_mode": {
        "name": "ipython",
        "version": 3
      },
      "file_extension": ".py",
      "mimetype": "text/x-python",
      "name": "python",
      "nbconvert_exporter": "python",
      "pygments_lexer": "ipython3",
      "version": "3.9.2"
    },
    "colab": {
      "name": "Lab 5.ipynb",
      "provenance": []
    }
  },
  "nbformat": 4,
  "nbformat_minor": 5
}