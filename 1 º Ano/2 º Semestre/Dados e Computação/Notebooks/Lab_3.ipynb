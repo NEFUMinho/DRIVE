{
  "cells": [
    {
      "cell_type": "markdown",
      "id": "english-ceremony",
      "metadata": {
        "id": "english-ceremony"
      },
      "source": [
        "## RECAP Exercício para casa da última aula\n",
        "Estude o algoritmo de Euclides para o cálculo do máximo divisor comum de dois números:\n",
        "\n",
        "https://www.khanacademy.org/computing/computer-science/cryptography/modarithmetic/a/the-euclidean-algorithm\n",
        "        \n",
        "        \n",
        "##### 1. Implemente este algoritmo, por forma a calcular o MDC de dois números\n"
      ]
    },
    {
      "cell_type": "code",
      "execution_count": null,
      "id": "gothic-watson",
      "metadata": {
        "id": "gothic-watson",
        "outputId": "b12c7cc1-634a-4c59-e3d9-34ffb180fd2f",
        "colab": {
          "base_uri": "https://localhost:8080/"
        }
      },
      "outputs": [
        {
          "output_type": "stream",
          "name": "stdout",
          "text": [
            "6\n"
          ]
        }
      ],
      "source": [
        "\n",
        "m = 108\n",
        "n = 42\n",
        "\n",
        "# trocar valores caso m seja menor do que n \n",
        "if m < n:\n",
        "    aux = n\n",
        "    n = m\n",
        "    m = aux\n",
        "\n",
        "while (m % n != 0):\n",
        "    aux = n\n",
        "    n = m % n\n",
        "    m = aux\n",
        "    \n",
        "print(n)\n",
        "\n"
      ]
    },
    {
      "cell_type": "code",
      "execution_count": null,
      "id": "occupational-november",
      "metadata": {
        "id": "occupational-november",
        "outputId": "0aaecb74-3c74-4309-d5cf-33bd790b7a58",
        "colab": {
          "base_uri": "https://localhost:8080/"
        }
      },
      "outputs": [
        {
          "output_type": "stream",
          "name": "stdout",
          "text": [
            "108 42\n",
            "42 24\n",
            "24 18\n",
            "18 6\n"
          ]
        }
      ],
      "source": [
        "\n",
        "m = 42\n",
        "n = 108\n",
        "\n",
        "if m < n: \n",
        "    m, n = n, m\n",
        "\n",
        "while m % n != 0:\n",
        "    print (m, n)\n",
        "    m, n = n, m % n\n",
        "\n",
        "print(m,n)\n"
      ]
    },
    {
      "cell_type": "markdown",
      "id": "ideal-cricket",
      "metadata": {
        "id": "ideal-cricket"
      },
      "source": [
        "##### 2. Escreva um programa que, dado um número $n$, imprime uma tabela com $n$ linhas e $n$ colunas, que na linha $i$ e coluna $j$ deverá conter 1 se $\\mathit{mdc}(i,j)=1$ e 0 em caso contrário\n"
      ]
    },
    {
      "cell_type": "code",
      "execution_count": null,
      "id": "leading-liability",
      "metadata": {
        "id": "leading-liability",
        "outputId": "ee88524f-f8a5-4bb6-a35e-350723531b7a",
        "colab": {
          "base_uri": "https://localhost:8080/"
        }
      },
      "outputs": [
        {
          "output_type": "stream",
          "name": "stdout",
          "text": [
            "1 1 1 1 1 1 1 1 1 1 1 \n",
            "1 0 1 0 1 0 1 0 1 0 1 \n",
            "1 1 0 1 1 0 1 1 0 1 1 \n",
            "1 0 1 0 1 0 1 0 1 0 1 \n",
            "1 1 1 1 0 1 1 1 1 0 1 \n",
            "1 0 0 0 1 0 1 0 0 0 1 \n",
            "1 1 1 1 1 1 0 1 1 1 1 \n",
            "1 0 1 0 1 0 1 0 1 0 1 \n",
            "1 1 0 1 1 0 1 1 0 1 1 \n",
            "1 0 1 0 0 0 1 0 1 0 1 \n",
            "1 1 1 1 1 1 1 1 1 1 0 \n"
          ]
        }
      ],
      "source": [
        "\n",
        "n = 11\n",
        "\n",
        "for i in range(1,n+1) :\n",
        "    for j in range (1,n+1) : \n",
        "        (a,b) = (i,j)\n",
        "        if a < b: (a,b) = (b,a)\n",
        "        while (a % b != 0):\n",
        "            (a, b) = (b, a % b)\n",
        "        if (b==1) : \n",
        "            print('1 ', end='')\n",
        "        else:     \n",
        "            print('0 ', end='')\n",
        "    print('')\n",
        "\n"
      ]
    },
    {
      "cell_type": "markdown",
      "id": "laughing-poland",
      "metadata": {
        "id": "laughing-poland"
      },
      "source": [
        "## Programação com Arrays"
      ]
    },
    {
      "cell_type": "code",
      "execution_count": null,
      "id": "national-correspondence",
      "metadata": {
        "id": "national-correspondence",
        "outputId": "9476bda6-118f-4fdd-df30-40f85eda5e36",
        "colab": {
          "base_uri": "https://localhost:8080/"
        }
      },
      "outputs": [
        {
          "output_type": "stream",
          "name": "stdout",
          "text": [
            "2 of Clubs\n",
            "2 of Diamonds\n",
            "2 of Hearts\n",
            "2 of Spades\n",
            "3 of Clubs\n",
            "3 of Diamonds\n",
            "3 of Hearts\n",
            "3 of Spades\n",
            "4 of Clubs\n",
            "4 of Diamonds\n",
            "4 of Hearts\n",
            "4 of Spades\n",
            "5 of Clubs\n",
            "5 of Diamonds\n",
            "5 of Hearts\n",
            "5 of Spades\n",
            "6 of Clubs\n",
            "6 of Diamonds\n",
            "6 of Hearts\n",
            "6 of Spades\n",
            "7 of Clubs\n",
            "7 of Diamonds\n",
            "7 of Hearts\n",
            "7 of Spades\n",
            "8 of Clubs\n",
            "8 of Diamonds\n",
            "8 of Hearts\n",
            "8 of Spades\n",
            "9 of Clubs\n",
            "9 of Diamonds\n",
            "9 of Hearts\n",
            "9 of Spades\n",
            "10 of Clubs\n",
            "10 of Diamonds\n",
            "10 of Hearts\n",
            "10 of Spades\n",
            "Jack of Clubs\n",
            "Jack of Diamonds\n",
            "Jack of Hearts\n",
            "Jack of Spades\n",
            "Queen of Clubs\n",
            "Queen of Diamonds\n",
            "Queen of Hearts\n",
            "Queen of Spades\n",
            "King of Clubs\n",
            "King of Diamonds\n",
            "King of Hearts\n",
            "King of Spades\n",
            "Ace of Clubs\n",
            "Ace of Diamonds\n",
            "Ace of Hearts\n",
            "Ace of Spades\n",
            "['2 of Clubs', '2 of Diamonds', '2 of Hearts', '2 of Spades', '3 of Clubs', '3 of Diamonds', '3 of Hearts', '3 of Spades', '4 of Clubs', '4 of Diamonds', '4 of Hearts', '4 of Spades', '5 of Clubs', '5 of Diamonds', '5 of Hearts', '5 of Spades', '6 of Clubs', '6 of Diamonds', '6 of Hearts', '6 of Spades', '7 of Clubs', '7 of Diamonds', '7 of Hearts', '7 of Spades', '8 of Clubs', '8 of Diamonds', '8 of Hearts', '8 of Spades', '9 of Clubs', '9 of Diamonds', '9 of Hearts', '9 of Spades', '10 of Clubs', '10 of Diamonds', '10 of Hearts', '10 of Spades', 'Jack of Clubs', 'Jack of Diamonds', 'Jack of Hearts', 'Jack of Spades', 'Queen of Clubs', 'Queen of Diamonds', 'Queen of Hearts', 'Queen of Spades', 'King of Clubs', 'King of Diamonds', 'King of Hearts', 'King of Spades', 'Ace of Clubs', 'Ace of Diamonds', 'Ace of Hearts', 'Ace of Spades']\n"
          ]
        }
      ],
      "source": [
        "\n",
        "SUITS = ['Clubs', 'Diamonds', 'Hearts', 'Spades']\n",
        "RANKS = ['2', '3', '4', '5', '6', '7', '8', '9', '10',\n",
        "         'Jack', 'Queen', 'King', 'Ace']\n",
        "\n",
        "deck = []\n",
        "for rank in RANKS:\n",
        "    for suit in SUITS:\n",
        "        card = rank + ' of ' + suit\n",
        "        deck += [card]\n",
        "\n",
        "\n",
        "for card in deck :\n",
        "  print(card)\n",
        "\n",
        "print(deck)        "
      ]
    },
    {
      "cell_type": "code",
      "execution_count": null,
      "id": "breathing-colonial",
      "metadata": {
        "id": "breathing-colonial",
        "outputId": "cb533da2-1420-425c-9359-529647e82560",
        "colab": {
          "base_uri": "https://localhost:8080/"
        }
      },
      "outputs": [
        {
          "output_type": "stream",
          "name": "stdout",
          "text": [
            "[0, 1, 2, 3, 4, 5, 6, 7, 8, 9, 10, 11, 12, 13, 14, 15, 16, 17, 18, 19, 20, 21, 22, 23, 24, 25, 26, 27, 28, 29, 30, 31, 32, 33, 34, 35, 36, 37, 38, 39, 40, 41, 42, 43, 44, 45, 46, 47, 48, 49, 50, 51, 52, 53, 54, 55, 56, 57, 58, 59, 60, 61, 62, 63, 64, 65, 66, 67, 68, 69, 70, 71, 72, 73, 74, 75, 76, 77, 78, 79, 80, 81, 82, 83, 84, 85, 86, 87, 88, 89, 90, 91, 92, 93, 94, 95, 96, 97, 98, 99]\n",
            "\n",
            "[79, 4, 34, 81, 73, 43, 56, 93, 80, 14, 94, 40, 82, 99, 96, 24, 95, 2, 53, 55, 87, 44, 22, 63, 29, 26, 74, 97, 57, 19, 30, 31, 27, 61, 72, 49, 23, 11, 10, 66, 25, 84, 21, 90, 48, 69, 83, 52, 28, 42, 77, 71, 67, 13, 32, 3, 54, 0, 58, 36, 5, 37, 39, 78, 46, 65, 64, 59, 18, 41, 50, 9, 51, 89, 60, 88, 92, 35, 85, 16, 98, 38, 45, 8, 62, 7, 17, 15, 76, 68, 12, 86, 1, 70, 47, 33, 20, 91, 6, 75]\n",
            "\n",
            "[18, 61, 50, 49, 42, 33, 69, 67, 97, 25, 54, 12, 6, 0, 38, 46, 35, 22, 10, 43, 24, 1, 80, 36, 40, 30, 59, 99, 56, 47, 53, 52, 82, 13, 7, 5, 29, 81, 28, 85, 63, 89, 68, 45, 9, 74, 8, 94, 83, 39, 14, 2, 87, 98, 57, 88, 58, 4, 31, 20, 76, 91, 60, 17, 71, 96, 3, 79, 32, 51, 11, 84, 86, 16, 48, 72, 78, 27, 75, 73, 70, 44, 62, 92, 65, 90, 15, 19, 64, 66, 26, 55, 23, 93, 41, 95, 34, 77, 37, 21]\n",
            "\n"
          ]
        }
      ],
      "source": [
        "\n",
        "import sys\n",
        "import random\n",
        "\n",
        "# Gerar permutações aleatórias da sequência 0..99\n",
        "\n",
        "n = 100\n",
        "\n",
        "# Inicialização de perm.\n",
        "perm = [0]*n\n",
        "for i in range(n) :\n",
        "    perm[i] = i\n",
        "\n",
        "print(perm)\n",
        "print()\n",
        "\n",
        "for i in range(n) :\n",
        "    r = random.randrange(i, n)\n",
        "    perm[r], perm[i] = perm[i], perm[r]\n",
        "    \n",
        "print(perm)\n",
        "print()\n",
        "\n",
        "for i in range(n) :\n",
        "    r = random.randrange(i, n)\n",
        "    perm[i], perm[r] = perm[r], perm[i]\n",
        "    \n",
        "print(perm)\n",
        "print()\n",
        "    "
      ]
    },
    {
      "cell_type": "markdown",
      "id": "thrown-meaning",
      "metadata": {
        "id": "thrown-meaning"
      },
      "source": [
        "### Exercício 1\n",
        "\n",
        "1. Escreva um programa que a partir de um array a crie um array b com os mesmos elementos de a, mas por ordem inversa. Defina duas versões:\n",
        "    1. A primeira percorre o array a do início para o final, e insere cada elemento no início do array b (inicialmente vazio)\n",
        "    2. A segunda percorre a do fim para o início, inserindo cada elemento no final do array b (inicialmente vazio)\n",
        "\n",
        "2. Altere agora os algoritmos anteriores, começando por alocar o array b logo no início com o comprimento de a, inicializando-o com 0 em todas as posições. Significa isto que os elementos não serão agora \"inseridos\", mas sim escritos na posição correcta de b. \n",
        "\n",
        "2. Escreva um programa que *inverta* a ordem dos elementos de um array de números \"in place\", sem criar um novo array b\n"
      ]
    },
    {
      "cell_type": "code",
      "execution_count": null,
      "id": "greek-opportunity",
      "metadata": {
        "id": "greek-opportunity",
        "outputId": "e6f65b08-1b54-4f19-a225-9659bef6258f",
        "colab": {
          "base_uri": "https://localhost:8080/"
        }
      },
      "outputs": [
        {
          "output_type": "stream",
          "name": "stdout",
          "text": [
            "[0, 40, 20, 30, 10]\n"
          ]
        }
      ],
      "source": [
        "a = [10,30,20,40,0]\n",
        "\n",
        "b = []\n",
        "for x in a :\n",
        "    b = [x]+b\n",
        "\n",
        "print(b)    \n",
        "    "
      ]
    },
    {
      "cell_type": "markdown",
      "source": [
        "Para construir o array invertido inserindo elementos no final será necessário percorrer o array original por ordem inversa, começando pelo último. Para isto teremos de iterar sobre os índices, utilizando `range(n-1,-1,-1)`. O último argumento -1 corresponde ao \"step\" negativo da iteração."
      ],
      "metadata": {
        "id": "fiqVcWuZ7lVp"
      },
      "id": "fiqVcWuZ7lVp"
    },
    {
      "cell_type": "code",
      "source": [
        "a = [10,30,20,40,0]\n",
        "\n",
        "n = len(a)\n",
        "\n",
        "b = []\n",
        "for i in range(n-1,-1,-1) : \n",
        "  b += [a[i]]\n",
        "    \n",
        "print(b)    "
      ],
      "metadata": {
        "colab": {
          "base_uri": "https://localhost:8080/"
        },
        "id": "z6VbJJE96jww",
        "outputId": "9cab7643-85dc-455b-f00d-f8841e5a0c6c"
      },
      "id": "z6VbJJE96jww",
      "execution_count": null,
      "outputs": [
        {
          "output_type": "stream",
          "name": "stdout",
          "text": [
            "[0, 40, 20, 30, 10]\n"
          ]
        }
      ]
    },
    {
      "cell_type": "code",
      "source": [
        "a = [10,30,20,40,0]\n",
        "\n",
        "n = len(a)\n",
        "\n",
        "bb = [0]*n\n",
        "for i in range(n) :\n",
        "    bb[n-i-1] = a[i]\n",
        "\n",
        "print(bb)   \n",
        "\n",
        "cc = [0]*n\n",
        "for i in range(n) :\n",
        "    cc[i] = a[n-i-1]\n",
        "\n",
        "print(cc)   \n",
        "\n"
      ],
      "metadata": {
        "colab": {
          "base_uri": "https://localhost:8080/"
        },
        "id": "3ICnObj0-pxA",
        "outputId": "40d48014-c6b7-4337-e4ea-d95be49bec6f"
      },
      "id": "3ICnObj0-pxA",
      "execution_count": null,
      "outputs": [
        {
          "output_type": "stream",
          "name": "stdout",
          "text": [
            "[0, 40, 20, 30, 10]\n",
            "[0, 40, 20, 30, 10]\n"
          ]
        }
      ]
    },
    {
      "cell_type": "code",
      "execution_count": null,
      "id": "pursuant-garage",
      "metadata": {
        "id": "pursuant-garage",
        "outputId": "0073df9a-7550-4b18-cba8-59d6ffaeaadb",
        "colab": {
          "base_uri": "https://localhost:8080/"
        }
      },
      "outputs": [
        {
          "output_type": "stream",
          "name": "stdout",
          "text": [
            "[0, 30, 20, 40, 10]\n",
            "[0, 40, 20, 30, 10]\n"
          ]
        }
      ],
      "source": [
        "a = [10,30,20,40,0]\n",
        "\n",
        "n = len(a)\n",
        "\n",
        "for i in range(n//2):\n",
        "    (a[i],a[n-i-1]) = (a[n-i-1],a[i])\n",
        "    print(a)\n",
        "    \n"
      ]
    },
    {
      "cell_type": "markdown",
      "id": "numerous-taxation",
      "metadata": {
        "id": "numerous-taxation"
      },
      "source": [
        "### Exercício 2\n",
        "\n",
        "Escreva um programa que imprima todos os números primos inferiores a um determinado valor, usando o *Crivo de Eratóstenes*. \n",
        "\n",
        "https://mathworld.wolfram.com/SieveofEratosthenes.html"
      ]
    },
    {
      "cell_type": "code",
      "execution_count": null,
      "id": "undefined-drink",
      "metadata": {
        "id": "undefined-drink",
        "outputId": "8bf4864c-6d9b-4d32-afc0-d4c85f0b740d",
        "colab": {
          "base_uri": "https://localhost:8080/"
        }
      },
      "outputs": [
        {
          "output_type": "stream",
          "name": "stdout",
          "text": [
            "[True, True, True, True, False, True, False, True, False, False, False, True, False, True, False, False, False, True, False, True, False, False, False, True, False, False, False, False, False, True, False, True, False, False, False, False, False, True, False, False, False, True, False, True, False, False, False, True, False, False, False]\n",
            "\n",
            "[2, 3, 5, 7, 11, 13, 17, 19, 23, 29, 31, 37, 41, 43, 47]\n"
          ]
        }
      ],
      "source": [
        "# Crivo de Eratóstenes\n",
        "\n",
        "import sys\n",
        "import math\n",
        "\n",
        "n = 50\n",
        "\n",
        "# Initially assume all integers are prime.\n",
        "primo = [True]*(n+1)\n",
        "\n",
        "for i in range(2, round(math.sqrt(n))+1) :\n",
        "    if primo[i]:\n",
        "        # Marcar múltiplos de i (não são primos)\n",
        "        for j in range(2, n//i + 1):\n",
        "            primo[i * j] = False;\n",
        "\n",
        "print(primo)            \n",
        "print()\n",
        "\n",
        "# Produzir array com os primos <=n\n",
        "primos = []\n",
        "for i in range(2, n+1):\n",
        "    if primo[i]:\n",
        "        primos += [i] \n",
        "        \n",
        "print (primos)\n"
      ]
    },
    {
      "cell_type": "markdown",
      "id": "greater-official",
      "metadata": {
        "id": "greater-official"
      },
      "source": [
        "### Exercício 3\n",
        "1. Escreva um programa que construa um array histograma a partir de um array a de números inteiros não negativos. Por exemplo a partir do array a=[1,0,0,2,1,4,1]\n",
        "deve produzir [2,3,1,0,1] uma vez que existem 2 ocorrências de 0, 3 de 1, etc.\n",
        "2. Escreva também um programa que construa um array que contenha na posição x o número de elementos de a cujo valor é menor ou igual do que x. Para o exemplo anterior deverá calcular [2,5,6,6,7]"
      ]
    },
    {
      "cell_type": "code",
      "execution_count": null,
      "id": "driving-deviation",
      "metadata": {
        "id": "driving-deviation",
        "outputId": "c9092e10-4fca-461c-a494-f7318193db31",
        "colab": {
          "base_uri": "https://localhost:8080/"
        }
      },
      "outputs": [
        {
          "output_type": "stream",
          "name": "stdout",
          "text": [
            "[2, 3, 1, 0, 1]\n"
          ]
        }
      ],
      "source": [
        "a = [1,0,0,2,1,4,1]\n",
        "\n",
        "m = max(a)\n",
        "\n",
        "hist = [0]*(m+1)\n",
        "for x in a : \n",
        "    hist[x] += 1\n",
        "    \n",
        "print(hist)    \n",
        "\n"
      ]
    },
    {
      "cell_type": "code",
      "source": [
        "# cuidado não copiar com leq = hist!!\n",
        "leq = []\n",
        "for x in hist :\n",
        "    leq += [x]\n",
        "\n",
        "for i in range(1,m+1) :\n",
        "    leq[i] += leq[i-1]\n",
        "\n",
        "print(leq)\n",
        "\n",
        "## como interpretar o que acontece se se escrever só range(m) acima?\n",
        "\n"
      ],
      "metadata": {
        "colab": {
          "base_uri": "https://localhost:8080/"
        },
        "id": "gDhYt566COmP",
        "outputId": "2e2da35a-fdf0-4c1d-a4a9-60c32f3c2216"
      },
      "id": "gDhYt566COmP",
      "execution_count": null,
      "outputs": [
        {
          "output_type": "stream",
          "name": "stdout",
          "text": [
            "[2, 5, 6, 6, 7]\n"
          ]
        }
      ]
    },
    {
      "cell_type": "markdown",
      "id": "public-given",
      "metadata": {
        "id": "public-given"
      },
      "source": [
        "### Exercício 4\n",
        "\n",
        "1. Escreva um programa que procure num array a primeira ocorrência de um determinado elemento, imprimindo a posição (índice) em que foi encontrado.\n",
        "2. Repita o exercício anterior, optimizando o seu código para o caso em que se sabe à partida que o array se encontra *ordenado* de forma crescente.\n"
      ]
    }
  ],
  "metadata": {
    "kernelspec": {
      "display_name": "Python 3",
      "language": "python",
      "name": "python3"
    },
    "language_info": {
      "codemirror_mode": {
        "name": "ipython",
        "version": 3
      },
      "file_extension": ".py",
      "mimetype": "text/x-python",
      "name": "python",
      "nbconvert_exporter": "python",
      "pygments_lexer": "ipython3",
      "version": "3.9.2"
    },
    "colab": {
      "name": "Lab 3.ipynb",
      "provenance": [],
      "collapsed_sections": []
    }
  },
  "nbformat": 4,
  "nbformat_minor": 5
}