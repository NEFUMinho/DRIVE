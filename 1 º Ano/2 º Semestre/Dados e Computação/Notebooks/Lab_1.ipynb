{
  "nbformat": 4,
  "nbformat_minor": 0,
  "metadata": {
    "colab": {
      "name": "Lab 1.ipynb",
      "provenance": [],
      "collapsed_sections": []
    },
    "kernelspec": {
      "name": "python3",
      "display_name": "Python 3"
    },
    "language_info": {
      "name": "python"
    }
  },
  "cells": [
    {
      "cell_type": "code",
      "execution_count": null,
      "metadata": {
        "id": "zR2F8sZqWcms",
        "outputId": "ae18b418-fc37-4bb4-a4bf-0db069bbaf30",
        "colab": {
          "base_uri": "https://localhost:8080/"
        }
      },
      "outputs": [
        {
          "output_type": "stream",
          "name": "stdout",
          "text": [
            "1\n",
            "1 2 1\n",
            "1 2 1 3 1 2 1\n",
            "1 2 1 3 1 2 1 4 1 2 1 3 1 2 1\n",
            "4\n"
          ]
        }
      ],
      "source": [
        "#-----------------------------------------------------------------------\n",
        "# ruler.py\n",
        "#-----------------------------------------------------------------------\n",
        "\n",
        "# Write to standard output the relative lengths of the subdivisions on\n",
        "# a ruler. The nth line of output is the relative lengths of the marks\n",
        "# on a ruler subdivided in intervals of 1/2^n of an inch.  For example,\n",
        "# the fourth line of output gives the relative lengths of the marks\n",
        "# that indicate intervals of one-sixteenth of an inch on a ruler.\n",
        "\n",
        "ruler1 = '1'\n",
        "ruler2 = ruler1 + ' 2 ' + ruler1\n",
        "ruler3 = ruler2 + ' 3 ' + ruler2\n",
        "ruler4 = ruler3 + ' 4 ' + ruler3\n",
        "print(ruler1)\n",
        "print(ruler2)\n",
        "print(ruler3)\n",
        "print(ruler4)\n",
        "ruler4 = '4'\n",
        "print(ruler4)\n",
        "\n",
        "#-----------------------------------------------------------------------\n",
        "\n",
        "# python ruler.py\n",
        "# 1\n",
        "# 1 2 1\n",
        "# 1 2 1 3 1 2 1\n",
        "# 1 2 1 3 1 2 1 4 1 2 1 3 1 2 1\n",
        "\n"
      ]
    },
    {
      "cell_type": "code",
      "source": [
        "#-----------------------------------------------------------------------\n",
        "# intops.py\n",
        "#-----------------------------------------------------------------------\n",
        "\n",
        "import sys\n",
        "\n",
        "# Accept int command-line arguments a and b. Use them to illustrate\n",
        "# integer operators. Write the results to standard output.\n",
        "\n",
        "# NOTA (JSP): ao usar Jupyter Notebooks não é adequado ler argumentos \n",
        "# da linha de comandos\n",
        "# a = int(sys.argv[1])\n",
        "# b = int(sys.argv[2])\n",
        "\n",
        "a = 108\n",
        "b = 42\n",
        "\n",
        "total = a +  b\n",
        "diff  = a -  b\n",
        "prod  = a *  b\n",
        "\n",
        "quot  = a // b\n",
        "quot2  = a / b\n",
        "# In Python 3.x, / does true division and // does floor division\n",
        "# It's wise to use // to divide integers, and / to divide floats.\n",
        "\n",
        "rem   = a %  b\n",
        "exp   = a ** b\n",
        "\n",
        "print(str(a) + ' +  ' + str(b) + ' = ' + str(total))\n",
        "print(str(a) + ' -  ' + str(b) + ' = ' + str(diff))\n",
        "print(str(a) + ' *  ' + str(b) + ' = ' + str(prod))\n",
        "print(str(a) + ' // ' + str(b) + ' = ' + str(quot))\n",
        "print(str(a) + ' / ' + str(b) + ' = ' + str(quot2))\n",
        "print(str(a) + ' %  ' + str(b) + ' = ' + str(rem))\n",
        "print(str(a) + ' ** ' + str(b) + ' = ' + str(exp))\n",
        "\n",
        "#-----------------------------------------------------------------------\n",
        "\n",
        "# python intops.py 1234 5\n",
        "# 1234 +  5 = 1239\n",
        "# 1234 -  5 = 1229\n",
        "# 1234 *  5 = 6170\n",
        "# 1234 // 5 = 246\n",
        "# 1234 %  5 = 4\n",
        "# 1234 ** 5 = 2861381721051424"
      ],
      "metadata": {
        "id": "UHFYIADkWgOG",
        "colab": {
          "base_uri": "https://localhost:8080/"
        },
        "outputId": "b7f4dea0-ef21-4321-9d65-d80f5eadcb0c"
      },
      "execution_count": null,
      "outputs": [
        {
          "output_type": "stream",
          "name": "stdout",
          "text": [
            "108 +  42 = 150\n",
            "108 -  42 = 66\n",
            "108 *  42 = 4536\n",
            "108 // 42 = 2\n",
            "108 / 42 = 2.5714285714285716\n",
            "108 %  42 = 24\n",
            "108 ** 42 = 25339481873867337324763445771714308880104419331864166059983313204911204260262879166464\n"
          ]
        }
      ]
    },
    {
      "cell_type": "code",
      "source": [
        "#-----------------------------------------------------------------------\n",
        "# floatops.py\n",
        "#-----------------------------------------------------------------------\n",
        "\n",
        "import sys\n",
        "\n",
        "# Accept two floats a and b as command-line arguments. Use them\n",
        "# to illustrate float operators. Write the results to standard output.\n",
        "\n",
        "# NOTA (JSP): ao usar Jupyter Notebooks não é adequado ler argumentos \n",
        "# da linha de comandos\n",
        "# a = int(sys.argv[1])\n",
        "# b = int(sys.argv[2])\n",
        "\n",
        "a = float(108)\n",
        "b = 42.0\n",
        "\n",
        "\n",
        "total = a + b\n",
        "diff  = a - b\n",
        "prod  = a * b\n",
        "quot  = a / b\n",
        "exp   = a ** b\n",
        "\n",
        "print(str(a) + ' +  ' + str(b) + ' = ' + str(total))\n",
        "print(str(a) + ' -  ' + str(b) + ' = ' + str(diff))\n",
        "print(str(a) + ' *  ' + str(b) + ' = ' + str(prod))\n",
        "print(str(a) + ' /  ' + str(b) + ' = ' + str(quot))\n",
        "print(str(a) + ' ** ' + str(b) + ' = ' + str(exp))\n",
        "\n",
        "#-----------------------------------------------------------------------\n",
        "\n",
        "# python floatops.py 123.456 78.9\n",
        "# 123.456 +  78.9 = 202.356\n",
        "# 123.456 -  78.9 = 44.556\n",
        "# 123.456 *  78.9 = 9740.6784\n",
        "# 123.456 /  78.9 = 1.5647148289\n",
        "# 123.456 ** 78.9 = 1.04788279167e+165"
      ],
      "metadata": {
        "colab": {
          "base_uri": "https://localhost:8080/"
        },
        "id": "LIGXmM5qckYH",
        "outputId": "c17d9d82-feaf-473b-8e38-367b4abde56d"
      },
      "execution_count": null,
      "outputs": [
        {
          "output_type": "stream",
          "name": "stdout",
          "text": [
            "108.0 +  42.0 = 150.0\n",
            "108.0 -  42.0 = 66.0\n",
            "108.0 *  42.0 = 4536.0\n",
            "108.0 /  42.0 = 2.5714285714285716\n",
            "108.0 ** 42.0 = 2.533948187386734e+85\n"
          ]
        }
      ]
    },
    {
      "cell_type": "code",
      "source": [
        "#-----------------------------------------------------------------------\n",
        "# quadratic.py\n",
        "#-----------------------------------------------------------------------\n",
        "\n",
        "import sys\n",
        "import math\n",
        "\n",
        "# Accept floats b and c as command-line arguments. Compute \n",
        "# the roots of the polynomial x^2 + bx + c using the quadratic\n",
        "# formula. Write the roots to standard output.\n",
        "\n",
        "# b = float(sys.argv[1])\n",
        "# c = float(sys.argv[2])\n",
        "\n",
        "b = float(-3)\n",
        "c = float(2)\n",
        "\n",
        "discriminant = b*b - 4.0*c\n",
        "d = math.sqrt(discriminant)\n",
        "\n",
        "print((-b + d) / 2.0)\n",
        "print((-b - d) / 2.0)\n",
        "\n",
        "#-----------------------------------------------------------------------\n",
        "\n",
        "# quadratic.py -3.0 2.0\n",
        "# 2.0\n",
        "# 1.0\n",
        "\n",
        "# quadratic.py -1.0 -1.0\n",
        "# 1.618033988749895\n",
        "# -0.6180339887498949\n",
        "\n",
        "# quadratic.py 1.0 1.0\n",
        "# Traceback (most recent call last):\n",
        "#   File \"quadratic.py\", line 17, in <module>\n",
        "#     d = math.sqrt(discriminant)\n",
        "# ValueError: math domain error"
      ],
      "metadata": {
        "colab": {
          "base_uri": "https://localhost:8080/"
        },
        "id": "PYf0kN-sdxbL",
        "outputId": "a0a8cde5-a481-45e0-f090-0809a4f4fbd2"
      },
      "execution_count": null,
      "outputs": [
        {
          "output_type": "stream",
          "name": "stdout",
          "text": [
            "2.0\n",
            "1.0\n"
          ]
        }
      ]
    },
    {
      "cell_type": "code",
      "source": [
        "#-----------------------------------------------------------------------\n",
        "# leapyear.py\n",
        "#-----------------------------------------------------------------------\n",
        "\n",
        "import sys\n",
        "\n",
        "# Accept an int year as a command-line argument. Write True to\n",
        "# standard output if year is a leap year.  Otherwise write False.\n",
        "\n",
        "# year = int(sys.argv[1])\n",
        "\n",
        "year = 2021\n",
        "\n",
        "isLeapYear = (year % 4 == 0)\n",
        "isLeapYear = isLeapYear and (year % 100 != 0)\n",
        "isLeapYear = isLeapYear or  (year % 400 == 0)\n",
        "\n",
        "isLeapYear2 = ((year % 4 == 0) and (year % 100 != 0)) or  (year % 400 == 0)\n",
        "\n",
        "print(isLeapYear)\n",
        "print(isLeapYear2)\n",
        "\n",
        "\n",
        "#-----------------------------------------------------------------------\n",
        "\n",
        "# python leapyear.py 2016    \n",
        "# True\n",
        "\n",
        "# python leapyear.py 1900 \n",
        "# False\n",
        "\n",
        "# python leapyear.py 2000\n",
        "# True"
      ],
      "metadata": {
        "colab": {
          "base_uri": "https://localhost:8080/"
        },
        "id": "1ElDivnveB9N",
        "outputId": "b803719d-75a8-4783-8392-eee418b62647"
      },
      "execution_count": null,
      "outputs": [
        {
          "output_type": "stream",
          "name": "stdout",
          "text": [
            "False\n",
            "False\n"
          ]
        }
      ]
    },
    {
      "cell_type": "markdown",
      "source": [
        "## Atenção!\n",
        "Programar com número de vírgula flutuante requer ter  presente que se trata sempre de aproximações. Deve evitar-se por exemplo fazer testes de igualdade exacta.\n"
      ],
      "metadata": {
        "id": "or8xfKmoeb0b"
      }
    },
    {
      "cell_type": "code",
      "source": [
        "print(0.1 + 0.1)\n",
        "print(0.1 + 0.1 + 0.1)\n",
        "print(0.1+0.1+0.1 == 0.3)\n",
        "print(abs(0.1+0.1+0.1 - 0.3) == 0.0)\n",
        "print(abs(0.1+0.1+0.1 - 0.3) < 0.00000001)\n",
        "print(5*0.3 == 1.5)\n",
        "print(0.6 - 0.1 - 0.1 - 0.1)"
      ],
      "metadata": {
        "colab": {
          "base_uri": "https://localhost:8080/"
        },
        "id": "kmTZ87gweJ9o",
        "outputId": "07bf3a4d-33e9-4703-b6d4-9a720a21ad5d"
      },
      "execution_count": null,
      "outputs": [
        {
          "output_type": "stream",
          "name": "stdout",
          "text": [
            "0.2\n",
            "0.30000000000000004\n",
            "False\n",
            "False\n",
            "True\n",
            "True\n",
            "0.30000000000000004\n"
          ]
        }
      ]
    },
    {
      "cell_type": "code",
      "source": [
        "print(round(2.4))\n",
        "print(round(3.6))\n",
        "\n",
        "print(round(2.5))\n",
        "print(round(15.5))"
      ],
      "metadata": {
        "id": "UGWkV_rvflCB",
        "outputId": "668c5db0-abc8-4ea7-bc6e-d967a9b2b14e",
        "colab": {
          "base_uri": "https://localhost:8080/"
        }
      },
      "execution_count": null,
      "outputs": [
        {
          "output_type": "stream",
          "name": "stdout",
          "text": [
            "2\n",
            "4\n",
            "2\n",
            "16\n"
          ]
        }
      ]
    },
    {
      "cell_type": "markdown",
      "source": [
        "O operador de arredondamento produz o número **par* mais próximo!"
      ],
      "metadata": {
        "id": "GNXH3t5memjO"
      }
    },
    {
      "cell_type": "code",
      "source": [
        "print (10/0)"
      ],
      "metadata": {
        "colab": {
          "base_uri": "https://localhost:8080/",
          "height": 164
        },
        "id": "mwHpcXnPeTxr",
        "outputId": "01e188f0-c7b9-4a81-fcd9-cda51ba6619c"
      },
      "execution_count": null,
      "outputs": [
        {
          "output_type": "error",
          "ename": "ZeroDivisionError",
          "evalue": "ignored",
          "traceback": [
            "\u001b[0;31m---------------------------------------------------------------------------\u001b[0m",
            "\u001b[0;31mZeroDivisionError\u001b[0m                         Traceback (most recent call last)",
            "\u001b[0;32m<ipython-input-15-5bb9f1de3b2f>\u001b[0m in \u001b[0;36m<module>\u001b[0;34m()\u001b[0m\n\u001b[0;32m----> 1\u001b[0;31m \u001b[0mprint\u001b[0m \u001b[0;34m(\u001b[0m\u001b[0;36m10\u001b[0m\u001b[0;34m/\u001b[0m\u001b[0;36m0\u001b[0m\u001b[0;34m)\u001b[0m\u001b[0;34m\u001b[0m\u001b[0;34m\u001b[0m\u001b[0m\n\u001b[0m",
            "\u001b[0;31mZeroDivisionError\u001b[0m: division by zero"
          ]
        }
      ]
    },
    {
      "cell_type": "code",
      "source": [
        "a = False\n",
        "b = True\n",
        "(not (a and b) and (a or b)) or ((a and b) or not (a or b))"
      ],
      "metadata": {
        "colab": {
          "base_uri": "https://localhost:8080/"
        },
        "id": "c0oronKsenlh",
        "outputId": "6390d260-1381-4bf2-8436-2730ea002a6d"
      },
      "execution_count": null,
      "outputs": [
        {
          "output_type": "execute_result",
          "data": {
            "text/plain": [
              "True"
            ]
          },
          "metadata": {},
          "execution_count": 22
        }
      ]
    },
    {
      "cell_type": "code",
      "source": [
        "#-----------------------------------------------------------------------\n",
        "# sumoftwodice.py\n",
        "#-----------------------------------------------------------------------\n",
        "\n",
        "import random\n",
        "\n",
        "# Roll two six-sided dice, and write the resulting sum to standard\n",
        "# output.\n",
        "\n",
        "SIDES = 6\n",
        "\n",
        "a = random.randrange(1, SIDES+1)\n",
        "b = random.randrange(1, SIDES+1)\n",
        "\n",
        "total = a + b\n",
        "\n",
        "print(total)\n",
        "\n",
        "#-----------------------------------------------------------------------\n",
        "\n",
        "# python sumoftwodice.py\n",
        "# 5\n",
        "\n",
        "# python sumoftwodice.py\n",
        "# 7\n",
        "\n",
        "# python sumoftwodice.py\n",
        "# 10\n",
        "\n",
        "# python sumoftwodice.py\n",
        "# 7"
      ],
      "metadata": {
        "colab": {
          "base_uri": "https://localhost:8080/"
        },
        "id": "25IrCXiZexiu",
        "outputId": "2c6d4364-6a81-455c-d43c-7427be2cf0cd"
      },
      "execution_count": null,
      "outputs": [
        {
          "output_type": "stream",
          "name": "stdout",
          "text": [
            "12\n"
          ]
        }
      ]
    },
    {
      "cell_type": "code",
      "source": [
        "#-----------------------------------------------------------------------\n",
        "# spring.py\n",
        "#-----------------------------------------------------------------------\n",
        "\n",
        "import sys\n",
        "\n",
        "# Accept integers month and day as command-line arguments. Write True\n",
        "# to standard output if the date month/day is a spring month.\n",
        "\n",
        "# month = int(sys.argv[1])\n",
        "# day =   int(sys.argv[2])\n",
        "\n",
        "month = 6\n",
        "day = 20\n",
        "\n",
        "isSpring = (month == 3 and day >= 20 and day <= 31) or \\\n",
        "           (month == 4 and day >=  1 and day <= 30) or \\\n",
        "           (month == 5 and day >=  1 and day <= 31) or \\\n",
        "           (month == 6 and day >=  1 and day <= 20)\n",
        "\n",
        "print(isSpring)\n",
        "\n",
        "#-----------------------------------------------------------------------\n",
        "\n",
        "# python spring.py 1 1 \n",
        "# False\n",
        "\n",
        "# python spring.py 3 19\n",
        "# False\n",
        "\n",
        "# python spring.py 3 20\n",
        "# True\n",
        "\n",
        "# python spring.py 6 20\n",
        "# True\n",
        "\n",
        "# python spring.py 6 21\n",
        "# False\n",
        "\n",
        "# python spring.py 12 31\n",
        "# False\n",
        "\n"
      ],
      "metadata": {
        "colab": {
          "base_uri": "https://localhost:8080/"
        },
        "id": "g3fa87fFe2GJ",
        "outputId": "0bf4089b-7444-4202-c37d-5cafd725ec73"
      },
      "execution_count": null,
      "outputs": [
        {
          "output_type": "stream",
          "name": "stdout",
          "text": [
            "True\n"
          ]
        }
      ]
    },
    {
      "cell_type": "code",
      "source": [
        "#-----------------------------------------------------------------------\n",
        "# threesort.py\n",
        "#-----------------------------------------------------------------------\n",
        "\n",
        "import sys\n",
        "\n",
        "# Accept three integers from the command-line, and write them to\n",
        "# standard output in ascending order.\n",
        "\n",
        "a = 20\n",
        "b = 10\n",
        "c = 30\n",
        "\n",
        "# Compute stats.\n",
        "minimum = min(a, b, c)\n",
        "maximum = max(a, b, c)\n",
        "median = a + b + c - minimum - maximum;\n",
        "\n",
        "# Write stats.\n",
        "print(minimum)\n",
        "print(median)\n",
        "print(maximum)\n",
        "\n",
        "#-----------------------------------------------------------------------\n",
        "\n",
        "# python threesort.py 18 25 74\n",
        "# 18\n",
        "# 25\n",
        "# 74\n",
        "\n",
        "# python threesort.py 74 18 25\n",
        "# 18\n",
        "# 25\n",
        "# 74\n",
        "\n"
      ],
      "metadata": {
        "colab": {
          "base_uri": "https://localhost:8080/"
        },
        "id": "1DSF0RsRe8jj",
        "outputId": "2aa80670-fb93-4fd3-d74a-8659b4c3ded7"
      },
      "execution_count": null,
      "outputs": [
        {
          "output_type": "stream",
          "name": "stdout",
          "text": [
            "10\n",
            "20\n",
            "30\n"
          ]
        }
      ]
    },
    {
      "cell_type": "code",
      "source": [
        "n = 4\n",
        "print ('a'*n+'b'*n)"
      ],
      "metadata": {
        "colab": {
          "base_uri": "https://localhost:8080/"
        },
        "id": "Hj8J_c1VfFBW",
        "outputId": "7dc3d5c8-b45c-4d50-d959-445cfed4ad8e"
      },
      "execution_count": null,
      "outputs": [
        {
          "output_type": "stream",
          "name": "stdout",
          "text": [
            "aaaabbbb\n"
          ]
        }
      ]
    },
    {
      "cell_type": "code",
      "source": [
        ""
      ],
      "metadata": {
        "id": "tUnQvMr8fJ0J"
      },
      "execution_count": null,
      "outputs": []
    }
  ]
}