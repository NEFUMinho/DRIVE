{
  "cells": [
    {
      "cell_type": "markdown",
      "id": "threaded-sleeping",
      "metadata": {
        "id": "threaded-sleeping"
      },
      "source": [
        "## Dicionários\n",
        "\n",
        "O Python oferece uma estrutura de dados bastante eficiente para registo de correspondências (mappings). Podemos ver estra estrutura de dados (Dicionários) como a implementação de uma função finita entre um elemento chave e um elemento valor. O elemento valor pode ser complexo e até ser ele próprio um dicionário.\n",
        "\n",
        "Para esta disciplina vai ser bastante úitl para a implementação de grafos e consequentemente a automatização dos autómatos dados nas aulas teóricas.\n",
        "\n",
        "Dicionários sao uma generalização de arrays: em vez de somente valores inteiros dentro de uma determinada gama poderem ser índices dos array, em dicionários qualquer tipo de dado pode ser índice do \"array\". Na verdade, não falamos em índices mas sim em chaves. E temos uma coleção de chaves a fazer correpondencia com uma coleção de valores. Temos assim uma associação chave-valor, em que\n",
        "a cada chave corresponde um único valor!\n",
        "\n",
        "Um dicionário representa pois um mapeamento (\"mapping\") ou função finita entre chaves e valores. \n",
        "\n",
        "Subjacente à implementação de um dicionário existe normalmente uma estrutura de dados de mais baixo nível, conhecida como $hashtable$. \n",
        "Por trás desta correspondencia entre chaves e valor há um processo \"mais ou menos complexo\" de associar cada chave à posição de memória onde está o correspondente valor (tal qual os índices no array). Este processo chama-se $hashing$ e faz uso de uma função matemática de $hash$ para dada a chave obter a posição do valor. Devemos usar chaves simples e.g. inteiros, strings ou composição de ambos para facilitar o processo de hashing. As chaves não devem ser objetos mutáveis (como listas)!!!\n",
        "\n",
        "As chavetas $\\{ \\}$ representam o dicionário vazio. Vamos ter este dicionário para criar uma associação entre palavras em inglês e em português. Podemos definir o mapeamento ponto a ponto (no exemplo em baixo entre 'one' palavra inglesa e 'um' palavra portuguesa), ou criar um conjunto de associações de uma vez só!"
      ]
    },
    {
      "cell_type": "code",
      "execution_count": null,
      "id": "upper-antibody",
      "metadata": {
        "id": "upper-antibody",
        "outputId": "111bf3ea-7c4b-4350-f1e5-07d7ee3efd68",
        "colab": {
          "base_uri": "https://localhost:8080/"
        }
      },
      "outputs": [
        {
          "output_type": "stream",
          "name": "stdout",
          "text": [
            "{}\n",
            "{'one': 'um'}\n",
            "{'one': 'um', 'two': 'dois', 'three': 'três', 'four': 'quatro', 'five': 'cinco', 'six': 'seis', 'ten': 'dez'}\n"
          ]
        }
      ],
      "source": [
        "dict1 = dict()\n",
        "print(dict1)\n",
        "\n",
        "dict1['one'] = 'um'\n",
        "print(dict1)\n",
        "\n",
        "dict1 = {'one':'um', 'two': 'dois', 'three': 'três', 'four': 'quatro', 'five':'cinco', 'six':'seis', 'ten':'dez'}\n",
        "\n",
        "print(dict1)"
      ]
    },
    {
      "cell_type": "markdown",
      "id": "virgin-humor",
      "metadata": {
        "id": "virgin-humor"
      },
      "source": [
        "A ordem de introdução dos dados\n",
        "nem sempre tem a ver com a sua representação interna...\n",
        "Dicionarios são das representações mais eficientes quando queremos ter informação que vai ser exaustivamente pesquisada e que tem poucas alterações. A complexidade da pesquisa da informação é de tempo (tendencialmente) constante!"
      ]
    },
    {
      "cell_type": "code",
      "execution_count": null,
      "id": "blond-fitness",
      "metadata": {
        "id": "blond-fitness",
        "outputId": "7d277e62-968e-43b8-e5a8-ab698fd13e70",
        "colab": {
          "base_uri": "https://localhost:8080/",
          "height": 240
        }
      },
      "outputs": [
        {
          "output_type": "stream",
          "name": "stdout",
          "text": [
            "dois\n"
          ]
        },
        {
          "output_type": "error",
          "ename": "KeyError",
          "evalue": "ignored",
          "traceback": [
            "\u001b[0;31m---------------------------------------------------------------------------\u001b[0m",
            "\u001b[0;31mKeyError\u001b[0m                                  Traceback (most recent call last)",
            "\u001b[0;32m<ipython-input-3-db4129cd025c>\u001b[0m in \u001b[0;36m<module>\u001b[0;34m()\u001b[0m\n\u001b[1;32m      4\u001b[0m \u001b[0;34m\u001b[0m\u001b[0m\n\u001b[1;32m      5\u001b[0m \u001b[0;31m# se a chave não existir obtemos um erro!\u001b[0m\u001b[0;34m\u001b[0m\u001b[0;34m\u001b[0m\u001b[0;34m\u001b[0m\u001b[0m\n\u001b[0;32m----> 6\u001b[0;31m \u001b[0mprint\u001b[0m\u001b[0;34m(\u001b[0m\u001b[0mdict1\u001b[0m\u001b[0;34m[\u001b[0m\u001b[0;34m'nine'\u001b[0m\u001b[0;34m]\u001b[0m\u001b[0;34m)\u001b[0m\u001b[0;34m\u001b[0m\u001b[0;34m\u001b[0m\u001b[0m\n\u001b[0m",
            "\u001b[0;31mKeyError\u001b[0m: 'nine'"
          ]
        }
      ],
      "source": [
        "# procurar uma informação dada a chave de acesso\n",
        "A = dict1['two']\n",
        "print(A)\n",
        "\n",
        "# se a chave não existir obtemos um erro!\n",
        "print(dict1['nine'])"
      ]
    },
    {
      "cell_type": "code",
      "execution_count": null,
      "id": "stuffed-methodology",
      "metadata": {
        "id": "stuffed-methodology",
        "outputId": "d166ab87-a32e-48c6-bc91-c856b5ccf0b8"
      },
      "outputs": [
        {
          "name": "stdout",
          "output_type": "stream",
          "text": [
            "{'two': 'dois', 'three': 'três', 'four': 'quatro', 'five': 'cinco', 'six': 'seis', 'ten': 'dez'}\n"
          ]
        }
      ],
      "source": [
        "# Eliminar uma correspondência num dicionário com o comando 'del'\n",
        "del dict1['one']\n",
        "print(dict1)"
      ]
    },
    {
      "cell_type": "markdown",
      "id": "intensive-while",
      "metadata": {
        "id": "intensive-while"
      },
      "source": [
        "As funções `len`e `in` funcionam em dicionários. `in` testa a pertença de uma chave ao domínio de um dicionário"
      ]
    },
    {
      "cell_type": "code",
      "execution_count": null,
      "id": "boring-graph",
      "metadata": {
        "id": "boring-graph",
        "outputId": "33c72569-fd07-415b-e729-b89d75e6bde6"
      },
      "outputs": [
        {
          "name": "stdout",
          "output_type": "stream",
          "text": [
            "6\n",
            "True\n",
            "False\n"
          ]
        }
      ],
      "source": [
        "print(len(dict1))\n",
        "\n",
        "print('two' in dict1)\n",
        "\n",
        "print('nine' in dict1)"
      ]
    },
    {
      "cell_type": "markdown",
      "id": "marked-dylan",
      "metadata": {
        "id": "marked-dylan"
      },
      "source": [
        "Os operadores `keys()` e `values()` devolvem listas contendo respectivamente as chaves e os valores de um dicionário. "
      ]
    },
    {
      "cell_type": "code",
      "execution_count": null,
      "id": "united-diamond",
      "metadata": {
        "id": "united-diamond",
        "outputId": "635d97d4-c1c3-4cbb-b548-48644f07779d"
      },
      "outputs": [
        {
          "name": "stdout",
          "output_type": "stream",
          "text": [
            "two\n",
            "three\n",
            "four\n",
            "five\n",
            "six\n",
            "ten\n"
          ]
        }
      ],
      "source": [
        "for x in dict1.keys():\n",
        "    print(x)"
      ]
    },
    {
      "cell_type": "code",
      "execution_count": null,
      "id": "social-ordering",
      "metadata": {
        "id": "social-ordering",
        "outputId": "f65acc62-609f-4d74-a818-8a76558fcb0b"
      },
      "outputs": [
        {
          "name": "stdout",
          "output_type": "stream",
          "text": [
            "dois\n",
            "três\n",
            "quatro\n",
            "cinco\n",
            "seis\n",
            "dez\n"
          ]
        }
      ],
      "source": [
        "for x in dict1.values():\n",
        "    print(x)"
      ]
    },
    {
      "cell_type": "markdown",
      "id": "restricted-parker",
      "metadata": {
        "id": "restricted-parker"
      },
      "source": [
        "A função seguinte recebe um texto (uma string) e cria um dicionário contendo uma contagem do número de ocorrências de cada letra (não distinguindo minúsculas e maiúsculas). É aquilo a que normalmente se chama um _histograma_."
      ]
    },
    {
      "cell_type": "code",
      "execution_count": null,
      "id": "committed-motorcycle",
      "metadata": {
        "id": "committed-motorcycle",
        "outputId": "271d9839-b870-4ec5-99b0-6e81646c47b1",
        "colab": {
          "base_uri": "https://localhost:8080/"
        }
      },
      "outputs": [
        {
          "output_type": "stream",
          "name": "stdout",
          "text": [
            "A:  ***\n",
            "B:  *\n",
            "C:  *\n",
            "D:  *\n",
            "E:  ****\n",
            "F:  \n",
            "G:  *\n",
            "H:  \n",
            "I:  *\n",
            "J:  \n",
            "K:  \n",
            "L:  *\n",
            "M:  *\n",
            "N:  ***\n",
            "O:  **\n",
            "P:  \n",
            "Q:  \n",
            "R:  \n",
            "S:  \n",
            "T:  \n",
            "U:  *\n",
            "V:  \n",
            "W:  \n",
            "X:  \n",
            "Y:  *\n",
            "Z:  \n"
          ]
        }
      ],
      "source": [
        "import string\n",
        "\n",
        "\n",
        "# função que produz um dicionário com a frequência das letras\n",
        "def histo(texto):\n",
        "    d = dict()\n",
        "    texto = texto.upper()\n",
        "\n",
        "    for c in list(string.ascii_uppercase): \n",
        "        d[c] = 0\n",
        "    \n",
        "#    for i in range(0,len(texto)):\n",
        "#        if(texto[i] in d):      # Caracteres que não letras são ignorados\n",
        "#            d[texto[i]] += 1\n",
        "                \n",
        "    for c in texto:\n",
        "        if(c in d):      # Caracteres que não letras são ignorados\n",
        "            d[c] += 1\n",
        "                \n",
        "    return d\n",
        "\n",
        "\n",
        "\n",
        "# imprime o histograma\n",
        "def printa_hist(d):\n",
        "    for k in sorted(d.keys()):\n",
        "        print(k+str(\":  \"), end=\"\")\n",
        "        for x in range(d[k]):\n",
        "            print(\"*\", end=\"\")\n",
        "        print()\n",
        "        \n",
        "\n",
        "texto = \"I am a legend. You can be one\"\n",
        "a = histo(texto)\n",
        "printa_hist(a)\n",
        "\n"
      ]
    },
    {
      "cell_type": "markdown",
      "id": "threatened-lafayette",
      "metadata": {
        "id": "threatened-lafayette"
      },
      "source": [
        "### Exercício 1\n",
        "\n",
        "Implementar um função que dado um array de valores numéricos devolve a moda dessa coleção. Usar dicionários. \n",
        "N.B: se houver mais do que um elemento com a frequência máxima, deverá ser devolvida uma lista com todos eles. \n",
        "\n",
        "Por exemplo, para o array `[10,20,30,30,20,30,10,0,20]` a função deverá calcular como resultado `[20, 30]``. \n",
        "\n",
        "Será que o problema poderia ser resolvido com utilização de um array auxiliar como histograma, em vez de um dicionário? Que vantagens haverá na utilização de um dicionário? \n",
        "\n"
      ]
    },
    {
      "cell_type": "code",
      "execution_count": null,
      "id": "understanding-nickname",
      "metadata": {
        "id": "understanding-nickname",
        "outputId": "93fb4dd8-c3d6-4df6-ee92-d13375b16b91",
        "colab": {
          "base_uri": "https://localhost:8080/"
        }
      },
      "outputs": [
        {
          "output_type": "stream",
          "name": "stdout",
          "text": [
            "{10: 2, 20: 3, 30: 3, 0: 1}\n"
          ]
        },
        {
          "output_type": "execute_result",
          "data": {
            "text/plain": [
              "[20, 30]"
            ]
          },
          "metadata": {},
          "execution_count": 10
        }
      ],
      "source": [
        "def moda(a) : \n",
        "    d = dict()\n",
        "    for x in a : \n",
        "        if x not in d : d[x] = 1\n",
        "        else : d[x] += 1\n",
        "    print(d)            \n",
        "    m = max(d.values())\n",
        "    result = []\n",
        "    for k in d : \n",
        "        if d[k]==m : result += [k]\n",
        "    return result\n",
        "\n",
        "\n",
        "moda([10,20,30,30,20,30,10,0,20])"
      ]
    },
    {
      "cell_type": "markdown",
      "source": [
        "### Exercício 2\n",
        "\n",
        "Escrever uma função que inverte um dicionário. Note que a função representada por um dicionário pode não ser injectiva, e por essa razão o dicionário invertido deve ter listas como valores associados às chaves."
      ],
      "metadata": {
        "id": "lNwFTtZs0iAq"
      },
      "id": "lNwFTtZs0iAq"
    },
    {
      "cell_type": "code",
      "execution_count": null,
      "id": "visible-eligibility",
      "metadata": {
        "id": "visible-eligibility",
        "outputId": "d54b7964-9c88-42a8-ef43-28c92fda426b",
        "colab": {
          "base_uri": "https://localhost:8080/"
        }
      },
      "outputs": [
        {
          "output_type": "stream",
          "name": "stdout",
          "text": [
            "{'um': ['one'], 'dois': ['two'], 'três': ['three'], 'quatro': ['four'], 'cinco': ['five'], 'seis': ['six'], 'dez': ['ten']}\n",
            "\n",
            "A:  *********\n",
            "B:  *\n",
            "C:  \n",
            "D:  \n",
            "E:  ****\n",
            "F:  \n",
            "G:  **\n",
            "H:  \n",
            "I:  \n",
            "J:  \n",
            "K:  \n",
            "L:  *\n",
            "M:  **\n",
            "N:  \n",
            "O:  **\n",
            "P:  *\n",
            "Q:  \n",
            "R:  ****\n",
            "S:  **\n",
            "T:  ******\n",
            "U:  \n",
            "V:  \n",
            "W:  \n",
            "X:  \n",
            "Y:  \n",
            "Z:  \n",
            "{9: ['A'], 1: ['B', 'L', 'P'], 0: ['C', 'D', 'F', 'H', 'I', 'J', 'K', 'N', 'Q', 'U', 'V', 'W', 'X', 'Y', 'Z'], 4: ['E', 'R'], 2: ['G', 'M', 'O', 'S'], 6: ['T']}\n"
          ]
        }
      ],
      "source": [
        "# Inversão de um dicionario\n",
        "def invert_dict(d):\n",
        "    inverse = dict()\n",
        "    for key in d:\n",
        "        val = d[key]\n",
        "        if val not in inverse:\n",
        "            inverse[val] = [key]\n",
        "        else:\n",
        "            inverse[val] += [key]\n",
        "            \n",
        "    return inverse\n",
        "\n",
        "print(invert_dict(dict1))\n",
        "print()\n",
        "\n",
        "\n",
        "texto = \"Algo para testar esta treta agora tambem\"\n",
        "a = histo(texto)\n",
        "printa_hist(a)\n",
        "\n",
        "print(invert_dict(a))"
      ]
    },
    {
      "cell_type": "markdown",
      "id": "liked-median",
      "metadata": {
        "id": "liked-median"
      },
      "source": [
        "Os dicionários, tal como os _arrays_/listas são estruturas de dados mutáveis, e podem ser modificados pelas funções que os recebem."
      ]
    },
    {
      "cell_type": "code",
      "execution_count": null,
      "id": "practical-vocabulary",
      "metadata": {
        "id": "practical-vocabulary",
        "outputId": "acf24c26-785c-46b6-9905-baa1d4d95bea",
        "colab": {
          "base_uri": "https://localhost:8080/"
        }
      },
      "outputs": [
        {
          "output_type": "stream",
          "name": "stdout",
          "text": [
            "{10: ['aa', 'bb', 'ee'], 20: ['cc', 'dd']}\n"
          ]
        }
      ],
      "source": [
        "# Função que recebe um dicionário cujos valores são listas, \n",
        "# e acrescenta um valor à lista associada a uma dada chave.\n",
        "def add (d, k, v) : \n",
        "    if k not in d : d[k] = []\n",
        "    d[k] += v    \n",
        "\n",
        "\n",
        "dxy = dict()\n",
        "add (dxy, 10, [\"aa\",\"bb\"])\n",
        "add (dxy, 20, [\"cc\",\"dd\"])\n",
        "add (dxy, 10, [\"ee\"])\n",
        "print(dxy)\n"
      ]
    },
    {
      "cell_type": "markdown",
      "id": "documented-mitchell",
      "metadata": {
        "id": "documented-mitchell"
      },
      "source": [
        "### Exercício  3 \n",
        "\n",
        "Pretende-se representar as compras que cada cliente de um supermercado faz num dado período de tempo. Assim devemos manter uma estrutura de dados que associa números de cliente com lista de  compras. Nesta lista regista-se o código de cada item comprado. Desenvolva funções para cada uma das seguintes tarefas:\n",
        "\n",
        "* adicionar novos items (novas compras) a um cliente,\n",
        "* identificar os clientes que compraram um dado item,\n",
        "* identificar o cliente com maior número de items comprados,\n",
        "* contar o número de clientes que comprara um dado item.\n",
        "\n",
        "Por exemplo uma sessão de interação com esta estrutura de dados podia ser: \n",
        "\n",
        "`dcompras = dict()`\n",
        "\n",
        "`comprou (dcompras, 1237, ['batatas'])`\n",
        "\n",
        "`quemComprou(dcompras,'batatas')`\n",
        "\n",
        "`> [...,1237]`\n",
        "\n",
        "`quemComprouMais(dcompras)`\n",
        "\n",
        "`> [...,908]`\n",
        "\n",
        "`quantosCompraram(dcompras,'manteiga')`\n",
        "\n",
        "\n",
        "`> 27`\n"
      ]
    },
    {
      "cell_type": "code",
      "execution_count": null,
      "id": "mechanical-replication",
      "metadata": {
        "id": "mechanical-replication"
      },
      "outputs": [],
      "source": [
        ""
      ]
    }
  ],
  "metadata": {
    "kernelspec": {
      "display_name": "Python 3",
      "language": "python",
      "name": "python3"
    },
    "language_info": {
      "codemirror_mode": {
        "name": "ipython",
        "version": 3
      },
      "file_extension": ".py",
      "mimetype": "text/x-python",
      "name": "python",
      "nbconvert_exporter": "python",
      "pygments_lexer": "ipython3",
      "version": "3.9.10"
    },
    "colab": {
      "name": "Lab7.ipynb",
      "provenance": []
    }
  },
  "nbformat": 4,
  "nbformat_minor": 5
}