{
  "cells": [
    {
      "cell_type": "markdown",
      "id": "emotional-cassette",
      "metadata": {
        "id": "emotional-cassette"
      },
      "source": [
        "## Estruturas de Controlo - Condicionais e Ciclos"
      ]
    },
    {
      "cell_type": "markdown",
      "id": "professional-palestinian",
      "metadata": {
        "id": "professional-palestinian"
      },
      "source": [
        ""
      ]
    },
    {
      "cell_type": "markdown",
      "id": "different-concentrate",
      "metadata": {
        "id": "different-concentrate"
      },
      "source": [
        "### Exercício 1\n",
        "Escreva um programa que a partir de 3 variáveis escreve 'iguais' se todas tiverem o mesmo valor, e 'não iguais' em caso contrário"
      ]
    },
    {
      "cell_type": "code",
      "execution_count": null,
      "id": "extensive-hands",
      "metadata": {
        "id": "extensive-hands"
      },
      "outputs": [],
      "source": [
        "\n",
        "\n",
        "a = 10\n",
        "b = 10\n",
        "c = 10\n",
        "\n",
        "if a==b and a==c :\n",
        "    print('iguais')\n",
        "else: \n",
        "    print('não iguais')\n",
        "    \n",
        "    \n",
        "if a==b : \n",
        "    if a==c :\n",
        "        print('iguais')\n",
        "    else : \n",
        "        print('não iguais')\n",
        "else : \n",
        "    print('não iguais')\n",
        "\n"
      ]
    },
    {
      "cell_type": "markdown",
      "id": "sudden-broadway",
      "metadata": {
        "id": "sudden-broadway"
      },
      "source": [
        "### Exercício 2\n",
        "Escreva um programa que calcule as raízes de um polinómio de segundo grau, dados os seus coeficientes. Caso não existam raízes reais, deve imprimir uma mensagem e evitar o erro que seria causado pela aplicação do operador sqrt a um argumento negativo"
      ]
    },
    {
      "cell_type": "code",
      "execution_count": null,
      "id": "overhead-saskatchewan",
      "metadata": {
        "id": "overhead-saskatchewan"
      },
      "outputs": [],
      "source": [
        ""
      ]
    },
    {
      "cell_type": "code",
      "execution_count": null,
      "id": "former-amazon",
      "metadata": {
        "colab": {
          "base_uri": "https://localhost:8080/"
        },
        "id": "former-amazon",
        "outputId": "8d2205e1-3137-46de-9c51-4c860b773af7"
      },
      "outputs": [
        {
          "output_type": "stream",
          "name": "stdout",
          "text": [
            "-0.4384471871911697\n",
            "-4.561552812808831\n"
          ]
        }
      ],
      "source": [
        "import math\n",
        "\n",
        "a = 1\n",
        "b = 5\n",
        "c = 2\n",
        "\n",
        "discriminant = b**2 - 4*a*c\n",
        "\n",
        "if discriminant >= 0:\n",
        "  print((-b + math.sqrt(discriminant))/(2*a))\n",
        "  print((-b - math.sqrt(discriminant))/(2*a))\n",
        "else:\n",
        "  print('raízes complexas')"
      ]
    },
    {
      "cell_type": "code",
      "execution_count": null,
      "id": "accessory-ranking",
      "metadata": {
        "colab": {
          "base_uri": "https://localhost:8080/"
        },
        "id": "accessory-ranking",
        "outputId": "8555102b-e97c-485b-ed58-963bccb1c3b6"
      },
      "outputs": [
        {
          "output_type": "stream",
          "name": "stdout",
          "text": [
            "-0.4384471871911697\n",
            "-4.561552812808831\n"
          ]
        }
      ],
      "source": [
        "import math\n",
        "\n",
        "a = 1\n",
        "b = 5\n",
        "c = 2\n",
        "\n",
        "discriminant = b*b - 4.0*a*c\n",
        "\n",
        "if (discriminant < 0.0) : \n",
        "    print ('não há raízes reais')\n",
        "else : \n",
        "    d = math.sqrt(discriminant)\n",
        "    print((-b + d) / 2.0)\n",
        "    print((-b - d) / 2.0)\n",
        "\n"
      ]
    },
    {
      "cell_type": "markdown",
      "id": "eleven-blink",
      "metadata": {
        "id": "eleven-blink"
      },
      "source": [
        "### Exercício 3\n",
        "Escreva um programa que, dado um número inteiro, escreva o número que se obtém invertendo a ordem dos seus dígitos.\n",
        "\n",
        "se n = 108\n",
        "pretendemos imprimir '801'\n",
        "\n",
        "#### Dicas:\n",
        "\n",
        "* O resto da divisão de um número por 10 dá-nos o seu último dígito, por exemplo 108 % 10 == 8\n",
        "* Por outro lado, a divisão inteira do número por 10 dá-nos o número que resulta de \"apagar\" o último dígito: 108 // 10 == 10\n",
        "* Repetindo este processo conseguimos aceder a todos os dígitos do número\n",
        "* Note que poderá resolver o problema construindo um número ou alternativamente uma string. Tente resolver o problema de AMBAS as formas \n",
        "\n"
      ]
    },
    {
      "cell_type": "code",
      "execution_count": null,
      "id": "played-portugal",
      "metadata": {
        "colab": {
          "base_uri": "https://localhost:8080/"
        },
        "id": "played-portugal",
        "outputId": "acb4022b-d6e2-40e0-86d8-71db8453268f"
      },
      "outputs": [
        {
          "output_type": "stream",
          "name": "stdout",
          "text": [
            "0\n",
            "01\n",
            "018\n",
            "0180\n",
            "01801\n",
            "01801\n"
          ]
        }
      ],
      "source": [
        "\n",
        "n = 10810\n",
        "\n",
        "s = ''\n",
        "while n > 0:\n",
        "    digit = n % 10\n",
        "    s += str(digit)\n",
        "    n = n // 10\n",
        "    print(s)\n",
        "\n",
        "print(s)"
      ]
    },
    {
      "cell_type": "code",
      "execution_count": null,
      "id": "satisfactory-yield",
      "metadata": {
        "colab": {
          "base_uri": "https://localhost:8080/"
        },
        "id": "satisfactory-yield",
        "outputId": "7e248087-ea98-44d6-af3c-750be0017227"
      },
      "outputs": [
        {
          "output_type": "stream",
          "name": "stdout",
          "text": [
            "3\n",
            "31\n",
            "318\n",
            "3180\n",
            "31801\n",
            "31801\n"
          ]
        }
      ],
      "source": [
        "\n",
        "n = 10813\n",
        "\n",
        "m = 0\n",
        "while n != 0:\n",
        "    m = (10 * m) + (n % 10);\n",
        "    n //= 10\n",
        "    print (m)\n",
        "print(m)"
      ]
    },
    {
      "cell_type": "markdown",
      "source": [
        "#### Limitação desta solução: \n",
        "não funciona se último dígito é 0. Como corrigir? \n",
        "\n"
      ],
      "metadata": {
        "id": "xwNZmybgDX3r"
      },
      "id": "xwNZmybgDX3r"
    },
    {
      "cell_type": "markdown",
      "id": "packed-cricket",
      "metadata": {
        "id": "packed-cricket"
      },
      "source": [
        "### Exercício 4\n",
        "É sabido que a série $\\sum_{i=1}^{\\infty} \\frac{1}{i^2}$ converge para $\\frac{\\pi^2}{6}$. Sabendo isto, calcule uma aproximação do valor de $\\pi$:\n",
        "1. somando os 100000 primeiros termos da série\n",
        "2. somando os termos que forem necessários para obter um cálculo aproximado a menos de $10^{-6}$\n",
        "\n"
      ]
    },
    {
      "cell_type": "code",
      "execution_count": null,
      "id": "otherwise-pantyhose",
      "metadata": {
        "colab": {
          "base_uri": "https://localhost:8080/"
        },
        "id": "otherwise-pantyhose",
        "outputId": "3488b0ce-a17c-4fb3-bdc6-1c0fdae50f6f"
      },
      "outputs": [
        {
          "output_type": "stream",
          "name": "stdout",
          "text": [
            "3.141583104326456\n"
          ]
        },
        {
          "output_type": "execute_result",
          "data": {
            "text/plain": [
              "3.141592653589793"
            ]
          },
          "metadata": {},
          "execution_count": 9
        }
      ],
      "source": [
        "\n",
        "import math\n",
        "\n",
        "total = 0\n",
        "n = 100000\n",
        "for i in range(1, n+1):\n",
        "       total += 1 / (i*i)\n",
        "print(math.sqrt(6*total))        \n",
        "\n",
        "math.pi\n"
      ]
    },
    {
      "cell_type": "code",
      "execution_count": null,
      "id": "swedish-heritage",
      "metadata": {
        "colab": {
          "base_uri": "https://localhost:8080/"
        },
        "id": "swedish-heritage",
        "outputId": "e3700b57-958e-48ac-94e8-65c2ce9297fe"
      },
      "outputs": [
        {
          "output_type": "stream",
          "name": "stdout",
          "text": [
            "Erro = 1e-06\n",
            "Valor aproximado = 3.1415922637413836\n",
            "math.pi = 3.141592653589793\n"
          ]
        }
      ],
      "source": [
        "\n",
        "import math\n",
        "\n",
        "err = (1e-6)**2 / 6\n",
        "print('Erro = ' + str(math.sqrt(6*err)))\n",
        "\n",
        "total = 0\n",
        "i = 1\n",
        "while (1.0 / (i*i)) > err:\n",
        "       total += 1.0 / (i*i)\n",
        "       i += 1 \n",
        "    \n",
        "print('Valor aproximado = ' + str(math.sqrt(6*total)))\n",
        "\n",
        "print('math.pi = ' + str(math.pi))"
      ]
    },
    {
      "cell_type": "markdown",
      "id": "changing-bracket",
      "metadata": {
        "id": "changing-bracket"
      },
      "source": [
        "### Exercício 5\n",
        "\n",
        "0 1 1 2 3 5 8 13 21 34 ...\n",
        "\n",
        "A sequência de *números de Fibonacci* define-se da seguinte forma:\n",
        "* os primeiros números são 0 e 1\n",
        "* os números seguintes obtêm-se somando os dois anteriores da sequência\n",
        "\n",
        "Escreva um programa que imprima os primeiros $n$ elementos da sequência. Para isso utilize duas variáveis que contêm os dois últimos valores da sequência, e escreva um ciclo que actualize em cada iteração esses valores, imprimindo o mais alto. "
      ]
    },
    {
      "cell_type": "code",
      "execution_count": null,
      "id": "rolled-arctic",
      "metadata": {
        "colab": {
          "base_uri": "https://localhost:8080/"
        },
        "id": "rolled-arctic",
        "outputId": "b1d0dce3-c812-456f-b6a3-c77dcac2edb6"
      },
      "outputs": [
        {
          "output_type": "stream",
          "name": "stdout",
          "text": [
            "0\n",
            "1\n",
            "1\n",
            "2\n",
            "3\n",
            "5\n",
            "8\n",
            "13\n",
            "21\n",
            "34\n"
          ]
        }
      ],
      "source": [
        "\n",
        "n = 10\n",
        "\n",
        "a = 0\n",
        "b = 1\n",
        "\n",
        "print(a)\n",
        "print(b)\n",
        "\n",
        "for i in range(1, n-1):\n",
        "    olda = a \n",
        "    a = b\n",
        "    b = olda + b\n",
        "    print(b)\n",
        "    "
      ]
    },
    {
      "cell_type": "code",
      "execution_count": null,
      "id": "productive-invalid",
      "metadata": {
        "colab": {
          "base_uri": "https://localhost:8080/"
        },
        "id": "productive-invalid",
        "outputId": "3314cb24-7430-4a13-cf07-8681f770886c"
      },
      "outputs": [
        {
          "output_type": "stream",
          "name": "stdout",
          "text": [
            "0\n",
            "1\n",
            "1\n",
            "2\n",
            "3\n",
            "5\n",
            "8\n",
            "13\n",
            "21\n",
            "34\n"
          ]
        }
      ],
      "source": [
        "\n",
        "n = 10\n",
        "\n",
        "a = 0\n",
        "b = 1\n",
        "\n",
        "print(a)\n",
        "print(b)\n",
        "\n",
        "for i in range(1, n-1):\n",
        "    b = a + b\n",
        "    a = b - a\n",
        "    print(b)\n",
        "    "
      ]
    },
    {
      "cell_type": "markdown",
      "id": "supposed-minute",
      "metadata": {
        "id": "supposed-minute"
      },
      "source": [
        "### Exercício 6\n",
        "Escreva um programa que, dado um número $n$, imprime n linhas com caracteres '  ' (espaço) e '#' alternados. Por exemplo para $n=4$ teremos:\n",
        "```\n",
        "# #  \n",
        " # #  \n",
        "# # \n",
        " # # \n"
      ]
    },
    {
      "cell_type": "code",
      "execution_count": null,
      "id": "regional-traffic",
      "metadata": {
        "colab": {
          "base_uri": "https://localhost:8080/"
        },
        "id": "regional-traffic",
        "outputId": "58c1ec05-7380-4e6b-82f1-bf8c65f01056"
      },
      "outputs": [
        {
          "output_type": "stream",
          "name": "stdout",
          "text": [
            "# # # \n",
            " # # #\n",
            "# # # \n",
            " # # #\n",
            "# # # \n",
            " # # #\n",
            "\n"
          ]
        }
      ],
      "source": [
        "\n",
        "n = 6\n",
        "\n",
        "el = True                         # linha par?\n",
        "for l in range (0, n) : \n",
        "    ec = True                     # coluna par?\n",
        "    for c in range (0, n) :\n",
        "        if (el and ec) or (not el and not ec): \n",
        "            print('#', end =\"\") \n",
        "        else:\n",
        "            print(' ', end =\"\") \n",
        "        ec = not ec\n",
        "    el = not el    \n",
        "    print('')    \n",
        "\n",
        "            \n",
        "print()        \n",
        "      \n"
      ]
    },
    {
      "cell_type": "code",
      "source": [
        "n = 5\n",
        "\n",
        "for l in range (0, n) : \n",
        "    for c in range (0, n) :\n",
        "        if (l%2==0 and c%2==0) or (l%2==1 and c%2==1): \n",
        "            print('#', end =\"\") \n",
        "        else:\n",
        "            print(' ', end =\"\")\n",
        "    print('')    \n",
        "\n",
        "\n",
        "\n",
        "    \n",
        "    "
      ],
      "metadata": {
        "colab": {
          "base_uri": "https://localhost:8080/"
        },
        "id": "c1UZFBSLdVUh",
        "outputId": "beac2e93-9eaa-4fc1-e8cf-6a7caff5217f"
      },
      "id": "c1UZFBSLdVUh",
      "execution_count": null,
      "outputs": [
        {
          "output_type": "stream",
          "name": "stdout",
          "text": [
            "# # #\n",
            " # # \n",
            "# # #\n",
            " # # \n",
            "# # #\n"
          ]
        }
      ]
    },
    {
      "cell_type": "markdown",
      "id": "union-principal",
      "metadata": {
        "id": "union-principal"
      },
      "source": [
        "### Exercício 7\n",
        "Estude o algoritmo de Euclides para o cálculo do máximo divisor comum de dois números:\n",
        "\n",
        "https://www.khanacademy.org/computing/computer-science/cryptography/modarithmetic/a/the-euclidean-algorithm\n",
        "        \n",
        "        \n",
        "1. Implemente este algoritmo, por forma a calcular o MDC de dois números\n",
        "2. Escreva um programa que, dado um número $n$, imprime uma tabela com $n$ linhas e $n$ colunas, que na linha $i$ e coluna $j$ deverá conter 1 se $\\mathit{mdc}(i,j)=1$ e 0 em caso contrário"
      ]
    },
    {
      "cell_type": "markdown",
      "id": "likely-convention",
      "metadata": {
        "id": "likely-convention"
      },
      "source": [
        "\n",
        "\n",
        "\n",
        "\n",
        "\n",
        "\n",
        "\n",
        "\n",
        "\n",
        "\n",
        "\n",
        "\n",
        "\n",
        "\n",
        "\n",
        "\n",
        "\n",
        "\n",
        "\n",
        "\n",
        "\n",
        "\n",
        "\n",
        "\n",
        "\n",
        "\n",
        "\n"
      ]
    },
    {
      "cell_type": "code",
      "execution_count": null,
      "id": "secret-customs",
      "metadata": {
        "id": "secret-customs"
      },
      "outputs": [],
      "source": [
        ""
      ]
    }
  ],
  "metadata": {
    "kernelspec": {
      "display_name": "Python 3",
      "language": "python",
      "name": "python3"
    },
    "language_info": {
      "codemirror_mode": {
        "name": "ipython",
        "version": 3
      },
      "file_extension": ".py",
      "mimetype": "text/x-python",
      "name": "python",
      "nbconvert_exporter": "python",
      "pygments_lexer": "ipython3",
      "version": "3.9.10"
    },
    "colab": {
      "name": "Lab 2.ipynb",
      "provenance": [],
      "collapsed_sections": []
    }
  },
  "nbformat": 4,
  "nbformat_minor": 5
}