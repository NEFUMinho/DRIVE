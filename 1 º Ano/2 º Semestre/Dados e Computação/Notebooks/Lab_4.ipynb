{
  "cells": [
    {
      "cell_type": "markdown",
      "id": "integral-project",
      "metadata": {
        "id": "integral-project"
      },
      "source": [
        "### RECAP Exercício para casa da última aula\n",
        "\n",
        "\n",
        "1. Escreva um programa que procure num array a primeira ocorrência de um determinado elemento, imprimindo a posição (índice) em que foi encontrado.\n",
        "2. Repita o exercício anterior, optimizando o seu código para o caso em que se sabe à partida que o array se encontra *ordenado* de forma crescente.\n",
        "\n",
        "\n",
        "**Não veremos já a solução... porque na aula de hoje definiremos estes algoritmos como funções**\n"
      ]
    },
    {
      "cell_type": "markdown",
      "id": "indonesian-brunswick",
      "metadata": {
        "id": "indonesian-brunswick"
      },
      "source": [
        "### Programação com matrizes / vectores bidimensionais\n",
        "\n",
        "\n",
        "1. Escreva um programa que faça a *transposição* de uma matriz qualquer, produzindo uma nova matriz. \n",
        "2. Repita o exercício, mas fazendo agora a transposição *in place*, sem criar uma nova matriz, *assumindo que a matriz é quadrada*\n",
        "\n",
        "Por exemplo a transposta de \n",
        "```\n",
        "10 20 30 \n",
        "40 50 60 \n",
        "```\n",
        "é \n",
        "```\n",
        "10 40\n",
        "20 50 \n",
        "30 60 \n",
        "```\n",
        "\n"
      ]
    },
    {
      "cell_type": "code",
      "execution_count": null,
      "id": "upper-madagascar",
      "metadata": {
        "id": "upper-madagascar",
        "colab": {
          "base_uri": "https://localhost:8080/"
        },
        "outputId": "045af681-87a9-4d87-bd75-17b5494cd61f"
      },
      "outputs": [
        {
          "output_type": "stream",
          "name": "stdout",
          "text": [
            "[[30, 60], [30, 60], [30, 60]]\n"
          ]
        }
      ],
      "source": [
        "\n",
        "m = [[10,20,30],[40,50,60]]\n",
        "\n",
        "l = len(m)\n",
        "c = len(m[0])\n",
        "\n",
        "mt = [[]]*c\n",
        "for i in range(c) : \n",
        "    mt[i] = [0]*l\n",
        "\n",
        "print(mt)\n",
        "\n",
        "# Atenção à inicialização! O que acontece com a seguinte versão?\n",
        "# mt = [[0]*l]*c\n",
        "\n",
        "\n",
        "for i in range(c) :\n",
        "    for j in range(l) :\n",
        "        mt[i][j] = m[j][i]\n",
        "        \n",
        "print(mt)        \n"
      ]
    },
    {
      "cell_type": "code",
      "execution_count": null,
      "id": "alternate-bishop",
      "metadata": {
        "scrolled": true,
        "id": "alternate-bishop",
        "colab": {
          "base_uri": "https://localhost:8080/"
        },
        "outputId": "d208aa21-3055-4a1a-df27-97aabf210bf3"
      },
      "outputs": [
        {
          "output_type": "stream",
          "name": "stdout",
          "text": [
            "[[10, 40, 70], [20, 50, 80], [30, 60, 90]]\n"
          ]
        }
      ],
      "source": [
        "m = [[10,20,30],[40,50,60],[70,80,90]]\n",
        "n = len(m)\n",
        "\n",
        "for l in range(n):\n",
        "    for c in range(l+1, n):\n",
        "        m[l][c], m[c][l] = m[c][l], m[l][c]\n",
        "\n",
        "print(m)\n"
      ]
    },
    {
      "cell_type": "markdown",
      "id": "imported-gibson",
      "metadata": {
        "id": "imported-gibson"
      },
      "source": [
        ".\n",
        "\n",
        "\n",
        "### Exemplos de definição de funções matemáticas"
      ]
    },
    {
      "cell_type": "code",
      "execution_count": null,
      "id": "rocky-dairy",
      "metadata": {
        "colab": {
          "base_uri": "https://localhost:8080/"
        },
        "id": "rocky-dairy",
        "outputId": "696d8467-214f-4eda-a3fe-17e121674174"
      },
      "outputs": [
        {
          "output_type": "stream",
          "name": "stdout",
          "text": [
            "155\n"
          ]
        },
        {
          "output_type": "execute_result",
          "data": {
            "text/plain": [
              "0.9999999999987204"
            ]
          },
          "metadata": {},
          "execution_count": 5
        }
      ],
      "source": [
        "#-----------------------------------------------------------------------\n",
        "# gauss.py\n",
        "#-----------------------------------------------------------------------\n",
        "\n",
        "import sys\n",
        "import math\n",
        "\n",
        "#-----------------------------------------------------------------------\n",
        "\n",
        "# Return the value of the Gaussian probability function with mean 0.0\n",
        "# and standard deviation 1.0 at the given x value.\n",
        "\n",
        "def phi(x):\n",
        "    return math.exp(-x * x / 2.0) / math.sqrt(2.0 * math.pi)\n",
        "\n",
        "#-----------------------------------------------------------------------\n",
        "# Return the value of the cumulative Gaussian distribution function\n",
        "# with mean 0.0 and standard deviation 1.0 at the given z value.\n",
        "\n",
        "def Phi(z):\n",
        "    if z < -8.0:\n",
        "        return 0.0\n",
        "    if z > 8.0:\n",
        "        return 1.0\n",
        "    total = 0.0\n",
        "    term = z\n",
        "    i = 3\n",
        "    while total != total + term:\n",
        "        total += term\n",
        "        term *= z * z / float(i)\n",
        "        i += 2\n",
        "    print(i)\n",
        "    return 0.5 + phi(z) * total\n",
        "\n",
        "Phi(7)"
      ]
    },
    {
      "cell_type": "markdown",
      "id": "talented-literature",
      "metadata": {
        "id": "talented-literature"
      },
      "source": [
        "Quantas iterações do ciclo serão efectuadas no fragmento de programa seguinte?"
      ]
    },
    {
      "cell_type": "code",
      "execution_count": null,
      "id": "controlling-anatomy",
      "metadata": {
        "colab": {
          "base_uri": "https://localhost:8080/"
        },
        "id": "controlling-anatomy",
        "outputId": "283082f5-0c0a-46da-c876-9fb24d49b50d"
      },
      "outputs": [
        {
          "output_type": "stream",
          "name": "stdout",
          "text": [
            "1\n",
            "2\n",
            "9\n",
            "730\n",
            "389017001\n"
          ]
        }
      ],
      "source": [
        "def cube(i):\n",
        "    i = i * i * i\n",
        "\n",
        "i = 0\n",
        "while i < 1000:\n",
        "    cube(i)\n",
        "    i += 1\n",
        "    # print(i)\n",
        "    \n",
        "\n",
        "def cube2(i):\n",
        "    return i * i * i\n",
        "\n",
        "i = 0\n",
        "while i < 1000:\n",
        "    i = cube2(i)\n",
        "    i += 1\n",
        "    print(i)\n",
        "    \n"
      ]
    },
    {
      "cell_type": "markdown",
      "id": "relative-shark",
      "metadata": {
        "id": "relative-shark"
      },
      "source": [
        ".\n",
        "\n",
        ".\n",
        "\n",
        ".\n",
        "\n",
        "\n",
        "\n",
        "\n",
        "\n",
        "\n",
        "### Exercício 1\n",
        "\n",
        "Escreva uma função `areTriangular` que recebe três números e decide se eles podem ou não ser os comprimentos dos lados de um triângulo. Para isso, cada número deverá ser inferior à soma dos outros dois."
      ]
    },
    {
      "cell_type": "code",
      "execution_count": null,
      "id": "engaged-receipt",
      "metadata": {
        "id": "engaged-receipt",
        "colab": {
          "base_uri": "https://localhost:8080/"
        },
        "outputId": "23202464-2598-4eee-d5d9-838195cf45ea"
      },
      "outputs": [
        {
          "output_type": "stream",
          "name": "stdout",
          "text": [
            "False\n",
            "False\n",
            "False\n",
            "True\n",
            "True\n",
            "True\n"
          ]
        }
      ],
      "source": [
        "def areTriangular (x, y, z) :\n",
        "    if x<y+z :\n",
        "        if y<x+z :\n",
        "            if z<x+y : return True\n",
        "            else : return False\n",
        "        else : return False\n",
        "    else : return False \n",
        "        \n",
        "def areTriangular2 (x, y, z) :\n",
        "    if x<y+z and y<x+z and z<x+y : return True\n",
        "    else : return False\n",
        "        \n",
        "def areTriangular3 (x, y, z) :\n",
        "    return x<y+z and y<x+z and z<x+y\n",
        "\n",
        "\n",
        "\n",
        "\n",
        "print(areTriangular(10,20,30))\n",
        "print(areTriangular2(10,20,30))\n",
        "print(areTriangular3(10,20,30))\n",
        "\n",
        "print(areTriangular(10,20,20))\n",
        "print(areTriangular2(10,20,20))\n",
        "print(areTriangular3(10,20,20))"
      ]
    },
    {
      "cell_type": "markdown",
      "id": "amazing-ethiopia",
      "metadata": {
        "id": "amazing-ethiopia"
      },
      "source": [
        "### Exercício 2\n",
        "\n",
        "Relembre o Exercício 3 da aula anterior. Resolva-o de novo, mas convertendo agora os seus programas em funções: \n",
        "\n",
        "1. Escreva uma função que construa um array histograma a partir de um array a de números inteiros não negativos. Por exemplo a partir do array a=[1,0,0,2,1,4,1] deve produzir [2,3,1,0,1] uma vez que existem 2 ocorrências de 0, 3 de 1, etc.\n",
        "\n",
        "2. Escreva também uma função que construa um array que contenha na posição x o número de elementos de a cujo valor é menor ou igual do que x. Para o exemplo anterior deverá calcular [2,5,6,6,7]\n",
        "\n"
      ]
    },
    {
      "cell_type": "code",
      "execution_count": null,
      "id": "enabling-deputy",
      "metadata": {
        "id": "enabling-deputy",
        "colab": {
          "base_uri": "https://localhost:8080/"
        },
        "outputId": "2ea08a9e-ceda-4a32-a2fe-60218c0e4897"
      },
      "outputs": [
        {
          "output_type": "stream",
          "name": "stdout",
          "text": [
            "[2, 3, 1, 0, 1]\n",
            "[2, 5, 6, 6, 7]\n"
          ]
        }
      ],
      "source": [
        "\n",
        "def hist (a) :\n",
        "    m = max(a)\n",
        "    n = len(a)\n",
        "    h = [0]*(m+1)\n",
        "    for x in a : \n",
        "        h[x] += 1\n",
        "    return h\n",
        "    \n",
        "print(hist([1,0,0,2,1,4,1]))  \n",
        "\n",
        "def acc (a) :\n",
        "    m = max(a)\n",
        "    acc = []\n",
        "    for x in hist(a) :\n",
        "        acc += [x]\n",
        "    for i in range(1,m+1) :\n",
        "        acc[i] += acc[i-1]\n",
        "    return acc\n",
        "        \n",
        "print(acc([1,0,0,2,1,4,1]))\n",
        "\n"
      ]
    },
    {
      "cell_type": "markdown",
      "id": "acknowledged-guest",
      "metadata": {
        "id": "acknowledged-guest"
      },
      "source": [
        "### Exercício 3\n",
        "\n",
        "(nota: a versão deste exercício proposta no livro está **incorrecta**)\n",
        "\n",
        "As instiuições financeiras utilizam um conjunto restrito de números de conta válidos (também para cartões de crédito). Para a definição de número válido utiliza-se frequentemente o algoritmo de Luhn:\n",
        "https://www.sapling.com/7966257/checksum-credit-card\n",
        "\n",
        "A ideia é separar o último dígito do número, conhecido por *check digit*;  processar os restantes dígitos para obter uma *checksum*; e finalmente processar a checksum e o checkdigit para testar se são compatíveis.\n",
        "\n",
        "O cálculo da checksum utiliza uma função auxiliar que calcula a soma dos valores dos dígitos do dobro de um número. Por exemplo aux(7) = 5 porque 2 × 7 = 14 e 1 + 4 = 5. Para calcular a checksum de um número aplica-se esta função a dígitos alternados, começando pelo primeiro, e soma-se todos os dígitos. \n",
        "\n",
        "Por exemplo para o cartão de crédito com número 4578 4230 1376 9219:\n",
        "\n",
        "Retiramos o último dígito: \n",
        "4 5 7 8 4 2 3 0 1 3 7 6 9 2 1\n",
        "\n",
        "Somamos os dígitos, aplicando a função aux alternadamente:\n",
        "8+5+5+8+8+2+6+0+2+3+5+6+9+2+2 = 71\n",
        "\n",
        "Finalmente, para decidir se o número do cartão é válido, somamos a checksum com o checkdigit. O resultado terá de ser divisível por 10. \n",
        "\n",
        "Neste exemplo temos 71+9 = 80, logo trata-se de um número válido. \n",
        "\n",
        "Defina uma função `valid` que decida se um número é válido neste sentido. \n",
        "Sugestão: utilize funções auxiliares aux e checksum.\n",
        "\n"
      ]
    },
    {
      "cell_type": "code",
      "execution_count": null,
      "id": "perceived-encoding",
      "metadata": {
        "id": "perceived-encoding",
        "colab": {
          "base_uri": "https://localhost:8080/"
        },
        "outputId": "e01ad5fb-fb67-4db1-ac0c-a604dccd8322"
      },
      "outputs": [
        {
          "output_type": "stream",
          "name": "stdout",
          "text": [
            "71 9 80\n",
            "True\n"
          ]
        }
      ],
      "source": [
        "def aux (n) : \n",
        "    sum = 0\n",
        "    for x in str(2*n) :\n",
        "        sum += int(x)\n",
        "    return sum    \n",
        "\n",
        "# 7 => 14 => '14' => 1 + 4 => 5\n",
        "\n",
        "\n",
        "def checksum (n) : \n",
        "    sum = 0 \n",
        "    needsaux = True\n",
        "    for x in str(n) : \n",
        "        if needsaux : sum += aux(int(x))\n",
        "        else : sum += int(x)\n",
        "        needsaux = not needsaux\n",
        "    return sum\n",
        "\n",
        "\n",
        "def valid (n) :\n",
        "    s = checksum (n//10) + n%10 \n",
        "    print (checksum (n//10), n%10, s)\n",
        "    return s%10 == 0\n",
        "    \n",
        "\n",
        "print(valid(4578423013769219))"
      ]
    },
    {
      "cell_type": "markdown",
      "id": "expensive-proportion",
      "metadata": {
        "id": "expensive-proportion"
      },
      "source": [
        "### Exercício 4\n",
        "\n",
        "1. Escreva uma função que procure num array a primeira ocorrência de um determinado elemento, devolvendo a posição (índice) em que foi encontrado. Deve devolver -1 caso o elemento não seja encontrado.\n",
        "\n",
        "2. Repita o exercício anterior, optimizando o seu código para o caso em que se sabe à partida que o array se encontra *ordenado* de forma crescente, tendo em conta que a pesquisa pode terminar mais cedo, caso o elemento procurado não ocorra no array, mas seja lido um elemento *superior* a ele. \n"
      ]
    },
    {
      "cell_type": "code",
      "execution_count": null,
      "id": "instrumental-stake",
      "metadata": {
        "id": "instrumental-stake",
        "colab": {
          "base_uri": "https://localhost:8080/"
        },
        "outputId": "b4de9ee2-c327-49dd-c320-719e02604fb6"
      },
      "outputs": [
        {
          "output_type": "stream",
          "name": "stdout",
          "text": [
            "2 comparações\n",
            "1\n",
            "3 comparações\n",
            "2\n",
            "6 comparações\n",
            "-1\n"
          ]
        }
      ],
      "source": [
        "def lsearch (x, a) :\n",
        "    i = 0\n",
        "    while i < len(a) and x != a[i] :\n",
        "        i += 1\n",
        "    print(str(i+1) + \" comparações\")    \n",
        "    if i == len(a) : return -1\n",
        "    else: return i\n",
        "       \n",
        "        \n",
        "v = [30,10,20,40,10]        \n",
        "print(lsearch(10,v))\n",
        "print(lsearch(20,v))\n",
        "print(lsearch(25,v))"
      ]
    },
    {
      "cell_type": "code",
      "source": [
        "def lsearch2 (x, a) :\n",
        "    i = 0\n",
        "    while i < len(a) :\n",
        "        if x == a[i] : break\n",
        "        i += 1\n",
        "    print(str(i+1) + \" comparações\")    \n",
        "    if i == len(a) : return -1\n",
        "    else: return i\n",
        "       \n",
        "        \n",
        "v = [30,10,20,40,10]        \n",
        "print(lsearch2(10,v))\n",
        "print(lsearch2(20,v))\n",
        "print(lsearch2(25,v))"
      ],
      "metadata": {
        "colab": {
          "base_uri": "https://localhost:8080/"
        },
        "id": "zlOiUHqa9DGY",
        "outputId": "76ddb4ea-1711-4f80-d48b-52317b071234"
      },
      "id": "zlOiUHqa9DGY",
      "execution_count": null,
      "outputs": [
        {
          "output_type": "stream",
          "name": "stdout",
          "text": [
            "2 comparações\n",
            "1\n",
            "3 comparações\n",
            "2\n",
            "6 comparações\n",
            "-1\n"
          ]
        }
      ]
    },
    {
      "cell_type": "code",
      "source": [
        "# A seguinte versão com ciclo for está ERRADA\n",
        "# Qual será o problema? \n",
        "\n",
        "def lsearch3 (x, a) :\n",
        "    for i in range(len(a)) :\n",
        "        if x == a[i] : break\n",
        "    if i == len(a) : return -1\n",
        "    else: return i\n",
        "       \n",
        "        \n",
        "v = [30,10,20,40,10]        \n",
        "print(lsearch3(10,v))\n",
        "print(lsearch3(20,v))\n",
        "print(lsearch3(25,v))\n",
        "\n"
      ],
      "metadata": {
        "colab": {
          "base_uri": "https://localhost:8080/"
        },
        "id": "xJIvpUAP9gLH",
        "outputId": "d5e4ae22-83f9-479b-cbd5-2e37753d5cd0"
      },
      "id": "xJIvpUAP9gLH",
      "execution_count": null,
      "outputs": [
        {
          "output_type": "stream",
          "name": "stdout",
          "text": [
            "1\n",
            "2\n",
            "4\n"
          ]
        }
      ]
    },
    {
      "cell_type": "code",
      "source": [
        "def lsearch4 (x, a) :\n",
        "    for i in range(len(a)) :\n",
        "        if x == a[i] : return i\n",
        "    return -1\n",
        "       \n",
        "        \n",
        "v = [30,10,20,40,10]        \n",
        "print(lsearch4(10,v))\n",
        "print(lsearch4(20,v))\n",
        "print(lsearch4(25,v))"
      ],
      "metadata": {
        "colab": {
          "base_uri": "https://localhost:8080/"
        },
        "id": "-m3EBq4tAt5O",
        "outputId": "66659f49-febf-42bc-c766-b1d0e233ea49"
      },
      "id": "-m3EBq4tAt5O",
      "execution_count": null,
      "outputs": [
        {
          "output_type": "stream",
          "name": "stdout",
          "text": [
            "1\n",
            "2\n",
            "-1\n"
          ]
        }
      ]
    },
    {
      "cell_type": "code",
      "execution_count": null,
      "id": "sticky-radical",
      "metadata": {
        "id": "sticky-radical",
        "colab": {
          "base_uri": "https://localhost:8080/"
        },
        "outputId": "77b7947f-e101-4912-9862-b1baa97e1709"
      },
      "outputs": [
        {
          "output_type": "stream",
          "name": "stdout",
          "text": [
            "0\n",
            "2\n",
            "-1\n",
            "-1\n"
          ]
        }
      ],
      "source": [
        "def lsearch_ord (x, a) :\n",
        "    i = 0\n",
        "    while i < len(a) and a[i] < x:\n",
        "        i += 1\n",
        "    # print(str(i+1) + \" comparações\")    \n",
        "    if i != len(a) and a[i] == x : return i\n",
        "    else: return -1\n",
        "       \n",
        "        \n",
        "v = [10,10,20,30,40]        \n",
        "print(lsearch_ord(10,v))\n",
        "print(lsearch_ord(20,v))\n",
        "print(lsearch_ord(15,v))\n",
        "print(lsearch_ord(50,v))"
      ]
    },
    {
      "cell_type": "code",
      "source": [
        "def lsearch_ord2 (x, a) :\n",
        "    for i in range(len(a)) :\n",
        "        if x == a[i] : return i\n",
        "        if x < a[i] : return -1\n",
        "    return -1\n",
        "       \n",
        "\n",
        "v = [10,10,20,30,40]        \n",
        "print(lsearch_ord2(10,v))\n",
        "print(lsearch_ord2(20,v))\n",
        "print(lsearch_ord2(15,v))\n",
        "print(lsearch_ord2(50,v))"
      ],
      "metadata": {
        "colab": {
          "base_uri": "https://localhost:8080/"
        },
        "id": "KURqUeQeBLSw",
        "outputId": "39fedddc-af54-4b65-b401-c6b9008974d2"
      },
      "id": "KURqUeQeBLSw",
      "execution_count": null,
      "outputs": [
        {
          "output_type": "stream",
          "name": "stdout",
          "text": [
            "0\n",
            "2\n",
            "-1\n",
            "-1\n"
          ]
        }
      ]
    },
    {
      "cell_type": "markdown",
      "source": [
        "### Exercício 5\n",
        "\n",
        "Consulte a Secção 4.2 do livro e implemente agora uma função de *pesquisa binária*, que constitui uma optimização muito significativa sobre as duas anteriores. A ideia é que podemos iniciar a pesquisa comparando x com o elemento que se encontra *a meio* do array, e dependendo do resultado dessa comparação a pesquisa continuará apenas numa das *metades* desse array. \n",
        "\n",
        "Por exemplo se procuramos 10 no array [10,10,20,30,40] entre os índices a=0 e b=4, a posição do meio é 2, onde está o elemento 20. Ora, como 10<20, só poderá estar no segmento entre as posições 0 e 1, [10,10]. Tendo agora um número par de elementos, o do meio será (considerando o arredondamento) o índice 0, onde encontramos de facto um 10. Mas se procurássemos por exemplo 15, que é superior a 10, iríamos agora procurar na metade da direita do segmento [10,10], ou seja em [10], entre os índices 1 e 1, e assim sucessivamente. \n",
        "\n",
        "Trata-se de um algoritmo que faz sentido apenas no contexto imperativo, na presença de arrays com acesso a posições arbitrárias em tempo constante. \n",
        "\n",
        "Ao contrário da optimização anterior, que não tem qualquer efeito no caso de pesquisas com sucesso, esta optimização fará o tempo de execução do algoritmo no pior caso diminiuir de *linear* no comprimento do array para *logarítmico* nesse comprimento. \n",
        "\n"
      ],
      "metadata": {
        "id": "iKr9Q_m5FdfN"
      },
      "id": "iKr9Q_m5FdfN"
    },
    {
      "cell_type": "code",
      "source": [
        "def bsearch(x, v) :\n",
        "    (a,b) = (0,len(v)-1)\n",
        "    result = -1\n",
        "    while a <= b and result == -1 : \n",
        "        print(\"procurando \"+str(x)+\" entre índices \"+str(a)+\" e \"+str(b))\n",
        "        m = a + (b-a) // 2\n",
        "        if v[m] < x : a = m+1\n",
        "        elif v[m] > x : b = m-1\n",
        "        else : result = m\n",
        "    return result\n",
        "\n",
        "\n",
        "v = [10,10,20,30,40]        \n",
        "print(bsearch(10,v))\n",
        "print(bsearch(20,v))\n",
        "print(bsearch(15,v))\n",
        "print(bsearch(45,v))\n"
      ],
      "metadata": {
        "id": "y6qTmnHFGJsh",
        "colab": {
          "base_uri": "https://localhost:8080/"
        },
        "outputId": "0e2e5a67-ca6b-49a3-dd33-d38d0e744337"
      },
      "id": "y6qTmnHFGJsh",
      "execution_count": null,
      "outputs": [
        {
          "output_type": "stream",
          "name": "stdout",
          "text": [
            "procurando 10 entre índices 0 e 4\n",
            "procurando 10 entre índices 0 e 1\n",
            "0\n",
            "procurando 20 entre índices 0 e 4\n",
            "2\n",
            "procurando 15 entre índices 0 e 4\n",
            "procurando 15 entre índices 0 e 1\n",
            "procurando 15 entre índices 1 e 1\n",
            "-1\n",
            "procurando 45 entre índices 0 e 4\n",
            "procurando 45 entre índices 3 e 4\n",
            "procurando 45 entre índices 4 e 4\n",
            "-1\n"
          ]
        }
      ]
    },
    {
      "cell_type": "markdown",
      "id": "republican-pendant",
      "metadata": {
        "id": "republican-pendant"
      },
      "source": [
        "### TPC\n",
        "\n",
        "Escreva funções para realizar as operações de soma e multiplicação de matrizes.\n"
      ]
    }
  ],
  "metadata": {
    "kernelspec": {
      "display_name": "Python 3",
      "language": "python",
      "name": "python3"
    },
    "language_info": {
      "codemirror_mode": {
        "name": "ipython",
        "version": 3
      },
      "file_extension": ".py",
      "mimetype": "text/x-python",
      "name": "python",
      "nbconvert_exporter": "python",
      "pygments_lexer": "ipython3",
      "version": "3.9.2"
    },
    "colab": {
      "name": "Lab 4.ipynb",
      "provenance": [],
      "collapsed_sections": []
    }
  },
  "nbformat": 4,
  "nbformat_minor": 5
}