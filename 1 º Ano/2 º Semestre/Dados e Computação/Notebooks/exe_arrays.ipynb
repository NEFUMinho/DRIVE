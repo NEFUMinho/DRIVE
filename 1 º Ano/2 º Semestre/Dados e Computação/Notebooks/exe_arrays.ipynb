{
  "cells": [
    {
      "cell_type": "markdown",
      "id": "mobile-reality",
      "metadata": {
        "id": "mobile-reality"
      },
      "source": [
        "<h1>Exercício 1</h1>\n",
        "Implemente um programa que receba uma frase (um array de caracteres) e produza um histograma com a \n",
        "frequência das letras do alfabeto (ignorar todos os outros caracteres)\n",
        "Exemplo (usando o \"*\" como bloco):\n",
        "\n",
        "    Para a frase \"Que linda tarde de sol.\" produz o histograma:\n",
        "        \n",
        "        A:  **\n",
        "        B:  \n",
        "        C:  \n",
        "        D:  ***\n",
        "        E:  ***\n",
        "        F:  \n",
        "        G:  \n",
        "        H:  *\n",
        "        I:  *\n",
        "        J:  \n",
        "        K:  \n",
        "        L:  **\n",
        "        M:  \n",
        "        N:  *\n",
        "        O:  *\n",
        "        P:  \n",
        "        Q:  *\n",
        "        R:  *\n",
        "        S:  *\n",
        "        T:  *\n",
        "        U:  *\n",
        "        V:  \n",
        "        W:  \n",
        "        X:  \n",
        "        Y:  \n",
        "        Z:  \n",
        "            \n",
        "        \n",
        "        \n",
        "* Ajudas:      \n",
        "    * a função \"ord\" permite converter um caracter num inteiro. \n",
        "    * pode usar a função \"upper\" numa string para obter uma frase com todas as letras em maiúsculas.\n",
        "      exemplo: nova = uma_dad_string.upper().\n",
        "    * a funçao \"chr\" converte um número no respetivo caracter ASCII. Por exemplo chr(65) = 'A'. \n",
        "    * len(a) sendo 'a' um array dá o número de elementos do array. \n",
        "            \n",
        "            \n",
        "            "
      ]
    },
    {
      "cell_type": "markdown",
      "id": "general-fundamental",
      "metadata": {
        "id": "general-fundamental"
      },
      "source": [
        "<h1> Exercício 2 </h1>\n",
        "\n",
        "Dada um lista de números entre 0 e 99 produza um diagrama caule e folhas (recordar a vossa escola primária). A ideia é representar os números por algarismo das dezenas (caule) e respetivas unidades (folhas). Agrupasse os números por algarismo de dezenas. Tem de se representar as várias ocorrências de um número.\n",
        "\n",
        "Exemplo, para a lista [1,66,15,91,3,34,12,67,12,33,5] produz o diagrama:\n",
        "\n",
        "\n",
        "        0|135\n",
        "        1|225\n",
        "        2|\n",
        "        3|34\n",
        "        4|\n",
        "        5|\n",
        "        6|67\n",
        "        7|\n",
        "        8|\n",
        "        9|1\n",
        "\n",
        "\n",
        "Ajuda: Pense num array bidimensional para representar os números fornecidos."
      ]
    },
    {
      "cell_type": "code",
      "execution_count": null,
      "id": "magnetic-biodiversity",
      "metadata": {
        "id": "magnetic-biodiversity"
      },
      "outputs": [],
      "source": [
        ""
      ]
    }
  ],
  "metadata": {
    "kernelspec": {
      "display_name": "Python 3",
      "language": "python",
      "name": "python3"
    },
    "language_info": {
      "codemirror_mode": {
        "name": "ipython",
        "version": 3
      },
      "file_extension": ".py",
      "mimetype": "text/x-python",
      "name": "python",
      "nbconvert_exporter": "python",
      "pygments_lexer": "ipython3",
      "version": "3.9.2"
    },
    "colab": {
      "name": "exe_arrays.ipynb",
      "provenance": []
    }
  },
  "nbformat": 4,
  "nbformat_minor": 5
}